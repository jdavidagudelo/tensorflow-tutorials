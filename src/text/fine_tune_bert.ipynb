{
 "cells": [
  {
   "cell_type": "markdown",
   "metadata": {
    "id": "vXLA5InzXydn"
   },
   "source": [
    "##### Copyright 2019 The TensorFlow Authors."
   ]
  },
  {
   "cell_type": "code",
   "execution_count": 4,
   "metadata": {
    "cellView": "form",
    "execution": {
     "iopub.execute_input": "2021-06-16T15:17:10.827351Z",
     "iopub.status.busy": "2021-06-16T15:17:10.826741Z",
     "iopub.status.idle": "2021-06-16T15:17:10.829156Z",
     "shell.execute_reply": "2021-06-16T15:17:10.828608Z"
    },
    "id": "RuRlpLL-X0R_"
   },
   "outputs": [],
   "source": [
    "#@title Licensed under the Apache License, Version 2.0 (the \"License\");\n",
    "# you may not use this file except in compliance with the License.\n",
    "# You may obtain a copy of the License at\n",
    "#\n",
    "# https://www.apache.org/licenses/LICENSE-2.0\n",
    "#\n",
    "# Unless required by applicable law or agreed to in writing, software\n",
    "# distributed under the License is distributed on an \"AS IS\" BASIS,\n",
    "# WITHOUT WARRANTIES OR CONDITIONS OF ANY KIND, either express or implied.\n",
    "# See the License for the specific language governing permissions and\n",
    "# limitations under the License."
   ]
  },
  {
   "cell_type": "markdown",
   "metadata": {
    "id": "1mLJmVotXs64"
   },
   "source": [
    "# Fine-tuning a BERT model"
   ]
  },
  {
   "cell_type": "markdown",
   "metadata": {
    "id": "hYEwGTeCXnnX"
   },
   "source": [
    "<table class=\"tfo-notebook-buttons\" align=\"left\">\n",
    "  <td>\n",
    "    <a target=\"_blank\" href=\"https://www.tensorflow.org/text/tutorials/fine_tune_bert\"><img src=\"https://www.tensorflow.org/images/tf_logo_32px.png\" />View on TensorFlow.org</a>\n",
    "  </td>\n",
    "  <td>\n",
    "    <a target=\"_blank\" href=\"https://colab.research.google.com/github/tensorflow/text/blob/master/docs/tutorials/fine_tune_bert.ipynb\"><img src=\"https://www.tensorflow.org/images/colab_logo_32px.png\" />Run in Google Colab</a>\n",
    "  </td>\n",
    "  <td>\n",
    "    <a target=\"_blank\" href=\"https://github.com/tensorflow/text/blob/master/docs/tutorials/fine_tune_bert.ipynb\"><img src=\"https://www.tensorflow.org/images/GitHub-Mark-32px.png\" />View source on GitHub</a>\n",
    "  </td>\n",
    "  <td>\n",
    "    <a href=\"https://storage.googleapis.com/tensorflow_docs/text/docs/tutorials/fine_tune_bert.ipynb\"><img src=\"https://www.tensorflow.org/images/download_logo_32px.png\" />Download notebook</a>\n",
    "  </td>\n",
    "  <td>\n",
    "    <a href=\"https://tfhub.dev/tensorflow/bert_en_uncased_L-12_H-768_A-12/2\"><img src=\"https://www.tensorflow.org/images/hub_logo_32px.png\" />See TF Hub model</a>\n",
    "  </td>\n",
    "</table>"
   ]
  },
  {
   "cell_type": "markdown",
   "metadata": {
    "id": "YN2ACivEPxgD"
   },
   "source": [
    "In this example, we will work through fine-tuning a BERT model using the tensorflow-models PIP package.\n",
    "\n",
    "The pretrained BERT model this tutorial is based on is also available on [TensorFlow Hub](https://tensorflow.org/hub), to see how to use it refer to the [Hub Appendix](#hub_bert)"
   ]
  },
  {
   "cell_type": "markdown",
   "metadata": {
    "id": "s2d9S2CSSO1z"
   },
   "source": [
    "## Setup"
   ]
  },
  {
   "cell_type": "markdown",
   "metadata": {
    "id": "fsACVQpVSifi"
   },
   "source": [
    "### Install the TensorFlow Model Garden pip package\n",
    "\n",
    "*  `tf-models-official` is the stable Model Garden package. Note that it may not include the latest changes in the `tensorflow_models` github repo. To include latest changes, you may install `tf-models-nightly`,\n",
    "which is the nightly Model Garden package created daily automatically.\n",
    "*  pip will install all models and dependencies automatically."
   ]
  },
  {
   "cell_type": "code",
   "execution_count": 5,
   "metadata": {
    "execution": {
     "iopub.execute_input": "2021-06-16T15:17:10.838232Z",
     "iopub.status.busy": "2021-06-16T15:17:10.837611Z",
     "iopub.status.idle": "2021-06-16T15:17:12.406677Z",
     "shell.execute_reply": "2021-06-16T15:17:12.407047Z"
    },
    "id": "yic2y7_o-BCC"
   },
   "outputs": [],
   "source": [
    "#!pip install -q -U tensorflow-text"
   ]
  },
  {
   "cell_type": "code",
   "execution_count": 6,
   "metadata": {
    "execution": {
     "iopub.execute_input": "2021-06-16T15:17:12.413002Z",
     "iopub.status.busy": "2021-06-16T15:17:12.412085Z",
     "iopub.status.idle": "2021-06-16T15:17:20.275005Z",
     "shell.execute_reply": "2021-06-16T15:17:20.275399Z"
    },
    "id": "NvNr2svBM-p3"
   },
   "outputs": [],
   "source": [
    "#!pip install -q tf-models-official==2.4.0"
   ]
  },
  {
   "cell_type": "markdown",
   "metadata": {
    "id": "U-7qPCjWUAyy"
   },
   "source": [
    "### Imports"
   ]
  },
  {
   "cell_type": "code",
   "execution_count": 7,
   "metadata": {
    "execution": {
     "iopub.execute_input": "2021-06-16T15:17:20.281231Z",
     "iopub.status.busy": "2021-06-16T15:17:20.280635Z",
     "iopub.status.idle": "2021-06-16T15:17:22.693956Z",
     "shell.execute_reply": "2021-06-16T15:17:22.694339Z"
    },
    "id": "lXsXev5MNr20"
   },
   "outputs": [],
   "source": [
    "import os\n",
    "\n",
    "import numpy as np\n",
    "import matplotlib.pyplot as plt\n",
    "\n",
    "import tensorflow as tf\n",
    "\n",
    "import tensorflow_hub as hub\n",
    "import tensorflow_datasets as tfds\n",
    "tfds.disable_progress_bar()\n",
    "\n",
    "from official.modeling import tf_utils\n",
    "from official import nlp\n",
    "from official.nlp import bert\n",
    "\n",
    "# Load the required submodules\n",
    "import official.nlp.optimization\n",
    "import official.nlp.bert.bert_models\n",
    "import official.nlp.bert.configs\n",
    "import official.nlp.bert.run_classifier\n",
    "import official.nlp.bert.tokenization\n",
    "import official.nlp.data.classifier_data_lib\n",
    "import official.nlp.modeling.losses\n",
    "import official.nlp.modeling.models\n",
    "import official.nlp.modeling.networks\n"
   ]
  },
  {
   "cell_type": "markdown",
   "metadata": {
    "id": "mbanlzTvJBsz"
   },
   "source": [
    "### Resources"
   ]
  },
  {
   "cell_type": "markdown",
   "metadata": {
    "id": "PpW0x8TpR8DT"
   },
   "source": [
    "This directory contains the configuration, vocabulary, and a pre-trained checkpoint used in this tutorial:"
   ]
  },
  {
   "cell_type": "code",
   "execution_count": 8,
   "metadata": {
    "execution": {
     "iopub.execute_input": "2021-06-16T15:17:22.698295Z",
     "iopub.status.busy": "2021-06-16T15:17:22.697674Z",
     "iopub.status.idle": "2021-06-16T15:17:22.980062Z",
     "shell.execute_reply": "2021-06-16T15:17:22.980431Z"
    },
    "id": "vzRHOLciR8eq"
   },
   "outputs": [
    {
     "data": {
      "text/plain": [
       "['bert_config.json',\n",
       " 'bert_model.ckpt.data-00000-of-00001',\n",
       " 'bert_model.ckpt.index',\n",
       " 'vocab.txt']"
      ]
     },
     "execution_count": 8,
     "metadata": {},
     "output_type": "execute_result"
    }
   ],
   "source": [
    "gs_folder_bert = \"gs://cloud-tpu-checkpoints/bert/v3/uncased_L-12_H-768_A-12\"\n",
    "tf.io.gfile.listdir(gs_folder_bert)"
   ]
  },
  {
   "cell_type": "markdown",
   "metadata": {
    "id": "9uFskufsR2LT"
   },
   "source": [
    "You can get a pre-trained BERT encoder from [TensorFlow Hub](https://tfhub.dev/tensorflow/bert_en_uncased_L-12_H-768_A-12/2):"
   ]
  },
  {
   "cell_type": "code",
   "execution_count": 9,
   "metadata": {
    "execution": {
     "iopub.execute_input": "2021-06-16T15:17:22.984062Z",
     "iopub.status.busy": "2021-06-16T15:17:22.983486Z",
     "iopub.status.idle": "2021-06-16T15:17:22.985610Z",
     "shell.execute_reply": "2021-06-16T15:17:22.985119Z"
    },
    "id": "e0dAkUttJAzj"
   },
   "outputs": [],
   "source": [
    "hub_url_bert = \"https://tfhub.dev/tensorflow/bert_en_uncased_L-12_H-768_A-12/3\""
   ]
  },
  {
   "cell_type": "markdown",
   "metadata": {
    "id": "Qv6abtRvH4xO"
   },
   "source": [
    "## The data\n",
    "For this example we used the [GLUE MRPC dataset from TFDS](https://www.tensorflow.org/datasets/catalog/glue#gluemrpc).\n",
    "\n",
    "This dataset is not set up so that it can be directly fed into the BERT model, so this section also handles the necessary preprocessing."
   ]
  },
  {
   "cell_type": "markdown",
   "metadata": {
    "id": "28DvUhC1YUiB"
   },
   "source": [
    "### Get the dataset from TensorFlow Datasets\n",
    "\n",
    "The Microsoft Research Paraphrase Corpus (Dolan & Brockett, 2005) is a corpus of sentence pairs automatically extracted from online news sources, with human annotations for whether the sentences in the pair are semantically equivalent.\n",
    "\n",
    "*   Number of labels: 2.\n",
    "*   Size of training dataset: 3668.\n",
    "*   Size of evaluation dataset: 408.\n",
    "*   Maximum sequence length of training and evaluation dataset: 128.\n"
   ]
  },
  {
   "cell_type": "code",
   "execution_count": 10,
   "metadata": {
    "execution": {
     "iopub.execute_input": "2021-06-16T15:17:22.989445Z",
     "iopub.status.busy": "2021-06-16T15:17:22.988783Z",
     "iopub.status.idle": "2021-06-16T15:17:28.665389Z",
     "shell.execute_reply": "2021-06-16T15:17:28.664852Z"
    },
    "id": "Ijikx5OsH9AT"
   },
   "outputs": [
    {
     "name": "stdout",
     "output_type": "stream",
     "text": [
      "\u001b[1mDownloading and preparing dataset 1.43 MiB (download: 1.43 MiB, generated: 1.74 MiB, total: 3.17 MiB) to /home/jdavidagudelo/tensorflow_datasets/glue/mrpc/2.0.0...\u001b[0m\n",
      "\u001b[1mDataset glue downloaded and prepared to /home/jdavidagudelo/tensorflow_datasets/glue/mrpc/2.0.0. Subsequent calls will reuse this data.\u001b[0m\n"
     ]
    },
    {
     "name": "stderr",
     "output_type": "stream",
     "text": [
      "2021-07-29 15:33:32.714886: W tensorflow/stream_executor/platform/default/dso_loader.cc:64] Could not load dynamic library 'libcuda.so.1'; dlerror: libcuda.so.1: cannot open shared object file: No such file or directory\n",
      "2021-07-29 15:33:32.714912: W tensorflow/stream_executor/cuda/cuda_driver.cc:326] failed call to cuInit: UNKNOWN ERROR (303)\n",
      "2021-07-29 15:33:32.714927: I tensorflow/stream_executor/cuda/cuda_diagnostics.cc:156] kernel driver does not appear to be running on this host (masternode): /proc/driver/nvidia/version does not exist\n",
      "2021-07-29 15:33:32.715161: I tensorflow/core/platform/cpu_feature_guard.cc:142] This TensorFlow binary is optimized with oneAPI Deep Neural Network Library (oneDNN) to use the following CPU instructions in performance-critical operations:  AVX2 FMA\n",
      "To enable them in other operations, rebuild TensorFlow with the appropriate compiler flags.\n",
      "2021-07-29 15:33:32.773824: I tensorflow/compiler/mlir/mlir_graph_optimization_pass.cc:176] None of the MLIR Optimization Passes are enabled (registered 2)\n",
      "2021-07-29 15:33:32.794348: I tensorflow/core/platform/profile_utils/cpu_utils.cc:114] CPU Frequency: 1800000000 Hz\n"
     ]
    }
   ],
   "source": [
    "glue, info = tfds.load('glue/mrpc', with_info=True,\n",
    "                       # It's small, load the whole dataset\n",
    "                       batch_size=-1)"
   ]
  },
  {
   "cell_type": "code",
   "execution_count": 11,
   "metadata": {
    "execution": {
     "iopub.execute_input": "2021-06-16T15:17:28.669567Z",
     "iopub.status.busy": "2021-06-16T15:17:28.668841Z",
     "iopub.status.idle": "2021-06-16T15:17:28.671259Z",
     "shell.execute_reply": "2021-06-16T15:17:28.671600Z"
    },
    "id": "xf9zz4vLYXjr"
   },
   "outputs": [
    {
     "data": {
      "text/plain": [
       "[Split('train'), Split('validation'), Split('test')]"
      ]
     },
     "execution_count": 11,
     "metadata": {},
     "output_type": "execute_result"
    }
   ],
   "source": [
    "list(glue.keys())"
   ]
  },
  {
   "cell_type": "markdown",
   "metadata": {
    "id": "ZgBg2r2nYT-K"
   },
   "source": [
    "The `info` object describes the dataset and it's features:"
   ]
  },
  {
   "cell_type": "code",
   "execution_count": 12,
   "metadata": {
    "execution": {
     "iopub.execute_input": "2021-06-16T15:17:28.675499Z",
     "iopub.status.busy": "2021-06-16T15:17:28.674734Z",
     "iopub.status.idle": "2021-06-16T15:17:28.677011Z",
     "shell.execute_reply": "2021-06-16T15:17:28.677340Z"
    },
    "id": "IQrHxv7W7jH5"
   },
   "outputs": [
    {
     "data": {
      "text/plain": [
       "FeaturesDict({\n",
       "    'idx': tf.int32,\n",
       "    'label': ClassLabel(shape=(), dtype=tf.int64, num_classes=2),\n",
       "    'sentence1': Text(shape=(), dtype=tf.string),\n",
       "    'sentence2': Text(shape=(), dtype=tf.string),\n",
       "})"
      ]
     },
     "execution_count": 12,
     "metadata": {},
     "output_type": "execute_result"
    }
   ],
   "source": [
    "info.features"
   ]
  },
  {
   "cell_type": "markdown",
   "metadata": {
    "id": "vhsVWYNxazz5"
   },
   "source": [
    "The two classes are:"
   ]
  },
  {
   "cell_type": "code",
   "execution_count": 13,
   "metadata": {
    "execution": {
     "iopub.execute_input": "2021-06-16T15:17:28.681080Z",
     "iopub.status.busy": "2021-06-16T15:17:28.680468Z",
     "iopub.status.idle": "2021-06-16T15:17:28.682977Z",
     "shell.execute_reply": "2021-06-16T15:17:28.683301Z"
    },
    "id": "n0gfc_VTayfQ"
   },
   "outputs": [
    {
     "data": {
      "text/plain": [
       "['not_equivalent', 'equivalent']"
      ]
     },
     "execution_count": 13,
     "metadata": {},
     "output_type": "execute_result"
    }
   ],
   "source": [
    "info.features['label'].names"
   ]
  },
  {
   "cell_type": "markdown",
   "metadata": {
    "id": "38zJcap6xkbC"
   },
   "source": [
    "Here is one example from the training set:"
   ]
  },
  {
   "cell_type": "code",
   "execution_count": 14,
   "metadata": {
    "execution": {
     "iopub.execute_input": "2021-06-16T15:17:28.686901Z",
     "iopub.status.busy": "2021-06-16T15:17:28.686354Z",
     "iopub.status.idle": "2021-06-16T15:17:28.958524Z",
     "shell.execute_reply": "2021-06-16T15:17:28.959012Z"
    },
    "id": "xON_i6SkwApW"
   },
   "outputs": [
    {
     "name": "stdout",
     "output_type": "stream",
     "text": [
      "idx      : 1680\n",
      "label    : 0\n",
      "sentence1: b'The identical rovers will act as robotic geologists , searching for evidence of past water .'\n",
      "sentence2: b'The rovers act as robotic geologists , moving on six wheels .'\n"
     ]
    }
   ],
   "source": [
    "glue_train = glue['train']\n",
    "\n",
    "for key, value in glue_train.items():\n",
    "  print(f\"{key:9s}: {value[0].numpy()}\")"
   ]
  },
  {
   "cell_type": "markdown",
   "metadata": {
    "id": "9fbTyfJpNr7x"
   },
   "source": [
    "### The BERT tokenizer"
   ]
  },
  {
   "cell_type": "markdown",
   "metadata": {
    "id": "wqeN54S61ZKQ"
   },
   "source": [
    "To fine tune a pre-trained model you need to be sure that you're using exactly the same tokenization, vocabulary, and index mapping as you used during training.\n",
    "\n",
    "The BERT tokenizer used in this tutorial is written in pure Python (It's not built out of TensorFlow ops). So you can't just plug it into your model as a `keras.layer` like you can with `preprocessing.TextVectorization`.\n",
    "\n",
    "The following code rebuilds the tokenizer that was used by the base model:"
   ]
  },
  {
   "cell_type": "code",
   "execution_count": 15,
   "metadata": {
    "execution": {
     "iopub.execute_input": "2021-06-16T15:17:28.963418Z",
     "iopub.status.busy": "2021-06-16T15:17:28.962848Z",
     "iopub.status.idle": "2021-06-16T15:17:29.471087Z",
     "shell.execute_reply": "2021-06-16T15:17:29.471489Z"
    },
    "id": "idxyhmrCQcw5"
   },
   "outputs": [
    {
     "name": "stdout",
     "output_type": "stream",
     "text": [
      "Vocab size: 30522\n"
     ]
    }
   ],
   "source": [
    "# Set up tokenizer to generate Tensorflow dataset\n",
    "tokenizer = bert.tokenization.FullTokenizer(\n",
    "    vocab_file=os.path.join(gs_folder_bert, \"vocab.txt\"),\n",
    "     do_lower_case=True)\n",
    "\n",
    "print(\"Vocab size:\", len(tokenizer.vocab))"
   ]
  },
  {
   "cell_type": "markdown",
   "metadata": {
    "id": "zYHDSquU2lDU"
   },
   "source": [
    "Tokenize a sentence:"
   ]
  },
  {
   "cell_type": "code",
   "execution_count": 16,
   "metadata": {
    "execution": {
     "iopub.execute_input": "2021-06-16T15:17:29.475677Z",
     "iopub.status.busy": "2021-06-16T15:17:29.475100Z",
     "iopub.status.idle": "2021-06-16T15:17:29.477188Z",
     "shell.execute_reply": "2021-06-16T15:17:29.477537Z"
    },
    "id": "L_OfOYPg853R"
   },
   "outputs": [
    {
     "name": "stdout",
     "output_type": "stream",
     "text": [
      "['hello', 'tensor', '##flow', '!']\n",
      "[7592, 23435, 12314, 999]\n"
     ]
    }
   ],
   "source": [
    "tokens = tokenizer.tokenize(\"Hello TensorFlow!\")\n",
    "print(tokens)\n",
    "ids = tokenizer.convert_tokens_to_ids(tokens)\n",
    "print(ids)"
   ]
  },
  {
   "cell_type": "markdown",
   "metadata": {
    "id": "kkAXLtuyWWDI"
   },
   "source": [
    "### Preprocess the data\n",
    "\n",
    "The section manually preprocessed the dataset into the format expected by the model.\n",
    "\n",
    "This dataset is small, so preprocessing can be done quickly and easily in memory. For larger datasets the `tf_models` library includes some tools for preprocessing and re-serializing a dataset. See [Appendix: Re-encoding a large dataset](#re_encoding_tools) for details."
   ]
  },
  {
   "cell_type": "markdown",
   "metadata": {
    "id": "62UTWLQd9-LB"
   },
   "source": [
    "#### Encode the sentences\n",
    "\n",
    "The model expects its two inputs sentences to be concatenated together. This input is expected to start with a `[CLS]` \"This is a classification problem\" token, and each sentence should end with a `[SEP]` \"Separator\" token:"
   ]
  },
  {
   "cell_type": "code",
   "execution_count": 17,
   "metadata": {
    "execution": {
     "iopub.execute_input": "2021-06-16T15:17:29.481439Z",
     "iopub.status.busy": "2021-06-16T15:17:29.480809Z",
     "iopub.status.idle": "2021-06-16T15:17:29.483073Z",
     "shell.execute_reply": "2021-06-16T15:17:29.483404Z"
    },
    "id": "bdL-dRNRBRJT"
   },
   "outputs": [
    {
     "data": {
      "text/plain": [
       "[101, 102]"
      ]
     },
     "execution_count": 17,
     "metadata": {},
     "output_type": "execute_result"
    }
   ],
   "source": [
    "tokenizer.convert_tokens_to_ids(['[CLS]', '[SEP]'])"
   ]
  },
  {
   "cell_type": "markdown",
   "metadata": {
    "id": "UrPktnqpwqie"
   },
   "source": [
    "Start by encoding all the sentences while appending a `[SEP]` token, and packing them into ragged-tensors:"
   ]
  },
  {
   "cell_type": "code",
   "execution_count": 18,
   "metadata": {
    "execution": {
     "iopub.execute_input": "2021-06-16T15:17:29.488958Z",
     "iopub.status.busy": "2021-06-16T15:17:29.488345Z",
     "iopub.status.idle": "2021-06-16T15:17:32.960858Z",
     "shell.execute_reply": "2021-06-16T15:17:32.961290Z"
    },
    "id": "BR7BmtU498Bh"
   },
   "outputs": [],
   "source": [
    "def encode_sentence(s):\n",
    "   tokens = list(tokenizer.tokenize(s.numpy()))\n",
    "   tokens.append('[SEP]')\n",
    "   return tokenizer.convert_tokens_to_ids(tokens)\n",
    "\n",
    "sentence1 = tf.ragged.constant([\n",
    "    encode_sentence(s) for s in glue_train[\"sentence1\"]])\n",
    "sentence2 = tf.ragged.constant([\n",
    "    encode_sentence(s) for s in glue_train[\"sentence2\"]])"
   ]
  },
  {
   "cell_type": "code",
   "execution_count": 19,
   "metadata": {
    "execution": {
     "iopub.execute_input": "2021-06-16T15:17:32.965479Z",
     "iopub.status.busy": "2021-06-16T15:17:32.964867Z",
     "iopub.status.idle": "2021-06-16T15:17:32.966793Z",
     "shell.execute_reply": "2021-06-16T15:17:32.967159Z"
    },
    "id": "has42aUdfky-"
   },
   "outputs": [
    {
     "name": "stdout",
     "output_type": "stream",
     "text": [
      "Sentence1 shape: [3668, None]\n",
      "Sentence2 shape: [3668, None]\n"
     ]
    }
   ],
   "source": [
    "print(\"Sentence1 shape:\", sentence1.shape.as_list())\n",
    "print(\"Sentence2 shape:\", sentence2.shape.as_list())"
   ]
  },
  {
   "cell_type": "markdown",
   "metadata": {
    "id": "MU9lTWy_xXbb"
   },
   "source": [
    "Now prepend a `[CLS]` token, and concatenate the ragged tensors to form a single `input_word_ids` tensor for each example. `RaggedTensor.to_tensor()` zero pads to the longest sequence."
   ]
  },
  {
   "cell_type": "code",
   "execution_count": 20,
   "metadata": {
    "execution": {
     "iopub.execute_input": "2021-06-16T15:17:32.975906Z",
     "iopub.status.busy": "2021-06-16T15:17:32.975367Z",
     "iopub.status.idle": "2021-06-16T15:17:33.291666Z",
     "shell.execute_reply": "2021-06-16T15:17:33.292185Z"
    },
    "id": "USD8uihw-g4J"
   },
   "outputs": [
    {
     "data": {
      "image/png": "[encoded data removed]",
      "text/plain": [
       "<Figure size 432x288 with 1 Axes>"
      ]
     },
     "metadata": {
      "needs_background": "light"
     },
     "output_type": "display_data"
    }
   ],
   "source": [
    "cls = [tokenizer.convert_tokens_to_ids(['[CLS]'])]*sentence1.shape[0]\n",
    "input_word_ids = tf.concat([cls, sentence1, sentence2], axis=-1)\n",
    "_ = plt.pcolormesh(input_word_ids.to_tensor())"
   ]
  },
  {
   "cell_type": "markdown",
   "metadata": {
    "id": "xmNv4l4k-dBZ"
   },
   "source": [
    "#### Mask and input type"
   ]
  },
  {
   "cell_type": "markdown",
   "metadata": {
    "id": "DIWjNIKq-ldh"
   },
   "source": [
    "The model expects two additional inputs:\n",
    "\n",
    "* The input mask\n",
    "* The input type"
   ]
  },
  {
   "cell_type": "markdown",
   "metadata": {
    "id": "ulNZ4U96-8JZ"
   },
   "source": [
    "The mask allows the model to cleanly differentiate between the content and the padding. The mask has the same shape as the `input_word_ids`, and contains a `1` anywhere the `input_word_ids` is not padding."
   ]
  },
  {
   "cell_type": "code",
   "execution_count": 21,
   "metadata": {
    "execution": {
     "iopub.execute_input": "2021-06-16T15:17:33.296566Z",
     "iopub.status.busy": "2021-06-16T15:17:33.295970Z",
     "iopub.status.idle": "2021-06-16T15:17:33.553839Z",
     "shell.execute_reply": "2021-06-16T15:17:33.554178Z"
    },
    "id": "EezOO9qj91kP"
   },
   "outputs": [
    {
     "data": {
      "text/plain": [
       "<matplotlib.collections.QuadMesh at 0x7f3b98334130>"
      ]
     },
     "execution_count": 21,
     "metadata": {},
     "output_type": "execute_result"
    },
    {
     "data": {
      "image/png": "[encoded data removed]",
      "text/plain": [
       "<Figure size 432x288 with 1 Axes>"
      ]
     },
     "metadata": {
      "needs_background": "light"
     },
     "output_type": "display_data"
    }
   ],
   "source": [
    "input_mask = tf.ones_like(input_word_ids).to_tensor()\n",
    "\n",
    "plt.pcolormesh(input_mask)"
   ]
  },
  {
   "cell_type": "markdown",
   "metadata": {
    "id": "rxLenwAvCkBf"
   },
   "source": [
    "The \"input type\" also has the same shape, but inside the non-padded region, contains a `0` or a `1` indicating which sentence the token is a part of. "
   ]
  },
  {
   "cell_type": "code",
   "execution_count": 22,
   "metadata": {
    "execution": {
     "iopub.execute_input": "2021-06-16T15:17:33.560090Z",
     "iopub.status.busy": "2021-06-16T15:17:33.559460Z",
     "iopub.status.idle": "2021-06-16T15:17:33.815372Z",
     "shell.execute_reply": "2021-06-16T15:17:33.815720Z"
    },
    "id": "2CetH_5C9P2m"
   },
   "outputs": [
    {
     "data": {
      "text/plain": [
       "<matplotlib.collections.QuadMesh at 0x7f3b982d5b50>"
      ]
     },
     "execution_count": 22,
     "metadata": {},
     "output_type": "execute_result"
    },
    {
     "data": {
      "image/png": "[encoded data removed]",
      "text/plain": [
       "<Figure size 432x288 with 1 Axes>"
      ]
     },
     "metadata": {
      "needs_background": "light"
     },
     "output_type": "display_data"
    }
   ],
   "source": [
    "type_cls = tf.zeros_like(cls)\n",
    "type_s1 = tf.zeros_like(sentence1)\n",
    "type_s2 = tf.ones_like(sentence2)\n",
    "input_type_ids = tf.concat([type_cls, type_s1, type_s2], axis=-1).to_tensor()\n",
    "\n",
    "plt.pcolormesh(input_type_ids)"
   ]
  },
  {
   "cell_type": "markdown",
   "metadata": {
    "id": "P5UBnCn8Ii6s"
   },
   "source": [
    "#### Put it all together\n",
    "\n",
    "Collect the above text parsing code into a single function, and apply it to each split of the `glue/mrpc` dataset."
   ]
  },
  {
   "cell_type": "code",
   "execution_count": 23,
   "metadata": {
    "execution": {
     "iopub.execute_input": "2021-06-16T15:17:33.942643Z",
     "iopub.status.busy": "2021-06-16T15:17:33.941952Z",
     "iopub.status.idle": "2021-06-16T15:17:33.946794Z",
     "shell.execute_reply": "2021-06-16T15:17:33.947148Z"
    },
    "id": "sDGiWYPLEd5a"
   },
   "outputs": [],
   "source": [
    "def encode_sentence(s, tokenizer):\n",
    "   tokens = list(tokenizer.tokenize(s))\n",
    "   tokens.append('[SEP]')\n",
    "   return tokenizer.convert_tokens_to_ids(tokens)\n",
    "\n",
    "def bert_encode(glue_dict, tokenizer):\n",
    "  num_examples = len(glue_dict[\"sentence1\"])\n",
    "  \n",
    "  sentence1 = tf.ragged.constant([\n",
    "      encode_sentence(s, tokenizer)\n",
    "      for s in np.array(glue_dict[\"sentence1\"])])\n",
    "  sentence2 = tf.ragged.constant([\n",
    "      encode_sentence(s, tokenizer)\n",
    "       for s in np.array(glue_dict[\"sentence2\"])])\n",
    "\n",
    "  cls = [tokenizer.convert_tokens_to_ids(['[CLS]'])]*sentence1.shape[0]\n",
    "  input_word_ids = tf.concat([cls, sentence1, sentence2], axis=-1)\n",
    "\n",
    "  input_mask = tf.ones_like(input_word_ids).to_tensor()\n",
    "\n",
    "  type_cls = tf.zeros_like(cls)\n",
    "  type_s1 = tf.zeros_like(sentence1)\n",
    "  type_s2 = tf.ones_like(sentence2)\n",
    "  input_type_ids = tf.concat(\n",
    "      [type_cls, type_s1, type_s2], axis=-1).to_tensor()\n",
    "\n",
    "  inputs = {\n",
    "      'input_word_ids': input_word_ids.to_tensor(),\n",
    "      'input_mask': input_mask,\n",
    "      'input_type_ids': input_type_ids}\n",
    "\n",
    "  return inputs"
   ]
  },
  {
   "cell_type": "code",
   "execution_count": 24,
   "metadata": {
    "execution": {
     "iopub.execute_input": "2021-06-16T15:17:33.971900Z",
     "iopub.status.busy": "2021-06-16T15:17:33.966507Z",
     "iopub.status.idle": "2021-06-16T15:17:37.794680Z",
     "shell.execute_reply": "2021-06-16T15:17:37.795054Z"
    },
    "id": "yuLKxf6zHxw-"
   },
   "outputs": [],
   "source": [
    "glue_train = bert_encode(glue['train'], tokenizer)\n",
    "glue_train_labels = glue['train']['label']\n",
    "\n",
    "glue_validation = bert_encode(glue['validation'], tokenizer)\n",
    "glue_validation_labels = glue['validation']['label']\n",
    "\n",
    "glue_test = bert_encode(glue['test'], tokenizer)\n",
    "glue_test_labels  = glue['test']['label']"
   ]
  },
  {
   "cell_type": "markdown",
   "metadata": {
    "id": "7FC5aLVxKVKK"
   },
   "source": [
    "Each subset of the data has been converted to a dictionary of features, and a set of labels. Each feature in the input dictionary has the same shape, and the number of labels should match:"
   ]
  },
  {
   "cell_type": "code",
   "execution_count": 25,
   "metadata": {
    "execution": {
     "iopub.execute_input": "2021-06-16T15:17:37.799792Z",
     "iopub.status.busy": "2021-06-16T15:17:37.798934Z",
     "iopub.status.idle": "2021-06-16T15:17:37.801504Z",
     "shell.execute_reply": "2021-06-16T15:17:37.801836Z"
    },
    "id": "jyjTdGpFhO_1"
   },
   "outputs": [
    {
     "name": "stdout",
     "output_type": "stream",
     "text": [
      "input_word_ids  shape: (3668, 103)\n",
      "input_mask      shape: (3668, 103)\n",
      "input_type_ids  shape: (3668, 103)\n",
      "glue_train_labels shape: (3668,)\n"
     ]
    }
   ],
   "source": [
    "for key, value in glue_train.items():\n",
    "  print(f'{key:15s} shape: {value.shape}')\n",
    "\n",
    "print(f'glue_train_labels shape: {glue_train_labels.shape}')"
   ]
  },
  {
   "cell_type": "markdown",
   "metadata": {
    "id": "FSwymsbkbLDA"
   },
   "source": [
    "## The model"
   ]
  },
  {
   "cell_type": "markdown",
   "metadata": {
    "id": "Efrj3Cn1kLAp"
   },
   "source": [
    "### Build the model\n"
   ]
  },
  {
   "cell_type": "markdown",
   "metadata": {
    "id": "xxpOY5r2Ayq6"
   },
   "source": [
    "The first step is to download the configuration  for the pre-trained model.\n"
   ]
  },
  {
   "cell_type": "code",
   "execution_count": 26,
   "metadata": {
    "execution": {
     "iopub.execute_input": "2021-06-16T15:17:37.806116Z",
     "iopub.status.busy": "2021-06-16T15:17:37.805550Z",
     "iopub.status.idle": "2021-06-16T15:17:38.278147Z",
     "shell.execute_reply": "2021-06-16T15:17:38.277678Z"
    },
    "id": "ujapVfZ_AKW7"
   },
   "outputs": [
    {
     "data": {
      "text/plain": [
       "{'attention_probs_dropout_prob': 0.1,\n",
       " 'hidden_act': 'gelu',\n",
       " 'hidden_dropout_prob': 0.1,\n",
       " 'hidden_size': 768,\n",
       " 'initializer_range': 0.02,\n",
       " 'intermediate_size': 3072,\n",
       " 'max_position_embeddings': 512,\n",
       " 'num_attention_heads': 12,\n",
       " 'num_hidden_layers': 12,\n",
       " 'type_vocab_size': 2,\n",
       " 'vocab_size': 30522}"
      ]
     },
     "execution_count": 26,
     "metadata": {},
     "output_type": "execute_result"
    }
   ],
   "source": [
    "import json\n",
    "\n",
    "bert_config_file = os.path.join(gs_folder_bert, \"bert_config.json\")\n",
    "config_dict = json.loads(tf.io.gfile.GFile(bert_config_file).read())\n",
    "\n",
    "bert_config = bert.configs.BertConfig.from_dict(config_dict)\n",
    "\n",
    "config_dict"
   ]
  },
  {
   "cell_type": "markdown",
   "metadata": {
    "id": "96ldxDSwkVkj"
   },
   "source": [
    "The `config` defines the core BERT Model, which is a Keras model to predict the outputs of `num_classes` from the inputs with maximum sequence length `max_seq_length`.\n",
    "\n",
    "This function returns both the encoder and the classifier."
   ]
  },
  {
   "cell_type": "code",
   "execution_count": 27,
   "metadata": {
    "execution": {
     "iopub.execute_input": "2021-06-16T15:17:38.285039Z",
     "iopub.status.busy": "2021-06-16T15:17:38.281676Z",
     "iopub.status.idle": "2021-06-16T15:17:39.985511Z",
     "shell.execute_reply": "2021-06-16T15:17:39.985920Z"
    },
    "id": "cH682__U0FBv"
   },
   "outputs": [
    {
     "name": "stdout",
     "output_type": "stream",
     "text": [
      "WARNING:tensorflow:From /home/jdavidagudelo/.cache/pypoetry/virtualenvs/tensorflow-tutorial-9JwDsy9j-py3.9/lib/python3.9/site-packages/tensorflow/python/ops/array_ops.py:5043: calling gather (from tensorflow.python.ops.array_ops) with validate_indices is deprecated and will be removed in a future version.\n",
      "Instructions for updating:\n",
      "The `validate_indices` argument has no effect. Indices are always validated on CPU and never validated on GPU.\n"
     ]
    },
    {
     "name": "stderr",
     "output_type": "stream",
     "text": [
      "WARNING:tensorflow:From /home/jdavidagudelo/.cache/pypoetry/virtualenvs/tensorflow-tutorial-9JwDsy9j-py3.9/lib/python3.9/site-packages/tensorflow/python/ops/array_ops.py:5043: calling gather (from tensorflow.python.ops.array_ops) with validate_indices is deprecated and will be removed in a future version.\n",
      "Instructions for updating:\n",
      "The `validate_indices` argument has no effect. Indices are always validated on CPU and never validated on GPU.\n"
     ]
    }
   ],
   "source": [
    "bert_classifier, bert_encoder = bert.bert_models.classifier_model(\n",
    "    bert_config, num_labels=2)"
   ]
  },
  {
   "cell_type": "markdown",
   "metadata": {
    "id": "XqKp3-5GIZlw"
   },
   "source": [
    "The classifier has three inputs and one output:"
   ]
  },
  {
   "cell_type": "code",
   "execution_count": 28,
   "metadata": {
    "execution": {
     "iopub.execute_input": "2021-06-16T15:17:39.990508Z",
     "iopub.status.busy": "2021-06-16T15:17:39.989791Z",
     "iopub.status.idle": "2021-06-16T15:17:40.078546Z",
     "shell.execute_reply": "2021-06-16T15:17:40.078128Z"
    },
    "id": "bAQblMIjwkvx"
   },
   "outputs": [
    {
     "name": "stdout",
     "output_type": "stream",
     "text": [
      "('You must install pydot (`pip install pydot`) and install graphviz (see instructions at https://graphviz.gitlab.io/download/) ', 'for plot_model/model_to_dot to work.')\n"
     ]
    }
   ],
   "source": [
    "tf.keras.utils.plot_model(bert_classifier, show_shapes=True, dpi=48)"
   ]
  },
  {
   "cell_type": "markdown",
   "metadata": {
    "id": "sFmVG4SKZAw8"
   },
   "source": [
    "Run it on a test batch of data 10 examples from the training set. The output is the logits for the two classes:"
   ]
  },
  {
   "cell_type": "code",
   "execution_count": 29,
   "metadata": {
    "execution": {
     "iopub.execute_input": "2021-06-16T15:17:40.083383Z",
     "iopub.status.busy": "2021-06-16T15:17:40.082854Z",
     "iopub.status.idle": "2021-06-16T15:17:40.567146Z",
     "shell.execute_reply": "2021-06-16T15:17:40.566633Z"
    },
    "id": "VTjgPbp4ZDKo"
   },
   "outputs": [
    {
     "data": {
      "text/plain": [
       "array([[ 0.01567772,  0.38179937],\n",
       "       [ 0.18230951,  0.14235982],\n",
       "       [-0.03883921,  0.19397973],\n",
       "       [ 0.31306827,  0.16772375],\n",
       "       [ 0.05369983,  0.07435299],\n",
       "       [ 0.20372042,  0.18595544],\n",
       "       [ 0.17615141,  0.14703427],\n",
       "       [ 0.16424043,  0.15395568],\n",
       "       [ 0.17764857,  0.19075942],\n",
       "       [ 0.1568456 ,  0.4512596 ]], dtype=float32)"
      ]
     },
     "execution_count": 29,
     "metadata": {},
     "output_type": "execute_result"
    }
   ],
   "source": [
    "glue_batch = {key: val[:10] for key, val in glue_train.items()}\n",
    "\n",
    "bert_classifier(\n",
    "    glue_batch, training=True\n",
    ").numpy()"
   ]
  },
  {
   "cell_type": "markdown",
   "metadata": {
    "id": "Q0NTdwZsQK8n"
   },
   "source": [
    "The `TransformerEncoder` in the center of the classifier above **is** the `bert_encoder`.\n",
    "\n",
    "Inspecting the encoder, we see its stack of `Transformer` layers connected to those same three inputs:"
   ]
  },
  {
   "cell_type": "code",
   "execution_count": 30,
   "metadata": {
    "execution": {
     "iopub.execute_input": "2021-06-16T15:17:40.571619Z",
     "iopub.status.busy": "2021-06-16T15:17:40.571015Z",
     "iopub.status.idle": "2021-06-16T15:17:40.903177Z",
     "shell.execute_reply": "2021-06-16T15:17:40.903544Z"
    },
    "id": "8L__-erBwLIQ"
   },
   "outputs": [
    {
     "name": "stdout",
     "output_type": "stream",
     "text": [
      "('You must install pydot (`pip install pydot`) and install graphviz (see instructions at https://graphviz.gitlab.io/download/) ', 'for plot_model/model_to_dot to work.')\n"
     ]
    }
   ],
   "source": [
    "tf.keras.utils.plot_model(bert_encoder, show_shapes=True, dpi=48)"
   ]
  },
  {
   "cell_type": "markdown",
   "metadata": {
    "id": "mKAvkQc3heSy"
   },
   "source": [
    "### Restore the encoder weights\n",
    "\n",
    "When built the encoder is randomly initialized. Restore the encoder's weights from the checkpoint:"
   ]
  },
  {
   "cell_type": "code",
   "execution_count": null,
   "metadata": {
    "execution": {
     "iopub.execute_input": "2021-06-16T15:17:43.166721Z",
     "iopub.status.busy": "2021-06-16T15:17:43.161643Z",
     "iopub.status.idle": "2021-06-16T15:18:44.506637Z",
     "shell.execute_reply": "2021-06-16T15:18:44.506179Z"
    },
    "id": "97Ll2Gichd_Y"
   },
   "outputs": [],
   "source": [
    "checkpoint = tf.train.Checkpoint(encoder=bert_encoder)\n",
    "checkpoint.read(\n",
    "    os.path.join(gs_folder_bert, 'bert_model.ckpt')).assert_consumed()"
   ]
  },
  {
   "cell_type": "markdown",
   "metadata": {
    "id": "2oHOql35k3Dd"
   },
   "source": [
    "Note: The pretrained `TransformerEncoder` is also available on [TensorFlow Hub](https://tensorflow.org/hub). See the [Hub appendix](#hub_bert) for details. "
   ]
  },
  {
   "cell_type": "markdown",
   "metadata": {
    "id": "115caFLMk-_l"
   },
   "source": [
    "### Set up the optimizer\n",
    "\n",
    "BERT adopts the Adam optimizer with weight decay (aka \"[AdamW](https://arxiv.org/abs/1711.05101)\").\n",
    "It also employs a learning rate schedule that firstly warms up from 0 and then decays to 0."
   ]
  },
  {
   "cell_type": "code",
   "execution_count": null,
   "metadata": {
    "execution": {
     "iopub.execute_input": "2021-06-16T15:18:44.511872Z",
     "iopub.status.busy": "2021-06-16T15:18:44.511295Z",
     "iopub.status.idle": "2021-06-16T15:18:44.513346Z",
     "shell.execute_reply": "2021-06-16T15:18:44.512951Z"
    },
    "id": "w8qXKRZuCwW4"
   },
   "outputs": [],
   "source": [
    "# Set up epochs and steps\n",
    "epochs = 3\n",
    "batch_size = 32\n",
    "eval_batch_size = 32\n",
    "\n",
    "train_data_size = len(glue_train_labels)\n",
    "steps_per_epoch = int(train_data_size / batch_size)\n",
    "num_train_steps = steps_per_epoch * epochs\n",
    "warmup_steps = int(epochs * train_data_size * 0.1 / batch_size)\n",
    "\n",
    "# creates an optimizer with learning rate schedule\n",
    "optimizer = nlp.optimization.create_optimizer(\n",
    "    2e-5, num_train_steps=num_train_steps, num_warmup_steps=warmup_steps)"
   ]
  },
  {
   "cell_type": "markdown",
   "metadata": {
    "id": "pXRGxiRNEHS2"
   },
   "source": [
    "This returns an `AdamWeightDecay`  optimizer with the learning rate schedule set:"
   ]
  },
  {
   "cell_type": "code",
   "execution_count": null,
   "metadata": {
    "execution": {
     "iopub.execute_input": "2021-06-16T15:18:44.517002Z",
     "iopub.status.busy": "2021-06-16T15:18:44.516436Z",
     "iopub.status.idle": "2021-06-16T15:18:44.519064Z",
     "shell.execute_reply": "2021-06-16T15:18:44.518675Z"
    },
    "id": "eQNA16bhDpky"
   },
   "outputs": [],
   "source": [
    "type(optimizer)"
   ]
  },
  {
   "cell_type": "markdown",
   "metadata": {
    "id": "xqu_K71fJQB8"
   },
   "source": [
    "To see an example of how to customize the optimizer and it's schedule, see the [Optimizer schedule appendix](#optimizer_schedule)."
   ]
  },
  {
   "cell_type": "markdown",
   "metadata": {
    "id": "78FEUOOEkoP0"
   },
   "source": [
    "### Train the model"
   ]
  },
  {
   "cell_type": "markdown",
   "metadata": {
    "id": "OTNcA0O0nSq9"
   },
   "source": [
    "The metric is accuracy and we use sparse categorical cross-entropy as loss."
   ]
  },
  {
   "cell_type": "code",
   "execution_count": null,
   "metadata": {
    "execution": {
     "iopub.execute_input": "2021-06-16T15:18:44.525822Z",
     "iopub.status.busy": "2021-06-16T15:18:44.525229Z",
     "iopub.status.idle": "2021-06-16T15:20:08.678659Z",
     "shell.execute_reply": "2021-06-16T15:20:08.679042Z"
    },
    "id": "nzi8hjeTQTRs"
   },
   "outputs": [],
   "source": [
    "metrics = [tf.keras.metrics.SparseCategoricalAccuracy('accuracy', dtype=tf.float32)]\n",
    "loss = tf.keras.losses.SparseCategoricalCrossentropy(from_logits=True)\n",
    "\n",
    "bert_classifier.compile(\n",
    "    optimizer=optimizer,\n",
    "    loss=loss,\n",
    "    metrics=metrics)\n",
    "\n",
    "bert_classifier.fit(\n",
    "      glue_train, glue_train_labels,\n",
    "      validation_data=(glue_validation, glue_validation_labels),\n",
    "      batch_size=32,\n",
    "      epochs=epochs)"
   ]
  },
  {
   "cell_type": "markdown",
   "metadata": {
    "id": "IFtKFWbNKb0u"
   },
   "source": [
    "Now run the fine-tuned model on a custom example to see that it works.\n",
    "\n",
    "Start by encoding some sentence pairs:"
   ]
  },
  {
   "cell_type": "code",
   "execution_count": null,
   "metadata": {
    "execution": {
     "iopub.execute_input": "2021-06-16T15:20:08.684385Z",
     "iopub.status.busy": "2021-06-16T15:20:08.683785Z",
     "iopub.status.idle": "2021-06-16T15:20:08.696180Z",
     "shell.execute_reply": "2021-06-16T15:20:08.696535Z"
    },
    "id": "9ZoUgDUNJPz3"
   },
   "outputs": [],
   "source": [
    "my_examples = bert_encode(\n",
    "    glue_dict = {\n",
    "        'sentence1':[\n",
    "            'The rain in Spain falls mainly on the plain.',\n",
    "            'Look I fine tuned BERT.'],\n",
    "        'sentence2':[\n",
    "            'It mostly rains on the flat lands of Spain.',\n",
    "            'Is it working? This does not match.']\n",
    "    },\n",
    "    tokenizer=tokenizer)"
   ]
  },
  {
   "cell_type": "markdown",
   "metadata": {
    "id": "7ynJibkBRTJF"
   },
   "source": [
    "The model should report class `1` \"match\" for the first example and class `0` \"no-match\" for the second:"
   ]
  },
  {
   "cell_type": "code",
   "execution_count": null,
   "metadata": {
    "execution": {
     "iopub.execute_input": "2021-06-16T15:20:08.701993Z",
     "iopub.status.busy": "2021-06-16T15:20:08.701430Z",
     "iopub.status.idle": "2021-06-16T15:20:08.773899Z",
     "shell.execute_reply": "2021-06-16T15:20:08.774227Z"
    },
    "id": "umo0ttrgRYIM"
   },
   "outputs": [],
   "source": [
    "result = bert_classifier(my_examples, training=False)\n",
    "\n",
    "result = tf.argmax(result).numpy()\n",
    "result"
   ]
  },
  {
   "cell_type": "code",
   "execution_count": null,
   "metadata": {
    "execution": {
     "iopub.execute_input": "2021-06-16T15:20:08.777998Z",
     "iopub.status.busy": "2021-06-16T15:20:08.777446Z",
     "iopub.status.idle": "2021-06-16T15:20:08.779496Z",
     "shell.execute_reply": "2021-06-16T15:20:08.779855Z"
    },
    "id": "utGl0M3aZCE4"
   },
   "outputs": [],
   "source": [
    "np.array(info.features['label'].names)[result]"
   ]
  },
  {
   "cell_type": "markdown",
   "metadata": {
    "id": "fVo_AnT0l26j"
   },
   "source": [
    "### Save the model\n",
    "\n",
    "Often the goal of training a model is to _use_ it for something, so export the model and then restore it to be sure that it works."
   ]
  },
  {
   "cell_type": "code",
   "execution_count": null,
   "metadata": {
    "execution": {
     "iopub.execute_input": "2021-06-16T15:20:08.787207Z",
     "iopub.status.busy": "2021-06-16T15:20:08.786538Z",
     "iopub.status.idle": "2021-06-16T15:20:24.000978Z",
     "shell.execute_reply": "2021-06-16T15:20:24.001376Z"
    },
    "id": "Nl5x6nElZqkP"
   },
   "outputs": [],
   "source": [
    "export_dir='./saved_model'\n",
    "tf.saved_model.save(bert_classifier, export_dir=export_dir)"
   ]
  },
  {
   "cell_type": "code",
   "execution_count": null,
   "metadata": {
    "execution": {
     "iopub.execute_input": "2021-06-16T15:20:24.010002Z",
     "iopub.status.busy": "2021-06-16T15:20:24.009421Z",
     "iopub.status.idle": "2021-06-16T15:20:29.226306Z",
     "shell.execute_reply": "2021-06-16T15:20:29.226639Z"
    },
    "id": "y_ACvKPsVUXC"
   },
   "outputs": [],
   "source": [
    "reloaded = tf.saved_model.load(export_dir)\n",
    "reloaded_result = reloaded([my_examples['input_word_ids'],\n",
    "                            my_examples['input_mask'],\n",
    "                            my_examples['input_type_ids']], training=False)\n",
    "\n",
    "original_result = bert_classifier(my_examples, training=False)\n",
    "\n",
    "# The results are (nearly) identical:\n",
    "print(original_result.numpy())\n",
    "print()\n",
    "print(reloaded_result.numpy())"
   ]
  },
  {
   "cell_type": "markdown",
   "metadata": {
    "id": "eQceYqRFT_Eg"
   },
   "source": [
    "## Appendix"
   ]
  },
  {
   "cell_type": "markdown",
   "metadata": {
    "id": "SaC1RlFawUpc"
   },
   "source": [
    "<a id=re_encoding_tools></a>\n",
    "### Re-encoding a large dataset"
   ]
  },
  {
   "cell_type": "markdown",
   "metadata": {
    "id": "CwUdjFBkzUgh"
   },
   "source": [
    "This tutorial you re-encoded the dataset in memory, for clarity.\n",
    "\n",
    "This was only possible because `glue/mrpc` is a very small dataset. To deal with larger datasets `tf_models` library includes some tools for processing and re-encoding a dataset for efficient training."
   ]
  },
  {
   "cell_type": "markdown",
   "metadata": {
    "id": "2UTQrkyOT5wD"
   },
   "source": [
    "The first step is to describe which features of the dataset should be transformed:"
   ]
  },
  {
   "cell_type": "code",
   "execution_count": null,
   "metadata": {
    "execution": {
     "iopub.execute_input": "2021-06-16T15:20:29.230868Z",
     "iopub.status.busy": "2021-06-16T15:20:29.230324Z",
     "iopub.status.idle": "2021-06-16T15:20:31.652394Z",
     "shell.execute_reply": "2021-06-16T15:20:31.652776Z"
    },
    "id": "XQeDFOzYR9Z9"
   },
   "outputs": [],
   "source": [
    "processor = nlp.data.classifier_data_lib.TfdsProcessor(\n",
    "    tfds_params=\"dataset=glue/mrpc,text_key=sentence1,text_b_key=sentence2\",\n",
    "    process_text_fn=bert.tokenization.convert_to_unicode)"
   ]
  },
  {
   "cell_type": "markdown",
   "metadata": {
    "id": "XrFQbfErUWxa"
   },
   "source": [
    "Then apply the transformation to generate new TFRecord files."
   ]
  },
  {
   "cell_type": "code",
   "execution_count": null,
   "metadata": {
    "execution": {
     "iopub.execute_input": "2021-06-16T15:20:31.658294Z",
     "iopub.status.busy": "2021-06-16T15:20:31.657716Z",
     "iopub.status.idle": "2021-06-16T15:20:35.913813Z",
     "shell.execute_reply": "2021-06-16T15:20:35.914181Z"
    },
    "id": "ymw7GOHpSHKU"
   },
   "outputs": [],
   "source": [
    "# Set up output of training and evaluation Tensorflow dataset\n",
    "train_data_output_path=\"./mrpc_train.tf_record\"\n",
    "eval_data_output_path=\"./mrpc_eval.tf_record\"\n",
    "\n",
    "max_seq_length = 128\n",
    "batch_size = 32\n",
    "eval_batch_size = 32\n",
    "\n",
    "# Generate and save training data into a tf record file\n",
    "input_meta_data = (\n",
    "    nlp.data.classifier_data_lib.generate_tf_record_from_data_file(\n",
    "      processor=processor,\n",
    "      data_dir=None,  # It is `None` because data is from tfds, not local dir.\n",
    "      tokenizer=tokenizer,\n",
    "      train_data_output_path=train_data_output_path,\n",
    "      eval_data_output_path=eval_data_output_path,\n",
    "      max_seq_length=max_seq_length))"
   ]
  },
  {
   "cell_type": "markdown",
   "metadata": {
    "id": "uX_Sp-wTUoRm"
   },
   "source": [
    "Finally create `tf.data` input pipelines from those TFRecord files:"
   ]
  },
  {
   "cell_type": "code",
   "execution_count": null,
   "metadata": {
    "execution": {
     "iopub.execute_input": "2021-06-16T15:20:35.918814Z",
     "iopub.status.busy": "2021-06-16T15:20:35.918249Z",
     "iopub.status.idle": "2021-06-16T15:20:36.074711Z",
     "shell.execute_reply": "2021-06-16T15:20:36.075116Z"
    },
    "id": "rkHxIK57SQ_r"
   },
   "outputs": [],
   "source": [
    "training_dataset = bert.run_classifier.get_dataset_fn(\n",
    "    train_data_output_path,\n",
    "    max_seq_length,\n",
    "    batch_size,\n",
    "    is_training=True)()\n",
    "\n",
    "evaluation_dataset = bert.run_classifier.get_dataset_fn(\n",
    "    eval_data_output_path,\n",
    "    max_seq_length,\n",
    "    eval_batch_size,\n",
    "    is_training=False)()\n"
   ]
  },
  {
   "cell_type": "markdown",
   "metadata": {
    "id": "stbaVouogvzS"
   },
   "source": [
    "The resulting `tf.data.Datasets` return `(features, labels)` pairs, as expected by `keras.Model.fit`:"
   ]
  },
  {
   "cell_type": "code",
   "execution_count": null,
   "metadata": {
    "execution": {
     "iopub.execute_input": "2021-06-16T15:20:36.079697Z",
     "iopub.status.busy": "2021-06-16T15:20:36.078986Z",
     "iopub.status.idle": "2021-06-16T15:20:36.081550Z",
     "shell.execute_reply": "2021-06-16T15:20:36.081915Z"
    },
    "id": "gwhrlQl4gxVF"
   },
   "outputs": [],
   "source": [
    "training_dataset.element_spec"
   ]
  },
  {
   "cell_type": "markdown",
   "metadata": {
    "id": "dbJ76vSJj77j"
   },
   "source": [
    "#### Create tf.data.Dataset for training and evaluation\n"
   ]
  },
  {
   "cell_type": "markdown",
   "metadata": {
    "id": "9J95LFRohiYw"
   },
   "source": [
    "If you need to modify the data loading here is some code to get you started:"
   ]
  },
  {
   "cell_type": "code",
   "execution_count": null,
   "metadata": {
    "execution": {
     "iopub.execute_input": "2021-06-16T15:20:36.088684Z",
     "iopub.status.busy": "2021-06-16T15:20:36.087876Z",
     "iopub.status.idle": "2021-06-16T15:20:36.089823Z",
     "shell.execute_reply": "2021-06-16T15:20:36.090146Z"
    },
    "id": "gCvaLLAxPuMc"
   },
   "outputs": [],
   "source": [
    "def create_classifier_dataset(file_path, seq_length, batch_size, is_training):\n",
    "  \"\"\"Creates input dataset from (tf)records files for train/eval.\"\"\"\n",
    "  dataset = tf.data.TFRecordDataset(file_path)\n",
    "  if is_training:\n",
    "    dataset = dataset.shuffle(100)\n",
    "    dataset = dataset.repeat()\n",
    "\n",
    "  def decode_record(record):\n",
    "    name_to_features = {\n",
    "      'input_ids': tf.io.FixedLenFeature([seq_length], tf.int64),\n",
    "      'input_mask': tf.io.FixedLenFeature([seq_length], tf.int64),\n",
    "      'segment_ids': tf.io.FixedLenFeature([seq_length], tf.int64),\n",
    "      'label_ids': tf.io.FixedLenFeature([], tf.int64),\n",
    "    }\n",
    "    return tf.io.parse_single_example(record, name_to_features)\n",
    "\n",
    "  def _select_data_from_record(record):\n",
    "    x = {\n",
    "        'input_word_ids': record['input_ids'],\n",
    "        'input_mask': record['input_mask'],\n",
    "        'input_type_ids': record['segment_ids']\n",
    "    }\n",
    "    y = record['label_ids']\n",
    "    return (x, y)\n",
    "\n",
    "  dataset = dataset.map(decode_record,\n",
    "                        num_parallel_calls=tf.data.AUTOTUNE)\n",
    "  dataset = dataset.map(\n",
    "      _select_data_from_record,\n",
    "      num_parallel_calls=tf.data.AUTOTUNE)\n",
    "  dataset = dataset.batch(batch_size, drop_remainder=is_training)\n",
    "  dataset = dataset.prefetch(tf.data.AUTOTUNE)\n",
    "  return dataset"
   ]
  },
  {
   "cell_type": "code",
   "execution_count": null,
   "metadata": {
    "execution": {
     "iopub.execute_input": "2021-06-16T15:20:36.094742Z",
     "iopub.status.busy": "2021-06-16T15:20:36.093795Z",
     "iopub.status.idle": "2021-06-16T15:20:36.192013Z",
     "shell.execute_reply": "2021-06-16T15:20:36.191508Z"
    },
    "id": "rutkBadrhzdR"
   },
   "outputs": [],
   "source": [
    "# Set up batch sizes\n",
    "batch_size = 32\n",
    "eval_batch_size = 32\n",
    "\n",
    "# Return Tensorflow dataset\n",
    "training_dataset = create_classifier_dataset(\n",
    "    train_data_output_path,\n",
    "    input_meta_data['max_seq_length'],\n",
    "    batch_size,\n",
    "    is_training=True)\n",
    "\n",
    "evaluation_dataset = create_classifier_dataset(\n",
    "    eval_data_output_path,\n",
    "    input_meta_data['max_seq_length'],\n",
    "    eval_batch_size,\n",
    "    is_training=False)"
   ]
  },
  {
   "cell_type": "code",
   "execution_count": null,
   "metadata": {
    "execution": {
     "iopub.execute_input": "2021-06-16T15:20:36.196073Z",
     "iopub.status.busy": "2021-06-16T15:20:36.195317Z",
     "iopub.status.idle": "2021-06-16T15:20:36.197815Z",
     "shell.execute_reply": "2021-06-16T15:20:36.198141Z"
    },
    "id": "59TVgt4Z7fuU"
   },
   "outputs": [],
   "source": [
    "training_dataset.element_spec"
   ]
  },
  {
   "cell_type": "markdown",
   "metadata": {
    "id": "QbklKt-w_CiI"
   },
   "source": [
    "<a id=\"hub_bert\"></a>\n",
    "\n",
    "### TFModels BERT on TFHub\n",
    "\n",
    "You can get [the BERT model](https://tfhub.dev/tensorflow/bert_en_uncased_L-12_H-768_A-12/2) off the shelf from [TFHub](https://tensorflow.org/hub). It would not be hard to add a classification head on top of this `hub.KerasLayer`"
   ]
  },
  {
   "cell_type": "code",
   "execution_count": null,
   "metadata": {
    "execution": {
     "iopub.execute_input": "2021-06-16T15:20:36.201224Z",
     "iopub.status.busy": "2021-06-16T15:20:36.200671Z",
     "iopub.status.idle": "2021-06-16T15:20:36.202414Z",
     "shell.execute_reply": "2021-06-16T15:20:36.202743Z"
    },
    "id": "GDWrHm0BGpbX"
   },
   "outputs": [],
   "source": [
    "# Note: 350MB download.\n",
    "import tensorflow_hub as hub"
   ]
  },
  {
   "cell_type": "code",
   "execution_count": null,
   "metadata": {
    "cellView": "form",
    "execution": {
     "iopub.execute_input": "2021-06-16T15:20:36.205839Z",
     "iopub.status.busy": "2021-06-16T15:20:36.205282Z",
     "iopub.status.idle": "2021-06-16T15:20:36.207358Z",
     "shell.execute_reply": "2021-06-16T15:20:36.206955Z"
    },
    "id": "Y29meH0qGq_5"
   },
   "outputs": [],
   "source": [
    "hub_model_name = \"bert_en_uncased_L-12_H-768_A-12\" #@param [\"bert_en_uncased_L-24_H-1024_A-16\", \"bert_en_wwm_cased_L-24_H-1024_A-16\", \"bert_en_uncased_L-12_H-768_A-12\", \"bert_en_wwm_uncased_L-24_H-1024_A-16\", \"bert_en_cased_L-24_H-1024_A-16\", \"bert_en_cased_L-12_H-768_A-12\", \"bert_zh_L-12_H-768_A-12\", \"bert_multi_cased_L-12_H-768_A-12\"]"
   ]
  },
  {
   "cell_type": "code",
   "execution_count": null,
   "metadata": {
    "execution": {
     "iopub.execute_input": "2021-06-16T15:20:36.210944Z",
     "iopub.status.busy": "2021-06-16T15:20:36.210396Z",
     "iopub.status.idle": "2021-06-16T15:20:44.750276Z",
     "shell.execute_reply": "2021-06-16T15:20:44.750651Z"
    },
    "id": "lo6479At4sP1"
   },
   "outputs": [],
   "source": [
    "hub_encoder = hub.KerasLayer(f\"https://tfhub.dev/tensorflow/{hub_model_name}/3\",\n",
    "                             trainable=True)\n",
    "\n",
    "print(f\"The Hub encoder has {len(hub_encoder.trainable_variables)} trainable variables\")"
   ]
  },
  {
   "cell_type": "markdown",
   "metadata": {
    "id": "iTzF574wivQv"
   },
   "source": [
    "Test run it on a batch of data:"
   ]
  },
  {
   "cell_type": "code",
   "execution_count": null,
   "metadata": {
    "execution": {
     "iopub.execute_input": "2021-06-16T15:20:44.755423Z",
     "iopub.status.busy": "2021-06-16T15:20:44.754677Z",
     "iopub.status.idle": "2021-06-16T15:20:45.254275Z",
     "shell.execute_reply": "2021-06-16T15:20:45.254636Z"
    },
    "id": "XEcYrCR45Uwo"
   },
   "outputs": [],
   "source": [
    "result = hub_encoder(\n",
    "    inputs=dict(\n",
    "        input_word_ids=glue_train['input_word_ids'][:10],\n",
    "        input_mask=glue_train['input_mask'][:10],\n",
    "        input_type_ids=glue_train['input_type_ids'][:10],),\n",
    "    training=False,\n",
    ")\n",
    "\n",
    "print(\"Pooled output shape:\", result['pooled_output'].shape)\n",
    "print(\"Sequence output shape:\", result['sequence_output'].shape)"
   ]
  },
  {
   "cell_type": "markdown",
   "metadata": {
    "id": "cjojn8SmLSRI"
   },
   "source": [
    "At this point it would be simple to add a classification head yourself.\n",
    "\n",
    "The `bert_models.classifier_model` function can also build a classifier onto the encoder from TensorFlow Hub:"
   ]
  },
  {
   "cell_type": "code",
   "execution_count": null,
   "metadata": {
    "execution": {
     "iopub.execute_input": "2021-06-16T15:20:45.261194Z",
     "iopub.status.busy": "2021-06-16T15:20:45.260615Z",
     "iopub.status.idle": "2021-06-16T15:20:45.780438Z",
     "shell.execute_reply": "2021-06-16T15:20:45.780797Z"
    },
    "id": "9nTDaApyLR70"
   },
   "outputs": [],
   "source": [
    "hub_classifier = nlp.modeling.models.BertClassifier(\n",
    "    bert_encoder,\n",
    "    num_classes=2,\n",
    "    dropout_rate=0.1,\n",
    "    initializer=tf.keras.initializers.TruncatedNormal(\n",
    "        stddev=0.02))"
   ]
  },
  {
   "cell_type": "markdown",
   "metadata": {
    "id": "xMJX3wV0_v7I"
   },
   "source": [
    "The one downside to loading this model from TFHub is that the structure of internal keras layers is not restored. So it's more difficult to inspect or modify the model. The `BertEncoder` model is now a single layer:"
   ]
  },
  {
   "cell_type": "code",
   "execution_count": null,
   "metadata": {
    "execution": {
     "iopub.execute_input": "2021-06-16T15:20:45.784779Z",
     "iopub.status.busy": "2021-06-16T15:20:45.784232Z",
     "iopub.status.idle": "2021-06-16T15:20:45.928688Z",
     "shell.execute_reply": "2021-06-16T15:20:45.929048Z"
    },
    "id": "pD71dnvhM2QS"
   },
   "outputs": [],
   "source": [
    "tf.keras.utils.plot_model(hub_classifier, show_shapes=True, dpi=64)"
   ]
  },
  {
   "cell_type": "code",
   "execution_count": null,
   "metadata": {
    "execution": {
     "iopub.execute_input": "2021-06-16T15:20:45.934261Z",
     "iopub.status.busy": "2021-06-16T15:20:45.933694Z",
     "iopub.status.idle": "2021-06-16T15:20:45.994598Z",
     "shell.execute_reply": "2021-06-16T15:20:45.994950Z"
    },
    "id": "nLZD-isBzNKi"
   },
   "outputs": [],
   "source": [
    "try:\n",
    "  tf.keras.utils.plot_model(hub_encoder, show_shapes=True, dpi=64)\n",
    "  assert False\n",
    "except Exception as e:\n",
    "  print(f\"{type(e).__name__}: {e}\")"
   ]
  },
  {
   "cell_type": "markdown",
   "metadata": {
    "id": "ZxSqH0dNAgXV"
   },
   "source": [
    "<a id=\"model_builder_functions\"></a>\n",
    "\n",
    "### Low level model building\n",
    "\n",
    "If you need a more control over the construction of the model it's worth noting that the `classifier_model` function used earlier is really just a thin wrapper over the `nlp.modeling.networks.BertEncoder` and `nlp.modeling.models.BertClassifier` classes. Just remember that if you start modifying the architecture it may not be correct or possible to reload the pre-trained checkpoint so you'll need to retrain from scratch."
   ]
  },
  {
   "cell_type": "markdown",
   "metadata": {
    "id": "0cgABEwDj06P"
   },
   "source": [
    "Build the encoder:"
   ]
  },
  {
   "cell_type": "code",
   "execution_count": null,
   "metadata": {
    "execution": {
     "iopub.execute_input": "2021-06-16T15:20:46.001590Z",
     "iopub.status.busy": "2021-06-16T15:20:46.001017Z",
     "iopub.status.idle": "2021-06-16T15:20:46.003830Z",
     "shell.execute_reply": "2021-06-16T15:20:46.003415Z"
    },
    "id": "5r_yqhBFSVEM"
   },
   "outputs": [],
   "source": [
    "bert_encoder_config = config_dict.copy()\n",
    "\n",
    "# You need to rename a few fields to make this work:\n",
    "bert_encoder_config['attention_dropout_rate'] = bert_encoder_config.pop('attention_probs_dropout_prob')\n",
    "bert_encoder_config['activation'] = tf_utils.get_activation(bert_encoder_config.pop('hidden_act'))\n",
    "bert_encoder_config['dropout_rate'] = bert_encoder_config.pop('hidden_dropout_prob')\n",
    "bert_encoder_config['initializer'] = tf.keras.initializers.TruncatedNormal(\n",
    "          stddev=bert_encoder_config.pop('initializer_range'))\n",
    "bert_encoder_config['max_sequence_length'] = bert_encoder_config.pop('max_position_embeddings')\n",
    "bert_encoder_config['num_layers'] = bert_encoder_config.pop('num_hidden_layers')\n",
    "\n",
    "bert_encoder_config"
   ]
  },
  {
   "cell_type": "code",
   "execution_count": null,
   "metadata": {
    "execution": {
     "iopub.execute_input": "2021-06-16T15:20:46.013031Z",
     "iopub.status.busy": "2021-06-16T15:20:46.011442Z",
     "iopub.status.idle": "2021-06-16T15:20:46.814714Z",
     "shell.execute_reply": "2021-06-16T15:20:46.815080Z"
    },
    "id": "rIO8MI7LLijh"
   },
   "outputs": [],
   "source": [
    "manual_encoder = nlp.modeling.networks.BertEncoder(**bert_encoder_config)"
   ]
  },
  {
   "cell_type": "markdown",
   "metadata": {
    "id": "4a4tFSg9krRi"
   },
   "source": [
    "Restore the weights:"
   ]
  },
  {
   "cell_type": "code",
   "execution_count": null,
   "metadata": {
    "execution": {
     "iopub.execute_input": "2021-06-16T15:20:48.687811Z",
     "iopub.status.busy": "2021-06-16T15:20:48.677759Z",
     "iopub.status.idle": "2021-06-16T15:21:38.716777Z",
     "shell.execute_reply": "2021-06-16T15:21:38.716343Z"
    },
    "id": "X6N9NEqfXJCx"
   },
   "outputs": [],
   "source": [
    "checkpoint = tf.train.Checkpoint(encoder=manual_encoder)\n",
    "checkpoint.read(\n",
    "    os.path.join(gs_folder_bert, 'bert_model.ckpt')).assert_consumed()"
   ]
  },
  {
   "cell_type": "markdown",
   "metadata": {
    "id": "1BPiPO4ykuwM"
   },
   "source": [
    "Test run it:"
   ]
  },
  {
   "cell_type": "code",
   "execution_count": null,
   "metadata": {
    "execution": {
     "iopub.execute_input": "2021-06-16T15:21:38.722776Z",
     "iopub.status.busy": "2021-06-16T15:21:38.722033Z",
     "iopub.status.idle": "2021-06-16T15:21:38.808989Z",
     "shell.execute_reply": "2021-06-16T15:21:38.809334Z"
    },
    "id": "hlVdgJKmj389"
   },
   "outputs": [],
   "source": [
    "result = manual_encoder(my_examples, training=True)\n",
    "\n",
    "print(\"Sequence output shape:\", result[0].shape)\n",
    "print(\"Pooled output shape:\", result[1].shape)"
   ]
  },
  {
   "cell_type": "markdown",
   "metadata": {
    "id": "nJMXvVgJkyBv"
   },
   "source": [
    "Wrap it in a classifier:"
   ]
  },
  {
   "cell_type": "code",
   "execution_count": null,
   "metadata": {
    "execution": {
     "iopub.execute_input": "2021-06-16T15:21:38.815550Z",
     "iopub.status.busy": "2021-06-16T15:21:38.814994Z",
     "iopub.status.idle": "2021-06-16T15:21:39.349896Z",
     "shell.execute_reply": "2021-06-16T15:21:39.350326Z"
    },
    "id": "tQX57GJ6wkAb"
   },
   "outputs": [],
   "source": [
    "manual_classifier = nlp.modeling.models.BertClassifier(\n",
    "        bert_encoder,\n",
    "        num_classes=2,\n",
    "        dropout_rate=bert_encoder_config['dropout_rate'],\n",
    "        initializer=bert_encoder_config['initializer'])"
   ]
  },
  {
   "cell_type": "code",
   "execution_count": null,
   "metadata": {
    "execution": {
     "iopub.execute_input": "2021-06-16T15:21:39.356145Z",
     "iopub.status.busy": "2021-06-16T15:21:39.355534Z",
     "iopub.status.idle": "2021-06-16T15:21:39.447781Z",
     "shell.execute_reply": "2021-06-16T15:21:39.447349Z"
    },
    "id": "kB-nBWhQk0dS"
   },
   "outputs": [],
   "source": [
    "manual_classifier(my_examples, training=True).numpy()"
   ]
  },
  {
   "cell_type": "markdown",
   "metadata": {
    "id": "E6AJlOSyIO1L"
   },
   "source": [
    "<a id=\"optimizer_schedule\"></a>\n",
    "\n",
    "### Optimizers and schedules\n",
    "\n",
    "The optimizer used to train the model was created using the `nlp.optimization.create_optimizer` function:"
   ]
  },
  {
   "cell_type": "code",
   "execution_count": null,
   "metadata": {
    "execution": {
     "iopub.execute_input": "2021-06-16T15:21:39.451907Z",
     "iopub.status.busy": "2021-06-16T15:21:39.451358Z",
     "iopub.status.idle": "2021-06-16T15:21:39.453000Z",
     "shell.execute_reply": "2021-06-16T15:21:39.453362Z"
    },
    "id": "28Dv3BPRlFTD"
   },
   "outputs": [],
   "source": [
    "optimizer = nlp.optimization.create_optimizer(\n",
    "    2e-5, num_train_steps=num_train_steps, num_warmup_steps=warmup_steps)"
   ]
  },
  {
   "cell_type": "markdown",
   "metadata": {
    "id": "LRjcHr0UlT8c"
   },
   "source": [
    "That high level wrapper sets up the learning rate schedules and the optimizer.\n",
    "\n",
    "The base learning rate schedule used here is a linear decay to zero over the training run:"
   ]
  },
  {
   "cell_type": "code",
   "execution_count": null,
   "metadata": {
    "execution": {
     "iopub.execute_input": "2021-06-16T15:21:39.457139Z",
     "iopub.status.busy": "2021-06-16T15:21:39.456504Z",
     "iopub.status.idle": "2021-06-16T15:21:39.458519Z",
     "shell.execute_reply": "2021-06-16T15:21:39.458122Z"
    },
    "id": "MHY8K6kDngQn"
   },
   "outputs": [],
   "source": [
    "epochs = 3\n",
    "batch_size = 32\n",
    "eval_batch_size = 32\n",
    "\n",
    "train_data_size = len(glue_train_labels)\n",
    "steps_per_epoch = int(train_data_size / batch_size)\n",
    "num_train_steps = steps_per_epoch * epochs"
   ]
  },
  {
   "cell_type": "code",
   "execution_count": null,
   "metadata": {
    "execution": {
     "iopub.execute_input": "2021-06-16T15:21:39.462525Z",
     "iopub.status.busy": "2021-06-16T15:21:39.461903Z",
     "iopub.status.idle": "2021-06-16T15:21:39.748457Z",
     "shell.execute_reply": "2021-06-16T15:21:39.748815Z"
    },
    "id": "wKIcSprulu3P"
   },
   "outputs": [],
   "source": [
    "decay_schedule = tf.keras.optimizers.schedules.PolynomialDecay(\n",
    "      initial_learning_rate=2e-5,\n",
    "      decay_steps=num_train_steps,\n",
    "      end_learning_rate=0)\n",
    "\n",
    "plt.plot([decay_schedule(n) for n in range(num_train_steps)])"
   ]
  },
  {
   "cell_type": "markdown",
   "metadata": {
    "id": "IMTC_gfAl_PZ"
   },
   "source": [
    "This, in turn is wrapped in a `WarmUp` schedule that linearly increases the learning rate to the target value over the first 10% of training:"
   ]
  },
  {
   "cell_type": "code",
   "execution_count": null,
   "metadata": {
    "execution": {
     "iopub.execute_input": "2021-06-16T15:21:39.753306Z",
     "iopub.status.busy": "2021-06-16T15:21:39.752681Z",
     "iopub.status.idle": "2021-06-16T15:21:40.102943Z",
     "shell.execute_reply": "2021-06-16T15:21:40.103317Z"
    },
    "id": "YRt3VTmBmCBY"
   },
   "outputs": [],
   "source": [
    "warmup_steps = num_train_steps * 0.1\n",
    "\n",
    "warmup_schedule = nlp.optimization.WarmUp(\n",
    "        initial_learning_rate=2e-5,\n",
    "        decay_schedule_fn=decay_schedule,\n",
    "        warmup_steps=warmup_steps)\n",
    "\n",
    "# The warmup overshoots, because it warms up to the `initial_learning_rate`\n",
    "# following the original implementation. You can set\n",
    "# `initial_learning_rate=decay_schedule(warmup_steps)` if you don't like the\n",
    "# overshoot.\n",
    "plt.plot([warmup_schedule(n) for n in range(num_train_steps)])"
   ]
  },
  {
   "cell_type": "markdown",
   "metadata": {
    "id": "l8D9Lv3Bn740"
   },
   "source": [
    "Then create the `nlp.optimization.AdamWeightDecay` using that schedule, configured for the BERT model:"
   ]
  },
  {
   "cell_type": "code",
   "execution_count": null,
   "metadata": {
    "execution": {
     "iopub.execute_input": "2021-06-16T15:21:40.107353Z",
     "iopub.status.busy": "2021-06-16T15:21:40.106796Z",
     "iopub.status.idle": "2021-06-16T15:21:40.108773Z",
     "shell.execute_reply": "2021-06-16T15:21:40.108384Z"
    },
    "id": "2Hf2rpRXk89N"
   },
   "outputs": [],
   "source": [
    "optimizer = nlp.optimization.AdamWeightDecay(\n",
    "        learning_rate=warmup_schedule,\n",
    "        weight_decay_rate=0.01,\n",
    "        epsilon=1e-6,\n",
    "        exclude_from_weight_decay=['LayerNorm', 'layer_norm', 'bias'])"
   ]
  }
 ],
 "metadata": {
  "accelerator": "GPU",
  "colab": {
   "collapsed_sections": [],
   "name": "fine_tune_bert.ipynb",
   "toc_visible": true
  },
  "kernelspec": {
   "display_name": "Python 3 (ipykernel)",
   "language": "python",
   "name": "python3"
  },
  "language_info": {
   "codemirror_mode": {
    "name": "ipython",
    "version": 3
   },
   "file_extension": ".py",
   "mimetype": "text/x-python",
   "name": "python",
   "nbconvert_exporter": "python",
   "pygments_lexer": "ipython3",
   "version": "3.9.5"
  }
 },
 "nbformat": 4,
 "nbformat_minor": 1
}
