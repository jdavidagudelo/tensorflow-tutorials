{
 "cells": [
  {
   "cell_type": "markdown",
   "metadata": {
    "id": "Tce3stUlHN0L"
   },
   "source": [
    "##### Copyright 2021 The TensorFlow Authors."
   ]
  },
  {
   "cell_type": "code",
   "execution_count": 1,
   "metadata": {
    "cellView": "form",
    "execution": {
     "iopub.execute_input": "2021-06-16T15:46:05.731710Z",
     "iopub.status.busy": "2021-06-16T15:46:05.731131Z",
     "iopub.status.idle": "2021-06-16T15:46:05.733344Z",
     "shell.execute_reply": "2021-06-16T15:46:05.733722Z"
    },
    "id": "tuOe1ymfHZPu"
   },
   "outputs": [],
   "source": [
    "#@title Licensed under the Apache License, Version 2.0 (the \"License\");\n",
    "# you may not use this file except in compliance with the License.\n",
    "# You may obtain a copy of the License at\n",
    "#\n",
    "# https://www.apache.org/licenses/LICENSE-2.0\n",
    "#\n",
    "# Unless required by applicable law or agreed to in writing, software\n",
    "# distributed under the License is distributed on an \"AS IS\" BASIS,\n",
    "# WITHOUT WARRANTIES OR CONDITIONS OF ANY KIND, either express or implied.\n",
    "# See the License for the specific language governing permissions and\n",
    "# limitations under the License."
   ]
  },
  {
   "cell_type": "markdown",
   "metadata": {
    "id": "qFdPvlXBOdUN"
   },
   "source": [
    "# BERT Preprocessing with TF Text"
   ]
  },
  {
   "cell_type": "markdown",
   "metadata": {
    "id": "MfBg1C5NB3X0"
   },
   "source": [
    "<table class=\"tfo-notebook-buttons\" align=\"left\">\n",
    "  <td>\n",
    "    <a target=\"_blank\" href=\"https://www.tensorflow.org/text/guide/bert_preprocessing_guide\"><img src=\"https://www.tensorflow.org/images/tf_logo_32px.png\" />View on TensorFlow.org</a>\n",
    "  </td>\n",
    "  <td>\n",
    "    <a target=\"_blank\" href=\"https://colab.research.google.com/github/tensorflow/text/blob/master/docs/guide/bert_preprocessing_guide.ipynb\"><img src=\"https://www.tensorflow.org/images/colab_logo_32px.png\" />Run in Google Colab</a>\n",
    "  </td>\n",
    "  <td>\n",
    "    <a target=\"_blank\" href=\"https://github.com/tensorflow/text/blob/master/docs/guide/bert_preprocessing_guide.ipynb\"><img src=\"https://www.tensorflow.org/images/GitHub-Mark-32px.png\" />View on GitHub</a>\n",
    "  </td>\n",
    "  <td>\n",
    "    <a href=\"https://storage.googleapis.com/tensorflow_docs/text/docs/guide/bert_preprocessing_guide.ipynb\"><img src=\"https://www.tensorflow.org/images/download_logo_32px.png\" />Download notebook</a>\n",
    "  </td>\n",
    "</table>"
   ]
  },
  {
   "cell_type": "markdown",
   "metadata": {
    "id": "xHxb-dlhMIzW"
   },
   "source": [
    "## Overview\n",
    "\n",
    "Text preprocessing is the end-to-end transformation of raw text into a model’s integer inputs. NLP models are often accompanied by several hundreds (if not thousands) of lines of Python code for preprocessing text. Text preprocessing is often a challenge for models because:\n",
    "\n",
    "* **Training-serving skew.** It becomes increasingly difficult to ensure that the preprocessing logic of the model's inputs are consistent at all stages of model development (e.g. pretraining, fine-tuning, evaluation, inference). \n",
    "Using different hyperparameters, tokenization, string preprocessing algorithms or simply packaging model inputs inconsistently at different stages could yield hard-to-debug and disastrous effects to the model. \n",
    "\n",
    "* **Efficiency and flexibility.** While preprocessing can be done offline (e.g. by writing out processed outputs to files on disk and then reconsuming said preprocessed data in the input pipeline), this method incurs an additional file read and write cost. Preprocessing offline is also inconvenient if there are preprocessing decisions that need to happen dynamically. Experimenting with a different option would require regenerating the dataset again.\n",
    "\n",
    "* **Complex model interface.** Text models are much more understandable when their inputs are pure text. It's hard to understand a model when its inputs require an extra, indirect encoding step. Reducing the preprocessing complexity is especially appreciated for model debugging, serving, and evaluation. \n",
    "\n",
    "Additionally, simpler model interfaces also make it more convenient to try the model (e.g. inference or training) on different, unexplored datasets.\n"
   ]
  },
  {
   "cell_type": "markdown",
   "metadata": {
    "id": "Y6DTHtXbxPgw"
   },
   "source": [
    "## Text preprocessing with TF.Text\n",
    "\n",
    "Using TF.Text's text preprocessing APIs, we can construct a preprocessing\n",
    "function that can transform a user's text dataset into the model's\n",
    "integer inputs. Users can package preprocessing directly as part of their model to alleviate the above mentioned problems.\n",
    "\n",
    "This tutorial will show how to use TF.Text preprocessing ops to transform text data into inputs for the BERT model and inputs for language masking pretraining task described in \"Masked LM and Masking Procedure\" of [BERT: Pre-training of Deep Bidirectional Transformers for Language Understanding](https://arxiv.org/pdf/1810.04805.pdf). The process involves tokenizing text into subword units, combining sentences, trimming content to a fixed size and extracting labels for the masked language modeling task."
   ]
  },
  {
   "cell_type": "markdown",
   "metadata": {
    "id": "MUXex9ctTuDB"
   },
   "source": [
    "### Setup"
   ]
  },
  {
   "cell_type": "markdown",
   "metadata": {
    "id": "pmIjNKsfeTpm"
   },
   "source": [
    "Let's import the packages and libraries we need first."
   ]
  },
  {
   "cell_type": "code",
   "execution_count": 2,
   "metadata": {
    "execution": {
     "iopub.execute_input": "2021-06-16T15:46:05.742850Z",
     "iopub.status.busy": "2021-06-16T15:46:05.740233Z",
     "iopub.status.idle": "2021-06-16T15:46:07.329551Z",
     "shell.execute_reply": "2021-06-16T15:46:07.329911Z"
    },
    "id": "gTWQ5swI7FRJ"
   },
   "outputs": [],
   "source": [
    "#!pip install -q -U tensorflow-text"
   ]
  },
  {
   "cell_type": "code",
   "execution_count": 3,
   "metadata": {
    "execution": {
     "iopub.execute_input": "2021-06-16T15:46:07.334336Z",
     "iopub.status.busy": "2021-06-16T15:46:07.333676Z",
     "iopub.status.idle": "2021-06-16T15:46:09.056048Z",
     "shell.execute_reply": "2021-06-16T15:46:09.055519Z"
    },
    "id": "IqR2PQG4ZaZ0"
   },
   "outputs": [
    {
     "name": "stderr",
     "output_type": "stream",
     "text": [
      "2021-07-29 15:43:52.282424: W tensorflow/stream_executor/platform/default/dso_loader.cc:64] Could not load dynamic library 'libcudart.so.11.0'; dlerror: libcudart.so.11.0: cannot open shared object file: No such file or directory\n",
      "2021-07-29 15:43:52.282449: I tensorflow/stream_executor/cuda/cudart_stub.cc:29] Ignore above cudart dlerror if you do not have a GPU set up on your machine.\n"
     ]
    }
   ],
   "source": [
    "import tensorflow as tf\n",
    "import tensorflow_text as text\n",
    "import functools"
   ]
  },
  {
   "cell_type": "markdown",
   "metadata": {
    "id": "-brDHSrRaMii"
   },
   "source": [
    "Our data contains two text features and we can create a example `tf.data.Dataset`. Our goal is to create a function that we can supply `Dataset.map()` with to be used in training."
   ]
  },
  {
   "cell_type": "code",
   "execution_count": 4,
   "metadata": {
    "execution": {
     "iopub.execute_input": "2021-06-16T15:46:10.334855Z",
     "iopub.status.busy": "2021-06-16T15:46:10.334090Z",
     "iopub.status.idle": "2021-06-16T15:46:10.346486Z",
     "shell.execute_reply": "2021-06-16T15:46:10.346849Z"
    },
    "id": "DQyj7OQ9yk7K"
   },
   "outputs": [
    {
     "name": "stderr",
     "output_type": "stream",
     "text": [
      "2021-07-29 15:43:53.902154: W tensorflow/stream_executor/platform/default/dso_loader.cc:64] Could not load dynamic library 'libcuda.so.1'; dlerror: libcuda.so.1: cannot open shared object file: No such file or directory\n",
      "2021-07-29 15:43:53.902180: W tensorflow/stream_executor/cuda/cuda_driver.cc:326] failed call to cuInit: UNKNOWN ERROR (303)\n",
      "2021-07-29 15:43:53.902197: I tensorflow/stream_executor/cuda/cuda_diagnostics.cc:156] kernel driver does not appear to be running on this host (masternode): /proc/driver/nvidia/version does not exist\n",
      "2021-07-29 15:43:53.902429: I tensorflow/core/platform/cpu_feature_guard.cc:142] This TensorFlow binary is optimized with oneAPI Deep Neural Network Library (oneDNN) to use the following CPU instructions in performance-critical operations:  AVX2 FMA\n",
      "To enable them in other operations, rebuild TensorFlow with the appropriate compiler flags.\n"
     ]
    },
    {
     "data": {
      "text/plain": [
       "{'text_a': <tf.Tensor: shape=(), dtype=string, numpy=b'Sponge bob Squarepants is an Avenger'>,\n",
       " 'text_b': <tf.Tensor: shape=(), dtype=string, numpy=b'Barack Obama is the President.'>}"
      ]
     },
     "execution_count": 4,
     "metadata": {},
     "output_type": "execute_result"
    }
   ],
   "source": [
    "examples = {\n",
    "    \"text_a\": [\n",
    "      b\"Sponge bob Squarepants is an Avenger\",\n",
    "      b\"Marvel Avengers\"\n",
    "    ],\n",
    "    \"text_b\": [\n",
    "     b\"Barack Obama is the President.\",\n",
    "     b\"President is the highest office\"\n",
    "  ],\n",
    "}\n",
    "\n",
    "dataset = tf.data.Dataset.from_tensor_slices(examples)\n",
    "next(iter(dataset))"
   ]
  },
  {
   "cell_type": "markdown",
   "metadata": {
    "id": "1laUIs3g5Qsz"
   },
   "source": [
    "### Tokenizing\n",
    "\n",
    "Our first step is to run any string preprocessing and tokenize our dataset. This can be done using the [`text.BertTokenizer`](https://tensorflow.org/text/api_docs/python/text/BertTokenizer), which is a [`text.Splitter`](https://tensorflow.org/text/api_docs/python/text/Splitter) that can tokenize sentences into subwords or wordpieces for the [BERT model](https://github.com/google-research/bert) given a vocabulary generated from the [Wordpiece algorithm](https://www.tensorflow.org/text/guide/subwords_tokenizer#optional_the_algorithm). You can learn more about other subword tokenizers available in TF.Text from [here](https://www.tensorflow.org/text/guide/subwords_tokenizer). \n",
    "\n",
    "\n",
    "The vocabulary can be from a previously generated BERT checkpoint, or you can generate one yourself on your own data. For the purposes of this example, let's create a toy vocabulary:"
   ]
  },
  {
   "cell_type": "code",
   "execution_count": 5,
   "metadata": {
    "execution": {
     "iopub.execute_input": "2021-06-16T15:46:10.352902Z",
     "iopub.status.busy": "2021-06-16T15:46:10.352347Z",
     "iopub.status.idle": "2021-06-16T15:46:10.625448Z",
     "shell.execute_reply": "2021-06-16T15:46:10.625838Z"
    },
    "id": "ChpIFy515S1z"
   },
   "outputs": [],
   "source": [
    "_VOCAB = [\n",
    "    # Special tokens\n",
    "    b\"[UNK]\", b\"[MASK]\", b\"[RANDOM]\", b\"[CLS]\", b\"[SEP]\",\n",
    "    # Suffixes\n",
    "    b\"##ack\", b\"##ama\", b\"##ger\", b\"##gers\", b\"##onge\", b\"##pants\",  b\"##uare\",\n",
    "    b\"##vel\", b\"##ven\", b\"an\", b\"A\", b\"Bar\", b\"Hates\", b\"Mar\", b\"Ob\",\n",
    "    b\"Patrick\", b\"President\", b\"Sp\", b\"Sq\", b\"bob\", b\"box\", b\"has\", b\"highest\",\n",
    "    b\"is\", b\"office\", b\"the\",\n",
    "]\n",
    "\n",
    "_START_TOKEN = _VOCAB.index(b\"[CLS]\")\n",
    "_END_TOKEN = _VOCAB.index(b\"[SEP]\")\n",
    "_MASK_TOKEN = _VOCAB.index(b\"[MASK]\")\n",
    "_RANDOM_TOKEN = _VOCAB.index(b\"[RANDOM]\")\n",
    "_UNK_TOKEN = _VOCAB.index(b\"[UNK]\")\n",
    "_MAX_SEQ_LEN = 8\n",
    "_MAX_PREDICTIONS_PER_BATCH = 5\n",
    " \n",
    "_VOCAB_SIZE = len(_VOCAB)\n",
    "\n",
    "lookup_table = tf.lookup.StaticVocabularyTable(\n",
    "    tf.lookup.KeyValueTensorInitializer(\n",
    "      keys=_VOCAB,\n",
    "      key_dtype=tf.string,\n",
    "      values=tf.range(\n",
    "          tf.size(_VOCAB, out_type=tf.int64), dtype=tf.int64),\n",
    "      value_dtype=tf.int64),\n",
    "      num_oov_buckets=1\n",
    ")"
   ]
  },
  {
   "cell_type": "markdown",
   "metadata": {
    "id": "7t2tgbSn6nvX"
   },
   "source": [
    "Let's construct a [`text.BertTokenizer`](https://tensorflow.org/text/api_docs/python/text/BertTokenizer) using the above vocabulary and tokenize the text inputs into a [`RaggedTensor`](https://www.tensorflow.org/api_docs/python/tf/RaggedTensor).`."
   ]
  },
  {
   "cell_type": "code",
   "execution_count": 6,
   "metadata": {
    "execution": {
     "iopub.execute_input": "2021-06-16T15:46:10.630383Z",
     "iopub.status.busy": "2021-06-16T15:46:10.629829Z",
     "iopub.status.idle": "2021-06-16T15:46:10.643727Z",
     "shell.execute_reply": "2021-06-16T15:46:10.643211Z"
    },
    "id": "564UPrFB5Zm6"
   },
   "outputs": [
    {
     "data": {
      "text/plain": [
       "<tf.RaggedTensor [[[b'Sp', b'##onge'], [b'bob'], [b'Sq', b'##uare', b'##pants'], [b'is'], [b'an'], [b'A', b'##ven', b'##ger']], [[b'Mar', b'##vel'], [b'A', b'##ven', b'##gers']]]>"
      ]
     },
     "execution_count": 6,
     "metadata": {},
     "output_type": "execute_result"
    }
   ],
   "source": [
    "bert_tokenizer = text.BertTokenizer(lookup_table, token_out_type=tf.string)\n",
    "bert_tokenizer.tokenize(examples[\"text_a\"])"
   ]
  },
  {
   "cell_type": "code",
   "execution_count": 7,
   "metadata": {
    "execution": {
     "iopub.execute_input": "2021-06-16T15:46:10.647247Z",
     "iopub.status.busy": "2021-06-16T15:46:10.646694Z",
     "iopub.status.idle": "2021-06-16T15:46:10.656630Z",
     "shell.execute_reply": "2021-06-16T15:46:10.656999Z"
    },
    "id": "AiTs3_FHHBlR"
   },
   "outputs": [
    {
     "data": {
      "text/plain": [
       "<tf.RaggedTensor [[[b'Bar', b'##ack'], [b'Ob', b'##ama'], [b'is'], [b'the'], [b'President'], [b'[UNK]']], [[b'President'], [b'is'], [b'the'], [b'highest'], [b'office']]]>"
      ]
     },
     "execution_count": 7,
     "metadata": {},
     "output_type": "execute_result"
    }
   ],
   "source": [
    "bert_tokenizer.tokenize(examples[\"text_b\"])"
   ]
  },
  {
   "cell_type": "markdown",
   "metadata": {
    "id": "cK6DHjio65MV"
   },
   "source": [
    "Text output from [`text.BertTokenizer`](https://tensorflow.org/text/api_docs/python/text/BertTokenizer) allows us see how the text is being tokenized, but the model requires integer IDs. We can set the `token_out_type` param to `tf.int64` to obtain integer IDs (which are the indices into the vocabulary)."
   ]
  },
  {
   "cell_type": "code",
   "execution_count": 8,
   "metadata": {
    "execution": {
     "iopub.execute_input": "2021-06-16T15:46:10.661041Z",
     "iopub.status.busy": "2021-06-16T15:46:10.660424Z",
     "iopub.status.idle": "2021-06-16T15:46:10.672672Z",
     "shell.execute_reply": "2021-06-16T15:46:10.672182Z"
    },
    "id": "odeosiPz58Qu"
   },
   "outputs": [
    {
     "data": {
      "text/plain": [
       "<tf.RaggedTensor [[[22, 9], [24], [23, 11, 10], [28], [14], [15, 13, 7]], [[18, 12], [15, 13, 8]]]>"
      ]
     },
     "execution_count": 8,
     "metadata": {},
     "output_type": "execute_result"
    }
   ],
   "source": [
    "bert_tokenizer = text.BertTokenizer(lookup_table, token_out_type=tf.int64)\n",
    "segment_a = bert_tokenizer.tokenize(examples[\"text_a\"])\n",
    "segment_a"
   ]
  },
  {
   "cell_type": "code",
   "execution_count": 9,
   "metadata": {
    "execution": {
     "iopub.execute_input": "2021-06-16T15:46:10.676086Z",
     "iopub.status.busy": "2021-06-16T15:46:10.675466Z",
     "iopub.status.idle": "2021-06-16T15:46:10.686505Z",
     "shell.execute_reply": "2021-06-16T15:46:10.686116Z"
    },
    "id": "v4IP2P4EHQpa"
   },
   "outputs": [
    {
     "data": {
      "text/plain": [
       "<tf.RaggedTensor [[[16, 5], [19, 6], [28], [30], [21], [0]], [[21], [28], [30], [27], [29]]]>"
      ]
     },
     "execution_count": 9,
     "metadata": {},
     "output_type": "execute_result"
    }
   ],
   "source": [
    "segment_b = bert_tokenizer.tokenize(examples[\"text_b\"])\n",
    "segment_b"
   ]
  },
  {
   "cell_type": "markdown",
   "metadata": {
    "id": "TU3GJ0jx94fx"
   },
   "source": [
    "[`text.BertTokenizer`](https://tensorflow.org/text/api_docs/python/text/BertTokenizer) returns a `RaggedTensor` with shape `[batch, num_tokens, num_wordpieces]`. Because we don't need the extra `num_tokens` dimensions for our current use case,  we can merge the last two dimensions to obtain a `RaggedTensor` with shape `[batch, num_wordpieces]`:"
   ]
  },
  {
   "cell_type": "code",
   "execution_count": 10,
   "metadata": {
    "execution": {
     "iopub.execute_input": "2021-06-16T15:46:10.689704Z",
     "iopub.status.busy": "2021-06-16T15:46:10.689134Z",
     "iopub.status.idle": "2021-06-16T15:46:10.695031Z",
     "shell.execute_reply": "2021-06-16T15:46:10.694602Z"
    },
    "id": "Fb5vt5dA-Rwf"
   },
   "outputs": [
    {
     "data": {
      "text/plain": [
       "<tf.RaggedTensor [[22, 9, 24, 23, 11, 10, 28, 14, 15, 13, 7], [18, 12, 15, 13, 8]]>"
      ]
     },
     "execution_count": 10,
     "metadata": {},
     "output_type": "execute_result"
    }
   ],
   "source": [
    "segment_a = segment_a.merge_dims(-2, -1)\n",
    "segment_a"
   ]
  },
  {
   "cell_type": "code",
   "execution_count": 11,
   "metadata": {
    "execution": {
     "iopub.execute_input": "2021-06-16T15:46:10.698041Z",
     "iopub.status.busy": "2021-06-16T15:46:10.697451Z",
     "iopub.status.idle": "2021-06-16T15:46:10.702859Z",
     "shell.execute_reply": "2021-06-16T15:46:10.702439Z"
    },
    "id": "NyEW0sjhHoPM"
   },
   "outputs": [
    {
     "data": {
      "text/plain": [
       "<tf.RaggedTensor [[16, 5, 19, 6, 28, 30, 21, 0], [21, 28, 30, 27, 29]]>"
      ]
     },
     "execution_count": 11,
     "metadata": {},
     "output_type": "execute_result"
    }
   ],
   "source": [
    "segment_b = segment_b.merge_dims(-2, -1)\n",
    "segment_b"
   ]
  },
  {
   "cell_type": "markdown",
   "metadata": {
    "id": "R9YicLN5UFkz"
   },
   "source": [
    "### Content Trimming\n",
    "\n",
    "The main input to BERT is a concatenation of two sentences. However, BERT requires inputs to be in a fixed-size and shape and we may have content which exceed our budget. \n",
    "\n",
    "We can tackle this by using a [`text.Trimmer`](https://tensorflow.org/text/api_docs/python/text/Trimmer) to trim our content down to a predetermined size (once concatenated along the last axis). There are different `text.Trimmer` types which select content to preserve using different algorithms. [`text.RoundRobinTrimmer`](https://tensorflow.org/text/api_docs/python/text/RoundRobinTrimmer) for example will allocate quota equally for each segment but may trim the ends of sentences. [`text.WaterfallTrimmer`](https://tensorflow.org/text/api_docs/python/text/WaterfallTrimmer) will trim starting from the end of the last sentence.\n",
    "\n",
    "For our example, we will use `RoundRobinTrimmer` which selects items from each segment in a left-to-right manner.\n"
   ]
  },
  {
   "cell_type": "code",
   "execution_count": 12,
   "metadata": {
    "execution": {
     "iopub.execute_input": "2021-06-16T15:46:10.706745Z",
     "iopub.status.busy": "2021-06-16T15:46:10.706215Z",
     "iopub.status.idle": "2021-06-16T15:46:10.796670Z",
     "shell.execute_reply": "2021-06-16T15:46:10.796253Z"
    },
    "id": "aLV-1uDgwFnr"
   },
   "outputs": [
    {
     "data": {
      "text/plain": [
       "[<tf.RaggedTensor [[22, 9, 24, 23], [18, 12, 15, 13]]>,\n",
       " <tf.RaggedTensor [[16, 5, 19, 6], [21, 28, 30, 27]]>]"
      ]
     },
     "execution_count": 12,
     "metadata": {},
     "output_type": "execute_result"
    }
   ],
   "source": [
    "trimmer = text.RoundRobinTrimmer(max_seq_length=[_MAX_SEQ_LEN])\n",
    "trimmed = trimmer.trim([segment_a, segment_b])\n",
    "trimmed"
   ]
  },
  {
   "cell_type": "markdown",
   "metadata": {
    "id": "zPj7jM9oQ-P3"
   },
   "source": [
    "`trimmed` now contains the segments where the number of elements across a batch is 8 elements (when concatenated along axis=-1)."
   ]
  },
  {
   "cell_type": "markdown",
   "metadata": {
    "id": "3J2AWfmAUio8"
   },
   "source": [
    "### Combining segments\n",
    "\n",
    "Now that we have segments trimmed, we can combine them together to get a single `RaggedTensor`. BERT uses special tokens to indicate the beginning (`[CLS]`) and end of a segment (`[SEP]`). We also need a `RaggedTensor` indicating which items in the combined `Tensor` belong to which segment. We can use [`text.combine_segments()`](https://tensorflow.org/text/api_docs/python/text/combine_segments) to get both of these `Tensor` with special tokens inserted."
   ]
  },
  {
   "cell_type": "code",
   "execution_count": 13,
   "metadata": {
    "execution": {
     "iopub.execute_input": "2021-06-16T15:46:10.800335Z",
     "iopub.status.busy": "2021-06-16T15:46:10.799742Z",
     "iopub.status.idle": "2021-06-16T15:46:10.822729Z",
     "shell.execute_reply": "2021-06-16T15:46:10.822318Z"
    },
    "id": "L-5nMh5pk8x1"
   },
   "outputs": [
    {
     "data": {
      "text/plain": [
       "(<tf.RaggedTensor [[3, 22, 9, 24, 23, 11, 10, 28, 14, 15, 13, 7, 4, 16, 5, 19, 6, 28, 30, 21, 0, 4], [3, 18, 12, 15, 13, 8, 4, 21, 28, 30, 27, 29, 4]]>,\n",
       " <tf.RaggedTensor [[0, 0, 0, 0, 0, 0, 0, 0, 0, 0, 0, 0, 0, 1, 1, 1, 1, 1, 1, 1, 1, 1], [0, 0, 0, 0, 0, 0, 0, 1, 1, 1, 1, 1, 1]]>)"
      ]
     },
     "execution_count": 13,
     "metadata": {},
     "output_type": "execute_result"
    }
   ],
   "source": [
    "segments_combined, segments_ids = text.combine_segments(\n",
    "  [segment_a, segment_b],\n",
    "  start_of_sequence_id=_START_TOKEN, end_of_segment_id=_END_TOKEN)\n",
    "segments_combined, segments_ids"
   ]
  },
  {
   "cell_type": "markdown",
   "metadata": {
    "id": "hSKla2OxUOWl"
   },
   "source": [
    "### Masked Language Model Task\n",
    "\n",
    "Now that we have our basic inputs, we can begin to extract the inputs needed for the \"Masked LM and Masking Procedure\" task described in [BERT: Pre-training of Deep Bidirectional Transformers for Language Understanding](https://arxiv.org/pdf/1810.04805.pdf)\n",
    "\n",
    "The masked language model task has two sub-problems for us to think about: (1) what items to select for masking and (2) what values are they assigned? \n"
   ]
  },
  {
   "cell_type": "markdown",
   "metadata": {
    "id": "mkx4w9-3DT0p"
   },
   "source": [
    "#### Item Selection\n",
    "Because we will choose to select items randomly for masking, we will use a [`text.RandomItemSelector`](https://tensorflow.org/text/api_docs/python/text/RandomItemSelector). `RandomItemSelector` randomly selects items in a batch subject to restrictions given (`max_selections_per_batch`, `selection_rate` and `unselectable_ids`) and returns a boolean mask indicating which items were selected."
   ]
  },
  {
   "cell_type": "code",
   "execution_count": 14,
   "metadata": {
    "execution": {
     "iopub.execute_input": "2021-06-16T15:46:10.826855Z",
     "iopub.status.busy": "2021-06-16T15:46:10.826262Z",
     "iopub.status.idle": "2021-06-16T15:46:10.900917Z",
     "shell.execute_reply": "2021-06-16T15:46:10.900384Z"
    },
    "id": "94BncqVkVJT2"
   },
   "outputs": [
    {
     "data": {
      "text/plain": [
       "<tf.RaggedTensor [[False, True, True, False, False, False, False, False, False, False, True, False, False, False, False, False, True, False, False, False, False, False], [False, False, True, False, False, False, False, False, True, False, False, False, False]]>"
      ]
     },
     "execution_count": 14,
     "metadata": {},
     "output_type": "execute_result"
    }
   ],
   "source": [
    "random_selector = text.RandomItemSelector(\n",
    "    max_selections_per_batch=_MAX_PREDICTIONS_PER_BATCH,\n",
    "    selection_rate=0.2,\n",
    "    unselectable_ids=[_START_TOKEN, _END_TOKEN, _UNK_TOKEN]\n",
    ")\n",
    "selected = random_selector.get_selection_mask(\n",
    "    segments_combined, axis=1)\n",
    "selected\n"
   ]
  },
  {
   "cell_type": "markdown",
   "metadata": {
    "id": "p4NAHL_GUi-C"
   },
   "source": [
    "#### Choosing the Masked Value\n",
    "\n",
    "The methodology described the original BERT paper for choosing the value for masking is as follows:\n",
    "\n",
    "For `mask_token_rate` of the time, replace the item with the `[MASK]` token:\n",
    "\n",
    "    \"my dog is hairy\" -> \"my dog is [MASK]\"\n",
    " \n",
    "For `random_token_rate` of the time, replace the item with a random word:\n",
    "\n",
    "    \"my dog is hairy\" -> \"my dog is apple\"\n",
    " \n",
    "For `1 - mask_token_rate - random_token_rate` of the time, keep the item\n",
    "unchanged:\n",
    "\n",
    "    \"my dog is hairy\" -> \"my dog is hairy.\"\n",
    "\n",
    "[`text.MaskedValuesChooser`](https://tensorflow.org/text/api_docs/python/text/MaskValuesChooser) encapsulates this logic and can be used for our preprocessing function. Here's an example of what `MaskValuesChooser` returns given a `mask_token_rate` of 80% and default `random_token_rate`:\n"
   ]
  },
  {
   "cell_type": "code",
   "execution_count": 15,
   "metadata": {
    "execution": {
     "iopub.execute_input": "2021-06-16T15:46:10.905124Z",
     "iopub.status.busy": "2021-06-16T15:46:10.904515Z",
     "iopub.status.idle": "2021-06-16T15:46:10.909590Z",
     "shell.execute_reply": "2021-06-16T15:46:10.909935Z"
    },
    "id": "Amk0Lqd5VJ4n"
   },
   "outputs": [
    {
     "data": {
      "text/plain": [
       "<tf.RaggedTensor [[24, 7, 1, 4, 1, 1], [1, 1, 1, 1], [1, 1, 1, 1, 1]]>"
      ]
     },
     "execution_count": 15,
     "metadata": {},
     "output_type": "execute_result"
    }
   ],
   "source": [
    "input_ids = tf.ragged.constant([[19, 7, 21, 20, 9, 8], [13, 4, 16, 5], [15, 10, 12, 11, 6]])\n",
    "mask_values_chooser = text.MaskValuesChooser(_VOCAB_SIZE, _MASK_TOKEN, 0.8)\n",
    "mask_values_chooser.get_mask_values(input_ids)"
   ]
  },
  {
   "cell_type": "markdown",
   "metadata": {
    "id": "UCp1CQcPC6IT"
   },
   "source": [
    "When supplied with a `RaggedTensor` input, `text.MaskValuesChooser` returns a `RaggedTensor` of the same shape with either `_MASK_VALUE` (0), a random ID, or the same unchanged id."
   ]
  },
  {
   "cell_type": "markdown",
   "metadata": {
    "id": "EYpKg_sLUi1B"
   },
   "source": [
    "#### Generating Inputs for Masked Language Model Task\n",
    "\n",
    "Now that we have a `RandomItemSelector` to help us select items for masking and `text.MaskValuesChooser` to assign the values, we can use [`text.mask_language_model()`](https://tensorflow.org/text/api_docs/python/text/mask_language_model) to assemble all the inputs of this task for our BERT model.\n"
   ]
  },
  {
   "cell_type": "code",
   "execution_count": 16,
   "metadata": {
    "execution": {
     "iopub.execute_input": "2021-06-16T15:46:10.913599Z",
     "iopub.status.busy": "2021-06-16T15:46:10.913052Z",
     "iopub.status.idle": "2021-06-16T15:46:10.975554Z",
     "shell.execute_reply": "2021-06-16T15:46:10.975066Z"
    },
    "id": "Q0fqQzXGUrkM"
   },
   "outputs": [
    {
     "name": "stdout",
     "output_type": "stream",
     "text": [
      "WARNING:tensorflow:From /home/jdavidagudelo/.cache/pypoetry/virtualenvs/tensorflow-tutorial-9JwDsy9j-py3.9/lib/python3.9/site-packages/tensorflow/python/util/dispatch.py:206: batch_gather (from tensorflow.python.ops.array_ops) is deprecated and will be removed after 2017-10-25.\n",
      "Instructions for updating:\n",
      "`tf.batch_gather` is deprecated, please use `tf.gather` with `batch_dims=-1` instead.\n"
     ]
    }
   ],
   "source": [
    "masked_token_ids, masked_pos, masked_lm_ids = text.mask_language_model(\n",
    "  segments_combined,\n",
    "  item_selector=random_selector, mask_values_chooser=mask_values_chooser)"
   ]
  },
  {
   "cell_type": "markdown",
   "metadata": {
    "id": "pJqcbOJ0AYBX"
   },
   "source": [
    "Let's dive deeper and examine the outputs of `mask_language_model()`. The output of `masked_token_ids` is:"
   ]
  },
  {
   "cell_type": "code",
   "execution_count": 17,
   "metadata": {
    "execution": {
     "iopub.execute_input": "2021-06-16T15:46:10.978889Z",
     "iopub.status.busy": "2021-06-16T15:46:10.978308Z",
     "iopub.status.idle": "2021-06-16T15:46:10.981311Z",
     "shell.execute_reply": "2021-06-16T15:46:10.980918Z"
    },
    "id": "PavYEhmN_tHa"
   },
   "outputs": [
    {
     "data": {
      "text/plain": [
       "<tf.RaggedTensor [[3, 1, 1, 24, 23, 11, 10, 28, 14, 15, 13, 7, 4, 16, 5, 19, 1, 28, 30, 14, 0, 4], [3, 18, 12, 15, 13, 8, 4, 1, 21, 30, 27, 29, 4]]>"
      ]
     },
     "execution_count": 17,
     "metadata": {},
     "output_type": "execute_result"
    }
   ],
   "source": [
    "masked_token_ids"
   ]
  },
  {
   "cell_type": "markdown",
   "metadata": {
    "id": "Q0c2wkC9AnUX"
   },
   "source": [
    "Remember that our input is encoded using a vocabulary. If we decode `masked_token_ids` using our vocabulary, we get:"
   ]
  },
  {
   "cell_type": "code",
   "execution_count": 18,
   "metadata": {
    "execution": {
     "iopub.execute_input": "2021-06-16T15:46:10.984918Z",
     "iopub.status.busy": "2021-06-16T15:46:10.984279Z",
     "iopub.status.idle": "2021-06-16T15:46:10.987500Z",
     "shell.execute_reply": "2021-06-16T15:46:10.987024Z"
    },
    "id": "5axqrUOc_0h1"
   },
   "outputs": [
    {
     "data": {
      "text/plain": [
       "<tf.RaggedTensor [[b'[CLS]', b'[MASK]', b'[MASK]', b'bob', b'Sq', b'##uare', b'##pants', b'is', b'an', b'A', b'##ven', b'##ger', b'[SEP]', b'Bar', b'##ack', b'Ob', b'[MASK]', b'is', b'the', b'an', b'[UNK]', b'[SEP]'], [b'[CLS]', b'Mar', b'##vel', b'A', b'##ven', b'##gers', b'[SEP]', b'[MASK]', b'President', b'the', b'highest', b'office', b'[SEP]']]>"
      ]
     },
     "execution_count": 18,
     "metadata": {},
     "output_type": "execute_result"
    }
   ],
   "source": [
    "tf.gather(_VOCAB, masked_token_ids)"
   ]
  },
  {
   "cell_type": "markdown",
   "metadata": {
    "id": "v8DCOtEAiz_E"
   },
   "source": [
    "Notice that some wordpiece tokens have been replaced with either `[MASK]`, `[RANDOM]` or a different ID value. `masked_pos` output gives us the indices (in the respective batch) of the tokens that have been replaced."
   ]
  },
  {
   "cell_type": "code",
   "execution_count": 19,
   "metadata": {
    "execution": {
     "iopub.execute_input": "2021-06-16T15:46:10.990562Z",
     "iopub.status.busy": "2021-06-16T15:46:10.990026Z",
     "iopub.status.idle": "2021-06-16T15:46:10.993093Z",
     "shell.execute_reply": "2021-06-16T15:46:10.992676Z"
    },
    "id": "d-nc5m5Y_wP_"
   },
   "outputs": [
    {
     "data": {
      "text/plain": [
       "<tf.RaggedTensor [[1, 2, 16, 19], [7, 8]]>"
      ]
     },
     "execution_count": 19,
     "metadata": {},
     "output_type": "execute_result"
    }
   ],
   "source": [
    "masked_pos"
   ]
  },
  {
   "cell_type": "markdown",
   "metadata": {
    "id": "6fua7ANijN3_"
   },
   "source": [
    "`masked_ids` gives us the original value of the token."
   ]
  },
  {
   "cell_type": "code",
   "execution_count": 20,
   "metadata": {
    "execution": {
     "iopub.execute_input": "2021-06-16T15:46:10.996263Z",
     "iopub.status.busy": "2021-06-16T15:46:10.995691Z",
     "iopub.status.idle": "2021-06-16T15:46:10.998687Z",
     "shell.execute_reply": "2021-06-16T15:46:10.998298Z"
    },
    "id": "azzxmO_f_xJp"
   },
   "outputs": [
    {
     "data": {
      "text/plain": [
       "<tf.RaggedTensor [[22, 9, 6, 21], [21, 28]]>"
      ]
     },
     "execution_count": 20,
     "metadata": {},
     "output_type": "execute_result"
    }
   ],
   "source": [
    " masked_lm_ids"
   ]
  },
  {
   "cell_type": "markdown",
   "metadata": {
    "id": "5bW0rdX9jYh-"
   },
   "source": [
    "We can again decode the IDs here to get human readable values."
   ]
  },
  {
   "cell_type": "code",
   "execution_count": 21,
   "metadata": {
    "execution": {
     "iopub.execute_input": "2021-06-16T15:46:11.002563Z",
     "iopub.status.busy": "2021-06-16T15:46:11.001946Z",
     "iopub.status.idle": "2021-06-16T15:46:11.004717Z",
     "shell.execute_reply": "2021-06-16T15:46:11.004239Z"
    },
    "id": "F-RP-paUjUuP"
   },
   "outputs": [
    {
     "data": {
      "text/plain": [
       "<tf.RaggedTensor [[b'Sp', b'##onge', b'##ama', b'President'], [b'President', b'is']]>"
      ]
     },
     "execution_count": 21,
     "metadata": {},
     "output_type": "execute_result"
    }
   ],
   "source": [
    "tf.gather(_VOCAB, masked_lm_ids)"
   ]
  },
  {
   "cell_type": "markdown",
   "metadata": {
    "id": "3-P0PTiCUz2J"
   },
   "source": [
    "### Padding Model Inputs\n",
    "\n",
    "Now that we have all the inputs for our model, the last step in our preprocessing is to package them into fixed 2-dimensional `Tensor`s with padding and also generate a mask `Tensor` indicating the values which are pad values. We can use [`text.pad_model_inputs()`](https://tensorflow.org/text/api_docs/python/text/pad_model_inputs) to help us with this task."
   ]
  },
  {
   "cell_type": "code",
   "execution_count": 22,
   "metadata": {
    "execution": {
     "iopub.execute_input": "2021-06-16T15:46:11.009003Z",
     "iopub.status.busy": "2021-06-16T15:46:11.008427Z",
     "iopub.status.idle": "2021-06-16T15:46:11.016174Z",
     "shell.execute_reply": "2021-06-16T15:46:11.016504Z"
    },
    "id": "FGE7XuXRwsYF"
   },
   "outputs": [
    {
     "data": {
      "text/plain": [
       "{'input_word_ids': <tf.Tensor: shape=(2, 8), dtype=int64, numpy=\n",
       " array([[ 3,  1,  1, 24, 23, 11, 10, 28],\n",
       "        [ 3, 18, 12, 15, 13,  8,  4,  1]])>,\n",
       " 'input_mask': <tf.Tensor: shape=(2, 8), dtype=int64, numpy=\n",
       " array([[1, 1, 1, 1, 1, 1, 1, 1],\n",
       "        [1, 1, 1, 1, 1, 1, 1, 1]])>,\n",
       " 'input_type_ids': <tf.Tensor: shape=(2, 8), dtype=int64, numpy=\n",
       " array([[ 3,  1,  1, 24, 23, 11, 10, 28],\n",
       "        [ 3, 18, 12, 15, 13,  8,  4,  1]])>,\n",
       " 'masked_lm_ids': <tf.Tensor: shape=(2, 5), dtype=int64, numpy=\n",
       " array([[22,  9,  6, 21,  0],\n",
       "        [21, 28,  0,  0,  0]])>,\n",
       " 'masked_lm_positions': <tf.Tensor: shape=(2, 5), dtype=int64, numpy=\n",
       " array([[ 3,  1,  1, 24, 23],\n",
       "        [ 3, 18, 12, 15, 13]])>,\n",
       " 'masked_lm_weights': <tf.Tensor: shape=(2, 5), dtype=int64, numpy=\n",
       " array([[1, 1, 1, 1, 1],\n",
       "        [1, 1, 1, 1, 1]])>}"
      ]
     },
     "execution_count": 22,
     "metadata": {},
     "output_type": "execute_result"
    }
   ],
   "source": [
    "# Prepare and pad combined segment inputs\n",
    "input_word_ids, input_mask = text.pad_model_inputs(\n",
    "  masked_token_ids, max_seq_length=_MAX_SEQ_LEN)\n",
    "input_type_ids, _ = text.pad_model_inputs(\n",
    "  masked_token_ids, max_seq_length=_MAX_SEQ_LEN)\n",
    "\n",
    "# Prepare and pad masking task inputs\n",
    "masked_lm_positions, masked_lm_weights = text.pad_model_inputs(\n",
    "  masked_token_ids, max_seq_length=_MAX_PREDICTIONS_PER_BATCH)\n",
    "masked_lm_ids, _ = text.pad_model_inputs(\n",
    "  masked_lm_ids, max_seq_length=_MAX_PREDICTIONS_PER_BATCH)\n",
    "\n",
    "model_inputs = {\n",
    "    \"input_word_ids\": input_word_ids,\n",
    "    \"input_mask\": input_mask,\n",
    "    \"input_type_ids\": input_type_ids,\n",
    "    \"masked_lm_ids\": masked_lm_ids,\n",
    "    \"masked_lm_positions\": masked_lm_positions,\n",
    "    \"masked_lm_weights\": masked_lm_weights,\n",
    "}\n",
    "model_inputs"
   ]
  },
  {
   "cell_type": "markdown",
   "metadata": {
    "id": "KIWy4nVyT6gf"
   },
   "source": [
    "## Review"
   ]
  },
  {
   "cell_type": "markdown",
   "metadata": {
    "id": "TwCdO1Z5yjS-"
   },
   "source": [
    "Let's review what we have so far and assemble our preprocessing function. Here's what we have:"
   ]
  },
  {
   "cell_type": "code",
   "execution_count": 23,
   "metadata": {
    "execution": {
     "iopub.execute_input": "2021-06-16T15:46:11.022693Z",
     "iopub.status.busy": "2021-06-16T15:46:11.022105Z",
     "iopub.status.idle": "2021-06-16T15:46:11.023862Z",
     "shell.execute_reply": "2021-06-16T15:46:11.024265Z"
    },
    "id": "7jKtbVCYTsIC"
   },
   "outputs": [],
   "source": [
    "def bert_pretrain_preprocess(vocab_table, features):\n",
    "  # Input is a string Tensor of documents, shape [batch, 1].\n",
    "  text_a = features[\"text_a\"]\n",
    "  text_b = features[\"text_b\"]\n",
    "\n",
    "  # Tokenize segments to shape [num_sentences, (num_words)] each.\n",
    "  tokenizer = text.BertTokenizer(\n",
    "      lookup_table,\n",
    "      token_out_type=tf.int64)\n",
    "  segments = [tokenizer.tokenize(text).merge_dims(\n",
    "      1, -1) for text in (text_a, text_b)]\n",
    "\n",
    "  # Truncate inputs to a maximum length.\n",
    "  trimmer = text.RoundRobinTrimmer(max_seq_length=6)\n",
    "  trimmed_segments = trimmer.trim(segments)\n",
    "\n",
    "  # Combine segments, get segment ids and add special tokens.\n",
    "  segments_combined, segment_ids = text.combine_segments(\n",
    "      trimmed_segments,\n",
    "      start_of_sequence_id=_START_TOKEN,\n",
    "      end_of_segment_id=_END_TOKEN)\n",
    "\n",
    "  # Apply dynamic masking task.\n",
    "  masked_input_ids, masked_lm_positions, masked_lm_ids = (\n",
    "      text.mask_language_model(\n",
    "        segments_combined,\n",
    "        random_selector,\n",
    "        mask_values_chooser,\n",
    "      )\n",
    "  )\n",
    "  \n",
    "  # Prepare and pad combined segment inputs\n",
    "  input_word_ids, input_mask = text.pad_model_inputs(\n",
    "    masked_token_ids, max_seq_length=_MAX_SEQ_LEN)\n",
    "  input_type_ids, _ = text.pad_model_inputs(\n",
    "    masked_token_ids, max_seq_length=_MAX_SEQ_LEN)\n",
    "\n",
    "  # Prepare and pad masking task inputs\n",
    "  masked_lm_positions, masked_lm_weights = text.pad_model_inputs(\n",
    "    masked_token_ids, max_seq_length=_MAX_PREDICTIONS_PER_BATCH)\n",
    "  masked_lm_ids, _ = text.pad_model_inputs(\n",
    "    masked_lm_ids, max_seq_length=_MAX_PREDICTIONS_PER_BATCH)\n",
    "\n",
    "  model_inputs = {\n",
    "      \"input_word_ids\": input_word_ids,\n",
    "      \"input_mask\": input_mask,\n",
    "      \"input_type_ids\": input_type_ids,\n",
    "      \"masked_lm_ids\": masked_lm_ids,\n",
    "      \"masked_lm_positions\": masked_lm_positions,\n",
    "      \"masked_lm_weights\": masked_lm_weights,\n",
    "  }\n",
    "  return model_inputs"
   ]
  },
  {
   "cell_type": "markdown",
   "metadata": {
    "id": "bOAeo97VyfQg"
   },
   "source": [
    "We previously constructed a `tf.data.Dataset` and we can now use our assembled preprocessing function `bert_pretrain_preprocess()` in `Dataset.map()`. This allows us to create an input pipeline for transforming our raw string data into integer inputs and feed directly into our model."
   ]
  },
  {
   "cell_type": "code",
   "execution_count": 24,
   "metadata": {
    "execution": {
     "iopub.execute_input": "2021-06-16T15:46:11.029421Z",
     "iopub.status.busy": "2021-06-16T15:46:11.028865Z",
     "iopub.status.idle": "2021-06-16T15:46:16.705704Z",
     "shell.execute_reply": "2021-06-16T15:46:16.706088Z"
    },
    "id": "xm4gTLEgjTa3"
   },
   "outputs": [
    {
     "name": "stderr",
     "output_type": "stream",
     "text": [
      "2021-07-29 15:44:00.835012: I tensorflow/compiler/mlir/mlir_graph_optimization_pass.cc:176] None of the MLIR Optimization Passes are enabled (registered 2)\n",
      "2021-07-29 15:44:00.930191: I tensorflow/core/platform/profile_utils/cpu_utils.cc:114] CPU Frequency: 1800000000 Hz\n"
     ]
    },
    {
     "data": {
      "text/plain": [
       "{'input_word_ids': <tf.Tensor: shape=(2, 8), dtype=int64, numpy=\n",
       " array([[ 3,  1,  1, 24, 23, 11, 10, 28],\n",
       "        [ 3, 18, 12, 15, 13,  8,  4,  1]])>,\n",
       " 'input_mask': <tf.Tensor: shape=(2, 8), dtype=int64, numpy=\n",
       " array([[1, 1, 1, 1, 1, 1, 1, 1],\n",
       "        [1, 1, 1, 1, 1, 1, 1, 1]])>,\n",
       " 'input_type_ids': <tf.Tensor: shape=(2, 8), dtype=int64, numpy=\n",
       " array([[ 3,  1,  1, 24, 23, 11, 10, 28],\n",
       "        [ 3, 18, 12, 15, 13,  8,  4,  1]])>,\n",
       " 'masked_lm_ids': <tf.Tensor: shape=(2, 5), dtype=int64, numpy=\n",
       " array([[ 5, 19,  0,  0,  0],\n",
       "        [12, 28,  0,  0,  0]])>,\n",
       " 'masked_lm_positions': <tf.Tensor: shape=(2, 5), dtype=int64, numpy=\n",
       " array([[ 3,  1,  1, 24, 23],\n",
       "        [ 3, 18, 12, 15, 13]])>,\n",
       " 'masked_lm_weights': <tf.Tensor: shape=(2, 5), dtype=int64, numpy=\n",
       " array([[1, 1, 1, 1, 1],\n",
       "        [1, 1, 1, 1, 1]])>}"
      ]
     },
     "execution_count": 24,
     "metadata": {},
     "output_type": "execute_result"
    }
   ],
   "source": [
    "dataset = tf.data.Dataset.from_tensors(examples)\n",
    "dataset = dataset.map(functools.partial(\n",
    "    bert_pretrain_preprocess, lookup_table))\n",
    "\n",
    "next(iter(dataset))"
   ]
  },
  {
   "cell_type": "markdown",
   "metadata": {
    "id": "FyiMxeEp0m2O"
   },
   "source": [
    "## Related Tutorials\n",
    "\n",
    "* [Classify text with BERT](https://www.tensorflow.org/text/tutorials/classify_text_with_bert) - A tutorial on how to use a pretrained BERT model to classify text. This is a nice follow up now that you are familiar with how to preprocess the inputs used by the BERT model.\n",
    "\n",
    "* [Tokenizing with TF Text](https://www.tensorflow.org/text/guide/tokenizers) - Tutorial detailing the different types of tokenizers that exist in TF.Text.\n",
    "\n",
    "* [Handling Text with `RaggedTensor`](https://www.tensorflow.org/guide/ragged_tensor) - Detailed guide on how to create, use and manipulate `RaggedTensor`s.\n"
   ]
  }
 ],
 "metadata": {
  "colab": {
   "collapsed_sections": [],
   "name": "bert_preprocessing_guide.ipynb",
   "provenance": [],
   "toc_visible": true
  },
  "kernelspec": {
   "display_name": "Python 3 (ipykernel)",
   "language": "python",
   "name": "python3"
  },
  "language_info": {
   "codemirror_mode": {
    "name": "ipython",
    "version": 3
   },
   "file_extension": ".py",
   "mimetype": "text/x-python",
   "name": "python",
   "nbconvert_exporter": "python",
   "pygments_lexer": "ipython3",
   "version": "3.9.5"
  }
 },
 "nbformat": 4,
 "nbformat_minor": 1
}
