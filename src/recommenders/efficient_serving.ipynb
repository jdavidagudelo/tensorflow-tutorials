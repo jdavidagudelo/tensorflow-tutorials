{
 "cells": [
  {
   "cell_type": "markdown",
   "metadata": {
    "id": "4JlLTP1Y-WHg"
   },
   "source": [
    "##### Copyright 2020 The TensorFlow Authors."
   ]
  },
  {
   "cell_type": "code",
   "execution_count": 1,
   "metadata": {
    "cellView": "form",
    "execution": {
     "iopub.execute_input": "2021-03-02T12:08:22.053309Z",
     "iopub.status.busy": "2021-03-02T12:08:22.052706Z",
     "iopub.status.idle": "2021-03-02T12:08:22.054561Z",
     "shell.execute_reply": "2021-03-02T12:08:22.054983Z"
    },
    "id": "if-ujOZN-Par"
   },
   "outputs": [],
   "source": [
    "#@title Licensed under the Apache License, Version 2.0 (the \"License\");\n",
    "# you may not use this file except in compliance with the License.\n",
    "# You may obtain a copy of the License at\n",
    "#\n",
    "# https://www.apache.org/licenses/LICENSE-2.0\n",
    "#\n",
    "# Unless required by applicable law or agreed to in writing, software\n",
    "# distributed under the License is distributed on an \"AS IS\" BASIS,\n",
    "# WITHOUT WARRANTIES OR CONDITIONS OF ANY KIND, either express or implied.\n",
    "# See the License for the specific language governing permissions and\n",
    "# limitations under the License."
   ]
  },
  {
   "cell_type": "markdown",
   "metadata": {
    "id": "Uq9kCbELjzgJ"
   },
   "source": [
    "# Efficient serving\n",
    "\n",
    "<table class=\"tfo-notebook-buttons\" align=\"left\">\n",
    "  <td>\n",
    "    <a target=\"_blank\" href=\"https://www.tensorflow.org/recommenders/examples/efficient_serving\"><img src=\"https://www.tensorflow.org/images/tf_logo_32px.png\" />View on TensorFlow.org</a>\n",
    "  </td>\n",
    "  <td>\n",
    "    <a target=\"_blank\" href=\"https://colab.research.google.com/github/tensorflow/recommenders/blob/main/docs/examples/efficient_serving.ipynb\"><img src=\"https://www.tensorflow.org/images/colab_logo_32px.png\" />Run in Google Colab</a>\n",
    "  </td>\n",
    "  <td>\n",
    "    <a target=\"_blank\" href=\"https://github.com/tensorflow/recommenders/blob/main/docs/examples/efficient_serving.ipynb\"><img src=\"https://www.tensorflow.org/images/GitHub-Mark-32px.png\" />View source on GitHub</a>\n",
    "  </td>\n",
    "  <td>\n",
    "    <a href=\"https://storage.googleapis.com/tensorflow_docs/recommenders/docs/examples/efficient_serving.ipynb\"><img src=\"https://www.tensorflow.org/images/download_logo_32px.png\" />Download notebook</a>\n",
    "  </td>\n",
    "</table>"
   ]
  },
  {
   "cell_type": "markdown",
   "metadata": {
    "id": "UlFcUNXT7hSF"
   },
   "source": [
    "[Retrieval models](https://www.tensorflow.org/recommenders/examples/basic_retrieval) are often built to surface a handful of top candidates out of millions or even hundreds of millions of candidates. To be able to react to the user's context and behaviour, they need to be able to do this on the fly, in a matter of milliseconds.\n",
    "\n",
    "Approximate nearest neighbour search (ANN) is the technology that makes this possible. In this tutorial, we'll show how to use ScaNN - a state of the art nearest neighbour retrieval package - to seamlessly scale TFRS retrieval to millions of items."
   ]
  },
  {
   "cell_type": "markdown",
   "metadata": {
    "id": "Q_s_2UgUWA9u"
   },
   "source": [
    "## What is ScaNN?"
   ]
  },
  {
   "cell_type": "markdown",
   "metadata": {
    "id": "GSvmiDQPsGmb"
   },
   "source": [
    "ScaNN is a library from Google Research that performs dense vector similarity search at large scale. Given a database of candidate embeddings, ScaNN indexes these embeddings in a manner that allows them to be rapidly searched at inference time. ScaNN uses state of the art vector compression techniques and carefully implemented algorithms to achieve the best speed-accuracy tradeoff. It can greatly outperform brute force search while sacrificing little in terms of accuracy."
   ]
  },
  {
   "cell_type": "markdown",
   "metadata": {
    "id": "bTpnORU7WEPD"
   },
   "source": [
    "## Building a ScaNN-powered model"
   ]
  },
  {
   "cell_type": "markdown",
   "metadata": {
    "id": "zXEZ3lZnWIVh"
   },
   "source": [
    "To try out ScaNN in TFRS, we'll build a simple MovieLens retrieval model, just as we did in the [basic retrieval](https://www.tensorflow.org/recommenders/examples/basic_retrieval) tutorial. If you have followed that tutorial, this section will be familiar and can safely be skipped.\n",
    "\n",
    "To start, install TFRS and TensorFlow Datasets:"
   ]
  },
  {
   "cell_type": "code",
   "execution_count": 2,
   "metadata": {
    "execution": {
     "iopub.execute_input": "2021-03-02T12:08:22.064646Z",
     "iopub.status.busy": "2021-03-02T12:08:22.064021Z",
     "iopub.status.idle": "2021-03-02T12:08:42.049465Z",
     "shell.execute_reply": "2021-03-02T12:08:42.048853Z"
    },
    "id": "mD2hiRviCxFE"
   },
   "outputs": [],
   "source": [
    "#!pip install -q tensorflow-recommenders\n",
    "#!pip install -q --upgrade tensorflow-datasets"
   ]
  },
  {
   "cell_type": "markdown",
   "metadata": {
    "id": "oEbc-66nDJzc"
   },
   "source": [
    "We also need to install `scann`: it's an optional dependency of TFRS, and so needs to be installed separately."
   ]
  },
  {
   "cell_type": "code",
   "execution_count": 3,
   "metadata": {
    "execution": {
     "iopub.execute_input": "2021-03-02T12:08:42.056157Z",
     "iopub.status.busy": "2021-03-02T12:08:42.055559Z",
     "iopub.status.idle": "2021-03-02T12:08:44.784513Z",
     "shell.execute_reply": "2021-03-02T12:08:44.783910Z"
    },
    "id": "daEivxsJDO0Y"
   },
   "outputs": [],
   "source": [
    "#!pip install -q scann"
   ]
  },
  {
   "cell_type": "markdown",
   "metadata": {
    "id": "bDe054pgDQdp"
   },
   "source": [
    "Set up all the necessary imports."
   ]
  },
  {
   "cell_type": "code",
   "execution_count": 4,
   "metadata": {
    "execution": {
     "iopub.execute_input": "2021-03-02T12:08:44.789800Z",
     "iopub.status.busy": "2021-03-02T12:08:44.789100Z",
     "iopub.status.idle": "2021-03-02T12:08:52.112001Z",
     "shell.execute_reply": "2021-03-02T12:08:52.112438Z"
    },
    "id": "6ekaJkcuHsiY"
   },
   "outputs": [
    {
     "name": "stderr",
     "output_type": "stream",
     "text": [
      "2021-07-29 15:01:45.167991: W tensorflow/stream_executor/platform/default/dso_loader.cc:64] Could not load dynamic library 'libcudart.so.11.0'; dlerror: libcudart.so.11.0: cannot open shared object file: No such file or directory\n",
      "2021-07-29 15:01:45.168015: I tensorflow/stream_executor/cuda/cudart_stub.cc:29] Ignore above cudart dlerror if you do not have a GPU set up on your machine.\n"
     ]
    }
   ],
   "source": [
    "from typing import Dict, Text\n",
    "\n",
    "import os\n",
    "import pprint\n",
    "import tempfile\n",
    "\n",
    "import numpy as np\n",
    "import tensorflow as tf\n",
    "import tensorflow_datasets as tfds"
   ]
  },
  {
   "cell_type": "code",
   "execution_count": 5,
   "metadata": {
    "execution": {
     "iopub.execute_input": "2021-03-02T12:08:52.116769Z",
     "iopub.status.busy": "2021-03-02T12:08:52.116161Z",
     "iopub.status.idle": "2021-03-02T12:08:52.409821Z",
     "shell.execute_reply": "2021-03-02T12:08:52.410265Z"
    },
    "id": "WdTPCz136mvc"
   },
   "outputs": [],
   "source": [
    "import tensorflow_recommenders as tfrs"
   ]
  },
  {
   "cell_type": "markdown",
   "metadata": {
    "id": "DfmRuUgJWlEQ"
   },
   "source": [
    "And load the data:"
   ]
  },
  {
   "cell_type": "code",
   "execution_count": 6,
   "metadata": {
    "execution": {
     "iopub.execute_input": "2021-03-02T12:08:52.416341Z",
     "iopub.status.busy": "2021-03-02T12:08:52.415637Z",
     "iopub.status.idle": "2021-03-02T12:08:54.629549Z",
     "shell.execute_reply": "2021-03-02T12:08:54.628928Z"
    },
    "id": "k-VF30hJn5-3"
   },
   "outputs": [
    {
     "name": "stderr",
     "output_type": "stream",
     "text": [
      "2021-07-29 15:01:47.121308: W tensorflow/stream_executor/platform/default/dso_loader.cc:64] Could not load dynamic library 'libcuda.so.1'; dlerror: libcuda.so.1: cannot open shared object file: No such file or directory\n",
      "2021-07-29 15:01:47.121340: W tensorflow/stream_executor/cuda/cuda_driver.cc:326] failed call to cuInit: UNKNOWN ERROR (303)\n",
      "2021-07-29 15:01:47.121386: I tensorflow/stream_executor/cuda/cuda_diagnostics.cc:156] kernel driver does not appear to be running on this host (masternode): /proc/driver/nvidia/version does not exist\n",
      "2021-07-29 15:01:47.121683: I tensorflow/core/platform/cpu_feature_guard.cc:142] This TensorFlow binary is optimized with oneAPI Deep Neural Network Library (oneDNN) to use the following CPU instructions in performance-critical operations:  AVX2 FMA\n",
      "To enable them in other operations, rebuild TensorFlow with the appropriate compiler flags.\n"
     ]
    }
   ],
   "source": [
    "# Load the MovieLens 100K data.\n",
    "ratings = tfds.load(\n",
    "    \"movielens/100k-ratings\",\n",
    "    split=\"train\"\n",
    ")\n",
    "\n",
    "# Get the ratings data.\n",
    "ratings = (ratings\n",
    "           # Retain only the fields we need.\n",
    "           .map(lambda x: {\"user_id\": x[\"user_id\"], \"movie_title\": x[\"movie_title\"]})\n",
    "           # Cache for efficiency.\n",
    "           .cache(tempfile.NamedTemporaryFile().name)\n",
    ")\n",
    "\n",
    "# Get the movies data.\n",
    "movies = tfds.load(\"movielens/100k-movies\", split=\"train\")\n",
    "movies = (movies\n",
    "          # Retain only the fields we need.\n",
    "          .map(lambda x: x[\"movie_title\"])\n",
    "          # Cache for efficiency.\n",
    "          .cache(tempfile.NamedTemporaryFile().name))"
   ]
  },
  {
   "cell_type": "markdown",
   "metadata": {
    "id": "SiVuNZ-lWv0R"
   },
   "source": [
    "Before we can build a model, we need to set up the user and movie vocabularies:"
   ]
  },
  {
   "cell_type": "code",
   "execution_count": 7,
   "metadata": {
    "execution": {
     "iopub.execute_input": "2021-03-02T12:08:54.636144Z",
     "iopub.status.busy": "2021-03-02T12:08:54.635453Z",
     "iopub.status.idle": "2021-03-02T12:08:58.568504Z",
     "shell.execute_reply": "2021-03-02T12:08:58.567926Z"
    },
    "id": "jw-iQKBBajnz"
   },
   "outputs": [
    {
     "name": "stderr",
     "output_type": "stream",
     "text": [
      "2021-07-29 15:01:47.295769: I tensorflow/compiler/mlir/mlir_graph_optimization_pass.cc:176] None of the MLIR Optimization Passes are enabled (registered 2)\n",
      "2021-07-29 15:01:47.314517: I tensorflow/core/platform/profile_utils/cpu_utils.cc:114] CPU Frequency: 1800000000 Hz\n",
      "2021-07-29 15:01:47.368368: W tensorflow/core/kernels/data/cache_dataset_ops.cc:233] The calling iterator did not fully read the dataset being cached. In order to avoid unexpected truncation of the dataset, the partially cached contents of the dataset  will be discarded. This can happen if you have an input pipeline similar to `dataset.cache().take(k).repeat()`. You should use `dataset.take(k).cache().repeat()` instead.\n",
      "2021-07-29 15:01:51.240392: W tensorflow/core/kernels/data/cache_dataset_ops.cc:233] The calling iterator did not fully read the dataset being cached. In order to avoid unexpected truncation of the dataset, the partially cached contents of the dataset  will be discarded. This can happen if you have an input pipeline similar to `dataset.cache().take(k).repeat()`. You should use `dataset.take(k).cache().repeat()` instead.\n"
     ]
    }
   ],
   "source": [
    "user_ids = ratings.map(lambda x: x[\"user_id\"])\n",
    "\n",
    "unique_movie_titles = np.unique(np.concatenate(list(movies.batch(1000))))\n",
    "unique_user_ids = np.unique(np.concatenate(list(user_ids.batch(1000))))"
   ]
  },
  {
   "cell_type": "markdown",
   "metadata": {
    "id": "yRbZCvWHWzPU"
   },
   "source": [
    "We'll also set up the training and test sets:"
   ]
  },
  {
   "cell_type": "code",
   "execution_count": 8,
   "metadata": {
    "execution": {
     "iopub.execute_input": "2021-03-02T12:08:58.573402Z",
     "iopub.status.busy": "2021-03-02T12:08:58.572802Z",
     "iopub.status.idle": "2021-03-02T12:08:58.576800Z",
     "shell.execute_reply": "2021-03-02T12:08:58.576340Z"
    },
    "id": "FqV8p7N8CrEg"
   },
   "outputs": [],
   "source": [
    "tf.random.set_seed(42)\n",
    "shuffled = ratings.shuffle(100_000, seed=42, reshuffle_each_iteration=False)\n",
    "\n",
    "train = shuffled.take(80_000)\n",
    "test = shuffled.skip(80_000).take(20_000)"
   ]
  },
  {
   "cell_type": "markdown",
   "metadata": {
    "id": "Ok3-kzr1bI7U"
   },
   "source": [
    "### Model definition\n",
    "\n",
    "Just as in the [basic retrieval](https://www.tensorflow.org/recommenders/examples/basic_retrieval) tutorial, we build a simple two-tower model."
   ]
  },
  {
   "cell_type": "code",
   "execution_count": 9,
   "metadata": {
    "execution": {
     "iopub.execute_input": "2021-03-02T12:08:58.584532Z",
     "iopub.status.busy": "2021-03-02T12:08:58.583891Z",
     "iopub.status.idle": "2021-03-02T12:08:58.585616Z",
     "shell.execute_reply": "2021-03-02T12:08:58.585955Z"
    },
    "id": "yX_j4pEVbKIS"
   },
   "outputs": [],
   "source": [
    "class MovielensModel(tfrs.Model):\n",
    "\n",
    "  def __init__(self):\n",
    "    super().__init__()\n",
    "\n",
    "    embedding_dimension = 32\n",
    "\n",
    "    # Set up a model for representing movies.\n",
    "    self.movie_model = tf.keras.Sequential([\n",
    "      tf.keras.layers.experimental.preprocessing.StringLookup(\n",
    "        vocabulary=unique_movie_titles, mask_token=None),\n",
    "      # We add an additional embedding to account for unknown tokens.\n",
    "      tf.keras.layers.Embedding(len(unique_movie_titles) + 1, embedding_dimension)\n",
    "    ])\n",
    "\n",
    "    # Set up a model for representing users.\n",
    "    self.user_model = tf.keras.Sequential([\n",
    "      tf.keras.layers.experimental.preprocessing.StringLookup(\n",
    "        vocabulary=unique_user_ids, mask_token=None),\n",
    "        # We add an additional embedding to account for unknown tokens.\n",
    "      tf.keras.layers.Embedding(len(unique_user_ids) + 1, embedding_dimension)\n",
    "    ])\n",
    "\n",
    "    # Set up a task to optimize the model and compute metrics.\n",
    "    self.task = tfrs.tasks.Retrieval(\n",
    "      metrics=tfrs.metrics.FactorizedTopK(\n",
    "        candidates=movies.batch(128).cache().map(self.movie_model)\n",
    "      )\n",
    "    )\n",
    "\n",
    "  def compute_loss(self, features: Dict[Text, tf.Tensor], training=False) -> tf.Tensor:\n",
    "    # We pick out the user features and pass them into the user model.\n",
    "    user_embeddings = self.user_model(features[\"user_id\"])\n",
    "    # And pick out the movie features and pass them into the movie model,\n",
    "    # getting embeddings back.\n",
    "    positive_movie_embeddings = self.movie_model(features[\"movie_title\"])\n",
    "\n",
    "    # The task computes the loss and the metrics.\n",
    "\n",
    "    return self.task(user_embeddings, positive_movie_embeddings, compute_metrics=not training)"
   ]
  },
  {
   "cell_type": "markdown",
   "metadata": {
    "id": "JtO3lKR_XKkw"
   },
   "source": [
    "### Fitting and evaluation\n",
    "\n",
    "A TFRS model is just a Keras model. We can compile it:"
   ]
  },
  {
   "cell_type": "code",
   "execution_count": 10,
   "metadata": {
    "execution": {
     "iopub.execute_input": "2021-03-02T12:08:58.595097Z",
     "iopub.status.busy": "2021-03-02T12:08:58.589433Z",
     "iopub.status.idle": "2021-03-02T12:08:58.717296Z",
     "shell.execute_reply": "2021-03-02T12:08:58.717676Z"
    },
    "id": "uOGTdwAAbuB6"
   },
   "outputs": [],
   "source": [
    "model = MovielensModel()\n",
    "model.compile(optimizer=tf.keras.optimizers.Adagrad(learning_rate=0.1))"
   ]
  },
  {
   "cell_type": "markdown",
   "metadata": {
    "id": "4rGLyo-XXPmX"
   },
   "source": [
    "Estimate it:"
   ]
  },
  {
   "cell_type": "code",
   "execution_count": 11,
   "metadata": {
    "execution": {
     "iopub.execute_input": "2021-03-02T12:08:58.722174Z",
     "iopub.status.busy": "2021-03-02T12:08:58.721626Z",
     "iopub.status.idle": "2021-03-02T12:09:05.094757Z",
     "shell.execute_reply": "2021-03-02T12:09:05.095193Z"
    },
    "id": "uf_E4dIMcGnk"
   },
   "outputs": [
    {
     "name": "stdout",
     "output_type": "stream",
     "text": [
      "Epoch 1/3\n",
      "10/10 [==============================] - 7s 597ms/step - factorized_top_k/top_1_categorical_accuracy: 0.0000e+00 - factorized_top_k/top_5_categorical_accuracy: 0.0000e+00 - factorized_top_k/top_10_categorical_accuracy: 0.0000e+00 - factorized_top_k/top_50_categorical_accuracy: 0.0000e+00 - factorized_top_k/top_100_categorical_accuracy: 0.0000e+00 - loss: 69808.9709 - regularization_loss: 0.0000e+00 - total_loss: 69808.9709\n",
      "Epoch 2/3\n",
      "10/10 [==============================] - 8s 716ms/step - factorized_top_k/top_1_categorical_accuracy: 0.0000e+00 - factorized_top_k/top_5_categorical_accuracy: 0.0000e+00 - factorized_top_k/top_10_categorical_accuracy: 0.0000e+00 - factorized_top_k/top_50_categorical_accuracy: 0.0000e+00 - factorized_top_k/top_100_categorical_accuracy: 0.0000e+00 - loss: 67485.8835 - regularization_loss: 0.0000e+00 - total_loss: 67485.8835\n",
      "Epoch 3/3\n",
      "10/10 [==============================] - 7s 661ms/step - factorized_top_k/top_1_categorical_accuracy: 0.0000e+00 - factorized_top_k/top_5_categorical_accuracy: 0.0000e+00 - factorized_top_k/top_10_categorical_accuracy: 0.0000e+00 - factorized_top_k/top_50_categorical_accuracy: 0.0000e+00 - factorized_top_k/top_100_categorical_accuracy: 0.0000e+00 - loss: 66311.9581 - regularization_loss: 0.0000e+00 - total_loss: 66311.9581\n"
     ]
    },
    {
     "data": {
      "text/plain": [
       "<tensorflow.python.keras.callbacks.History at 0x7fa1c0181c70>"
      ]
     },
     "execution_count": 11,
     "metadata": {},
     "output_type": "execute_result"
    }
   ],
   "source": [
    "model.fit(train.batch(8192), epochs=3)"
   ]
  },
  {
   "cell_type": "markdown",
   "metadata": {
    "id": "7xymbWgVXSrT"
   },
   "source": [
    "And evaluate it."
   ]
  },
  {
   "cell_type": "code",
   "execution_count": 12,
   "metadata": {
    "execution": {
     "iopub.execute_input": "2021-03-02T12:09:05.099573Z",
     "iopub.status.busy": "2021-03-02T12:09:05.098913Z",
     "iopub.status.idle": "2021-03-02T12:09:07.052293Z",
     "shell.execute_reply": "2021-03-02T12:09:07.051772Z"
    },
    "id": "EMlIj741cIT8"
   },
   "outputs": [
    {
     "name": "stdout",
     "output_type": "stream",
     "text": [
      "WARNING:tensorflow:From /home/jdavidagudelo/.cache/pypoetry/virtualenvs/tensorflow-tutorial-9JwDsy9j-py3.9/lib/python3.9/site-packages/tensorflow/python/ops/array_ops.py:5043: calling gather (from tensorflow.python.ops.array_ops) with validate_indices is deprecated and will be removed in a future version.\n",
      "Instructions for updating:\n",
      "The `validate_indices` argument has no effect. Indices are always validated on CPU and never validated on GPU.\n"
     ]
    },
    {
     "name": "stderr",
     "output_type": "stream",
     "text": [
      "WARNING:tensorflow:From /home/jdavidagudelo/.cache/pypoetry/virtualenvs/tensorflow-tutorial-9JwDsy9j-py3.9/lib/python3.9/site-packages/tensorflow/python/ops/array_ops.py:5043: calling gather (from tensorflow.python.ops.array_ops) with validate_indices is deprecated and will be removed in a future version.\n",
      "Instructions for updating:\n",
      "The `validate_indices` argument has no effect. Indices are always validated on CPU and never validated on GPU.\n"
     ]
    },
    {
     "name": "stdout",
     "output_type": "stream",
     "text": [
      "3/3 [==============================] - 5s 824ms/step - factorized_top_k/top_1_categorical_accuracy: 0.0010 - factorized_top_k/top_5_categorical_accuracy: 0.0093 - factorized_top_k/top_10_categorical_accuracy: 0.0224 - factorized_top_k/top_50_categorical_accuracy: 0.1263 - factorized_top_k/top_100_categorical_accuracy: 0.2361 - loss: 49466.8779 - regularization_loss: 0.0000e+00 - total_loss: 49466.8779\n"
     ]
    },
    {
     "data": {
      "text/plain": [
       "{'factorized_top_k/top_1_categorical_accuracy': 0.0010000000474974513,\n",
       " 'factorized_top_k/top_5_categorical_accuracy': 0.00925000011920929,\n",
       " 'factorized_top_k/top_10_categorical_accuracy': 0.022350000217556953,\n",
       " 'factorized_top_k/top_50_categorical_accuracy': 0.12630000710487366,\n",
       " 'factorized_top_k/top_100_categorical_accuracy': 0.2361000031232834,\n",
       " 'loss': 28242.833984375,\n",
       " 'regularization_loss': 0,\n",
       " 'total_loss': 28242.833984375}"
      ]
     },
     "execution_count": 12,
     "metadata": {},
     "output_type": "execute_result"
    }
   ],
   "source": [
    "model.evaluate(test.batch(8192), return_dict=True)"
   ]
  },
  {
   "cell_type": "markdown",
   "metadata": {
    "id": "3RbHiBWqsFmf"
   },
   "source": [
    "## Approximate prediction\n",
    "\n",
    "The most straightforward way of retrieving top candidates in response to a query is to do it via brute force: compute user-movie scores for all possible movies, sort them, and pick a couple of top recommendations.\n",
    "\n",
    "In TFRS, this is accomplished via the `BruteForce` layer:"
   ]
  },
  {
   "cell_type": "code",
   "execution_count": 13,
   "metadata": {
    "execution": {
     "iopub.execute_input": "2021-03-02T12:09:07.076821Z",
     "iopub.status.busy": "2021-03-02T12:09:07.076189Z",
     "iopub.status.idle": "2021-03-02T12:09:07.200201Z",
     "shell.execute_reply": "2021-03-02T12:09:07.200647Z"
    },
    "id": "x_L2yAPjpHsk"
   },
   "outputs": [
    {
     "data": {
      "text/plain": [
       "<tensorflow_recommenders.layers.factorized_top_k.BruteForce at 0x7fa1c01e8250>"
      ]
     },
     "execution_count": 13,
     "metadata": {},
     "output_type": "execute_result"
    }
   ],
   "source": [
    "brute_force = tfrs.layers.factorized_top_k.BruteForce(model.user_model)\n",
    "brute_force.index(movies.batch(128).map(model.movie_model), movies)"
   ]
  },
  {
   "cell_type": "markdown",
   "metadata": {
    "id": "CzoNR28vXw7o"
   },
   "source": [
    "Once created and populated with candidates (via the `index` method), we can call it to get predictions out:"
   ]
  },
  {
   "cell_type": "code",
   "execution_count": 14,
   "metadata": {
    "execution": {
     "iopub.execute_input": "2021-03-02T12:09:07.205886Z",
     "iopub.status.busy": "2021-03-02T12:09:07.205254Z",
     "iopub.status.idle": "2021-03-02T12:09:07.208991Z",
     "shell.execute_reply": "2021-03-02T12:09:07.209403Z"
    },
    "id": "SBo1Nu0Grife"
   },
   "outputs": [
    {
     "name": "stdout",
     "output_type": "stream",
     "text": [
      "Top recommendations: [b'Homeward Bound: The Incredible Journey (1993)'\n",
      " b\"Kid in King Arthur's Court, A (1995)\" b'Rudy (1993)']\n"
     ]
    }
   ],
   "source": [
    "# Get predictions for user 42.\n",
    "_, titles = brute_force(np.array([\"42\"]), k=3)\n",
    "\n",
    "print(f\"Top recommendations: {titles[0]}\")"
   ]
  },
  {
   "cell_type": "markdown",
   "metadata": {
    "id": "AzNECPifr6i6"
   },
   "source": [
    "On a small dataset of under 1000 movies, this is very fast:"
   ]
  },
  {
   "cell_type": "code",
   "execution_count": 15,
   "metadata": {
    "execution": {
     "iopub.execute_input": "2021-03-02T12:09:07.215739Z",
     "iopub.status.busy": "2021-03-02T12:09:07.215160Z",
     "iopub.status.idle": "2021-03-02T12:09:14.144884Z",
     "shell.execute_reply": "2021-03-02T12:09:14.145272Z"
    },
    "id": "w57iyu7Ir87Q"
   },
   "outputs": [
    {
     "name": "stdout",
     "output_type": "stream",
     "text": [
      "1.33 ms ± 91.8 µs per loop (mean ± std. dev. of 7 runs, 1000 loops each)\n"
     ]
    }
   ],
   "source": [
    "%timeit _, titles = brute_force(np.array([\"42\"]), k=3)"
   ]
  },
  {
   "cell_type": "markdown",
   "metadata": {
    "id": "u2AjJsdrsClR"
   },
   "source": [
    "But what happens if we have more candidates - millions instead of thousands?\n",
    "\n",
    "We can simulate this by indexing all of our movies multiple times:"
   ]
  },
  {
   "cell_type": "code",
   "execution_count": 16,
   "metadata": {
    "execution": {
     "iopub.execute_input": "2021-03-02T12:09:14.151492Z",
     "iopub.status.busy": "2021-03-02T12:09:14.150607Z",
     "iopub.status.idle": "2021-03-02T12:09:14.211305Z",
     "shell.execute_reply": "2021-03-02T12:09:14.210690Z"
    },
    "id": "AapJk84csTqV"
   },
   "outputs": [],
   "source": [
    "# Construct a dataset of movies that's 1,000 times larger. We \n",
    "# do this by adding several million dummy movie titles to the dataset.\n",
    "lots_of_movies = tf.data.Dataset.concatenate(\n",
    "    movies.batch(4096),\n",
    "    movies.batch(4096).repeat(1_000).map(lambda x: tf.zeros_like(x))\n",
    ")\n",
    "\n",
    "# We also add lots of dummy embeddings by randomly perturbing\n",
    "# the estimated embeddings for real movies.\n",
    "lots_of_movies_embeddings = tf.data.Dataset.concatenate(\n",
    "    movies.batch(4096).map(model.movie_model),\n",
    "    movies.batch(4096).repeat(1_000)\n",
    "      .map(lambda x: model.movie_model(x))\n",
    "      .map(lambda x: x * tf.random.uniform(tf.shape(x)))\n",
    ")"
   ]
  },
  {
   "cell_type": "markdown",
   "metadata": {
    "id": "viCLP9qSYBQh"
   },
   "source": [
    "We can build a `BruteForce` index on this larger dataset:"
   ]
  },
  {
   "cell_type": "code",
   "execution_count": 17,
   "metadata": {
    "execution": {
     "iopub.execute_input": "2021-03-02T12:09:14.233487Z",
     "iopub.status.busy": "2021-03-02T12:09:14.232847Z",
     "iopub.status.idle": "2021-03-02T12:09:22.795034Z",
     "shell.execute_reply": "2021-03-02T12:09:22.794369Z"
    },
    "id": "mfY62oQbYA3Z"
   },
   "outputs": [
    {
     "data": {
      "text/plain": [
       "<tensorflow_recommenders.layers.factorized_top_k.BruteForce at 0x7fa1c024b550>"
      ]
     },
     "execution_count": 17,
     "metadata": {},
     "output_type": "execute_result"
    }
   ],
   "source": [
    "brute_force_lots = tfrs.layers.factorized_top_k.BruteForce()\n",
    "brute_force_lots.index(lots_of_movies_embeddings, lots_of_movies)"
   ]
  },
  {
   "cell_type": "markdown",
   "metadata": {
    "id": "OrkMt8O_xm-s"
   },
   "source": [
    "The recommendations are still the same"
   ]
  },
  {
   "cell_type": "code",
   "execution_count": 18,
   "metadata": {
    "execution": {
     "iopub.execute_input": "2021-03-02T12:09:22.800308Z",
     "iopub.status.busy": "2021-03-02T12:09:22.799684Z",
     "iopub.status.idle": "2021-03-02T12:09:22.830088Z",
     "shell.execute_reply": "2021-03-02T12:09:22.829556Z"
    },
    "id": "I9fIYUeYxjki"
   },
   "outputs": [
    {
     "name": "stdout",
     "output_type": "stream",
     "text": [
      "Top recommendations: [b'Homeward Bound: The Incredible Journey (1993)'\n",
      " b\"Kid in King Arthur's Court, A (1995)\" b'Rudy (1993)']\n"
     ]
    }
   ],
   "source": [
    "_, titles = brute_force_lots(model.user_model(np.array([\"42\"])), k=3)\n",
    "\n",
    "print(f\"Top recommendations: {titles[0]}\")"
   ]
  },
  {
   "cell_type": "markdown",
   "metadata": {
    "id": "wwF25ZzdseX8"
   },
   "source": [
    "But they take much longer. With a candidate set of 1 million movies, brute force prediction becomes quite slow:"
   ]
  },
  {
   "cell_type": "code",
   "execution_count": 19,
   "metadata": {
    "execution": {
     "iopub.execute_input": "2021-03-02T12:09:22.836293Z",
     "iopub.status.busy": "2021-03-02T12:09:22.835648Z",
     "iopub.status.idle": "2021-03-02T12:09:24.909451Z",
     "shell.execute_reply": "2021-03-02T12:09:24.908936Z"
    },
    "id": "oetK_wNxsdw0"
   },
   "outputs": [
    {
     "name": "stdout",
     "output_type": "stream",
     "text": [
      "31.8 ms ± 2.71 ms per loop (mean ± std. dev. of 7 runs, 10 loops each)\n"
     ]
    }
   ],
   "source": [
    "%timeit _, titles = brute_force_lots(model.user_model(np.array([\"42\"])), k=3)"
   ]
  },
  {
   "cell_type": "markdown",
   "metadata": {
    "id": "mKF9yEeotbXQ"
   },
   "source": [
    "As the number of candidate grows, the amount of time needed grows linearly: with 10 million candidates, serving top candidates would take 250 milliseconds. This is clearly too slow for a live service.\n",
    "\n",
    "This is where approximate mechanisms come in.\n",
    "\n",
    "Using ScaNN in TFRS is accomplished via the `tfrs.layers.factorized_top_k.ScaNN` layer. It follow the same interface as the other top k layers:"
   ]
  },
  {
   "cell_type": "code",
   "execution_count": 20,
   "metadata": {
    "execution": {
     "iopub.execute_input": "2021-03-02T12:09:24.931626Z",
     "iopub.status.busy": "2021-03-02T12:09:24.930955Z",
     "iopub.status.idle": "2021-03-02T12:09:36.962338Z",
     "shell.execute_reply": "2021-03-02T12:09:36.962695Z"
    },
    "id": "SLgPmA90sbDL"
   },
   "outputs": [
    {
     "name": "stderr",
     "output_type": "stream",
     "text": [
      "2021-07-29 15:02:51.927287: I scann/partitioning/partitioner_factory_base.cc:71] Size of sampled dataset for training partition: 100347\n",
      "2021-07-29 15:02:52.296279: I ./scann/partitioning/kmeans_tree_partitioner_utils.h:102] PartitionerFactory ran in 368.926064ms.\n"
     ]
    },
    {
     "data": {
      "text/plain": [
       "<tensorflow_recommenders.layers.factorized_top_k.ScaNN at 0x7fa1c025bac0>"
      ]
     },
     "execution_count": 20,
     "metadata": {},
     "output_type": "execute_result"
    }
   ],
   "source": [
    "scann = tfrs.layers.factorized_top_k.ScaNN(num_reordering_candidates=1000)\n",
    "scann.index(lots_of_movies_embeddings, lots_of_movies)"
   ]
  },
  {
   "cell_type": "markdown",
   "metadata": {
    "id": "qRI-qv7S2h97"
   },
   "source": [
    "The recommendations are (approximately!) the same"
   ]
  },
  {
   "cell_type": "code",
   "execution_count": 21,
   "metadata": {
    "execution": {
     "iopub.execute_input": "2021-03-02T12:09:36.968058Z",
     "iopub.status.busy": "2021-03-02T12:09:36.967434Z",
     "iopub.status.idle": "2021-03-02T12:09:37.584740Z",
     "shell.execute_reply": "2021-03-02T12:09:37.584291Z"
    },
    "id": "HCkRn1VnxuXn"
   },
   "outputs": [
    {
     "name": "stdout",
     "output_type": "stream",
     "text": [
      "Top recommendations: [b'Homeward Bound: The Incredible Journey (1993)'\n",
      " b\"Kid in King Arthur's Court, A (1995)\" b'Rudy (1993)']\n"
     ]
    }
   ],
   "source": [
    "_, titles = scann(model.user_model(np.array([\"42\"])), k=3)\n",
    "\n",
    "print(f\"Top recommendations: {titles[0]}\")"
   ]
  },
  {
   "cell_type": "markdown",
   "metadata": {
    "id": "iW1oBtcC2mb1"
   },
   "source": [
    "But they are much, much faster to compute:"
   ]
  },
  {
   "cell_type": "code",
   "execution_count": 22,
   "metadata": {
    "execution": {
     "iopub.execute_input": "2021-03-02T12:09:37.591722Z",
     "iopub.status.busy": "2021-03-02T12:09:37.590997Z",
     "iopub.status.idle": "2021-03-02T12:09:40.286396Z",
     "shell.execute_reply": "2021-03-02T12:09:40.286792Z"
    },
    "id": "ooJsLhpWstlf"
   },
   "outputs": [
    {
     "name": "stdout",
     "output_type": "stream",
     "text": [
      "2.81 ms ± 257 µs per loop (mean ± std. dev. of 7 runs, 100 loops each)\n"
     ]
    }
   ],
   "source": [
    "%timeit _, titles = scann(model.user_model(np.array([\"42\"])), k=3)"
   ]
  },
  {
   "cell_type": "markdown",
   "metadata": {
    "id": "zOYk0zi12q-0"
   },
   "source": [
    "In this case, we can retrieve the top 3 movies out of a set of ~1 million in around 2 milliseconds: 15 times faster than by computing the best candidates via brute force. The advantage of approximate methods grows even larger for larger datasets."
   ]
  },
  {
   "cell_type": "markdown",
   "metadata": {
    "id": "tE7eL7ZzDKtl"
   },
   "source": [
    "## Evaluating the approximation\n",
    "\n",
    "When using approximate top K retrieval mechanisms (such as ScaNN), speed of retrieval often comes at the expense of accuracy. To understand this trade-off, it's important to measure the model's evaluation metrics when using ScaNN, and to compare them with the baseline.\n",
    "\n",
    "Fortunately, TFRS makes this easy. We simply override the metrics on the retrieval task with metrics using ScaNN, re-compile the model, and run evaluation.\n",
    "\n",
    "To make the comparison, let's first run baseline results. We still need to override our metrics to make sure they are using the enlarged candidate set rather than the original set of movies:"
   ]
  },
  {
   "cell_type": "code",
   "execution_count": null,
   "metadata": {
    "execution": {
     "iopub.execute_input": "2021-03-02T12:09:40.297616Z",
     "iopub.status.busy": "2021-03-02T12:09:40.296905Z",
     "iopub.status.idle": "2021-03-02T12:10:28.609428Z",
     "shell.execute_reply": "2021-03-02T12:10:28.608992Z"
    },
    "id": "ZZtJRQqBep_5"
   },
   "outputs": [],
   "source": [
    "# Override the existing streaming candidate source.\n",
    "model.task.factorized_metrics = tfrs.metrics.FactorizedTopK(\n",
    "    candidates=lots_of_movies_embeddings\n",
    ")\n",
    "# Need to recompile the model for the changes to take effect.\n",
    "model.compile()\n",
    "\n",
    "%time baseline_result = model.evaluate(test.batch(8192), return_dict=True, verbose=False)"
   ]
  },
  {
   "cell_type": "markdown",
   "metadata": {
    "id": "HHFzcS5cQtB_"
   },
   "source": [
    "We can do the same using ScaNN:"
   ]
  },
  {
   "cell_type": "code",
   "execution_count": null,
   "metadata": {
    "execution": {
     "iopub.execute_input": "2021-03-02T12:10:28.620290Z",
     "iopub.status.busy": "2021-03-02T12:10:28.619671Z",
     "iopub.status.idle": "2021-03-02T12:10:30.258688Z",
     "shell.execute_reply": "2021-03-02T12:10:30.259202Z"
    },
    "id": "5T-YxOqoKMje"
   },
   "outputs": [],
   "source": [
    "model.task.factorized_metrics = tfrs.metrics.FactorizedTopK(\n",
    "    candidates=scann\n",
    ")\n",
    "model.compile()\n",
    "\n",
    "# We can use a much bigger batch size here because ScaNN evaluation\n",
    "# is more memory efficient.\n",
    "%time scann_result = model.evaluate(test.batch(8192), return_dict=True, verbose=False)"
   ]
  },
  {
   "cell_type": "markdown",
   "metadata": {
    "id": "Y0gnjcUUZ6-v"
   },
   "source": [
    "ScaNN based evaluation is much, much quicker: it's over ten times faster! This advantage is going to grow even larger for bigger datasets, and so for large datasets it may be prudent to always run ScaNN-based evaluation to improve model development velocity.\n",
    "\n",
    "But how about the results? Fortunately, in this case the results are almost the same:\n"
   ]
  },
  {
   "cell_type": "code",
   "execution_count": null,
   "metadata": {
    "execution": {
     "iopub.execute_input": "2021-03-02T12:10:30.263700Z",
     "iopub.status.busy": "2021-03-02T12:10:30.263054Z",
     "iopub.status.idle": "2021-03-02T12:10:30.265335Z",
     "shell.execute_reply": "2021-03-02T12:10:30.265731Z"
    },
    "id": "gcXUbZx3Fq4f"
   },
   "outputs": [],
   "source": [
    "print(f\"Brute force top-100 accuracy: {baseline_result['factorized_top_k/top_100_categorical_accuracy']:.2f}\")\n",
    "print(f\"ScaNN top-100 accuracy:       {scann_result['factorized_top_k/top_100_categorical_accuracy']:.2f}\")"
   ]
  },
  {
   "cell_type": "markdown",
   "metadata": {
    "id": "d2UJR-5nZ6YT"
   },
   "source": [
    "This suggests that on this artificial datase,  there is little loss from the approximation. In general, all approximate methods exhibit speed-accuracy tradeoffs. To understand this in more depth you can check out Erik Bernhardsson's [ANN benchmarks](https://github.com/erikbern/ann-benchmarks)."
   ]
  },
  {
   "cell_type": "markdown",
   "metadata": {
    "id": "-jdPPOlV3JOr"
   },
   "source": [
    "## Deploying the approximate model\n",
    "\n",
    "The `ScaNN`-based model is fully integrated into TensorFlow models, and serving it is as easy as serving any other TensorFlow model.\n",
    "\n",
    "We can save it as a `SavedModel` object"
   ]
  },
  {
   "cell_type": "code",
   "execution_count": null,
   "metadata": {
    "execution": {
     "iopub.execute_input": "2021-03-02T12:10:30.289667Z",
     "iopub.status.busy": "2021-03-02T12:10:30.289014Z",
     "iopub.status.idle": "2021-03-02T12:10:44.943400Z",
     "shell.execute_reply": "2021-03-02T12:10:44.942855Z"
    },
    "id": "KnVI_6N53WU5"
   },
   "outputs": [],
   "source": [
    "# We re-index the ScaNN layer to include the user embeddings in the same model.\n",
    "# This way we can give the saved model raw features and get valid predictions\n",
    "# back.\n",
    "scann = tfrs.layers.factorized_top_k.ScaNN(model.user_model, num_reordering_candidates=1000)\n",
    "scann.index(lots_of_movies_embeddings, lots_of_movies)\n",
    "\n",
    "# Need to call it to set the shapes.\n",
    "_ = scann(np.array([\"42\"]))\n",
    "\n",
    "with tempfile.TemporaryDirectory() as tmp:\n",
    "  path = os.path.join(tmp, \"model\")\n",
    "  scann.save(\n",
    "    path,\n",
    "    options=tf.saved_model.SaveOptions(namespace_whitelist=[\"Scann\"])\n",
    "  )\n",
    "\n",
    "  loaded = tf.keras.models.load_model(path)"
   ]
  },
  {
   "cell_type": "markdown",
   "metadata": {
    "id": "O5vDZjro4lXG"
   },
   "source": [
    "and then load it and serve, getting exactly the same results back:"
   ]
  },
  {
   "cell_type": "code",
   "execution_count": null,
   "metadata": {
    "execution": {
     "iopub.execute_input": "2021-03-02T12:10:44.949547Z",
     "iopub.status.busy": "2021-03-02T12:10:44.948431Z",
     "iopub.status.idle": "2021-03-02T12:10:45.501581Z",
     "shell.execute_reply": "2021-03-02T12:10:45.501935Z"
    },
    "id": "TXm8smCt3iFB"
   },
   "outputs": [],
   "source": [
    "_, titles = loaded(tf.constant([\"42\"]))\n",
    "\n",
    "print(f\"Top recommendations: {titles[0][:3]}\")"
   ]
  },
  {
   "cell_type": "markdown",
   "metadata": {
    "id": "S0Doal2ETqU4"
   },
   "source": [
    "The resulting model can be served in any Python service that has TensorFlow and ScaNN installed.\n",
    "\n",
    "It can also be served using a customized version of TensorFlow Serving, available as a Docker container on [Docker Hub](https://hub.docker.com/r/google/tf-serving-scann). You can also build the image yourself from the [Dockerfile](https://github.com/google-research/google-research/tree/master/scann/tf_serving)."
   ]
  },
  {
   "cell_type": "markdown",
   "metadata": {
    "id": "0gQsvn5PYbR-"
   },
   "source": [
    "## Tuning ScaNN"
   ]
  },
  {
   "cell_type": "markdown",
   "metadata": {
    "id": "918uqacB7sNH"
   },
   "source": [
    "Now let's look into tuning our ScaNN layer to get a better performance/accuracy tradeoff. In order to do this effectively, we first need to measure our baseline performance and accuracy.\n",
    "\n",
    "From above, we already have a measurement of our model's latency for processing a single (non-batched) query (although note that a fair amount of this latency is from non-ScaNN components of the model).\n",
    "\n",
    "Now we need to investigate ScaNN's accuracy, which we measure through recall. A recall@k of x% means that if we use brute force to retrieve the true top k neighbors, and compare those results to using ScaNN to also retrieve the top k neighbors, x% of ScaNN's results are in the true brute force results. Let's compute the recall for the current ScaNN searcher.\n",
    "\n",
    "First, we need to generate the brute force, ground truth top-k:"
   ]
  },
  {
   "cell_type": "code",
   "execution_count": null,
   "metadata": {
    "execution": {
     "iopub.execute_input": "2021-03-02T12:10:45.507182Z",
     "iopub.status.busy": "2021-03-02T12:10:45.506455Z",
     "iopub.status.idle": "2021-03-02T12:11:07.030115Z",
     "shell.execute_reply": "2021-03-02T12:11:07.029527Z"
    },
    "id": "qgf_QuP-8EXb"
   },
   "outputs": [],
   "source": [
    "# Process queries in groups of 1000; processing them all at once with brute force\n",
    "# may lead to out-of-memory errors, because processing a batch of q queries against\n",
    "# a size-n dataset takes O(nq) space with brute force.\n",
    "titles_ground_truth = tf.concat([\n",
    "  brute_force_lots(queries, k=10)[1] for queries in\n",
    "  test.batch(1000).map(lambda x: model.user_model(x[\"user_id\"]))\n",
    "], axis=0)"
   ]
  },
  {
   "cell_type": "markdown",
   "metadata": {
    "id": "LSZkWESc856P"
   },
   "source": [
    "Our variable `titles_ground_truth` now contains the top-10 movie recommendations returned by brute-force retrieval. Now we can compute the same recommendations when using ScaNN:"
   ]
  },
  {
   "cell_type": "code",
   "execution_count": null,
   "metadata": {
    "execution": {
     "iopub.execute_input": "2021-03-02T12:11:07.036587Z",
     "iopub.status.busy": "2021-03-02T12:11:07.035977Z",
     "iopub.status.idle": "2021-03-02T12:11:08.254018Z",
     "shell.execute_reply": "2021-03-02T12:11:08.254434Z"
    },
    "id": "yUKtdf1X87mP"
   },
   "outputs": [],
   "source": [
    "# Get all user_id's as a 1d tensor of strings\n",
    "test_flat = np.concatenate(list(test.map(lambda x: x[\"user_id\"]).batch(1000).as_numpy_iterator()), axis=0)\n",
    "\n",
    "# ScaNN is much more memory efficient and has no problem processing the whole\n",
    "# batch of 20000 queries at once.\n",
    "_, titles = scann(test_flat, k=10)"
   ]
  },
  {
   "cell_type": "markdown",
   "metadata": {
    "id": "JTsTDiAZ9F6h"
   },
   "source": [
    "Next, we define our function that computes recall. For each query, it counts how many results are in the intersection of the brute force and the ScaNN results and divides this by the number of brute force results. The average of this quantity over all queries is our recall."
   ]
  },
  {
   "cell_type": "code",
   "execution_count": null,
   "metadata": {
    "execution": {
     "iopub.execute_input": "2021-03-02T12:11:08.259756Z",
     "iopub.status.busy": "2021-03-02T12:11:08.259115Z",
     "iopub.status.idle": "2021-03-02T12:11:08.260448Z",
     "shell.execute_reply": "2021-03-02T12:11:08.260929Z"
    },
    "id": "PCtBew2C9Gv0"
   },
   "outputs": [],
   "source": [
    "def compute_recall(ground_truth, approx_results):\n",
    "  return np.mean([\n",
    "      len(np.intersect1d(truth, approx)) / len(truth)\n",
    "      for truth, approx in zip(ground_truth, approx_results)\n",
    "  ])"
   ]
  },
  {
   "cell_type": "markdown",
   "metadata": {
    "id": "_tdxlKua9JR2"
   },
   "source": [
    "This gives us baseline recall@10 with the current ScaNN config:"
   ]
  },
  {
   "cell_type": "code",
   "execution_count": null,
   "metadata": {
    "execution": {
     "iopub.execute_input": "2021-03-02T12:11:08.264954Z",
     "iopub.status.busy": "2021-03-02T12:11:08.264225Z",
     "iopub.status.idle": "2021-03-02T12:11:14.165665Z",
     "shell.execute_reply": "2021-03-02T12:11:14.166072Z"
    },
    "id": "nMi4VtJD9K9P"
   },
   "outputs": [],
   "source": [
    "print(f\"Recall: {compute_recall(titles_ground_truth, titles):.3f}\")"
   ]
  },
  {
   "cell_type": "markdown",
   "metadata": {
    "id": "gKpgkNseYWW8"
   },
   "source": [
    "We can also measure the baseline latency:"
   ]
  },
  {
   "cell_type": "code",
   "execution_count": null,
   "metadata": {
    "execution": {
     "iopub.execute_input": "2021-03-02T12:11:14.172170Z",
     "iopub.status.busy": "2021-03-02T12:11:14.171455Z",
     "iopub.status.idle": "2021-03-02T12:11:37.609934Z",
     "shell.execute_reply": "2021-03-02T12:11:37.610368Z"
    },
    "id": "81mO-GS4VJLJ"
   },
   "outputs": [],
   "source": [
    "%timeit -n 1000 scann(np.array([\"42\"]), k=10)"
   ]
  },
  {
   "cell_type": "markdown",
   "metadata": {
    "id": "UICnYQln9PAq"
   },
   "source": [
    "Let's see if we can do better!\n",
    "\n",
    "To do this, we need a model of how ScaNN's tuning knobs affect performance. Our current model uses ScaNN's tree-AH algorithm. This algorithm partitions the database of embeddings (the \"tree\") and then scores the most promising of these partitions using AH, which is a highly optimized approximate distance computation routine.\n",
    "\n",
    "The default parameters for TensorFlow Recommenders' ScaNN Keras layer sets `num_leaves=100` and `num_leaves_to_search=10`. This means our database is partitioned into 100 disjoint subsets, and the 10 most promising of these partitions is scored with AH. This means 10/100=10% of the dataset is being searched with AH.\n",
    "\n",
    "If we have, say, `num_leaves=1000` and `num_leaves_to_search=100`, we would also be searching 10% of the database with AH. However, in comparison to the previous setting, the 10% we would search will contain higher-quality candidates, because a higher `num_leaves` allows us to make finer-grained decisions about what parts of the dataset are worth searching.\n",
    "\n",
    "It's no surprise then that with `num_leaves=1000` and `num_leaves_to_search=100` we get significantly higher recall:"
   ]
  },
  {
   "cell_type": "code",
   "execution_count": null,
   "metadata": {
    "execution": {
     "iopub.execute_input": "2021-03-02T12:11:37.634369Z",
     "iopub.status.busy": "2021-03-02T12:11:37.633764Z",
     "iopub.status.idle": "2021-03-02T12:11:57.068281Z",
     "shell.execute_reply": "2021-03-02T12:11:57.067728Z"
    },
    "id": "vq6L1Qtl9Qan"
   },
   "outputs": [],
   "source": [
    "scann2 = tfrs.layers.factorized_top_k.ScaNN(\n",
    "    model.user_model, \n",
    "    num_leaves=1000,\n",
    "    num_leaves_to_search=100,\n",
    "    num_reordering_candidates=1000)\n",
    "scann2.index(lots_of_movies_embeddings, lots_of_movies)\n",
    "\n",
    "_, titles2 = scann2(test_flat, k=10)\n",
    "\n",
    "print(f\"Recall: {compute_recall(titles_ground_truth, titles2):.3f}\")"
   ]
  },
  {
   "cell_type": "markdown",
   "metadata": {
    "id": "G2WR8zPH9TtW"
   },
   "source": [
    "However, as a tradeoff, our latency has also increased. This is because the partitioning step has gotten more expensive; `scann` picks the top 10 of 100 partitions while `scann2` picks the top 100 of 1000 partitions. The latter can be more expensive because it involves looking at 10 times as many partitions."
   ]
  },
  {
   "cell_type": "code",
   "execution_count": null,
   "metadata": {
    "execution": {
     "iopub.execute_input": "2021-03-02T12:11:57.074331Z",
     "iopub.status.busy": "2021-03-02T12:11:57.073670Z",
     "iopub.status.idle": "2021-03-02T12:12:20.786548Z",
     "shell.execute_reply": "2021-03-02T12:12:20.786046Z"
    },
    "id": "Po0kb4Mf9VhX"
   },
   "outputs": [],
   "source": [
    "%timeit -n 1000 scann2(np.array([\"42\"]), k=10)"
   ]
  },
  {
   "cell_type": "markdown",
   "metadata": {
    "id": "fCDzY0sc9Zgc"
   },
   "source": [
    "In general, tuning ScaNN search is about picking the right tradeoffs. Each individual parameter change generally won't make search both faster and more accurate; our goal is to tune the parameters to optimally trade off between these two conflicting goals.\n",
    "\n",
    "In our case, `scann2` significantly improved recall over `scann` at some cost in latency. Can we dial back some other knobs to cut down on latency, while preserving most of our recall advantage?\n",
    "\n",
    "Let's try searching 70/1000=7% of the dataset with AH, and only rescoring the final 400 candidates:"
   ]
  },
  {
   "cell_type": "code",
   "execution_count": null,
   "metadata": {
    "execution": {
     "iopub.execute_input": "2021-03-02T12:12:20.810171Z",
     "iopub.status.busy": "2021-03-02T12:12:20.809584Z",
     "iopub.status.idle": "2021-03-02T12:12:39.999890Z",
     "shell.execute_reply": "2021-03-02T12:12:40.000265Z"
    },
    "id": "jBp8Yvdj9pMQ"
   },
   "outputs": [],
   "source": [
    "scann3 = tfrs.layers.factorized_top_k.ScaNN(\n",
    "    model.user_model,\n",
    "    num_leaves=1000,\n",
    "    num_leaves_to_search=70,\n",
    "    num_reordering_candidates=400)\n",
    "scann3.index(lots_of_movies_embeddings, lots_of_movies)\n",
    "\n",
    "_, titles3 = scann3(test_flat, k=10)\n",
    "print(f\"Recall: {compute_recall(titles_ground_truth, titles3):.3f}\")"
   ]
  },
  {
   "cell_type": "markdown",
   "metadata": {
    "id": "3Isgpm7b9rgE"
   },
   "source": [
    "`scann3` delivers about a 3% absolute recall gain over `scann` while also delivering lower latency:"
   ]
  },
  {
   "cell_type": "code",
   "execution_count": null,
   "metadata": {
    "execution": {
     "iopub.execute_input": "2021-03-02T12:12:40.006462Z",
     "iopub.status.busy": "2021-03-02T12:12:40.005841Z",
     "iopub.status.idle": "2021-03-02T12:13:02.557716Z",
     "shell.execute_reply": "2021-03-02T12:13:02.558088Z"
    },
    "id": "JiDEWwtr9sKG"
   },
   "outputs": [],
   "source": [
    "%timeit -n 1000 scann3(np.array([\"42\"]), k=10)"
   ]
  },
  {
   "cell_type": "markdown",
   "metadata": {
    "id": "NwWKyQgt9uh1"
   },
   "source": [
    "These knobs can be further adjusted to optimize for different points along the accuracy-performance pareto frontier. ScaNN's algorithms can achieve state-of-the-art performance over a wide range of recall targets."
   ]
  },
  {
   "cell_type": "markdown",
   "metadata": {
    "id": "UvlCsKyFU40k"
   },
   "source": [
    "## Further reading"
   ]
  },
  {
   "cell_type": "markdown",
   "metadata": {
    "id": "0ikGqmNa9yRG"
   },
   "source": [
    "ScaNN uses advanced vector quantization techniques and highly optimized implementation to achieve its results. The field of vector quantization has a rich history with a variety of approaches. ScaNN's current quantization technique is detailed in [this paper](https://arxiv.org/abs/1908.10396), published at ICML 2020. The paper was also released along with [this blog article](https://ai.googleblog.com/2020/07/announcing-scann-efficient-vector.html) which gives a high level overview of our technique.\n",
    "\n",
    "Many related quantization techniques are mentioned in the references of our ICML 2020 paper, and other ScaNN-related research is listed at http://sanjivk.com/."
   ]
  }
 ],
 "metadata": {
  "colab": {
   "collapsed_sections": [],
   "name": "efficient_serving.ipynb",
   "provenance": [],
   "toc_visible": true
  },
  "kernelspec": {
   "display_name": "Python 3 (ipykernel)",
   "language": "python",
   "name": "python3"
  },
  "language_info": {
   "codemirror_mode": {
    "name": "ipython",
    "version": 3
   },
   "file_extension": ".py",
   "mimetype": "text/x-python",
   "name": "python",
   "nbconvert_exporter": "python",
   "pygments_lexer": "ipython3",
   "version": "3.9.5"
  }
 },
 "nbformat": 4,
 "nbformat_minor": 1
}
