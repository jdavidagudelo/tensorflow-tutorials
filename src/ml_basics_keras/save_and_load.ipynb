{
 "cells": [
  {
   "cell_type": "markdown",
   "source": [
    "##### Copyright 2019 The TensorFlow Authors."
   ],
   "metadata": {
    "id": "g_nWetWWd_ns"
   }
  },
  {
   "cell_type": "code",
   "execution_count": 1,
   "source": [
    "#@title Licensed under the Apache License, Version 2.0 (the \"License\");\n",
    "# you may not use this file except in compliance with the License.\n",
    "# You may obtain a copy of the License at\n",
    "#\n",
    "# https://www.apache.org/licenses/LICENSE-2.0\n",
    "#\n",
    "# Unless required by applicable law or agreed to in writing, software\n",
    "# distributed under the License is distributed on an \"AS IS\" BASIS,\n",
    "# WITHOUT WARRANTIES OR CONDITIONS OF ANY KIND, either express or implied.\n",
    "# See the License for the specific language governing permissions and\n",
    "# limitations under the License."
   ],
   "outputs": [],
   "metadata": {
    "cellView": "form",
    "execution": {
     "iopub.execute_input": "2021-06-16T14:32:23.752390Z",
     "iopub.status.busy": "2021-06-16T14:32:23.751787Z",
     "iopub.status.idle": "2021-06-16T14:32:23.754192Z",
     "shell.execute_reply": "2021-06-16T14:32:23.753702Z"
    },
    "id": "2pHVBk_seED1"
   }
  },
  {
   "cell_type": "code",
   "execution_count": 2,
   "source": [
    "#@title MIT License\n",
    "#\n",
    "# Copyright (c) 2017 François Chollet\n",
    "#\n",
    "# Permission is hereby granted, free of charge, to any person obtaining a\n",
    "# copy of this software and associated documentation files (the \"Software\"),\n",
    "# to deal in the Software without restriction, including without limitation\n",
    "# the rights to use, copy, modify, merge, publish, distribute, sublicense,\n",
    "# and/or sell copies of the Software, and to permit persons to whom the\n",
    "# Software is furnished to do so, subject to the following conditions:\n",
    "#\n",
    "# The above copyright notice and this permission notice shall be included in\n",
    "# all copies or substantial portions of the Software.\n",
    "#\n",
    "# THE SOFTWARE IS PROVIDED \"AS IS\", WITHOUT WARRANTY OF ANY KIND, EXPRESS OR\n",
    "# IMPLIED, INCLUDING BUT NOT LIMITED TO THE WARRANTIES OF MERCHANTABILITY,\n",
    "# FITNESS FOR A PARTICULAR PURPOSE AND NONINFRINGEMENT. IN NO EVENT SHALL\n",
    "# THE AUTHORS OR COPYRIGHT HOLDERS BE LIABLE FOR ANY CLAIM, DAMAGES OR OTHER\n",
    "# LIABILITY, WHETHER IN AN ACTION OF CONTRACT, TORT OR OTHERWISE, ARISING\n",
    "# FROM, OUT OF OR IN CONNECTION WITH THE SOFTWARE OR THE USE OR OTHER\n",
    "# DEALINGS IN THE SOFTWARE."
   ],
   "outputs": [],
   "metadata": {
    "cellView": "form",
    "execution": {
     "iopub.execute_input": "2021-06-16T14:32:23.757367Z",
     "iopub.status.busy": "2021-06-16T14:32:23.756785Z",
     "iopub.status.idle": "2021-06-16T14:32:23.758334Z",
     "shell.execute_reply": "2021-06-16T14:32:23.758649Z"
    },
    "id": "N_fMsQ-N8I7j"
   }
  },
  {
   "cell_type": "markdown",
   "source": [
    "# Save and load models"
   ],
   "metadata": {
    "id": "pZJ3uY9O17VN"
   }
  },
  {
   "cell_type": "markdown",
   "source": [
    "<table class=\"tfo-notebook-buttons\" align=\"left\">\n",
    "  <td>\n",
    "    <a target=\"_blank\" href=\"https://www.tensorflow.org/tutorials/keras/save_and_load\"><img src=\"https://www.tensorflow.org/images/tf_logo_32px.png\" />View on TensorFlow.org</a>\n",
    "  </td>\n",
    "  <td>\n",
    "    <a target=\"_blank\" href=\"https://colab.research.google.com/github/tensorflow/docs/blob/master/site/en/tutorials/keras/save_and_load.ipynb\"><img src=\"https://www.tensorflow.org/images/colab_logo_32px.png\" />Run in Google Colab</a>\n",
    "  </td>\n",
    "  <td>\n",
    "    <a target=\"_blank\" href=\"https://github.com/tensorflow/docs/blob/master/site/en/tutorials/keras/save_and_load.ipynb\"><img src=\"https://www.tensorflow.org/images/GitHub-Mark-32px.png\" />View source on GitHub</a>\n",
    "  </td>\n",
    "  <td>\n",
    "    <a href=\"https://storage.googleapis.com/tensorflow_docs/docs/site/en/tutorials/keras/save_and_load.ipynb\"><img src=\"https://www.tensorflow.org/images/download_logo_32px.png\" />Download notebook</a>\n",
    "  </td>\n",
    "</table>"
   ],
   "metadata": {
    "id": "M4Ata7_wMul1"
   }
  },
  {
   "cell_type": "markdown",
   "source": [
    "Model progress can be saved during and after training. This means a model can resume where it left off and avoid long training times. Saving also means you can share your model and others can recreate your work. When publishing research models and techniques, most machine learning practitioners share:\n",
    "\n",
    "* code to create the model, and\n",
    "* the trained weights, or parameters, for the model\n",
    "\n",
    "Sharing this data helps others understand how the model works and try it themselves with new data.\n",
    "\n",
    "Caution: TensorFlow models are code and it is important to be careful with untrusted code. See [Using TensorFlow Securely](https://github.com/tensorflow/tensorflow/blob/master/SECURITY.md) for details.\n",
    "\n",
    "### Options\n",
    "\n",
    "There are different ways to save TensorFlow models depending on the API you're using. This guide uses [tf.keras](https://www.tensorflow.org/guide/keras), a high-level API to build and train models in TensorFlow. For other approaches see the TensorFlow [Save and Restore](https://www.tensorflow.org/guide/saved_model) guide or [Saving in eager](https://www.tensorflow.org/guide/eager#object-based_saving)."
   ],
   "metadata": {
    "id": "mBdde4YJeJKF"
   }
  },
  {
   "cell_type": "markdown",
   "source": [
    "## Setup\n",
    "\n",
    "### Installs and imports"
   ],
   "metadata": {
    "id": "xCUREq7WXgvg"
   }
  },
  {
   "cell_type": "markdown",
   "source": [
    "Install and import TensorFlow and dependencies:"
   ],
   "metadata": {
    "id": "7l0MiTOrXtNv"
   }
  },
  {
   "cell_type": "code",
   "execution_count": 3,
   "source": [
    "#!pip install pyyaml h5py  # Required to save models in HDF5 format"
   ],
   "outputs": [],
   "metadata": {
    "execution": {
     "iopub.execute_input": "2021-06-16T14:32:23.767720Z",
     "iopub.status.busy": "2021-06-16T14:32:23.765192Z",
     "iopub.status.idle": "2021-06-16T14:32:25.053738Z",
     "shell.execute_reply": "2021-06-16T14:32:25.054135Z"
    },
    "id": "RzIOVSdnMYyO"
   }
  },
  {
   "cell_type": "code",
   "execution_count": 4,
   "source": [
    "import os\n",
    "\n",
    "import tensorflow as tf\n",
    "from tensorflow import keras\n",
    "\n",
    "print(tf.version.VERSION)"
   ],
   "outputs": [
    {
     "output_type": "stream",
     "name": "stderr",
     "text": [
      "2021-07-29 09:16:04.150482: W tensorflow/stream_executor/platform/default/dso_loader.cc:64] Could not load dynamic library 'libcudart.so.11.0'; dlerror: libcudart.so.11.0: cannot open shared object file: No such file or directory\n",
      "2021-07-29 09:16:04.150505: I tensorflow/stream_executor/cuda/cudart_stub.cc:29] Ignore above cudart dlerror if you do not have a GPU set up on your machine.\n"
     ]
    },
    {
     "output_type": "stream",
     "name": "stdout",
     "text": [
      "2.5.0\n"
     ]
    }
   ],
   "metadata": {
    "execution": {
     "iopub.execute_input": "2021-06-16T14:32:25.058677Z",
     "iopub.status.busy": "2021-06-16T14:32:25.058091Z",
     "iopub.status.idle": "2021-06-16T14:32:26.577212Z",
     "shell.execute_reply": "2021-06-16T14:32:26.576662Z"
    },
    "id": "7Nm7Tyb-gRt-"
   }
  },
  {
   "cell_type": "markdown",
   "source": [
    "### Get an example dataset\n",
    "\n",
    "To demonstrate how to save and load weights, you'll use the [MNIST dataset](http://yann.lecun.com/exdb/mnist/). To speed up these runs, use the first 1000 examples:"
   ],
   "metadata": {
    "id": "SbGsznErXWt6"
   }
  },
  {
   "cell_type": "code",
   "execution_count": 5,
   "source": [
    "(train_images, train_labels), (test_images, test_labels) = tf.keras.datasets.mnist.load_data()\n",
    "\n",
    "train_labels = train_labels[:1000]\n",
    "test_labels = test_labels[:1000]\n",
    "\n",
    "train_images = train_images[:1000].reshape(-1, 28 * 28) / 255.0\n",
    "test_images = test_images[:1000].reshape(-1, 28 * 28) / 255.0"
   ],
   "outputs": [],
   "metadata": {
    "execution": {
     "iopub.execute_input": "2021-06-16T14:32:26.582876Z",
     "iopub.status.busy": "2021-06-16T14:32:26.581733Z",
     "iopub.status.idle": "2021-06-16T14:32:27.723918Z",
     "shell.execute_reply": "2021-06-16T14:32:27.724356Z"
    },
    "id": "9rGfFwE9XVwz"
   }
  },
  {
   "cell_type": "markdown",
   "source": [
    "### Define a model"
   ],
   "metadata": {
    "id": "anG3iVoXyZGI"
   }
  },
  {
   "cell_type": "markdown",
   "source": [
    "Start by building a simple sequential model:"
   ],
   "metadata": {
    "id": "wynsOBfby0Pa"
   }
  },
  {
   "cell_type": "code",
   "execution_count": 6,
   "source": [
    "# Define a simple sequential model\n",
    "def create_model():\n",
    "  model = tf.keras.models.Sequential([\n",
    "    keras.layers.Dense(512, activation='relu', input_shape=(784,)),\n",
    "    keras.layers.Dropout(0.2),\n",
    "    keras.layers.Dense(10)\n",
    "  ])\n",
    "\n",
    "  model.compile(optimizer='adam',\n",
    "                loss=tf.losses.SparseCategoricalCrossentropy(from_logits=True),\n",
    "                metrics=[tf.metrics.SparseCategoricalAccuracy()])\n",
    "\n",
    "  return model\n",
    "\n",
    "# Create a basic model instance\n",
    "model = create_model()\n",
    "\n",
    "# Display the model's architecture\n",
    "model.summary()"
   ],
   "outputs": [
    {
     "output_type": "stream",
     "name": "stdout",
     "text": [
      "Model: \"sequential\"\n",
      "_________________________________________________________________\n",
      "Layer (type)                 Output Shape              Param #   \n",
      "=================================================================\n",
      "dense (Dense)                (None, 512)               401920    \n",
      "_________________________________________________________________\n",
      "dropout (Dropout)            (None, 512)               0         \n",
      "_________________________________________________________________\n",
      "dense_1 (Dense)              (None, 10)                5130      \n",
      "=================================================================\n",
      "Total params: 407,050\n",
      "Trainable params: 407,050\n",
      "Non-trainable params: 0\n",
      "_________________________________________________________________\n"
     ]
    },
    {
     "output_type": "stream",
     "name": "stderr",
     "text": [
      "2021-07-29 09:16:10.192448: W tensorflow/stream_executor/platform/default/dso_loader.cc:64] Could not load dynamic library 'libcuda.so.1'; dlerror: libcuda.so.1: cannot open shared object file: No such file or directory\n",
      "2021-07-29 09:16:10.192477: W tensorflow/stream_executor/cuda/cuda_driver.cc:326] failed call to cuInit: UNKNOWN ERROR (303)\n",
      "2021-07-29 09:16:10.192501: I tensorflow/stream_executor/cuda/cuda_diagnostics.cc:156] kernel driver does not appear to be running on this host (masternode): /proc/driver/nvidia/version does not exist\n",
      "2021-07-29 09:16:10.192798: I tensorflow/core/platform/cpu_feature_guard.cc:142] This TensorFlow binary is optimized with oneAPI Deep Neural Network Library (oneDNN) to use the following CPU instructions in performance-critical operations:  AVX2 FMA\n",
      "To enable them in other operations, rebuild TensorFlow with the appropriate compiler flags.\n"
     ]
    }
   ],
   "metadata": {
    "execution": {
     "iopub.execute_input": "2021-06-16T14:32:27.730011Z",
     "iopub.status.busy": "2021-06-16T14:32:27.729379Z",
     "iopub.status.idle": "2021-06-16T14:32:29.380832Z",
     "shell.execute_reply": "2021-06-16T14:32:29.380348Z"
    },
    "id": "0HZbJIjxyX1S"
   }
  },
  {
   "cell_type": "markdown",
   "source": [
    "## Save checkpoints during training"
   ],
   "metadata": {
    "id": "soDE0W_KH8rG"
   }
  },
  {
   "cell_type": "markdown",
   "source": [
    "You can use a trained model without having to retrain it, or pick-up training where you left off in case the training process was interrupted. The `tf.keras.callbacks.ModelCheckpoint` callback allows you to continually save the model both *during* and at *the end* of training.\n",
    "\n",
    "### Checkpoint callback usage\n",
    "\n",
    "Create a `tf.keras.callbacks.ModelCheckpoint` callback that saves weights only during training:"
   ],
   "metadata": {
    "id": "mRyd5qQQIXZm"
   }
  },
  {
   "cell_type": "code",
   "execution_count": 7,
   "source": [
    "checkpoint_path = \"training_1/cp.ckpt\"\n",
    "checkpoint_dir = os.path.dirname(checkpoint_path)\n",
    "\n",
    "# Create a callback that saves the model's weights\n",
    "cp_callback = tf.keras.callbacks.ModelCheckpoint(filepath=checkpoint_path,\n",
    "                                                 save_weights_only=True,\n",
    "                                                 verbose=1)\n",
    "\n",
    "# Train the model with the new callback\n",
    "model.fit(train_images, \n",
    "          train_labels,  \n",
    "          epochs=10,\n",
    "          validation_data=(test_images, test_labels),\n",
    "          callbacks=[cp_callback])  # Pass callback to training\n",
    "\n",
    "# This may generate warnings related to saving the state of the optimizer.\n",
    "# These warnings (and similar warnings throughout this notebook)\n",
    "# are in place to discourage outdated usage, and can be ignored."
   ],
   "outputs": [
    {
     "output_type": "stream",
     "name": "stderr",
     "text": [
      "2021-07-29 09:16:14.855488: I tensorflow/compiler/mlir/mlir_graph_optimization_pass.cc:176] None of the MLIR Optimization Passes are enabled (registered 2)\n",
      "2021-07-29 09:16:14.874433: I tensorflow/core/platform/profile_utils/cpu_utils.cc:114] CPU Frequency: 1800000000 Hz\n"
     ]
    },
    {
     "output_type": "stream",
     "name": "stdout",
     "text": [
      "Epoch 1/10\n",
      "32/32 [==============================] - 1s 8ms/step - loss: 1.1721 - sparse_categorical_accuracy: 0.6530 - val_loss: 0.6788 - val_sparse_categorical_accuracy: 0.7990\n",
      "\n",
      "Epoch 00001: saving model to training_1/cp.ckpt\n",
      "Epoch 2/10\n",
      "32/32 [==============================] - 0s 5ms/step - loss: 0.4280 - sparse_categorical_accuracy: 0.8800 - val_loss: 0.5389 - val_sparse_categorical_accuracy: 0.8250\n",
      "\n",
      "Epoch 00002: saving model to training_1/cp.ckpt\n",
      "Epoch 3/10\n",
      "32/32 [==============================] - 0s 5ms/step - loss: 0.2850 - sparse_categorical_accuracy: 0.9310 - val_loss: 0.4875 - val_sparse_categorical_accuracy: 0.8400\n",
      "\n",
      "Epoch 00003: saving model to training_1/cp.ckpt\n",
      "Epoch 4/10\n",
      "32/32 [==============================] - 0s 7ms/step - loss: 0.2019 - sparse_categorical_accuracy: 0.9530 - val_loss: 0.4459 - val_sparse_categorical_accuracy: 0.8520\n",
      "\n",
      "Epoch 00004: saving model to training_1/cp.ckpt\n",
      "Epoch 5/10\n",
      "32/32 [==============================] - 0s 6ms/step - loss: 0.1533 - sparse_categorical_accuracy: 0.9640 - val_loss: 0.4185 - val_sparse_categorical_accuracy: 0.8600\n",
      "\n",
      "Epoch 00005: saving model to training_1/cp.ckpt\n",
      "Epoch 6/10\n",
      "32/32 [==============================] - 0s 6ms/step - loss: 0.1274 - sparse_categorical_accuracy: 0.9710 - val_loss: 0.4156 - val_sparse_categorical_accuracy: 0.8650\n",
      "\n",
      "Epoch 00006: saving model to training_1/cp.ckpt\n",
      "Epoch 7/10\n",
      "32/32 [==============================] - 0s 5ms/step - loss: 0.0921 - sparse_categorical_accuracy: 0.9820 - val_loss: 0.4221 - val_sparse_categorical_accuracy: 0.8530\n",
      "\n",
      "Epoch 00007: saving model to training_1/cp.ckpt\n",
      "Epoch 8/10\n",
      "32/32 [==============================] - 0s 6ms/step - loss: 0.0720 - sparse_categorical_accuracy: 0.9880 - val_loss: 0.3949 - val_sparse_categorical_accuracy: 0.8710\n",
      "\n",
      "Epoch 00008: saving model to training_1/cp.ckpt\n",
      "Epoch 9/10\n",
      "32/32 [==============================] - 0s 6ms/step - loss: 0.0569 - sparse_categorical_accuracy: 0.9960 - val_loss: 0.3945 - val_sparse_categorical_accuracy: 0.8700\n",
      "\n",
      "Epoch 00009: saving model to training_1/cp.ckpt\n",
      "Epoch 10/10\n",
      "32/32 [==============================] - 0s 6ms/step - loss: 0.0404 - sparse_categorical_accuracy: 1.0000 - val_loss: 0.4229 - val_sparse_categorical_accuracy: 0.8660\n",
      "\n",
      "Epoch 00010: saving model to training_1/cp.ckpt\n"
     ]
    },
    {
     "output_type": "execute_result",
     "data": {
      "text/plain": [
       "<tensorflow.python.keras.callbacks.History at 0x7f5f985d3f10>"
      ]
     },
     "metadata": {},
     "execution_count": 7
    }
   ],
   "metadata": {
    "execution": {
     "iopub.execute_input": "2021-06-16T14:32:29.386332Z",
     "iopub.status.busy": "2021-06-16T14:32:29.385762Z",
     "iopub.status.idle": "2021-06-16T14:32:32.041677Z",
     "shell.execute_reply": "2021-06-16T14:32:32.042141Z"
    },
    "id": "IFPuhwntH8VH"
   }
  },
  {
   "cell_type": "markdown",
   "source": [
    "This creates a single collection of TensorFlow checkpoint files that are updated at the end of each epoch:"
   ],
   "metadata": {
    "id": "rlM-sgyJO084"
   }
  },
  {
   "cell_type": "code",
   "execution_count": 8,
   "source": [
    "os.listdir(checkpoint_dir)"
   ],
   "outputs": [
    {
     "output_type": "execute_result",
     "data": {
      "text/plain": [
       "['cp.ckpt.data-00000-of-00001', 'cp.ckpt.index', 'checkpoint']"
      ]
     },
     "metadata": {},
     "execution_count": 8
    }
   ],
   "metadata": {
    "execution": {
     "iopub.execute_input": "2021-06-16T14:32:32.046761Z",
     "iopub.status.busy": "2021-06-16T14:32:32.046083Z",
     "iopub.status.idle": "2021-06-16T14:32:32.048747Z",
     "shell.execute_reply": "2021-06-16T14:32:32.049151Z"
    },
    "id": "gXG5FVKFOVQ3"
   }
  },
  {
   "cell_type": "markdown",
   "source": [
    "As long as two models share the same architecture you can share weights between them. So, when restoring a model from weights-only, create a model with the same architecture as the original model and then set its weights. \n",
    "\n",
    "Now rebuild a fresh, untrained model and evaluate it on the test set. An untrained model will perform at chance levels (~10% accuracy):"
   ],
   "metadata": {
    "id": "wlRN_f56Pqa9"
   }
  },
  {
   "cell_type": "code",
   "execution_count": 9,
   "source": [
    "# Create a basic model instance\n",
    "model = create_model()\n",
    "\n",
    "# Evaluate the model\n",
    "loss, acc = model.evaluate(test_images, test_labels, verbose=2)\n",
    "print(\"Untrained model, accuracy: {:5.2f}%\".format(100 * acc))"
   ],
   "outputs": [
    {
     "output_type": "stream",
     "name": "stdout",
     "text": [
      "32/32 - 0s - loss: 2.3330 - sparse_categorical_accuracy: 0.1250\n",
      "Untrained model, accuracy: 12.50%\n"
     ]
    }
   ],
   "metadata": {
    "execution": {
     "iopub.execute_input": "2021-06-16T14:32:32.055801Z",
     "iopub.status.busy": "2021-06-16T14:32:32.055165Z",
     "iopub.status.idle": "2021-06-16T14:32:32.226570Z",
     "shell.execute_reply": "2021-06-16T14:32:32.226950Z"
    },
    "id": "Fp5gbuiaPqCT"
   }
  },
  {
   "cell_type": "markdown",
   "source": [
    "Then load the weights from the checkpoint and re-evaluate:"
   ],
   "metadata": {
    "id": "1DTKpZssRSo3"
   }
  },
  {
   "cell_type": "code",
   "execution_count": 10,
   "source": [
    "# Loads the weights\n",
    "model.load_weights(checkpoint_path)\n",
    "\n",
    "# Re-evaluate the model\n",
    "loss, acc = model.evaluate(test_images, test_labels, verbose=2)\n",
    "print(\"Restored model, accuracy: {:5.2f}%\".format(100 * acc))"
   ],
   "outputs": [
    {
     "output_type": "stream",
     "name": "stdout",
     "text": [
      "32/32 - 0s - loss: 0.4229 - sparse_categorical_accuracy: 0.8660\n",
      "Restored model, accuracy: 86.60%\n"
     ]
    }
   ],
   "metadata": {
    "execution": {
     "iopub.execute_input": "2021-06-16T14:32:32.232699Z",
     "iopub.status.busy": "2021-06-16T14:32:32.232085Z",
     "iopub.status.idle": "2021-06-16T14:32:32.328434Z",
     "shell.execute_reply": "2021-06-16T14:32:32.328788Z"
    },
    "id": "2IZxbwiRRSD2"
   }
  },
  {
   "cell_type": "markdown",
   "source": [
    "### Checkpoint callback options\n",
    "\n",
    "The callback provides several options to provide unique names for checkpoints and adjust the checkpointing frequency.\n",
    "\n",
    "Train a new model, and save uniquely named checkpoints once every five epochs:"
   ],
   "metadata": {
    "id": "bpAbKkAyVPV8"
   }
  },
  {
   "cell_type": "code",
   "execution_count": 11,
   "source": [
    "# Include the epoch in the file name (uses `str.format`)\n",
    "checkpoint_path = \"training_2/cp-{epoch:04d}.ckpt\"\n",
    "checkpoint_dir = os.path.dirname(checkpoint_path)\n",
    "\n",
    "batch_size = 32\n",
    "\n",
    "# Create a callback that saves the model's weights every 5 epochs\n",
    "cp_callback = tf.keras.callbacks.ModelCheckpoint(\n",
    "    filepath=checkpoint_path, \n",
    "    verbose=1, \n",
    "    save_weights_only=True,\n",
    "    save_freq=5*batch_size)\n",
    "\n",
    "# Create a new model instance\n",
    "model = create_model()\n",
    "\n",
    "# Save the weights using the `checkpoint_path` format\n",
    "model.save_weights(checkpoint_path.format(epoch=0))\n",
    "\n",
    "# Train the model with the new callback\n",
    "model.fit(train_images, \n",
    "          train_labels,\n",
    "          epochs=50, \n",
    "          batch_size=batch_size, \n",
    "          callbacks=[cp_callback],\n",
    "          validation_data=(test_images, test_labels),\n",
    "          verbose=0)"
   ],
   "outputs": [
    {
     "output_type": "stream",
     "name": "stdout",
     "text": [
      "\n",
      "Epoch 00005: saving model to training_2/cp-0005.ckpt\n",
      "\n",
      "Epoch 00010: saving model to training_2/cp-0010.ckpt\n",
      "\n",
      "Epoch 00015: saving model to training_2/cp-0015.ckpt\n",
      "\n",
      "Epoch 00020: saving model to training_2/cp-0020.ckpt\n",
      "\n",
      "Epoch 00025: saving model to training_2/cp-0025.ckpt\n",
      "\n",
      "Epoch 00030: saving model to training_2/cp-0030.ckpt\n",
      "\n",
      "Epoch 00035: saving model to training_2/cp-0035.ckpt\n",
      "\n",
      "Epoch 00040: saving model to training_2/cp-0040.ckpt\n",
      "\n",
      "Epoch 00045: saving model to training_2/cp-0045.ckpt\n",
      "WARNING:tensorflow:Unresolved object in checkpoint: (root).optimizer.iter\n",
      "WARNING:tensorflow:Unresolved object in checkpoint: (root).optimizer.beta_1\n",
      "WARNING:tensorflow:Unresolved object in checkpoint: (root).optimizer.beta_2\n",
      "WARNING:tensorflow:Unresolved object in checkpoint: (root).optimizer.decay\n",
      "WARNING:tensorflow:Unresolved object in checkpoint: (root).optimizer.learning_rate\n",
      "WARNING:tensorflow:A checkpoint was restored (e.g. tf.train.Checkpoint.restore or tf.keras.Model.load_weights) but not all checkpointed values were used. See above for specific issues. Use expect_partial() on the load status object, e.g. tf.train.Checkpoint.restore(...).expect_partial(), to silence these warnings, or use assert_consumed() to make the check explicit. See https://www.tensorflow.org/guide/checkpoint#loading_mechanics for details.\n",
      "\n",
      "Epoch 00050: saving model to training_2/cp-0050.ckpt\n"
     ]
    },
    {
     "output_type": "execute_result",
     "data": {
      "text/plain": [
       "<tensorflow.python.keras.callbacks.History at 0x7f5f905e6d60>"
      ]
     },
     "metadata": {},
     "execution_count": 11
    }
   ],
   "metadata": {
    "execution": {
     "iopub.execute_input": "2021-06-16T14:32:32.336867Z",
     "iopub.status.busy": "2021-06-16T14:32:32.335926Z",
     "iopub.status.idle": "2021-06-16T14:32:38.094823Z",
     "shell.execute_reply": "2021-06-16T14:32:38.095327Z"
    },
    "id": "mQF_dlgIVOvq"
   }
  },
  {
   "cell_type": "markdown",
   "source": [
    "Now, look at the resulting checkpoints and choose the latest one:"
   ],
   "metadata": {
    "id": "1zFrKTjjavWI"
   }
  },
  {
   "cell_type": "code",
   "execution_count": 12,
   "source": [
    "os.listdir(checkpoint_dir)"
   ],
   "outputs": [
    {
     "output_type": "execute_result",
     "data": {
      "text/plain": [
       "['cp-0005.ckpt.data-00000-of-00001',\n",
       " 'cp-0025.ckpt.data-00000-of-00001',\n",
       " 'cp-0035.ckpt.data-00000-of-00001',\n",
       " 'cp-0000.ckpt.index',\n",
       " 'cp-0040.ckpt.data-00000-of-00001',\n",
       " 'cp-0050.ckpt.index',\n",
       " 'cp-0045.ckpt.index',\n",
       " 'cp-0000.ckpt.data-00000-of-00001',\n",
       " 'cp-0040.ckpt.index',\n",
       " 'cp-0035.ckpt.index',\n",
       " 'cp-0050.ckpt.data-00000-of-00001',\n",
       " 'cp-0015.ckpt.data-00000-of-00001',\n",
       " 'cp-0045.ckpt.data-00000-of-00001',\n",
       " 'cp-0030.ckpt.data-00000-of-00001',\n",
       " 'cp-0010.ckpt.data-00000-of-00001',\n",
       " 'cp-0020.ckpt.data-00000-of-00001',\n",
       " 'cp-0030.ckpt.index',\n",
       " 'checkpoint',\n",
       " 'cp-0020.ckpt.index',\n",
       " 'cp-0025.ckpt.index',\n",
       " 'cp-0015.ckpt.index',\n",
       " 'cp-0010.ckpt.index',\n",
       " 'cp-0005.ckpt.index']"
      ]
     },
     "metadata": {},
     "execution_count": 12
    }
   ],
   "metadata": {
    "execution": {
     "iopub.execute_input": "2021-06-16T14:32:38.099160Z",
     "iopub.status.busy": "2021-06-16T14:32:38.098520Z",
     "iopub.status.idle": "2021-06-16T14:32:38.101841Z",
     "shell.execute_reply": "2021-06-16T14:32:38.102229Z"
    },
    "id": "p64q3-V4sXt0"
   }
  },
  {
   "cell_type": "code",
   "execution_count": 13,
   "source": [
    "latest = tf.train.latest_checkpoint(checkpoint_dir)\n",
    "latest"
   ],
   "outputs": [
    {
     "output_type": "execute_result",
     "data": {
      "text/plain": [
       "'training_2/cp-0050.ckpt'"
      ]
     },
     "metadata": {},
     "execution_count": 13
    }
   ],
   "metadata": {
    "execution": {
     "iopub.execute_input": "2021-06-16T14:32:38.105685Z",
     "iopub.status.busy": "2021-06-16T14:32:38.105105Z",
     "iopub.status.idle": "2021-06-16T14:32:38.108550Z",
     "shell.execute_reply": "2021-06-16T14:32:38.108908Z"
    },
    "id": "1AN_fnuyR41H"
   }
  },
  {
   "cell_type": "markdown",
   "source": [
    "Note: the default TensorFlow format only saves the 5 most recent checkpoints.\n",
    "\n",
    "To test, reset the model and load the latest checkpoint:"
   ],
   "metadata": {
    "id": "Zk2ciGbKg561"
   }
  },
  {
   "cell_type": "code",
   "execution_count": 14,
   "source": [
    "# Create a new model instance\n",
    "model = create_model()\n",
    "\n",
    "# Load the previously saved weights\n",
    "model.load_weights(latest)\n",
    "\n",
    "# Re-evaluate the model\n",
    "loss, acc = model.evaluate(test_images, test_labels, verbose=2)\n",
    "print(\"Restored model, accuracy: {:5.2f}%\".format(100 * acc))"
   ],
   "outputs": [
    {
     "output_type": "stream",
     "name": "stdout",
     "text": [
      "32/32 - 0s - loss: 0.4914 - sparse_categorical_accuracy: 0.8730\n",
      "Restored model, accuracy: 87.30%\n"
     ]
    }
   ],
   "metadata": {
    "execution": {
     "iopub.execute_input": "2021-06-16T14:32:38.115505Z",
     "iopub.status.busy": "2021-06-16T14:32:38.114897Z",
     "iopub.status.idle": "2021-06-16T14:32:38.295246Z",
     "shell.execute_reply": "2021-06-16T14:32:38.295739Z"
    },
    "id": "3M04jyK-H3QK"
   }
  },
  {
   "cell_type": "markdown",
   "source": [
    "## What are these files?"
   ],
   "metadata": {
    "id": "c2OxsJOTHxia"
   }
  },
  {
   "cell_type": "markdown",
   "source": [
    "The above code stores the weights to a collection of [checkpoint](https://www.tensorflow.org/guide/saved_model#save_and_restore_variables)-formatted files that contain only the trained weights in a binary format. Checkpoints contain:\n",
    "* One or more shards that contain your model's weights.\n",
    "* An index file that indicates which weights are stored in which shard.\n",
    "\n",
    "If you are training a model on a single machine, you'll have one shard with the suffix: `.data-00000-of-00001`"
   ],
   "metadata": {
    "id": "JtdYhvWnH2ib"
   }
  },
  {
   "cell_type": "markdown",
   "source": [
    "## Manually save weights\n",
    "\n",
    "Manually saving weights with the `Model.save_weights` method. By default, `tf.keras`—and `save_weights` in particular—uses the TensorFlow [checkpoint](../../guide/checkpoint.ipynb) format with a `.ckpt` extension (saving in [HDF5](https://js.tensorflow.org/tutorials/import-keras.html) with a `.h5` extension is covered in the [Save and serialize models](../../guide/keras/save_and_serialize#weights-only_saving_in_savedmodel_format) guide):"
   ],
   "metadata": {
    "id": "S_FA-ZvxuXQV"
   }
  },
  {
   "cell_type": "code",
   "execution_count": 15,
   "source": [
    "# Save the weights\n",
    "model.save_weights('./checkpoints/my_checkpoint')\n",
    "\n",
    "# Create a new model instance\n",
    "model = create_model()\n",
    "\n",
    "# Restore the weights\n",
    "model.load_weights('./checkpoints/my_checkpoint')\n",
    "\n",
    "# Evaluate the model\n",
    "loss, acc = model.evaluate(test_images, test_labels, verbose=2)\n",
    "print(\"Restored model, accuracy: {:5.2f}%\".format(100 * acc))"
   ],
   "outputs": [
    {
     "output_type": "stream",
     "name": "stdout",
     "text": [
      "32/32 - 0s - loss: 0.4914 - sparse_categorical_accuracy: 0.8730\n",
      "Restored model, accuracy: 87.30%\n"
     ]
    }
   ],
   "metadata": {
    "execution": {
     "iopub.execute_input": "2021-06-16T14:32:38.303113Z",
     "iopub.status.busy": "2021-06-16T14:32:38.302346Z",
     "iopub.status.idle": "2021-06-16T14:32:38.496928Z",
     "shell.execute_reply": "2021-06-16T14:32:38.497292Z"
    },
    "id": "R7W5plyZ-u9X"
   }
  },
  {
   "cell_type": "markdown",
   "source": [
    "## Save the entire model\n",
    "\n",
    "Call [`model.save`](https://www.tensorflow.org/api_docs/python/tf/keras/Model#save) to save a model's architecture, weights, and training configuration in a single file/folder. This allows you to export a model so it can be used without access to the original Python code*. Since the optimizer-state is recovered, you can resume training from exactly where you left off.\n",
    "\n",
    "An entire model can be saved in two different file formats (`SavedModel` and `HDF5`). The TensorFlow `SavedModel` format is the default file format in TF2.x. However, models can be saved in `HDF5` format. More details on saving entire models in the two file formats is described below.\n",
    "\n",
    "Saving a fully-functional model is very useful—you can load them in TensorFlow.js ([Saved Model](https://www.tensorflow.org/js/tutorials/conversion/import_saved_model), [HDF5](https://www.tensorflow.org/js/tutorials/conversion/import_keras)) and then train and run them in web browsers, or convert them to run on mobile devices using TensorFlow Lite ([Saved Model](https://www.tensorflow.org/lite/convert/python_api#converting_a_savedmodel_), [HDF5](https://www.tensorflow.org/lite/convert/python_api#converting_a_keras_model_))\n",
    "\n",
    "\\*Custom objects (e.g. subclassed models or layers) require special attention when saving and loading. See the **Saving custom objects** section below "
   ],
   "metadata": {
    "id": "kOGlxPRBEvV1"
   }
  },
  {
   "cell_type": "markdown",
   "source": [
    "### SavedModel format"
   ],
   "metadata": {
    "id": "kPyhgcoVzqUB"
   }
  },
  {
   "cell_type": "markdown",
   "source": [
    "The SavedModel format is another way to serialize models. Models saved in this format can be restored using `tf.keras.models.load_model` and are compatible with TensorFlow Serving. The [SavedModel guide](https://www.tensorflow.org/guide/saved_model) goes into detail about how to serve/inspect the SavedModel. The section below illustrates the steps to save and restore the model."
   ],
   "metadata": {
    "id": "LtcN4VIb7JkK"
   }
  },
  {
   "cell_type": "code",
   "execution_count": 16,
   "source": [
    "# Create and train a new model instance.\n",
    "model = create_model()\n",
    "model.fit(train_images, train_labels, epochs=5)\n",
    "\n",
    "# Save the entire model as a SavedModel.\n",
    "!mkdir -p saved_model\n",
    "model.save('saved_model/my_model') "
   ],
   "outputs": [
    {
     "output_type": "stream",
     "name": "stdout",
     "text": [
      "WARNING:tensorflow:Unresolved object in checkpoint: (root).optimizer.iter\n",
      "WARNING:tensorflow:Unresolved object in checkpoint: (root).optimizer.beta_1\n",
      "WARNING:tensorflow:Unresolved object in checkpoint: (root).optimizer.beta_2\n",
      "WARNING:tensorflow:Unresolved object in checkpoint: (root).optimizer.decay\n",
      "WARNING:tensorflow:Unresolved object in checkpoint: (root).optimizer.learning_rate\n",
      "WARNING:tensorflow:A checkpoint was restored (e.g. tf.train.Checkpoint.restore or tf.keras.Model.load_weights) but not all checkpointed values were used. See above for specific issues. Use expect_partial() on the load status object, e.g. tf.train.Checkpoint.restore(...).expect_partial(), to silence these warnings, or use assert_consumed() to make the check explicit. See https://www.tensorflow.org/guide/checkpoint#loading_mechanics for details.\n",
      "Epoch 1/5\n",
      "32/32 [==============================] - 0s 3ms/step - loss: 1.1885 - sparse_categorical_accuracy: 0.6790\n",
      "Epoch 2/5\n",
      "32/32 [==============================] - 0s 3ms/step - loss: 0.4311 - sparse_categorical_accuracy: 0.8790\n",
      "Epoch 3/5\n",
      "32/32 [==============================] - 0s 3ms/step - loss: 0.2876 - sparse_categorical_accuracy: 0.9270\n",
      "Epoch 4/5\n",
      "32/32 [==============================] - 0s 3ms/step - loss: 0.2155 - sparse_categorical_accuracy: 0.9450\n",
      "Epoch 5/5\n",
      "32/32 [==============================] - 0s 3ms/step - loss: 0.1582 - sparse_categorical_accuracy: 0.9620\n"
     ]
    },
    {
     "output_type": "stream",
     "name": "stderr",
     "text": [
      "2021-07-29 09:16:48.751546: W tensorflow/python/util/util.cc:348] Sets are not currently considered sequences, but this may change in the future, so consider avoiding using them.\n"
     ]
    },
    {
     "output_type": "stream",
     "name": "stdout",
     "text": [
      "INFO:tensorflow:Assets written to: saved_model/my_model/assets\n"
     ]
    }
   ],
   "metadata": {
    "execution": {
     "iopub.execute_input": "2021-06-16T14:32:38.505172Z",
     "iopub.status.busy": "2021-06-16T14:32:38.504476Z",
     "iopub.status.idle": "2021-06-16T14:32:39.899539Z",
     "shell.execute_reply": "2021-06-16T14:32:39.898908Z"
    },
    "id": "sI1YvCDFzpl3"
   }
  },
  {
   "cell_type": "markdown",
   "source": [
    "The SavedModel format is a directory containing a protobuf binary and a TensorFlow checkpoint. Inspect the saved model directory:"
   ],
   "metadata": {
    "id": "iUvT_3qE8hV5"
   }
  },
  {
   "cell_type": "code",
   "execution_count": 17,
   "source": [
    "# my_model directory\n",
    "!ls saved_model\n",
    "\n",
    "# Contains an assets folder, saved_model.pb, and variables folder.\n",
    "!ls saved_model/my_model"
   ],
   "outputs": [
    {
     "output_type": "stream",
     "name": "stdout",
     "text": [
      "my_model\n",
      "assets\tkeras_metadata.pb  saved_model.pb  variables\n"
     ]
    }
   ],
   "metadata": {
    "execution": {
     "iopub.execute_input": "2021-06-16T14:32:39.917081Z",
     "iopub.status.busy": "2021-06-16T14:32:39.904103Z",
     "iopub.status.idle": "2021-06-16T14:32:40.177976Z",
     "shell.execute_reply": "2021-06-16T14:32:40.177343Z"
    },
    "id": "sq8fPglI1RWA"
   }
  },
  {
   "cell_type": "markdown",
   "source": [
    "Reload a fresh Keras model from the saved model:"
   ],
   "metadata": {
    "id": "B7qfpvpY9HCe"
   }
  },
  {
   "cell_type": "code",
   "execution_count": 18,
   "source": [
    "new_model = tf.keras.models.load_model('saved_model/my_model')\n",
    "\n",
    "# Check its architecture\n",
    "new_model.summary()"
   ],
   "outputs": [
    {
     "output_type": "stream",
     "name": "stdout",
     "text": [
      "Model: \"sequential_5\"\n",
      "_________________________________________________________________\n",
      "Layer (type)                 Output Shape              Param #   \n",
      "=================================================================\n",
      "dense_10 (Dense)             (None, 512)               401920    \n",
      "_________________________________________________________________\n",
      "dropout_5 (Dropout)          (None, 512)               0         \n",
      "_________________________________________________________________\n",
      "dense_11 (Dense)             (None, 10)                5130      \n",
      "=================================================================\n",
      "Total params: 407,050\n",
      "Trainable params: 407,050\n",
      "Non-trainable params: 0\n",
      "_________________________________________________________________\n"
     ]
    }
   ],
   "metadata": {
    "execution": {
     "iopub.execute_input": "2021-06-16T14:32:40.183502Z",
     "iopub.status.busy": "2021-06-16T14:32:40.182725Z",
     "iopub.status.idle": "2021-06-16T14:32:40.371538Z",
     "shell.execute_reply": "2021-06-16T14:32:40.371910Z"
    },
    "id": "0YofwHdN0pxa"
   }
  },
  {
   "cell_type": "markdown",
   "source": [
    "The restored model is compiled with the same arguments as the original model. Try running evaluate and predict with the loaded model:"
   ],
   "metadata": {
    "id": "uWwgNaz19TH2"
   }
  },
  {
   "cell_type": "code",
   "execution_count": 19,
   "source": [
    "# Evaluate the restored model\n",
    "loss, acc = new_model.evaluate(test_images, test_labels, verbose=2)\n",
    "print('Restored model, accuracy: {:5.2f}%'.format(100 * acc))\n",
    "\n",
    "print(new_model.predict(test_images).shape)"
   ],
   "outputs": [
    {
     "output_type": "stream",
     "name": "stdout",
     "text": [
      "32/32 - 0s - loss: 0.4391 - sparse_categorical_accuracy: 0.8580\n",
      "Restored model, accuracy: 85.80%\n",
      "(1000, 10)\n"
     ]
    }
   ],
   "metadata": {
    "execution": {
     "iopub.execute_input": "2021-06-16T14:32:40.376548Z",
     "iopub.status.busy": "2021-06-16T14:32:40.375938Z",
     "iopub.status.idle": "2021-06-16T14:32:40.640027Z",
     "shell.execute_reply": "2021-06-16T14:32:40.640429Z"
    },
    "id": "Yh5Mu0yOgE5J"
   }
  },
  {
   "cell_type": "markdown",
   "source": [
    "### HDF5 format\n",
    "\n",
    "Keras provides a basic save format using the [HDF5](https://en.wikipedia.org/wiki/Hierarchical_Data_Format) standard. "
   ],
   "metadata": {
    "id": "SkGwf-50zLNn"
   }
  },
  {
   "cell_type": "code",
   "execution_count": 20,
   "source": [
    "# Create and train a new model instance.\n",
    "model = create_model()\n",
    "model.fit(train_images, train_labels, epochs=5)\n",
    "\n",
    "# Save the entire model to a HDF5 file.\n",
    "# The '.h5' extension indicates that the model should be saved to HDF5.\n",
    "model.save('my_model.h5') "
   ],
   "outputs": [
    {
     "output_type": "stream",
     "name": "stdout",
     "text": [
      "Epoch 1/5\n",
      "32/32 [==============================] - 0s 3ms/step - loss: 1.1594 - sparse_categorical_accuracy: 0.6710\n",
      "Epoch 2/5\n",
      "32/32 [==============================] - 0s 3ms/step - loss: 0.4204 - sparse_categorical_accuracy: 0.8860\n",
      "Epoch 3/5\n",
      "32/32 [==============================] - 0s 3ms/step - loss: 0.2999 - sparse_categorical_accuracy: 0.9190\n",
      "Epoch 4/5\n",
      "32/32 [==============================] - 0s 3ms/step - loss: 0.2007 - sparse_categorical_accuracy: 0.9520\n",
      "Epoch 5/5\n",
      "32/32 [==============================] - 0s 3ms/step - loss: 0.1581 - sparse_categorical_accuracy: 0.9670\n"
     ]
    }
   ],
   "metadata": {
    "execution": {
     "iopub.execute_input": "2021-06-16T14:32:40.647027Z",
     "iopub.status.busy": "2021-06-16T14:32:40.646404Z",
     "iopub.status.idle": "2021-06-16T14:32:41.285801Z",
     "shell.execute_reply": "2021-06-16T14:32:41.285253Z"
    },
    "id": "m2dkmJVCGUia"
   }
  },
  {
   "cell_type": "markdown",
   "source": [
    "Now, recreate the model from that file:"
   ],
   "metadata": {
    "id": "GWmttMOqS68S"
   }
  },
  {
   "cell_type": "code",
   "execution_count": 21,
   "source": [
    "# Recreate the exact same model, including its weights and the optimizer\n",
    "new_model = tf.keras.models.load_model('my_model.h5')\n",
    "\n",
    "# Show the model architecture\n",
    "new_model.summary()"
   ],
   "outputs": [
    {
     "output_type": "stream",
     "name": "stdout",
     "text": [
      "Model: \"sequential_6\"\n",
      "_________________________________________________________________\n",
      "Layer (type)                 Output Shape              Param #   \n",
      "=================================================================\n",
      "dense_12 (Dense)             (None, 512)               401920    \n",
      "_________________________________________________________________\n",
      "dropout_6 (Dropout)          (None, 512)               0         \n",
      "_________________________________________________________________\n",
      "dense_13 (Dense)             (None, 10)                5130      \n",
      "=================================================================\n",
      "Total params: 407,050\n",
      "Trainable params: 407,050\n",
      "Non-trainable params: 0\n",
      "_________________________________________________________________\n"
     ]
    }
   ],
   "metadata": {
    "execution": {
     "iopub.execute_input": "2021-06-16T14:32:41.292465Z",
     "iopub.status.busy": "2021-06-16T14:32:41.291515Z",
     "iopub.status.idle": "2021-06-16T14:32:41.340034Z",
     "shell.execute_reply": "2021-06-16T14:32:41.340463Z"
    },
    "id": "5NDMO_7kS6Do"
   }
  },
  {
   "cell_type": "markdown",
   "source": [
    "Check its accuracy:"
   ],
   "metadata": {
    "id": "JXQpbTicTBwt"
   }
  },
  {
   "cell_type": "code",
   "execution_count": 22,
   "source": [
    "loss, acc = new_model.evaluate(test_images, test_labels, verbose=2)\n",
    "print('Restored model, accuracy: {:5.2f}%'.format(100 * acc))"
   ],
   "outputs": [
    {
     "output_type": "stream",
     "name": "stdout",
     "text": [
      "32/32 - 0s - loss: 0.4125 - sparse_categorical_accuracy: 0.8580\n",
      "Restored model, accuracy: 85.80%\n"
     ]
    }
   ],
   "metadata": {
    "execution": {
     "iopub.execute_input": "2021-06-16T14:32:41.344868Z",
     "iopub.status.busy": "2021-06-16T14:32:41.344216Z",
     "iopub.status.idle": "2021-06-16T14:32:41.492052Z",
     "shell.execute_reply": "2021-06-16T14:32:41.491554Z"
    },
    "id": "jwEaj9DnTCVA"
   }
  },
  {
   "cell_type": "markdown",
   "source": [
    "Keras saves models by inspecting their architectures. This technique saves everything:\n",
    "\n",
    "* The weight values\n",
    "* The model's architecture\n",
    "* The model's training configuration (what you pass to the `.compile()` method)\n",
    "* The optimizer and its state, if any (this enables you to restart training where you left off)\n",
    "\n",
    "Keras is not able to save the `v1.x` optimizers (from `tf.compat.v1.train`) since they aren't compatible with checkpoints. For v1.x optimizers, you need to re-compile the model after loading—losing the state of the optimizer.\n"
   ],
   "metadata": {
    "id": "dGXqd4wWJl8O"
   }
  },
  {
   "cell_type": "markdown",
   "source": [
    "### Saving custom objects\n",
    "\n",
    "If you are using the SavedModel format, you can skip this section. The key difference between HDF5 and SavedModel is that HDF5 uses object configs to save the model architecture, while SavedModel saves the execution graph. Thus, SavedModels are able to save custom objects like subclassed models and custom layers without requiring the original code.\n",
    "\n",
    "To save custom objects to HDF5, you must do the following:\n",
    "\n",
    "1. Define a `get_config` method in your object, and optionally a `from_config` classmethod.\n",
    "  * `get_config(self)` returns a JSON-serializable dictionary of parameters needed to recreate the object.\n",
    "  * `from_config(cls, config)` uses the returned config from `get_config` to create a new object. By default, this function will use the config as initialization kwargs (`return cls(**config)`).\n",
    "2. Pass the object to the `custom_objects` argument when loading the model. The argument must be a dictionary mapping the string class name to the Python class. E.g. `tf.keras.models.load_model(path, custom_objects={'CustomLayer': CustomLayer})`\n",
    "\n",
    "See the [Writing layers and models from scratch](https://www.tensorflow.org/guide/keras/custom_layers_and_models) tutorial for examples of custom objects and `get_config`.\n"
   ],
   "metadata": {
    "id": "kAUKJQyGqTNH"
   }
  },
  {
   "cell_type": "code",
   "execution_count": null,
   "source": [],
   "outputs": [],
   "metadata": {}
  }
 ],
 "metadata": {
  "accelerator": "GPU",
  "colab": {
   "collapsed_sections": [],
   "name": "save_and_load.ipynb",
   "toc_visible": true
  },
  "kernelspec": {
   "display_name": "Python 3 (ipykernel)",
   "language": "python",
   "name": "python3"
  },
  "language_info": {
   "codemirror_mode": {
    "name": "ipython",
    "version": 3
   },
   "file_extension": ".py",
   "mimetype": "text/x-python",
   "name": "python",
   "nbconvert_exporter": "python",
   "pygments_lexer": "ipython3",
   "version": "3.9.5"
  }
 },
 "nbformat": 4,
 "nbformat_minor": 1
}