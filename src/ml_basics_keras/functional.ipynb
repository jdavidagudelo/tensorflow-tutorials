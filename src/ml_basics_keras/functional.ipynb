{
 "cells": [
  {
   "cell_type": "markdown",
   "metadata": {
    "id": "b518b04cbfe0"
   },
   "source": [
    "##### Copyright 2020 The TensorFlow Authors."
   ]
  },
  {
   "cell_type": "code",
   "execution_count": 1,
   "metadata": {
    "cellView": "form",
    "execution": {
     "iopub.execute_input": "2021-07-27T22:25:19.851340Z",
     "iopub.status.busy": "2021-07-27T22:25:19.850734Z",
     "iopub.status.idle": "2021-07-27T22:25:19.853698Z",
     "shell.execute_reply": "2021-07-27T22:25:19.853193Z"
    },
    "id": "906e07f6e562"
   },
   "outputs": [],
   "source": [
    "#@title Licensed under the Apache License, Version 2.0 (the \"License\");\n",
    "# you may not use this file except in compliance with the License.\n",
    "# You may obtain a copy of the License at\n",
    "#\n",
    "# https://www.apache.org/licenses/LICENSE-2.0\n",
    "#\n",
    "# Unless required by applicable law or agreed to in writing, software\n",
    "# distributed under the License is distributed on an \"AS IS\" BASIS,\n",
    "# WITHOUT WARRANTIES OR CONDITIONS OF ANY KIND, either express or implied.\n",
    "# See the License for the specific language governing permissions and\n",
    "# limitations under the License."
   ]
  },
  {
   "cell_type": "markdown",
   "metadata": {
    "id": "da6087fbd570"
   },
   "source": [
    "# The Functional API"
   ]
  },
  {
   "cell_type": "markdown",
   "metadata": {
    "id": "d169f4a559d5"
   },
   "source": [
    "<table class=\"tfo-notebook-buttons\" align=\"left\">\n",
    "  <td>\n",
    "    <a target=\"_blank\" href=\"https://www.tensorflow.org/guide/keras/functional\"><img src=\"https://www.tensorflow.org/images/tf_logo_32px.png\" />View on TensorFlow.org</a>\n",
    "  </td>\n",
    "  <td>\n",
    "    <a target=\"_blank\" href=\"https://colab.research.google.com/github/tensorflow/docs/blob/snapshot-keras/site/en/guide/keras/functional.ipynb\"><img src=\"https://www.tensorflow.org/images/colab_logo_32px.png\" />Run in Google Colab</a>\n",
    "  </td>\n",
    "  <td>\n",
    "    <a target=\"_blank\" href=\"https://github.com/keras-team/keras-io/blob/master/guides/functional_api.py\"><img src=\"https://www.tensorflow.org/images/GitHub-Mark-32px.png\" />View source on GitHub</a>\n",
    "  </td>\n",
    "  <td>\n",
    "    <a href=\"https://storage.googleapis.com/tensorflow_docs/docs/site/en/guide/keras/functional.ipynb\"><img src=\"https://www.tensorflow.org/images/download_logo_32px.png\" />Download notebook</a>\n",
    "  </td>\n",
    "</table>"
   ]
  },
  {
   "cell_type": "markdown",
   "metadata": {
    "id": "8d4ac441b1fc"
   },
   "source": [
    "## Setup"
   ]
  },
  {
   "cell_type": "code",
   "execution_count": 2,
   "metadata": {
    "execution": {
     "iopub.execute_input": "2021-07-27T22:25:19.860821Z",
     "iopub.status.busy": "2021-07-27T22:25:19.860240Z",
     "iopub.status.idle": "2021-07-27T22:25:21.365068Z",
     "shell.execute_reply": "2021-07-27T22:25:21.364569Z"
    },
    "id": "ec52be14e686"
   },
   "outputs": [
    {
     "name": "stderr",
     "output_type": "stream",
     "text": [
      "2021-07-29 16:04:19.768333: W tensorflow/stream_executor/platform/default/dso_loader.cc:64] Could not load dynamic library 'libcudart.so.11.0'; dlerror: libcudart.so.11.0: cannot open shared object file: No such file or directory\n",
      "2021-07-29 16:04:19.768363: I tensorflow/stream_executor/cuda/cudart_stub.cc:29] Ignore above cudart dlerror if you do not have a GPU set up on your machine.\n"
     ]
    }
   ],
   "source": [
    "import numpy as np\n",
    "import tensorflow as tf\n",
    "from tensorflow import keras\n",
    "from tensorflow.keras import layers"
   ]
  },
  {
   "cell_type": "markdown",
   "metadata": {
    "id": "871fbb54ea07"
   },
   "source": [
    "## Introduction\n",
    "\n",
    "The Keras *functional API* is a way to create models that are more flexible\n",
    "than the `tf.keras.Sequential` API. The functional API can handle models\n",
    "with non-linear topology, shared layers, and even multiple inputs or outputs.\n",
    "\n",
    "The main idea is that a deep learning model is usually\n",
    "a directed acyclic graph (DAG) of layers.\n",
    "So the functional API is a way to build *graphs of layers*.\n",
    "\n",
    "Consider the following model:\n",
    "\n",
    "```\n",
    "(input: 784-dimensional vectors)\n",
    "       ↧\n",
    "[Dense (64 units, relu activation)]\n",
    "       ↧\n",
    "[Dense (64 units, relu activation)]\n",
    "       ↧\n",
    "[Dense (10 units, softmax activation)]\n",
    "       ↧\n",
    "(output: logits of a probability distribution over 10 classes)\n",
    "```\n",
    "\n",
    "This is a basic graph with three layers.\n",
    "To build this model using the functional API, start by creating an input node:"
   ]
  },
  {
   "cell_type": "code",
   "execution_count": 3,
   "metadata": {
    "execution": {
     "iopub.execute_input": "2021-07-27T22:25:21.371254Z",
     "iopub.status.busy": "2021-07-27T22:25:21.369273Z",
     "iopub.status.idle": "2021-07-27T22:25:21.377024Z",
     "shell.execute_reply": "2021-07-27T22:25:21.376554Z"
    },
    "id": "8d477c91955a"
   },
   "outputs": [],
   "source": [
    "inputs = keras.Input(shape=(784,))"
   ]
  },
  {
   "cell_type": "markdown",
   "metadata": {
    "id": "13c14d993620"
   },
   "source": [
    "The shape of the data is set as a 784-dimensional vector.\n",
    "The batch size is always omitted since only the shape of each sample is specified.\n",
    "\n",
    "If, for example, you have an image input with a shape of `(32, 32, 3)`,\n",
    "you would use:"
   ]
  },
  {
   "cell_type": "code",
   "execution_count": 4,
   "metadata": {
    "execution": {
     "iopub.execute_input": "2021-07-27T22:25:21.381759Z",
     "iopub.status.busy": "2021-07-27T22:25:21.381103Z",
     "iopub.status.idle": "2021-07-27T22:25:21.383274Z",
     "shell.execute_reply": "2021-07-27T22:25:21.382830Z"
    },
    "id": "e4732e8e279b"
   },
   "outputs": [],
   "source": [
    "# Just for demonstration purposes.\n",
    "img_inputs = keras.Input(shape=(32, 32, 3))"
   ]
  },
  {
   "cell_type": "markdown",
   "metadata": {
    "id": "971bf8b5588f"
   },
   "source": [
    "The `inputs` that is returned contains information about the shape and `dtype`\n",
    "of the input data that you feed to your model.\n",
    "Here's the shape:"
   ]
  },
  {
   "cell_type": "code",
   "execution_count": 5,
   "metadata": {
    "execution": {
     "iopub.execute_input": "2021-07-27T22:25:21.392359Z",
     "iopub.status.busy": "2021-07-27T22:25:21.391679Z",
     "iopub.status.idle": "2021-07-27T22:25:21.394261Z",
     "shell.execute_reply": "2021-07-27T22:25:21.394648Z"
    },
    "id": "ee96c179846a"
   },
   "outputs": [
    {
     "data": {
      "text/plain": [
       "TensorShape([None, 784])"
      ]
     },
     "execution_count": 5,
     "metadata": {},
     "output_type": "execute_result"
    }
   ],
   "source": [
    "inputs.shape"
   ]
  },
  {
   "cell_type": "markdown",
   "metadata": {
    "id": "866eee86d63e"
   },
   "source": [
    "Here's the dtype:"
   ]
  },
  {
   "cell_type": "code",
   "execution_count": 6,
   "metadata": {
    "execution": {
     "iopub.execute_input": "2021-07-27T22:25:21.398855Z",
     "iopub.status.busy": "2021-07-27T22:25:21.398261Z",
     "iopub.status.idle": "2021-07-27T22:25:21.401167Z",
     "shell.execute_reply": "2021-07-27T22:25:21.400622Z"
    },
    "id": "480be92067f3"
   },
   "outputs": [
    {
     "data": {
      "text/plain": [
       "tf.float32"
      ]
     },
     "execution_count": 6,
     "metadata": {},
     "output_type": "execute_result"
    }
   ],
   "source": [
    "inputs.dtype"
   ]
  },
  {
   "cell_type": "markdown",
   "metadata": {
    "id": "6c93172cdfba"
   },
   "source": [
    "You create a new node in the graph of layers by calling a layer on this `inputs`\n",
    "object:"
   ]
  },
  {
   "cell_type": "code",
   "execution_count": 7,
   "metadata": {
    "execution": {
     "iopub.execute_input": "2021-07-27T22:25:21.407366Z",
     "iopub.status.busy": "2021-07-27T22:25:21.406776Z",
     "iopub.status.idle": "2021-07-27T22:25:22.962555Z",
     "shell.execute_reply": "2021-07-27T22:25:22.962939Z"
    },
    "id": "b50da8b1c28d"
   },
   "outputs": [
    {
     "name": "stderr",
     "output_type": "stream",
     "text": [
      "2021-07-29 16:04:21.257878: W tensorflow/stream_executor/platform/default/dso_loader.cc:64] Could not load dynamic library 'libcuda.so.1'; dlerror: libcuda.so.1: cannot open shared object file: No such file or directory\n",
      "2021-07-29 16:04:21.257901: W tensorflow/stream_executor/cuda/cuda_driver.cc:326] failed call to cuInit: UNKNOWN ERROR (303)\n",
      "2021-07-29 16:04:21.257918: I tensorflow/stream_executor/cuda/cuda_diagnostics.cc:156] kernel driver does not appear to be running on this host (masternode): /proc/driver/nvidia/version does not exist\n",
      "2021-07-29 16:04:21.258104: I tensorflow/core/platform/cpu_feature_guard.cc:142] This TensorFlow binary is optimized with oneAPI Deep Neural Network Library (oneDNN) to use the following CPU instructions in performance-critical operations:  AVX2 FMA\n",
      "To enable them in other operations, rebuild TensorFlow with the appropriate compiler flags.\n"
     ]
    }
   ],
   "source": [
    "dense = layers.Dense(64, activation=\"relu\")\n",
    "x = dense(inputs)"
   ]
  },
  {
   "cell_type": "markdown",
   "metadata": {
    "id": "0f36afe42ff3"
   },
   "source": [
    "The \"layer call\" action is like drawing an arrow from \"inputs\" to this layer\n",
    "you created.\n",
    "You're \"passing\" the inputs to the `dense` layer, and you get `x` as the output.\n",
    "\n",
    "Let's add a few more layers to the graph of layers:"
   ]
  },
  {
   "cell_type": "code",
   "execution_count": 8,
   "metadata": {
    "execution": {
     "iopub.execute_input": "2021-07-27T22:25:22.969512Z",
     "iopub.status.busy": "2021-07-27T22:25:22.968890Z",
     "iopub.status.idle": "2021-07-27T22:25:22.980671Z",
     "shell.execute_reply": "2021-07-27T22:25:22.981021Z"
    },
    "id": "463d5cd0c484"
   },
   "outputs": [],
   "source": [
    "x = layers.Dense(64, activation=\"relu\")(x)\n",
    "outputs = layers.Dense(10)(x)"
   ]
  },
  {
   "cell_type": "markdown",
   "metadata": {
    "id": "e379f089b044"
   },
   "source": [
    "At this point, you can create a `Model` by specifying its inputs and outputs\n",
    "in the graph of layers:"
   ]
  },
  {
   "cell_type": "code",
   "execution_count": 9,
   "metadata": {
    "execution": {
     "iopub.execute_input": "2021-07-27T22:25:22.986502Z",
     "iopub.status.busy": "2021-07-27T22:25:22.985779Z",
     "iopub.status.idle": "2021-07-27T22:25:22.990086Z",
     "shell.execute_reply": "2021-07-27T22:25:22.989635Z"
    },
    "id": "7820cc2209a6"
   },
   "outputs": [],
   "source": [
    "model = keras.Model(inputs=inputs, outputs=outputs, name=\"mnist_model\")"
   ]
  },
  {
   "cell_type": "markdown",
   "metadata": {
    "id": "c9aa111852d3"
   },
   "source": [
    "Let's check out what the model summary looks like:"
   ]
  },
  {
   "cell_type": "code",
   "execution_count": 10,
   "metadata": {
    "execution": {
     "iopub.execute_input": "2021-07-27T22:25:22.994703Z",
     "iopub.status.busy": "2021-07-27T22:25:22.993846Z",
     "iopub.status.idle": "2021-07-27T22:25:22.999157Z",
     "shell.execute_reply": "2021-07-27T22:25:22.998745Z"
    },
    "id": "4949ab8242e8"
   },
   "outputs": [
    {
     "name": "stdout",
     "output_type": "stream",
     "text": [
      "Model: \"mnist_model\"\n",
      "_________________________________________________________________\n",
      "Layer (type)                 Output Shape              Param #   \n",
      "=================================================================\n",
      "input_1 (InputLayer)         [(None, 784)]             0         \n",
      "_________________________________________________________________\n",
      "dense (Dense)                (None, 64)                50240     \n",
      "_________________________________________________________________\n",
      "dense_1 (Dense)              (None, 64)                4160      \n",
      "_________________________________________________________________\n",
      "dense_2 (Dense)              (None, 10)                650       \n",
      "=================================================================\n",
      "Total params: 55,050\n",
      "Trainable params: 55,050\n",
      "Non-trainable params: 0\n",
      "_________________________________________________________________\n"
     ]
    }
   ],
   "source": [
    "model.summary()"
   ]
  },
  {
   "cell_type": "markdown",
   "metadata": {
    "id": "99ab8535d6c3"
   },
   "source": [
    "You can also plot the model as a graph:"
   ]
  },
  {
   "cell_type": "code",
   "execution_count": 11,
   "metadata": {
    "execution": {
     "iopub.execute_input": "2021-07-27T22:25:23.003898Z",
     "iopub.status.busy": "2021-07-27T22:25:23.003255Z",
     "iopub.status.idle": "2021-07-27T22:25:23.156129Z",
     "shell.execute_reply": "2021-07-27T22:25:23.156536Z"
    },
    "id": "6872f1b1b8b8"
   },
   "outputs": [
    {
     "name": "stdout",
     "output_type": "stream",
     "text": [
      "('You must install pydot (`pip install pydot`) and install graphviz (see instructions at https://graphviz.gitlab.io/download/) ', 'for plot_model/model_to_dot to work.')\n"
     ]
    }
   ],
   "source": [
    "keras.utils.plot_model(model, \"my_first_model.png\")"
   ]
  },
  {
   "cell_type": "markdown",
   "metadata": {
    "id": "6d9880136879"
   },
   "source": [
    "And, optionally, display the input and output shapes of each layer\n",
    "in the plotted graph:"
   ]
  },
  {
   "cell_type": "code",
   "execution_count": 12,
   "metadata": {
    "execution": {
     "iopub.execute_input": "2021-07-27T22:25:23.170981Z",
     "iopub.status.busy": "2021-07-27T22:25:23.161288Z",
     "iopub.status.idle": "2021-07-27T22:25:23.233526Z",
     "shell.execute_reply": "2021-07-27T22:25:23.233940Z"
    },
    "id": "aa14046d3388"
   },
   "outputs": [
    {
     "name": "stdout",
     "output_type": "stream",
     "text": [
      "('You must install pydot (`pip install pydot`) and install graphviz (see instructions at https://graphviz.gitlab.io/download/) ', 'for plot_model/model_to_dot to work.')\n"
     ]
    }
   ],
   "source": [
    "keras.utils.plot_model(model, \"my_first_model_with_shape_info.png\", show_shapes=True)"
   ]
  },
  {
   "cell_type": "markdown",
   "metadata": {
    "id": "71969f9c91bb"
   },
   "source": [
    "This figure and the code are almost identical. In the code version,\n",
    "the connection arrows are replaced by the call operation.\n",
    "\n",
    "A \"graph of layers\" is an intuitive mental image for a deep learning model,\n",
    "and the functional API is a way to create models that closely mirrors this."
   ]
  },
  {
   "cell_type": "markdown",
   "metadata": {
    "id": "775b997c8c28"
   },
   "source": [
    "## Training, evaluation, and inference\n",
    "\n",
    "Training, evaluation, and inference work exactly in the same way for models\n",
    "built using the functional API as for `Sequential` models.\n",
    "\n",
    "The `Model` class offers a built-in training loop (the `fit()` method)\n",
    "and a built-in evaluation loop (the `evaluate()` method). Note\n",
    "that you can easily [customize these loops](https://www.tensorflow.org/guide/keras/customizing_what_happens_in_fit/)\n",
    "to implement training routines beyond supervised learning\n",
    "(e.g. [GANs](/examples/generative/dcgan_overriding_train_step/)).\n",
    "\n",
    "Here, load the MNIST image data, reshape it into vectors,\n",
    "fit the model on the data (while monitoring performance on a validation split),\n",
    "then evaluate the model on the test data:"
   ]
  },
  {
   "cell_type": "code",
   "execution_count": 13,
   "metadata": {
    "execution": {
     "iopub.execute_input": "2021-07-27T22:25:23.240994Z",
     "iopub.status.busy": "2021-07-27T22:25:23.240340Z",
     "iopub.status.idle": "2021-07-27T22:25:28.660499Z",
     "shell.execute_reply": "2021-07-27T22:25:28.660936Z"
    },
    "id": "e61366d54487"
   },
   "outputs": [
    {
     "name": "stderr",
     "output_type": "stream",
     "text": [
      "2021-07-29 16:04:22.034727: I tensorflow/compiler/mlir/mlir_graph_optimization_pass.cc:176] None of the MLIR Optimization Passes are enabled (registered 2)\n",
      "2021-07-29 16:04:22.054376: I tensorflow/core/platform/profile_utils/cpu_utils.cc:114] CPU Frequency: 1800000000 Hz\n"
     ]
    },
    {
     "name": "stdout",
     "output_type": "stream",
     "text": [
      "Epoch 1/2\n",
      "750/750 [==============================] - 2s 2ms/step - loss: 0.3481 - accuracy: 0.9009 - val_loss: 0.1795 - val_accuracy: 0.9478\n",
      "Epoch 2/2\n",
      "750/750 [==============================] - 1s 2ms/step - loss: 0.1635 - accuracy: 0.9510 - val_loss: 0.1481 - val_accuracy: 0.9557\n",
      "313/313 - 0s - loss: 0.1489 - accuracy: 0.9544\n",
      "Test loss: 0.14893870055675507\n",
      "Test accuracy: 0.9544000029563904\n"
     ]
    }
   ],
   "source": [
    "(x_train, y_train), (x_test, y_test) = keras.datasets.mnist.load_data()\n",
    "\n",
    "x_train = x_train.reshape(60000, 784).astype(\"float32\") / 255\n",
    "x_test = x_test.reshape(10000, 784).astype(\"float32\") / 255\n",
    "\n",
    "model.compile(\n",
    "    loss=keras.losses.SparseCategoricalCrossentropy(from_logits=True),\n",
    "    optimizer=keras.optimizers.RMSprop(),\n",
    "    metrics=[\"accuracy\"],\n",
    ")\n",
    "\n",
    "history = model.fit(x_train, y_train, batch_size=64, epochs=2, validation_split=0.2)\n",
    "\n",
    "test_scores = model.evaluate(x_test, y_test, verbose=2)\n",
    "print(\"Test loss:\", test_scores[0])\n",
    "print(\"Test accuracy:\", test_scores[1])"
   ]
  },
  {
   "cell_type": "markdown",
   "metadata": {
    "id": "2e13d7168c86"
   },
   "source": [
    "For further reading, see the [training and evaluation](https://www.tensorflow.org/guide/keras/train_and_evaluate/) guide."
   ]
  },
  {
   "cell_type": "markdown",
   "metadata": {
    "id": "26991ef4dbbb"
   },
   "source": [
    "## Save and serialize\n",
    "\n",
    "Saving the model and serialization work the same way for models built using\n",
    "the functional API as they do for `Sequential` models. The standard way\n",
    "to save a functional model is to call `model.save()`\n",
    "to save the entire model as a single file. You can later recreate the same model\n",
    "from this file, even if the code that built the model is no longer available.\n",
    "\n",
    "This saved file includes the:\n",
    "- model architecture\n",
    "- model weight values (that were learned during training)\n",
    "- model training config, if any (as passed to `compile`)\n",
    "- optimizer and its state, if any (to restart training where you left off)"
   ]
  },
  {
   "cell_type": "code",
   "execution_count": 14,
   "metadata": {
    "execution": {
     "iopub.execute_input": "2021-07-27T22:25:28.669192Z",
     "iopub.status.busy": "2021-07-27T22:25:28.666801Z",
     "iopub.status.idle": "2021-07-27T22:25:29.443993Z",
     "shell.execute_reply": "2021-07-27T22:25:29.444362Z"
    },
    "id": "7e5e48669225"
   },
   "outputs": [
    {
     "name": "stderr",
     "output_type": "stream",
     "text": [
      "2021-07-29 16:04:26.154976: W tensorflow/python/util/util.cc:348] Sets are not currently considered sequences, but this may change in the future, so consider avoiding using them.\n"
     ]
    },
    {
     "name": "stdout",
     "output_type": "stream",
     "text": [
      "INFO:tensorflow:Assets written to: path_to_my_model/assets\n"
     ]
    }
   ],
   "source": [
    "model.save(\"path_to_my_model\")\n",
    "del model\n",
    "# Recreate the exact same model purely from the file:\n",
    "model = keras.models.load_model(\"path_to_my_model\")"
   ]
  },
  {
   "cell_type": "markdown",
   "metadata": {
    "id": "cfe2a761139b"
   },
   "source": [
    "For details, read the model [serialization & saving](\n",
    "https://www.tensorflow.org/guide/keras/save_and_serialize/) guide."
   ]
  },
  {
   "cell_type": "markdown",
   "metadata": {
    "id": "b747517364a9"
   },
   "source": [
    "## Use the same graph of layers to define multiple models\n",
    "\n",
    "In the functional API, models are created by specifying their inputs\n",
    "and outputs in a graph of layers. That means that a single\n",
    "graph of layers can be used to generate multiple models.\n",
    "\n",
    "In the example below, you use the same stack of layers to instantiate two models:\n",
    "an `encoder` model that turns image inputs into 16-dimensional vectors,\n",
    "and an end-to-end `autoencoder` model for training."
   ]
  },
  {
   "cell_type": "code",
   "execution_count": 15,
   "metadata": {
    "execution": {
     "iopub.execute_input": "2021-07-27T22:25:29.448954Z",
     "iopub.status.busy": "2021-07-27T22:25:29.448330Z",
     "iopub.status.idle": "2021-07-27T22:25:29.546961Z",
     "shell.execute_reply": "2021-07-27T22:25:29.547354Z"
    },
    "id": "f9924d8c9ed3"
   },
   "outputs": [
    {
     "name": "stdout",
     "output_type": "stream",
     "text": [
      "Model: \"encoder\"\n",
      "_________________________________________________________________\n",
      "Layer (type)                 Output Shape              Param #   \n",
      "=================================================================\n",
      "img (InputLayer)             [(None, 28, 28, 1)]       0         \n",
      "_________________________________________________________________\n",
      "conv2d (Conv2D)              (None, 26, 26, 16)        160       \n",
      "_________________________________________________________________\n",
      "conv2d_1 (Conv2D)            (None, 24, 24, 32)        4640      \n",
      "_________________________________________________________________\n",
      "max_pooling2d (MaxPooling2D) (None, 8, 8, 32)          0         \n",
      "_________________________________________________________________\n",
      "conv2d_2 (Conv2D)            (None, 6, 6, 32)          9248      \n",
      "_________________________________________________________________\n",
      "conv2d_3 (Conv2D)            (None, 4, 4, 16)          4624      \n",
      "_________________________________________________________________\n",
      "global_max_pooling2d (Global (None, 16)                0         \n",
      "=================================================================\n",
      "Total params: 18,672\n",
      "Trainable params: 18,672\n",
      "Non-trainable params: 0\n",
      "_________________________________________________________________\n",
      "Model: \"autoencoder\"\n",
      "_________________________________________________________________\n",
      "Layer (type)                 Output Shape              Param #   \n",
      "=================================================================\n",
      "img (InputLayer)             [(None, 28, 28, 1)]       0         \n",
      "_________________________________________________________________\n",
      "conv2d (Conv2D)              (None, 26, 26, 16)        160       \n",
      "_________________________________________________________________\n",
      "conv2d_1 (Conv2D)            (None, 24, 24, 32)        4640      \n",
      "_________________________________________________________________\n",
      "max_pooling2d (MaxPooling2D) (None, 8, 8, 32)          0         \n",
      "_________________________________________________________________\n",
      "conv2d_2 (Conv2D)            (None, 6, 6, 32)          9248      \n",
      "_________________________________________________________________\n",
      "conv2d_3 (Conv2D)            (None, 4, 4, 16)          4624      \n",
      "_________________________________________________________________\n",
      "global_max_pooling2d (Global (None, 16)                0         \n",
      "_________________________________________________________________\n",
      "reshape (Reshape)            (None, 4, 4, 1)           0         \n",
      "_________________________________________________________________\n",
      "conv2d_transpose (Conv2DTran (None, 6, 6, 16)          160       \n",
      "_________________________________________________________________\n",
      "conv2d_transpose_1 (Conv2DTr (None, 8, 8, 32)          4640      \n",
      "_________________________________________________________________\n",
      "up_sampling2d (UpSampling2D) (None, 24, 24, 32)        0         \n",
      "_________________________________________________________________\n",
      "conv2d_transpose_2 (Conv2DTr (None, 26, 26, 16)        4624      \n",
      "_________________________________________________________________\n",
      "conv2d_transpose_3 (Conv2DTr (None, 28, 28, 1)         145       \n",
      "=================================================================\n",
      "Total params: 28,241\n",
      "Trainable params: 28,241\n",
      "Non-trainable params: 0\n",
      "_________________________________________________________________\n"
     ]
    }
   ],
   "source": [
    "encoder_input = keras.Input(shape=(28, 28, 1), name=\"img\")\n",
    "x = layers.Conv2D(16, 3, activation=\"relu\")(encoder_input)\n",
    "x = layers.Conv2D(32, 3, activation=\"relu\")(x)\n",
    "x = layers.MaxPooling2D(3)(x)\n",
    "x = layers.Conv2D(32, 3, activation=\"relu\")(x)\n",
    "x = layers.Conv2D(16, 3, activation=\"relu\")(x)\n",
    "encoder_output = layers.GlobalMaxPooling2D()(x)\n",
    "\n",
    "encoder = keras.Model(encoder_input, encoder_output, name=\"encoder\")\n",
    "encoder.summary()\n",
    "\n",
    "x = layers.Reshape((4, 4, 1))(encoder_output)\n",
    "x = layers.Conv2DTranspose(16, 3, activation=\"relu\")(x)\n",
    "x = layers.Conv2DTranspose(32, 3, activation=\"relu\")(x)\n",
    "x = layers.UpSampling2D(3)(x)\n",
    "x = layers.Conv2DTranspose(16, 3, activation=\"relu\")(x)\n",
    "decoder_output = layers.Conv2DTranspose(1, 3, activation=\"relu\")(x)\n",
    "\n",
    "autoencoder = keras.Model(encoder_input, decoder_output, name=\"autoencoder\")\n",
    "autoencoder.summary()"
   ]
  },
  {
   "cell_type": "markdown",
   "metadata": {
    "id": "e87d4185b652"
   },
   "source": [
    "Here, the decoding architecture is strictly symmetrical\n",
    "to the encoding architecture, so the output shape is the same as\n",
    "the input shape `(28, 28, 1)`.\n",
    "\n",
    "The reverse of a `Conv2D` layer is a `Conv2DTranspose` layer,\n",
    "and the reverse of a `MaxPooling2D` layer is an `UpSampling2D` layer."
   ]
  },
  {
   "cell_type": "markdown",
   "metadata": {
    "id": "9c746c1a0b79"
   },
   "source": [
    "## All models are callable, just like layers\n",
    "\n",
    "You can treat any model as if it were a layer by invoking it on an `Input` or\n",
    "on the output of another layer. By calling a model you aren't just reusing\n",
    "the architecture of the model, you're also reusing its weights.\n",
    "\n",
    "To see this in action, here's a different take on the autoencoder example that\n",
    "creates an encoder model, a decoder model, and chains them in two calls\n",
    "to obtain the autoencoder model:"
   ]
  },
  {
   "cell_type": "code",
   "execution_count": 16,
   "metadata": {
    "execution": {
     "iopub.execute_input": "2021-07-27T22:25:29.557808Z",
     "iopub.status.busy": "2021-07-27T22:25:29.557143Z",
     "iopub.status.idle": "2021-07-27T22:25:29.708228Z",
     "shell.execute_reply": "2021-07-27T22:25:29.708580Z"
    },
    "id": "862ac58e928b"
   },
   "outputs": [
    {
     "name": "stdout",
     "output_type": "stream",
     "text": [
      "Model: \"encoder\"\n",
      "_________________________________________________________________\n",
      "Layer (type)                 Output Shape              Param #   \n",
      "=================================================================\n",
      "original_img (InputLayer)    [(None, 28, 28, 1)]       0         \n",
      "_________________________________________________________________\n",
      "conv2d_4 (Conv2D)            (None, 26, 26, 16)        160       \n",
      "_________________________________________________________________\n",
      "conv2d_5 (Conv2D)            (None, 24, 24, 32)        4640      \n",
      "_________________________________________________________________\n",
      "max_pooling2d_1 (MaxPooling2 (None, 8, 8, 32)          0         \n",
      "_________________________________________________________________\n",
      "conv2d_6 (Conv2D)            (None, 6, 6, 32)          9248      \n",
      "_________________________________________________________________\n",
      "conv2d_7 (Conv2D)            (None, 4, 4, 16)          4624      \n",
      "_________________________________________________________________\n",
      "global_max_pooling2d_1 (Glob (None, 16)                0         \n",
      "=================================================================\n",
      "Total params: 18,672\n",
      "Trainable params: 18,672\n",
      "Non-trainable params: 0\n",
      "_________________________________________________________________\n",
      "Model: \"decoder\"\n",
      "_________________________________________________________________\n",
      "Layer (type)                 Output Shape              Param #   \n",
      "=================================================================\n",
      "encoded_img (InputLayer)     [(None, 16)]              0         \n",
      "_________________________________________________________________\n",
      "reshape_1 (Reshape)          (None, 4, 4, 1)           0         \n",
      "_________________________________________________________________\n",
      "conv2d_transpose_4 (Conv2DTr (None, 6, 6, 16)          160       \n",
      "_________________________________________________________________\n",
      "conv2d_transpose_5 (Conv2DTr (None, 8, 8, 32)          4640      \n",
      "_________________________________________________________________\n",
      "up_sampling2d_1 (UpSampling2 (None, 24, 24, 32)        0         \n",
      "_________________________________________________________________\n",
      "conv2d_transpose_6 (Conv2DTr (None, 26, 26, 16)        4624      \n",
      "_________________________________________________________________\n",
      "conv2d_transpose_7 (Conv2DTr (None, 28, 28, 1)         145       \n",
      "=================================================================\n",
      "Total params: 9,569\n",
      "Trainable params: 9,569\n",
      "Non-trainable params: 0\n",
      "_________________________________________________________________\n",
      "Model: \"autoencoder\"\n",
      "_________________________________________________________________\n",
      "Layer (type)                 Output Shape              Param #   \n",
      "=================================================================\n",
      "img (InputLayer)             [(None, 28, 28, 1)]       0         \n",
      "_________________________________________________________________\n",
      "encoder (Functional)         (None, 16)                18672     \n",
      "_________________________________________________________________\n",
      "decoder (Functional)         (None, 28, 28, 1)         9569      \n",
      "=================================================================\n",
      "Total params: 28,241\n",
      "Trainable params: 28,241\n",
      "Non-trainable params: 0\n",
      "_________________________________________________________________\n"
     ]
    }
   ],
   "source": [
    "encoder_input = keras.Input(shape=(28, 28, 1), name=\"original_img\")\n",
    "x = layers.Conv2D(16, 3, activation=\"relu\")(encoder_input)\n",
    "x = layers.Conv2D(32, 3, activation=\"relu\")(x)\n",
    "x = layers.MaxPooling2D(3)(x)\n",
    "x = layers.Conv2D(32, 3, activation=\"relu\")(x)\n",
    "x = layers.Conv2D(16, 3, activation=\"relu\")(x)\n",
    "encoder_output = layers.GlobalMaxPooling2D()(x)\n",
    "\n",
    "encoder = keras.Model(encoder_input, encoder_output, name=\"encoder\")\n",
    "encoder.summary()\n",
    "\n",
    "decoder_input = keras.Input(shape=(16,), name=\"encoded_img\")\n",
    "x = layers.Reshape((4, 4, 1))(decoder_input)\n",
    "x = layers.Conv2DTranspose(16, 3, activation=\"relu\")(x)\n",
    "x = layers.Conv2DTranspose(32, 3, activation=\"relu\")(x)\n",
    "x = layers.UpSampling2D(3)(x)\n",
    "x = layers.Conv2DTranspose(16, 3, activation=\"relu\")(x)\n",
    "decoder_output = layers.Conv2DTranspose(1, 3, activation=\"relu\")(x)\n",
    "\n",
    "decoder = keras.Model(decoder_input, decoder_output, name=\"decoder\")\n",
    "decoder.summary()\n",
    "\n",
    "autoencoder_input = keras.Input(shape=(28, 28, 1), name=\"img\")\n",
    "encoded_img = encoder(autoencoder_input)\n",
    "decoded_img = decoder(encoded_img)\n",
    "autoencoder = keras.Model(autoencoder_input, decoded_img, name=\"autoencoder\")\n",
    "autoencoder.summary()"
   ]
  },
  {
   "cell_type": "markdown",
   "metadata": {
    "id": "0f77623d9cd5"
   },
   "source": [
    "As you can see, the model can be nested: a model can contain sub-models\n",
    "(since a model is just like a layer).\n",
    "A common use case for model nesting is *ensembling*.\n",
    "For example, here's how to ensemble a set of models into a single model\n",
    "that averages their predictions:"
   ]
  },
  {
   "cell_type": "code",
   "execution_count": 17,
   "metadata": {
    "execution": {
     "iopub.execute_input": "2021-07-27T22:25:29.716966Z",
     "iopub.status.busy": "2021-07-27T22:25:29.716330Z",
     "iopub.status.idle": "2021-07-27T22:25:29.755171Z",
     "shell.execute_reply": "2021-07-27T22:25:29.755619Z"
    },
    "id": "3bb36b630e5d"
   },
   "outputs": [],
   "source": [
    "def get_model():\n",
    "    inputs = keras.Input(shape=(128,))\n",
    "    outputs = layers.Dense(1)(inputs)\n",
    "    return keras.Model(inputs, outputs)\n",
    "\n",
    "\n",
    "model1 = get_model()\n",
    "model2 = get_model()\n",
    "model3 = get_model()\n",
    "\n",
    "inputs = keras.Input(shape=(128,))\n",
    "y1 = model1(inputs)\n",
    "y2 = model2(inputs)\n",
    "y3 = model3(inputs)\n",
    "outputs = layers.average([y1, y2, y3])\n",
    "ensemble_model = keras.Model(inputs=inputs, outputs=outputs)"
   ]
  },
  {
   "cell_type": "markdown",
   "metadata": {
    "id": "447a319b73a6"
   },
   "source": [
    "## Manipulate complex graph topologies\n",
    "\n",
    "### Models with multiple inputs and outputs\n",
    "\n",
    "The functional API makes it easy to manipulate multiple inputs and outputs.\n",
    "This cannot be handled with the `Sequential` API.\n",
    "\n",
    "For example, if you're building a system for ranking customer issue tickets by\n",
    "priority and routing them to the correct department,\n",
    "then the model will have three inputs:\n",
    "\n",
    "- the title of the ticket (text input),\n",
    "- the text body of the ticket (text input), and\n",
    "- any tags added by the user (categorical input)\n",
    "\n",
    "This model will have two outputs:\n",
    "\n",
    "- the priority score between 0 and 1 (scalar sigmoid output), and\n",
    "- the department that should handle the ticket (softmax output\n",
    "over the set of departments).\n",
    "\n",
    "You can build this model in a few lines with the functional API:"
   ]
  },
  {
   "cell_type": "code",
   "execution_count": 18,
   "metadata": {
    "execution": {
     "iopub.execute_input": "2021-07-27T22:25:29.760263Z",
     "iopub.status.busy": "2021-07-27T22:25:29.759641Z",
     "iopub.status.idle": "2021-07-27T22:25:30.182195Z",
     "shell.execute_reply": "2021-07-27T22:25:30.182549Z"
    },
    "id": "49009e53da63"
   },
   "outputs": [],
   "source": [
    "num_tags = 12  # Number of unique issue tags\n",
    "num_words = 10000  # Size of vocabulary obtained when preprocessing text data\n",
    "num_departments = 4  # Number of departments for predictions\n",
    "\n",
    "title_input = keras.Input(\n",
    "    shape=(None,), name=\"title\"\n",
    ")  # Variable-length sequence of ints\n",
    "body_input = keras.Input(shape=(None,), name=\"body\")  # Variable-length sequence of ints\n",
    "tags_input = keras.Input(\n",
    "    shape=(num_tags,), name=\"tags\"\n",
    ")  # Binary vectors of size `num_tags`\n",
    "\n",
    "# Embed each word in the title into a 64-dimensional vector\n",
    "title_features = layers.Embedding(num_words, 64)(title_input)\n",
    "# Embed each word in the text into a 64-dimensional vector\n",
    "body_features = layers.Embedding(num_words, 64)(body_input)\n",
    "\n",
    "# Reduce sequence of embedded words in the title into a single 128-dimensional vector\n",
    "title_features = layers.LSTM(128)(title_features)\n",
    "# Reduce sequence of embedded words in the body into a single 32-dimensional vector\n",
    "body_features = layers.LSTM(32)(body_features)\n",
    "\n",
    "# Merge all available features into a single large vector via concatenation\n",
    "x = layers.concatenate([title_features, body_features, tags_input])\n",
    "\n",
    "# Stick a logistic regression for priority prediction on top of the features\n",
    "priority_pred = layers.Dense(1, name=\"priority\")(x)\n",
    "# Stick a department classifier on top of the features\n",
    "department_pred = layers.Dense(num_departments, name=\"department\")(x)\n",
    "\n",
    "# Instantiate an end-to-end model predicting both priority and department\n",
    "model = keras.Model(\n",
    "    inputs=[title_input, body_input, tags_input],\n",
    "    outputs=[priority_pred, department_pred],\n",
    ")"
   ]
  },
  {
   "cell_type": "markdown",
   "metadata": {
    "id": "ee2735b3eff1"
   },
   "source": [
    "Now plot the model:"
   ]
  },
  {
   "cell_type": "code",
   "execution_count": 19,
   "metadata": {
    "execution": {
     "iopub.execute_input": "2021-07-27T22:25:30.187287Z",
     "iopub.status.busy": "2021-07-27T22:25:30.186627Z",
     "iopub.status.idle": "2021-07-27T22:25:30.309181Z",
     "shell.execute_reply": "2021-07-27T22:25:30.309575Z"
    },
    "id": "52c4dc6fd93e"
   },
   "outputs": [
    {
     "name": "stdout",
     "output_type": "stream",
     "text": [
      "('You must install pydot (`pip install pydot`) and install graphviz (see instructions at https://graphviz.gitlab.io/download/) ', 'for plot_model/model_to_dot to work.')\n"
     ]
    }
   ],
   "source": [
    "keras.utils.plot_model(model, \"multi_input_and_output_model.png\", show_shapes=True)"
   ]
  },
  {
   "cell_type": "markdown",
   "metadata": {
    "id": "907c119d04a4"
   },
   "source": [
    "When compiling this model, you can assign different losses to each output.\n",
    "You can even assign different weights to each loss -- to modulate\n",
    "their contribution to the total training loss."
   ]
  },
  {
   "cell_type": "code",
   "execution_count": 20,
   "metadata": {
    "execution": {
     "iopub.execute_input": "2021-07-27T22:25:30.318054Z",
     "iopub.status.busy": "2021-07-27T22:25:30.317427Z",
     "iopub.status.idle": "2021-07-27T22:25:30.323769Z",
     "shell.execute_reply": "2021-07-27T22:25:30.324172Z"
    },
    "id": "3e1acef07668"
   },
   "outputs": [],
   "source": [
    "model.compile(\n",
    "    optimizer=keras.optimizers.RMSprop(1e-3),\n",
    "    loss=[\n",
    "        keras.losses.BinaryCrossentropy(from_logits=True),\n",
    "        keras.losses.CategoricalCrossentropy(from_logits=True),\n",
    "    ],\n",
    "    loss_weights=[1.0, 0.2],\n",
    ")"
   ]
  },
  {
   "cell_type": "markdown",
   "metadata": {
    "id": "c4bd84048d41"
   },
   "source": [
    "Since the output layers have different names, you could also specify\n",
    "the losses and loss weights with the corresponding layer names:"
   ]
  },
  {
   "cell_type": "code",
   "execution_count": 21,
   "metadata": {
    "execution": {
     "iopub.execute_input": "2021-07-27T22:25:30.331352Z",
     "iopub.status.busy": "2021-07-27T22:25:30.330778Z",
     "iopub.status.idle": "2021-07-27T22:25:30.333948Z",
     "shell.execute_reply": "2021-07-27T22:25:30.334296Z"
    },
    "id": "37a6af4b30c8"
   },
   "outputs": [],
   "source": [
    "model.compile(\n",
    "    optimizer=keras.optimizers.RMSprop(1e-3),\n",
    "    loss={\n",
    "        \"priority\": keras.losses.BinaryCrossentropy(from_logits=True),\n",
    "        \"department\": keras.losses.CategoricalCrossentropy(from_logits=True),\n",
    "    },\n",
    "    loss_weights={\"priority\": 1.0, \"department\": 0.2},\n",
    ")"
   ]
  },
  {
   "cell_type": "markdown",
   "metadata": {
    "id": "845b20ca3c9d"
   },
   "source": [
    "Train the model by passing lists of NumPy arrays of inputs and targets:"
   ]
  },
  {
   "cell_type": "code",
   "execution_count": 22,
   "metadata": {
    "execution": {
     "iopub.execute_input": "2021-07-27T22:25:30.340177Z",
     "iopub.status.busy": "2021-07-27T22:25:30.339589Z",
     "iopub.status.idle": "2021-07-27T22:25:34.341471Z",
     "shell.execute_reply": "2021-07-27T22:25:34.341861Z"
    },
    "id": "ae5ff9364b19"
   },
   "outputs": [
    {
     "name": "stdout",
     "output_type": "stream",
     "text": [
      "Epoch 1/2\n",
      "40/40 [==============================] - 4s 30ms/step - loss: 1.3371 - priority_loss: 0.6988 - department_loss: 3.1917\n",
      "Epoch 2/2\n",
      "40/40 [==============================] - 1s 34ms/step - loss: 1.3244 - priority_loss: 0.6974 - department_loss: 3.1352\n"
     ]
    },
    {
     "data": {
      "text/plain": [
       "<tensorflow.python.keras.callbacks.History at 0x7f815c3b7ca0>"
      ]
     },
     "execution_count": 22,
     "metadata": {},
     "output_type": "execute_result"
    }
   ],
   "source": [
    "# Dummy input data\n",
    "title_data = np.random.randint(num_words, size=(1280, 10))\n",
    "body_data = np.random.randint(num_words, size=(1280, 100))\n",
    "tags_data = np.random.randint(2, size=(1280, num_tags)).astype(\"float32\")\n",
    "\n",
    "# Dummy target data\n",
    "priority_targets = np.random.random(size=(1280, 1))\n",
    "dept_targets = np.random.randint(2, size=(1280, num_departments))\n",
    "\n",
    "model.fit(\n",
    "    {\"title\": title_data, \"body\": body_data, \"tags\": tags_data},\n",
    "    {\"priority\": priority_targets, \"department\": dept_targets},\n",
    "    epochs=2,\n",
    "    batch_size=32,\n",
    ")"
   ]
  },
  {
   "cell_type": "markdown",
   "metadata": {
    "id": "3c87f1fbe7aa"
   },
   "source": [
    "When calling fit with a `Dataset` object, it should yield either a\n",
    "tuple of lists like `([title_data, body_data, tags_data], [priority_targets, dept_targets])`\n",
    "or a tuple of dictionaries like\n",
    "`({'title': title_data, 'body': body_data, 'tags': tags_data}, {'priority': priority_targets, 'department': dept_targets})`.\n",
    "\n",
    "For more detailed explanation, refer to the [training and evaluation](https://www.tensorflow.org/guide/keras/train_and_evaluate/) guide."
   ]
  },
  {
   "cell_type": "markdown",
   "metadata": {
    "id": "64ada3f80484"
   },
   "source": [
    "### A toy ResNet model\n",
    "\n",
    "In addition to models with multiple inputs and outputs,\n",
    "the functional API makes it easy to manipulate non-linear connectivity\n",
    "topologies -- these are models with layers that are not connected sequentially,\n",
    "which the `Sequential` API cannot handle.\n",
    "\n",
    "A common use case for this is residual connections.\n",
    "Let's build a toy ResNet model for CIFAR10 to demonstrate this:"
   ]
  },
  {
   "cell_type": "code",
   "execution_count": 23,
   "metadata": {
    "execution": {
     "iopub.execute_input": "2021-07-27T22:25:34.352576Z",
     "iopub.status.busy": "2021-07-27T22:25:34.351567Z",
     "iopub.status.idle": "2021-07-27T22:25:34.571152Z",
     "shell.execute_reply": "2021-07-27T22:25:34.571540Z"
    },
    "id": "bfa8b7503813"
   },
   "outputs": [
    {
     "name": "stdout",
     "output_type": "stream",
     "text": [
      "Model: \"toy_resnet\"\n",
      "__________________________________________________________________________________________________\n",
      "Layer (type)                    Output Shape         Param #     Connected to                     \n",
      "==================================================================================================\n",
      "img (InputLayer)                [(None, 32, 32, 3)]  0                                            \n",
      "__________________________________________________________________________________________________\n",
      "conv2d_8 (Conv2D)               (None, 30, 30, 32)   896         img[0][0]                        \n",
      "__________________________________________________________________________________________________\n",
      "conv2d_9 (Conv2D)               (None, 28, 28, 64)   18496       conv2d_8[0][0]                   \n",
      "__________________________________________________________________________________________________\n",
      "max_pooling2d_2 (MaxPooling2D)  (None, 9, 9, 64)     0           conv2d_9[0][0]                   \n",
      "__________________________________________________________________________________________________\n",
      "conv2d_10 (Conv2D)              (None, 9, 9, 64)     36928       max_pooling2d_2[0][0]            \n",
      "__________________________________________________________________________________________________\n",
      "conv2d_11 (Conv2D)              (None, 9, 9, 64)     36928       conv2d_10[0][0]                  \n",
      "__________________________________________________________________________________________________\n",
      "add (Add)                       (None, 9, 9, 64)     0           conv2d_11[0][0]                  \n",
      "                                                                 max_pooling2d_2[0][0]            \n",
      "__________________________________________________________________________________________________\n",
      "conv2d_12 (Conv2D)              (None, 9, 9, 64)     36928       add[0][0]                        \n",
      "__________________________________________________________________________________________________\n",
      "conv2d_13 (Conv2D)              (None, 9, 9, 64)     36928       conv2d_12[0][0]                  \n",
      "__________________________________________________________________________________________________\n",
      "add_1 (Add)                     (None, 9, 9, 64)     0           conv2d_13[0][0]                  \n",
      "                                                                 add[0][0]                        \n",
      "__________________________________________________________________________________________________\n",
      "conv2d_14 (Conv2D)              (None, 7, 7, 64)     36928       add_1[0][0]                      \n",
      "__________________________________________________________________________________________________\n",
      "global_average_pooling2d (Globa (None, 64)           0           conv2d_14[0][0]                  \n",
      "__________________________________________________________________________________________________\n",
      "dense_6 (Dense)                 (None, 256)          16640       global_average_pooling2d[0][0]   \n",
      "__________________________________________________________________________________________________\n",
      "dropout (Dropout)               (None, 256)          0           dense_6[0][0]                    \n",
      "__________________________________________________________________________________________________\n",
      "dense_7 (Dense)                 (None, 10)           2570        dropout[0][0]                    \n",
      "==================================================================================================\n",
      "Total params: 223,242\n",
      "Trainable params: 223,242\n",
      "Non-trainable params: 0\n",
      "__________________________________________________________________________________________________\n"
     ]
    }
   ],
   "source": [
    "inputs = keras.Input(shape=(32, 32, 3), name=\"img\")\n",
    "x = layers.Conv2D(32, 3, activation=\"relu\")(inputs)\n",
    "x = layers.Conv2D(64, 3, activation=\"relu\")(x)\n",
    "block_1_output = layers.MaxPooling2D(3)(x)\n",
    "\n",
    "x = layers.Conv2D(64, 3, activation=\"relu\", padding=\"same\")(block_1_output)\n",
    "x = layers.Conv2D(64, 3, activation=\"relu\", padding=\"same\")(x)\n",
    "block_2_output = layers.add([x, block_1_output])\n",
    "\n",
    "x = layers.Conv2D(64, 3, activation=\"relu\", padding=\"same\")(block_2_output)\n",
    "x = layers.Conv2D(64, 3, activation=\"relu\", padding=\"same\")(x)\n",
    "block_3_output = layers.add([x, block_2_output])\n",
    "\n",
    "x = layers.Conv2D(64, 3, activation=\"relu\")(block_3_output)\n",
    "x = layers.GlobalAveragePooling2D()(x)\n",
    "x = layers.Dense(256, activation=\"relu\")(x)\n",
    "x = layers.Dropout(0.5)(x)\n",
    "outputs = layers.Dense(10)(x)\n",
    "\n",
    "model = keras.Model(inputs, outputs, name=\"toy_resnet\")\n",
    "model.summary()"
   ]
  },
  {
   "cell_type": "markdown",
   "metadata": {
    "id": "05aefc66c54f"
   },
   "source": [
    "Plot the model:"
   ]
  },
  {
   "cell_type": "code",
   "execution_count": 24,
   "metadata": {
    "execution": {
     "iopub.execute_input": "2021-07-27T22:25:34.576174Z",
     "iopub.status.busy": "2021-07-27T22:25:34.575610Z",
     "iopub.status.idle": "2021-07-27T22:25:34.776436Z",
     "shell.execute_reply": "2021-07-27T22:25:34.776867Z"
    },
    "id": "ef7ac19c83be"
   },
   "outputs": [
    {
     "name": "stdout",
     "output_type": "stream",
     "text": [
      "('You must install pydot (`pip install pydot`) and install graphviz (see instructions at https://graphviz.gitlab.io/download/) ', 'for plot_model/model_to_dot to work.')\n"
     ]
    }
   ],
   "source": [
    "keras.utils.plot_model(model, \"mini_resnet.png\", show_shapes=True)"
   ]
  },
  {
   "cell_type": "markdown",
   "metadata": {
    "id": "4f0883eae520"
   },
   "source": [
    "Now train the model:"
   ]
  },
  {
   "cell_type": "code",
   "execution_count": 25,
   "metadata": {
    "execution": {
     "iopub.execute_input": "2021-07-27T22:25:34.784129Z",
     "iopub.status.busy": "2021-07-27T22:25:34.783550Z",
     "iopub.status.idle": "2021-07-27T22:25:37.849971Z",
     "shell.execute_reply": "2021-07-27T22:25:37.850322Z"
    },
    "id": "4e1c7b530071"
   },
   "outputs": [
    {
     "name": "stdout",
     "output_type": "stream",
     "text": [
      "13/13 [==============================] - 3s 150ms/step - loss: 2.3063 - acc: 0.1075 - val_loss: 2.2970 - val_acc: 0.1300\n"
     ]
    },
    {
     "data": {
      "text/plain": [
       "<tensorflow.python.keras.callbacks.History at 0x7f8168956790>"
      ]
     },
     "execution_count": 25,
     "metadata": {},
     "output_type": "execute_result"
    }
   ],
   "source": [
    "(x_train, y_train), (x_test, y_test) = keras.datasets.cifar10.load_data()\n",
    "\n",
    "x_train = x_train.astype(\"float32\") / 255.0\n",
    "x_test = x_test.astype(\"float32\") / 255.0\n",
    "y_train = keras.utils.to_categorical(y_train, 10)\n",
    "y_test = keras.utils.to_categorical(y_test, 10)\n",
    "\n",
    "model.compile(\n",
    "    optimizer=keras.optimizers.RMSprop(1e-3),\n",
    "    loss=keras.losses.CategoricalCrossentropy(from_logits=True),\n",
    "    metrics=[\"acc\"],\n",
    ")\n",
    "# We restrict the data to the first 1000 samples so as to limit execution time\n",
    "# on Colab. Try to train on the entire dataset until convergence!\n",
    "model.fit(x_train[:1000], y_train[:1000], batch_size=64, epochs=1, validation_split=0.2)"
   ]
  },
  {
   "cell_type": "markdown",
   "metadata": {
    "id": "e7f35a9a1061"
   },
   "source": [
    "## Shared layers\n",
    "\n",
    "Another good use for the functional API are models that use *shared layers*.\n",
    "Shared layers are layer instances that are reused multiple times in the same model --\n",
    "they learn features that correspond to multiple paths in the graph-of-layers.\n",
    "\n",
    "Shared layers are often used to encode inputs from similar spaces\n",
    "(say, two different pieces of text that feature similar vocabulary).\n",
    "They enable sharing of information across these different inputs,\n",
    "and they make it possible to train such a model on less data.\n",
    "If a given word is seen in one of the inputs,\n",
    "that will benefit the processing of all inputs that pass through the shared layer.\n",
    "\n",
    "To share a layer in the functional API, call the same layer instance multiple times.\n",
    "For instance, here's an `Embedding` layer shared across two different text inputs:"
   ]
  },
  {
   "cell_type": "code",
   "execution_count": 26,
   "metadata": {
    "execution": {
     "iopub.execute_input": "2021-07-27T22:25:37.859838Z",
     "iopub.status.busy": "2021-07-27T22:25:37.857671Z",
     "iopub.status.idle": "2021-07-27T22:25:37.868116Z",
     "shell.execute_reply": "2021-07-27T22:25:37.868492Z"
    },
    "id": "4b8e6a4f3e88"
   },
   "outputs": [],
   "source": [
    "# Embedding for 1000 unique words mapped to 128-dimensional vectors\n",
    "shared_embedding = layers.Embedding(1000, 128)\n",
    "\n",
    "# Variable-length sequence of integers\n",
    "text_input_a = keras.Input(shape=(None,), dtype=\"int32\")\n",
    "\n",
    "# Variable-length sequence of integers\n",
    "text_input_b = keras.Input(shape=(None,), dtype=\"int32\")\n",
    "\n",
    "# Reuse the same layer to encode both inputs\n",
    "encoded_input_a = shared_embedding(text_input_a)\n",
    "encoded_input_b = shared_embedding(text_input_b)"
   ]
  },
  {
   "cell_type": "markdown",
   "metadata": {
    "id": "b4f193a74581"
   },
   "source": [
    "## Extract and reuse nodes in the graph of layers\n",
    "\n",
    "Because the graph of layers you are manipulating is a static data structure,\n",
    "it can be accessed and inspected. And this is how you are able to plot\n",
    "functional models as images.\n",
    "\n",
    "This also means that you can access the activations of intermediate layers\n",
    "(\"nodes\" in the graph) and reuse them elsewhere --\n",
    "which is very useful for something like feature extraction.\n",
    "\n",
    "Let's look at an example. This is a VGG19 model with weights pretrained on ImageNet:"
   ]
  },
  {
   "cell_type": "code",
   "execution_count": 27,
   "metadata": {
    "execution": {
     "iopub.execute_input": "2021-07-27T22:25:37.876170Z",
     "iopub.status.busy": "2021-07-27T22:25:37.874959Z",
     "iopub.status.idle": "2021-07-27T22:25:49.703839Z",
     "shell.execute_reply": "2021-07-27T22:25:49.704206Z"
    },
    "id": "8bdaa209ccbe"
   },
   "outputs": [
    {
     "name": "stderr",
     "output_type": "stream",
     "text": [
      "2021-07-29 16:04:37.140118: W tensorflow/core/framework/cpu_allocator_impl.cc:80] Allocation of 411041792 exceeds 10% of free system memory.\n",
      "2021-07-29 16:04:37.346732: W tensorflow/core/framework/cpu_allocator_impl.cc:80] Allocation of 411041792 exceeds 10% of free system memory.\n",
      "2021-07-29 16:04:37.435341: W tensorflow/core/framework/cpu_allocator_impl.cc:80] Allocation of 411041792 exceeds 10% of free system memory.\n",
      "2021-07-29 16:04:39.230550: W tensorflow/core/framework/cpu_allocator_impl.cc:80] Allocation of 411041792 exceeds 10% of free system memory.\n"
     ]
    }
   ],
   "source": [
    "vgg19 = tf.keras.applications.VGG19()"
   ]
  },
  {
   "cell_type": "markdown",
   "metadata": {
    "id": "874ef4b4de49"
   },
   "source": [
    "And these are the intermediate activations of the model,\n",
    "obtained by querying the graph data structure:"
   ]
  },
  {
   "cell_type": "code",
   "execution_count": 28,
   "metadata": {
    "execution": {
     "iopub.execute_input": "2021-07-27T22:25:49.709224Z",
     "iopub.status.busy": "2021-07-27T22:25:49.708589Z",
     "iopub.status.idle": "2021-07-27T22:25:49.710725Z",
     "shell.execute_reply": "2021-07-27T22:25:49.711066Z"
    },
    "id": "391817839937"
   },
   "outputs": [],
   "source": [
    "features_list = [layer.output for layer in vgg19.layers]"
   ]
  },
  {
   "cell_type": "markdown",
   "metadata": {
    "id": "e91a9dc2f5b0"
   },
   "source": [
    "Use these features to create a new feature-extraction model that returns\n",
    "the values of the intermediate layer activations:"
   ]
  },
  {
   "cell_type": "code",
   "execution_count": 29,
   "metadata": {
    "execution": {
     "iopub.execute_input": "2021-07-27T22:25:49.717343Z",
     "iopub.status.busy": "2021-07-27T22:25:49.716451Z",
     "iopub.status.idle": "2021-07-27T22:25:49.950864Z",
     "shell.execute_reply": "2021-07-27T22:25:49.950322Z"
    },
    "id": "36a450517b63"
   },
   "outputs": [],
   "source": [
    "feat_extraction_model = keras.Model(inputs=vgg19.input, outputs=features_list)\n",
    "\n",
    "img = np.random.random((1, 224, 224, 3)).astype(\"float32\")\n",
    "extracted_features = feat_extraction_model(img)"
   ]
  },
  {
   "cell_type": "markdown",
   "metadata": {
    "id": "f2ac248fe202"
   },
   "source": [
    "This comes in handy for tasks like\n",
    "[neural style transfer](https://keras.io/examples/generative/neural_style_transfer/),\n",
    "among other things."
   ]
  },
  {
   "cell_type": "markdown",
   "metadata": {
    "id": "c894ba891064"
   },
   "source": [
    "## Extend the API using custom layers\n",
    "\n",
    "`tf.keras` includes a wide range of built-in layers, for example:\n",
    "\n",
    "- Convolutional layers: `Conv1D`, `Conv2D`, `Conv3D`, `Conv2DTranspose`\n",
    "- Pooling layers: `MaxPooling1D`, `MaxPooling2D`, `MaxPooling3D`, `AveragePooling1D`\n",
    "- RNN layers: `GRU`, `LSTM`, `ConvLSTM2D`\n",
    "- `BatchNormalization`, `Dropout`, `Embedding`, etc.\n",
    "\n",
    "But if you don't find what you need, it's easy to extend the API by creating\n",
    "your own layers. All layers subclass the `Layer` class and implement:\n",
    "\n",
    "- `call` method, that specifies the computation done by the layer.\n",
    "- `build` method, that creates the weights of the layer (this is just a style\n",
    "convention since you can create weights in `__init__`, as well).\n",
    "\n",
    "To learn more about creating layers from scratch, read\n",
    "[custom layers and models](https://www.tensorflow.org/guide/keras/custom_layers_and_models) guide.\n",
    "\n",
    "The following is a basic implementation of `tf.keras.layers.Dense`:"
   ]
  },
  {
   "cell_type": "code",
   "execution_count": 30,
   "metadata": {
    "execution": {
     "iopub.execute_input": "2021-07-27T22:25:49.960245Z",
     "iopub.status.busy": "2021-07-27T22:25:49.959478Z",
     "iopub.status.idle": "2021-07-27T22:25:49.998270Z",
     "shell.execute_reply": "2021-07-27T22:25:49.997646Z"
    },
    "id": "1d9faf1f622a"
   },
   "outputs": [],
   "source": [
    "class CustomDense(layers.Layer):\n",
    "    def __init__(self, units=32):\n",
    "        super(CustomDense, self).__init__()\n",
    "        self.units = units\n",
    "\n",
    "    def build(self, input_shape):\n",
    "        self.w = self.add_weight(\n",
    "            shape=(input_shape[-1], self.units),\n",
    "            initializer=\"random_normal\",\n",
    "            trainable=True,\n",
    "        )\n",
    "        self.b = self.add_weight(\n",
    "            shape=(self.units,), initializer=\"random_normal\", trainable=True\n",
    "        )\n",
    "\n",
    "    def call(self, inputs):\n",
    "        return tf.matmul(inputs, self.w) + self.b\n",
    "\n",
    "\n",
    "inputs = keras.Input((4,))\n",
    "outputs = CustomDense(10)(inputs)\n",
    "\n",
    "model = keras.Model(inputs, outputs)"
   ]
  },
  {
   "cell_type": "markdown",
   "metadata": {
    "id": "b8933568358c"
   },
   "source": [
    "For serialization support in your custom layer, define a `get_config`\n",
    "method that returns the constructor arguments of the layer instance:"
   ]
  },
  {
   "cell_type": "code",
   "execution_count": 31,
   "metadata": {
    "execution": {
     "iopub.execute_input": "2021-07-27T22:25:50.008628Z",
     "iopub.status.busy": "2021-07-27T22:25:50.007913Z",
     "iopub.status.idle": "2021-07-27T22:25:50.027870Z",
     "shell.execute_reply": "2021-07-27T22:25:50.027334Z"
    },
    "id": "b22a134918a2"
   },
   "outputs": [],
   "source": [
    "class CustomDense(layers.Layer):\n",
    "    def __init__(self, units=32):\n",
    "        super(CustomDense, self).__init__()\n",
    "        self.units = units\n",
    "\n",
    "    def build(self, input_shape):\n",
    "        self.w = self.add_weight(\n",
    "            shape=(input_shape[-1], self.units),\n",
    "            initializer=\"random_normal\",\n",
    "            trainable=True,\n",
    "        )\n",
    "        self.b = self.add_weight(\n",
    "            shape=(self.units,), initializer=\"random_normal\", trainable=True\n",
    "        )\n",
    "\n",
    "    def call(self, inputs):\n",
    "        return tf.matmul(inputs, self.w) + self.b\n",
    "\n",
    "    def get_config(self):\n",
    "        return {\"units\": self.units}\n",
    "\n",
    "\n",
    "inputs = keras.Input((4,))\n",
    "outputs = CustomDense(10)(inputs)\n",
    "\n",
    "model = keras.Model(inputs, outputs)\n",
    "config = model.get_config()\n",
    "\n",
    "new_model = keras.Model.from_config(config, custom_objects={\"CustomDense\": CustomDense})"
   ]
  },
  {
   "cell_type": "markdown",
   "metadata": {
    "id": "015abf7d0508"
   },
   "source": [
    "Optionally, implement the class method `from_config(cls, config)` which is used\n",
    "when recreating a layer instance given its config dictionary.\n",
    "The default implementation of `from_config` is:\n",
    "\n",
    "```python\n",
    "def from_config(cls, config):\n",
    "  return cls(**config)\n",
    "```"
   ]
  },
  {
   "cell_type": "markdown",
   "metadata": {
    "id": "b4ead34e01dd"
   },
   "source": [
    "## When to use the functional API\n",
    "\n",
    "Should you use the Keras functional API to create a new model,\n",
    "or just subclass the `Model` class directly? In general, the functional API\n",
    "is higher-level, easier and safer, and has a number of\n",
    "features that subclassed models do not support.\n",
    "\n",
    "However, model subclassing provides greater flexibility when building models\n",
    "that are not easily expressible as directed acyclic graphs of layers.\n",
    "For example, you could not implement a Tree-RNN with the functional API\n",
    "and would have to subclass `Model` directly.\n",
    "\n",
    "For an in-depth look at the differences between the functional API and\n",
    "model subclassing, read\n",
    "[What are Symbolic and Imperative APIs in TensorFlow 2.0?](https://blog.tensorflow.org/2019/01/what-are-symbolic-and-imperative-apis.html).\n",
    "\n",
    "### Functional API strengths:\n",
    "\n",
    "The following properties are also true for Sequential models\n",
    "(which are also data structures), but are not true for subclassed models\n",
    "(which are Python bytecode, not data structures).\n",
    "\n",
    "#### Less verbose\n",
    "\n",
    "There is no `super(MyClass, self).__init__(...)`, no `def call(self, ...):`, etc.\n",
    "\n",
    "Compare:\n",
    "\n",
    "```python\n",
    "inputs = keras.Input(shape=(32,))\n",
    "x = layers.Dense(64, activation='relu')(inputs)\n",
    "outputs = layers.Dense(10)(x)\n",
    "mlp = keras.Model(inputs, outputs)\n",
    "```\n",
    "\n",
    "With the subclassed version:\n",
    "\n",
    "```python\n",
    "class MLP(keras.Model):\n",
    "\n",
    "  def __init__(self, **kwargs):\n",
    "    super(MLP, self).__init__(**kwargs)\n",
    "    self.dense_1 = layers.Dense(64, activation='relu')\n",
    "    self.dense_2 = layers.Dense(10)\n",
    "\n",
    "  def call(self, inputs):\n",
    "    x = self.dense_1(inputs)\n",
    "    return self.dense_2(x)\n",
    "\n",
    "# Instantiate the model.\n",
    "mlp = MLP()\n",
    "# Necessary to create the model's state.\n",
    "# The model doesn't have a state until it's called at least once.\n",
    "_ = mlp(tf.zeros((1, 32)))\n",
    "```\n",
    "\n",
    "#### Model validation while defining its connectivity graph\n",
    "\n",
    "In the functional API, the input specification (shape and dtype) is created\n",
    "in advance (using `Input`). Every time you call a layer,\n",
    "the layer checks that the specification passed to it matches its assumptions,\n",
    "and it will raise a helpful error message if not.\n",
    "\n",
    "This guarantees that any model you can build with the functional API will run.\n",
    "All debugging -- other than convergence-related debugging --\n",
    "happens statically during the model construction and not at execution time.\n",
    "This is similar to type checking in a compiler.\n",
    "\n",
    "#### A functional model is plottable and inspectable\n",
    "\n",
    "You can plot the model as a graph, and you can easily access intermediate nodes\n",
    "in this graph. For example, to extract and reuse the activations of intermediate\n",
    "layers (as seen in a previous example):\n",
    "\n",
    "```python\n",
    "features_list = [layer.output for layer in vgg19.layers]\n",
    "feat_extraction_model = keras.Model(inputs=vgg19.input, outputs=features_list)\n",
    "```\n",
    "\n",
    "#### A functional model can be serialized or cloned\n",
    "\n",
    "Because a functional model is a data structure rather than a piece of code,\n",
    "it is safely serializable and can be saved as a single file\n",
    "that allows you to recreate the exact same model\n",
    "without having access to any of the original code.\n",
    "See the [serialization & saving guide](https://www.tensorflow.org/guide/keras/save_and_serialize/).\n",
    "\n",
    "To serialize a subclassed model, it is necessary for the implementer\n",
    "to specify a `get_config()`\n",
    "and `from_config()` method at the model level.\n",
    "\n",
    "\n",
    "### Functional API weakness:\n",
    "\n",
    "#### It does not support dynamic architectures\n",
    "\n",
    "The functional API treats models as DAGs of layers.\n",
    "This is true for most deep learning architectures, but not all -- for example,\n",
    "recursive networks or Tree RNNs do not follow this assumption and cannot\n",
    "be implemented in the functional API."
   ]
  },
  {
   "cell_type": "markdown",
   "metadata": {
    "id": "72992d4ed462"
   },
   "source": [
    "## Mix-and-match API styles\n",
    "\n",
    "Choosing between the functional API or Model subclassing isn't a\n",
    "binary decision that restricts you into one category of models.\n",
    "All models in the `tf.keras` API can interact with each other, whether they're\n",
    "`Sequential` models, functional models, or subclassed models that are written\n",
    "from scratch.\n",
    "\n",
    "You can always use a functional model or `Sequential` model\n",
    "as part of a subclassed model or layer:"
   ]
  },
  {
   "cell_type": "code",
   "execution_count": 32,
   "metadata": {
    "execution": {
     "iopub.execute_input": "2021-07-27T22:25:50.038585Z",
     "iopub.status.busy": "2021-07-27T22:25:50.037861Z",
     "iopub.status.idle": "2021-07-27T22:25:50.067133Z",
     "shell.execute_reply": "2021-07-27T22:25:50.067530Z"
    },
    "id": "3c6221508766"
   },
   "outputs": [
    {
     "name": "stdout",
     "output_type": "stream",
     "text": [
      "(1, 10, 32)\n"
     ]
    }
   ],
   "source": [
    "units = 32\n",
    "timesteps = 10\n",
    "input_dim = 5\n",
    "\n",
    "# Define a Functional model\n",
    "inputs = keras.Input((None, units))\n",
    "x = layers.GlobalAveragePooling1D()(inputs)\n",
    "outputs = layers.Dense(1)(x)\n",
    "model = keras.Model(inputs, outputs)\n",
    "\n",
    "\n",
    "class CustomRNN(layers.Layer):\n",
    "    def __init__(self):\n",
    "        super(CustomRNN, self).__init__()\n",
    "        self.units = units\n",
    "        self.projection_1 = layers.Dense(units=units, activation=\"tanh\")\n",
    "        self.projection_2 = layers.Dense(units=units, activation=\"tanh\")\n",
    "        # Our previously-defined Functional model\n",
    "        self.classifier = model\n",
    "\n",
    "    def call(self, inputs):\n",
    "        outputs = []\n",
    "        state = tf.zeros(shape=(inputs.shape[0], self.units))\n",
    "        for t in range(inputs.shape[1]):\n",
    "            x = inputs[:, t, :]\n",
    "            h = self.projection_1(x)\n",
    "            y = h + self.projection_2(state)\n",
    "            state = y\n",
    "            outputs.append(y)\n",
    "        features = tf.stack(outputs, axis=1)\n",
    "        print(features.shape)\n",
    "        return self.classifier(features)\n",
    "\n",
    "\n",
    "rnn_model = CustomRNN()\n",
    "_ = rnn_model(tf.zeros((1, timesteps, input_dim)))"
   ]
  },
  {
   "cell_type": "markdown",
   "metadata": {
    "id": "41f42eb2a9c0"
   },
   "source": [
    "You can use any subclassed layer or model in the functional API\n",
    "as long as it implements a `call` method that follows one of the following patterns:\n",
    "\n",
    "- `call(self, inputs, **kwargs)` --\n",
    "Where `inputs` is a tensor or a nested structure of tensors (e.g. a list of tensors),\n",
    "and where `**kwargs` are non-tensor arguments (non-inputs).\n",
    "- `call(self, inputs, training=None, **kwargs)` --\n",
    "Where `training` is a boolean indicating whether the layer should behave\n",
    "in training mode and inference mode.\n",
    "- `call(self, inputs, mask=None, **kwargs)` --\n",
    "Where `mask` is a boolean mask tensor (useful for RNNs, for instance).\n",
    "- `call(self, inputs, training=None, mask=None, **kwargs)` --\n",
    "Of course, you can have both masking and training-specific behavior at the same time.\n",
    "\n",
    "Additionally, if you implement the `get_config` method on your custom Layer or model,\n",
    "the functional models you create will still be serializable and cloneable.\n",
    "\n",
    "Here's a quick example of a custom RNN, written from scratch,\n",
    "being used in a functional model:"
   ]
  },
  {
   "cell_type": "code",
   "execution_count": 33,
   "metadata": {
    "execution": {
     "iopub.execute_input": "2021-07-27T22:25:50.079642Z",
     "iopub.status.busy": "2021-07-27T22:25:50.078277Z",
     "iopub.status.idle": "2021-07-27T22:25:50.241352Z",
     "shell.execute_reply": "2021-07-27T22:25:50.241757Z"
    },
    "id": "3deb90222d05"
   },
   "outputs": [],
   "source": [
    "units = 32\n",
    "timesteps = 10\n",
    "input_dim = 5\n",
    "batch_size = 16\n",
    "\n",
    "\n",
    "class CustomRNN(layers.Layer):\n",
    "    def __init__(self):\n",
    "        super(CustomRNN, self).__init__()\n",
    "        self.units = units\n",
    "        self.projection_1 = layers.Dense(units=units, activation=\"tanh\")\n",
    "        self.projection_2 = layers.Dense(units=units, activation=\"tanh\")\n",
    "        self.classifier = layers.Dense(1)\n",
    "\n",
    "    def call(self, inputs):\n",
    "        outputs = []\n",
    "        state = tf.zeros(shape=(inputs.shape[0], self.units))\n",
    "        for t in range(inputs.shape[1]):\n",
    "            x = inputs[:, t, :]\n",
    "            h = self.projection_1(x)\n",
    "            y = h + self.projection_2(state)\n",
    "            state = y\n",
    "            outputs.append(y)\n",
    "        features = tf.stack(outputs, axis=1)\n",
    "        return self.classifier(features)\n",
    "\n",
    "\n",
    "# Note that you specify a static batch size for the inputs with the `batch_shape`\n",
    "# arg, because the inner computation of `CustomRNN` requires a static batch size\n",
    "# (when you create the `state` zeros tensor).\n",
    "inputs = keras.Input(batch_shape=(batch_size, timesteps, input_dim))\n",
    "x = layers.Conv1D(32, 3)(inputs)\n",
    "outputs = CustomRNN()(x)\n",
    "\n",
    "model = keras.Model(inputs, outputs)\n",
    "\n",
    "rnn_model = CustomRNN()\n",
    "_ = rnn_model(tf.zeros((1, 10, 5)))"
   ]
  }
 ],
 "metadata": {
  "colab": {
   "collapsed_sections": [],
   "name": "functional.ipynb",
   "toc_visible": true
  },
  "kernelspec": {
   "display_name": "Python 3 (ipykernel)",
   "language": "python",
   "name": "python3"
  },
  "language_info": {
   "codemirror_mode": {
    "name": "ipython",
    "version": 3
   },
   "file_extension": ".py",
   "mimetype": "text/x-python",
   "name": "python",
   "nbconvert_exporter": "python",
   "pygments_lexer": "ipython3",
   "version": "3.9.5"
  }
 },
 "nbformat": 4,
 "nbformat_minor": 1
}
