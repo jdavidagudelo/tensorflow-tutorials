{
 "cells": [
  {
   "cell_type": "markdown",
   "metadata": {
    "id": "b518b04cbfe0"
   },
   "source": [
    "##### Copyright 2020 The TensorFlow Authors."
   ]
  },
  {
   "cell_type": "code",
   "execution_count": 1,
   "metadata": {
    "cellView": "form",
    "execution": {
     "iopub.execute_input": "2021-07-27T22:10:22.661049Z",
     "iopub.status.busy": "2021-07-27T22:10:22.660420Z",
     "iopub.status.idle": "2021-07-27T22:10:22.663334Z",
     "shell.execute_reply": "2021-07-27T22:10:22.662822Z"
    },
    "id": "906e07f6e562"
   },
   "outputs": [],
   "source": [
    "#@title Licensed under the Apache License, Version 2.0 (the \"License\");\n",
    "# you may not use this file except in compliance with the License.\n",
    "# You may obtain a copy of the License at\n",
    "#\n",
    "# https://www.apache.org/licenses/LICENSE-2.0\n",
    "#\n",
    "# Unless required by applicable law or agreed to in writing, software\n",
    "# distributed under the License is distributed on an \"AS IS\" BASIS,\n",
    "# WITHOUT WARRANTIES OR CONDITIONS OF ANY KIND, either express or implied.\n",
    "# See the License for the specific language governing permissions and\n",
    "# limitations under the License."
   ]
  },
  {
   "cell_type": "markdown",
   "metadata": {
    "id": "8bd329a4bbca"
   },
   "source": [
    "# Masking and padding with Keras"
   ]
  },
  {
   "cell_type": "markdown",
   "metadata": {
    "id": "8b208d0913b8"
   },
   "source": [
    "<table class=\"tfo-notebook-buttons\" align=\"left\">\n",
    "  <td>\n",
    "    <a target=\"_blank\" href=\"https://www.tensorflow.org/guide/keras/masking_and_padding\"><img src=\"https://www.tensorflow.org/images/tf_logo_32px.png\" />View on TensorFlow.org</a>\n",
    "  </td>\n",
    "  <td>\n",
    "    <a target=\"_blank\" href=\"https://colab.research.google.com/github/tensorflow/docs/blob/snapshot-keras/site/en/guide/keras/masking_and_padding.ipynb\"><img src=\"https://www.tensorflow.org/images/colab_logo_32px.png\" />Run in Google Colab</a>\n",
    "  </td>\n",
    "  <td>\n",
    "    <a target=\"_blank\" href=\"https://github.com/keras-team/keras-io/blob/master/guides/understanding_masking_and_padding.py\"><img src=\"https://www.tensorflow.org/images/GitHub-Mark-32px.png\" />View source on GitHub</a>\n",
    "  </td>\n",
    "  <td>\n",
    "    <a href=\"https://storage.googleapis.com/tensorflow_docs/docs/site/en/guide/keras/masking_and_padding.ipynb\"><img src=\"https://www.tensorflow.org/images/download_logo_32px.png\" />Download notebook</a>\n",
    "  </td>\n",
    "</table>"
   ]
  },
  {
   "cell_type": "markdown",
   "metadata": {
    "id": "8d4ac441b1fc"
   },
   "source": [
    "## Setup"
   ]
  },
  {
   "cell_type": "code",
   "execution_count": 2,
   "metadata": {
    "execution": {
     "iopub.execute_input": "2021-07-27T22:10:22.670456Z",
     "iopub.status.busy": "2021-07-27T22:10:22.669895Z",
     "iopub.status.idle": "2021-07-27T22:10:24.218601Z",
     "shell.execute_reply": "2021-07-27T22:10:24.219048Z"
    },
    "id": "ec52be14e686"
   },
   "outputs": [
    {
     "name": "stderr",
     "output_type": "stream",
     "text": [
      "2021-07-29 16:20:27.189186: W tensorflow/stream_executor/platform/default/dso_loader.cc:64] Could not load dynamic library 'libcudart.so.11.0'; dlerror: libcudart.so.11.0: cannot open shared object file: No such file or directory\n",
      "2021-07-29 16:20:27.189209: I tensorflow/stream_executor/cuda/cudart_stub.cc:29] Ignore above cudart dlerror if you do not have a GPU set up on your machine.\n"
     ]
    }
   ],
   "source": [
    "import numpy as np\n",
    "import tensorflow as tf\n",
    "from tensorflow import keras\n",
    "from tensorflow.keras import layers"
   ]
  },
  {
   "cell_type": "markdown",
   "metadata": {
    "id": "e94d7a46bda8"
   },
   "source": [
    "## Introduction\n",
    "\n",
    "**Masking** is a way to tell sequence-processing layers that certain timesteps\n",
    "in an input are missing, and thus should be skipped when processing the data.\n",
    "\n",
    "**Padding** is a special form of masking where the masked steps are at the start or\n",
    "the end of a sequence. Padding comes from the need to encode sequence data into\n",
    "contiguous batches: in order to make all sequences in a batch fit a given standard\n",
    "length, it is necessary to pad or truncate some sequences.\n",
    "\n",
    "Let's take a close look."
   ]
  },
  {
   "cell_type": "markdown",
   "metadata": {
    "id": "ac6b121d6be0"
   },
   "source": [
    "## Padding sequence data\n",
    "\n",
    "When processing sequence data, it is very common for individual samples to have\n",
    "different lengths. Consider the following example (text tokenized as words):\n",
    "\n",
    "```\n",
    "[\n",
    "  [\"Hello\", \"world\", \"!\"],\n",
    "  [\"How\", \"are\", \"you\", \"doing\", \"today\"],\n",
    "  [\"The\", \"weather\", \"will\", \"be\", \"nice\", \"tomorrow\"],\n",
    "]\n",
    "```\n",
    "\n",
    "After vocabulary lookup, the data might be vectorized as integers, e.g.:\n",
    "\n",
    "```\n",
    "[\n",
    "  [71, 1331, 4231]\n",
    "  [73, 8, 3215, 55, 927],\n",
    "  [83, 91, 1, 645, 1253, 927],\n",
    "]\n",
    "```\n",
    "\n",
    "The data is a nested list where individual samples have length 3, 5, and 6,\n",
    "respectively. Since the input data for a deep learning model must be a single tensor\n",
    "(of shape e.g. `(batch_size, 6, vocab_size)` in this case), samples that are shorter\n",
    "than the longest item need to be padded with some placeholder value (alternatively,\n",
    "one might also truncate long samples before padding short samples).\n",
    "\n",
    "Keras provides a utility function to truncate and pad Python lists to a common length:\n",
    "`tf.keras.preprocessing.sequence.pad_sequences`."
   ]
  },
  {
   "cell_type": "code",
   "execution_count": 3,
   "metadata": {
    "execution": {
     "iopub.execute_input": "2021-07-27T22:10:24.225028Z",
     "iopub.status.busy": "2021-07-27T22:10:24.224376Z",
     "iopub.status.idle": "2021-07-27T22:10:24.227048Z",
     "shell.execute_reply": "2021-07-27T22:10:24.227376Z"
    },
    "id": "bb64fb185a05"
   },
   "outputs": [
    {
     "name": "stdout",
     "output_type": "stream",
     "text": [
      "[[ 711  632   71    0    0    0]\n",
      " [  73    8 3215   55  927    0]\n",
      " [  83   91    1  645 1253  927]]\n"
     ]
    }
   ],
   "source": [
    "raw_inputs = [\n",
    "    [711, 632, 71],\n",
    "    [73, 8, 3215, 55, 927],\n",
    "    [83, 91, 1, 645, 1253, 927],\n",
    "]\n",
    "\n",
    "# By default, this will pad using 0s; it is configurable via the\n",
    "# \"value\" parameter.\n",
    "# Note that you could \"pre\" padding (at the beginning) or\n",
    "# \"post\" padding (at the end).\n",
    "# We recommend using \"post\" padding when working with RNN layers\n",
    "# (in order to be able to use the\n",
    "# CuDNN implementation of the layers).\n",
    "padded_inputs = tf.keras.preprocessing.sequence.pad_sequences(\n",
    "    raw_inputs, padding=\"post\"\n",
    ")\n",
    "print(padded_inputs)\n"
   ]
  },
  {
   "cell_type": "markdown",
   "metadata": {
    "id": "03092b2da690"
   },
   "source": [
    "## Masking\n",
    "\n",
    "Now that all samples have a uniform length, the model must be informed that some part\n",
    "of the data is actually padding and should be ignored. That mechanism is **masking**.\n",
    "\n",
    "There are three ways to introduce input masks in Keras models:\n",
    "\n",
    "- Add a `keras.layers.Masking` layer.\n",
    "- Configure a `keras.layers.Embedding` layer with `mask_zero=True`.\n",
    "- Pass a `mask` argument manually when calling layers that support this argument (e.g.\n",
    "RNN layers)."
   ]
  },
  {
   "cell_type": "markdown",
   "metadata": {
    "id": "6103601e5fff"
   },
   "source": [
    "## Mask-generating layers: `Embedding` and `Masking`\n",
    "\n",
    "Under the hood, these layers will create a mask tensor (2D tensor with shape `(batch,\n",
    "sequence_length)`), and attach it to the tensor output returned by the `Masking` or\n",
    "`Embedding` layer."
   ]
  },
  {
   "cell_type": "code",
   "execution_count": 4,
   "metadata": {
    "execution": {
     "iopub.execute_input": "2021-07-27T22:10:24.235659Z",
     "iopub.status.busy": "2021-07-27T22:10:24.232448Z",
     "iopub.status.idle": "2021-07-27T22:10:25.855283Z",
     "shell.execute_reply": "2021-07-27T22:10:25.854705Z"
    },
    "id": "b2363b293483"
   },
   "outputs": [
    {
     "name": "stdout",
     "output_type": "stream",
     "text": [
      "tf.Tensor(\n",
      "[[ True  True  True False False False]\n",
      " [ True  True  True  True  True False]\n",
      " [ True  True  True  True  True  True]], shape=(3, 6), dtype=bool)\n",
      "tf.Tensor(\n",
      "[[ True  True  True False False False]\n",
      " [ True  True  True  True  True False]\n",
      " [ True  True  True  True  True  True]], shape=(3, 6), dtype=bool)\n"
     ]
    },
    {
     "name": "stderr",
     "output_type": "stream",
     "text": [
      "2021-07-29 16:20:28.757937: W tensorflow/stream_executor/platform/default/dso_loader.cc:64] Could not load dynamic library 'libcuda.so.1'; dlerror: libcuda.so.1: cannot open shared object file: No such file or directory\n",
      "2021-07-29 16:20:28.757959: W tensorflow/stream_executor/cuda/cuda_driver.cc:326] failed call to cuInit: UNKNOWN ERROR (303)\n",
      "2021-07-29 16:20:28.757978: I tensorflow/stream_executor/cuda/cuda_diagnostics.cc:156] kernel driver does not appear to be running on this host (masternode): /proc/driver/nvidia/version does not exist\n",
      "2021-07-29 16:20:28.758201: I tensorflow/core/platform/cpu_feature_guard.cc:142] This TensorFlow binary is optimized with oneAPI Deep Neural Network Library (oneDNN) to use the following CPU instructions in performance-critical operations:  AVX2 FMA\n",
      "To enable them in other operations, rebuild TensorFlow with the appropriate compiler flags.\n"
     ]
    }
   ],
   "source": [
    "embedding = layers.Embedding(input_dim=5000, output_dim=16, mask_zero=True)\n",
    "masked_output = embedding(padded_inputs)\n",
    "\n",
    "print(masked_output._keras_mask)\n",
    "\n",
    "masking_layer = layers.Masking()\n",
    "# Simulate the embedding lookup by expanding the 2D input to 3D,\n",
    "# with embedding dimension of 10.\n",
    "unmasked_embedding = tf.cast(\n",
    "    tf.tile(tf.expand_dims(padded_inputs, axis=-1), [1, 1, 10]), tf.float32\n",
    ")\n",
    "\n",
    "masked_embedding = masking_layer(unmasked_embedding)\n",
    "print(masked_embedding._keras_mask)"
   ]
  },
  {
   "cell_type": "markdown",
   "metadata": {
    "id": "17e4bdb563b2"
   },
   "source": [
    "As you can see from the printed result, the mask is a 2D boolean tensor with shape\n",
    "`(batch_size, sequence_length)`, where each individual `False` entry indicates that\n",
    "the corresponding timestep should be ignored during processing."
   ]
  },
  {
   "cell_type": "markdown",
   "metadata": {
    "id": "cf11a0399fcf"
   },
   "source": [
    "## Mask propagation in the Functional API and Sequential API\n",
    "\n",
    "When using the Functional API or the Sequential API, a mask generated by an `Embedding`\n",
    "or `Masking` layer will be propagated through the network for any layer that is\n",
    "capable of using them (for example, RNN layers). Keras will automatically fetch the\n",
    "mask corresponding to an input and pass it to any layer that knows how to use it.\n",
    "\n",
    "For instance, in the following Sequential model, the `LSTM` layer will automatically\n",
    "receive a mask, which means it will ignore padded values:"
   ]
  },
  {
   "cell_type": "code",
   "execution_count": 5,
   "metadata": {
    "execution": {
     "iopub.execute_input": "2021-07-27T22:10:25.866697Z",
     "iopub.status.busy": "2021-07-27T22:10:25.866075Z",
     "iopub.status.idle": "2021-07-27T22:10:26.639219Z",
     "shell.execute_reply": "2021-07-27T22:10:26.638657Z"
    },
    "id": "0adbecda288a"
   },
   "outputs": [],
   "source": [
    "model = keras.Sequential(\n",
    "    [layers.Embedding(input_dim=5000, output_dim=16, mask_zero=True), layers.LSTM(32),]\n",
    ")"
   ]
  },
  {
   "cell_type": "markdown",
   "metadata": {
    "id": "a8ac6481a1d5"
   },
   "source": [
    "This is also the case for the following Functional API model:"
   ]
  },
  {
   "cell_type": "code",
   "execution_count": 6,
   "metadata": {
    "execution": {
     "iopub.execute_input": "2021-07-27T22:10:26.647225Z",
     "iopub.status.busy": "2021-07-27T22:10:26.646159Z",
     "iopub.status.idle": "2021-07-27T22:10:27.340582Z",
     "shell.execute_reply": "2021-07-27T22:10:27.340003Z"
    },
    "id": "f374ab06743d"
   },
   "outputs": [],
   "source": [
    "inputs = keras.Input(shape=(None,), dtype=\"int32\")\n",
    "x = layers.Embedding(input_dim=5000, output_dim=16, mask_zero=True)(inputs)\n",
    "outputs = layers.LSTM(32)(x)\n",
    "\n",
    "model = keras.Model(inputs, outputs)"
   ]
  },
  {
   "cell_type": "markdown",
   "metadata": {
    "id": "2f2c4b96ecb5"
   },
   "source": [
    "## Passing mask tensors directly to layers"
   ]
  },
  {
   "cell_type": "markdown",
   "metadata": {
    "id": "11dccb581014"
   },
   "source": [
    "Layers that can handle masks (such as the `LSTM` layer) have a `mask` argument in their\n",
    "`__call__` method.\n",
    "\n",
    "Meanwhile, layers that produce a mask (e.g. `Embedding`) expose a `compute_mask(input,\n",
    "previous_mask)` method which you can call.\n",
    "\n",
    "Thus, you can pass the output of the `compute_mask()` method of a mask-producing layer\n",
    "to the `__call__` method of a mask-consuming layer, like this:"
   ]
  },
  {
   "cell_type": "code",
   "execution_count": 7,
   "metadata": {
    "execution": {
     "iopub.execute_input": "2021-07-27T22:10:27.352965Z",
     "iopub.status.busy": "2021-07-27T22:10:27.352012Z",
     "iopub.status.idle": "2021-07-27T22:10:27.800247Z",
     "shell.execute_reply": "2021-07-27T22:10:27.800668Z"
    },
    "id": "1955aa63896b"
   },
   "outputs": [
    {
     "data": {
      "text/plain": [
       "<tf.Tensor: shape=(32, 32), dtype=float32, numpy=\n",
       "array([[-2.3673784e-03, -4.5159291e-03,  7.1933698e-03, ...,\n",
       "        -3.9378223e-03,  3.4851418e-03, -4.6926951e-03],\n",
       "       [-4.5249523e-03, -6.1429050e-03, -2.9333762e-03, ...,\n",
       "         5.6310459e-03, -2.1246479e-04, -2.2032142e-03],\n",
       "       [-2.2052904e-03, -6.6000586e-03, -3.5656258e-03, ...,\n",
       "         2.5029709e-03, -3.6755755e-05, -3.4318417e-03],\n",
       "       ...,\n",
       "       [ 1.7058740e-03, -4.5110518e-03, -8.3892781e-04, ...,\n",
       "        -5.4476294e-03,  5.6059477e-03,  8.1791956e-04],\n",
       "       [-5.9138876e-03,  5.1321671e-03, -2.7082041e-03, ...,\n",
       "        -4.1127596e-03,  6.3681169e-03,  2.0219022e-03],\n",
       "       [ 3.8311284e-03, -6.3402415e-03, -2.7349761e-03, ...,\n",
       "         6.2776231e-03,  1.2651969e-03, -1.7790594e-03]], dtype=float32)>"
      ]
     },
     "execution_count": 7,
     "metadata": {},
     "output_type": "execute_result"
    }
   ],
   "source": [
    "class MyLayer(layers.Layer):\n",
    "    def __init__(self, **kwargs):\n",
    "        super(MyLayer, self).__init__(**kwargs)\n",
    "        self.embedding = layers.Embedding(input_dim=5000, output_dim=16, mask_zero=True)\n",
    "        self.lstm = layers.LSTM(32)\n",
    "\n",
    "    def call(self, inputs):\n",
    "        x = self.embedding(inputs)\n",
    "        # Note that you could also prepare a `mask` tensor manually.\n",
    "        # It only needs to be a boolean tensor\n",
    "        # with the right shape, i.e. (batch_size, timesteps).\n",
    "        mask = self.embedding.compute_mask(inputs)\n",
    "        output = self.lstm(x, mask=mask)  # The layer will ignore the masked values\n",
    "        return output\n",
    "\n",
    "\n",
    "layer = MyLayer()\n",
    "x = np.random.random((32, 10)) * 100\n",
    "x = x.astype(\"int32\")\n",
    "layer(x)"
   ]
  },
  {
   "cell_type": "markdown",
   "metadata": {
    "id": "b04dd330f848"
   },
   "source": [
    "## Supporting masking in your custom layers"
   ]
  },
  {
   "cell_type": "markdown",
   "metadata": {
    "id": "8451a1a8ff27"
   },
   "source": [
    "Sometimes, you may need to write layers that generate a mask (like `Embedding`), or\n",
    "layers that need to modify the current mask.\n",
    "\n",
    "For instance, any layer that produces a tensor with a different time dimension than its\n",
    "input, such as a `Concatenate` layer that concatenates on the time dimension, will\n",
    "need to modify the current mask so that downstream layers will be able to properly\n",
    "take masked timesteps into account.\n",
    "\n",
    "To do this, your layer should implement the `layer.compute_mask()` method, which\n",
    "produces a new mask given the input and the current mask.\n",
    "\n",
    "Here is an example of a `TemporalSplit` layer that needs to modify the current mask."
   ]
  },
  {
   "cell_type": "code",
   "execution_count": 8,
   "metadata": {
    "execution": {
     "iopub.execute_input": "2021-07-27T22:10:27.808246Z",
     "iopub.status.busy": "2021-07-27T22:10:27.807314Z",
     "iopub.status.idle": "2021-07-27T22:10:27.811457Z",
     "shell.execute_reply": "2021-07-27T22:10:27.810897Z"
    },
    "id": "a06fb2194c0d"
   },
   "outputs": [
    {
     "name": "stdout",
     "output_type": "stream",
     "text": [
      "tf.Tensor(\n",
      "[[ True  True  True]\n",
      " [ True  True  True]\n",
      " [ True  True  True]], shape=(3, 3), dtype=bool)\n",
      "tf.Tensor(\n",
      "[[False False False]\n",
      " [ True  True False]\n",
      " [ True  True  True]], shape=(3, 3), dtype=bool)\n"
     ]
    }
   ],
   "source": [
    "class TemporalSplit(keras.layers.Layer):\n",
    "    \"\"\"Split the input tensor into 2 tensors along the time dimension.\"\"\"\n",
    "\n",
    "    def call(self, inputs):\n",
    "        # Expect the input to be 3D and mask to be 2D, split the input tensor into 2\n",
    "        # subtensors along the time axis (axis 1).\n",
    "        return tf.split(inputs, 2, axis=1)\n",
    "\n",
    "    def compute_mask(self, inputs, mask=None):\n",
    "        # Also split the mask into 2 if it presents.\n",
    "        if mask is None:\n",
    "            return None\n",
    "        return tf.split(mask, 2, axis=1)\n",
    "\n",
    "\n",
    "first_half, second_half = TemporalSplit()(masked_embedding)\n",
    "print(first_half._keras_mask)\n",
    "print(second_half._keras_mask)"
   ]
  },
  {
   "cell_type": "markdown",
   "metadata": {
    "id": "282b867dcd95"
   },
   "source": [
    "Here is another example of a `CustomEmbedding` layer that is capable of generating a\n",
    "mask from input values:"
   ]
  },
  {
   "cell_type": "code",
   "execution_count": 9,
   "metadata": {
    "execution": {
     "iopub.execute_input": "2021-07-27T22:10:27.821078Z",
     "iopub.status.busy": "2021-07-27T22:10:27.819571Z",
     "iopub.status.idle": "2021-07-27T22:10:27.825607Z",
     "shell.execute_reply": "2021-07-27T22:10:27.825987Z"
    },
    "id": "e760655cd39c"
   },
   "outputs": [
    {
     "name": "stdout",
     "output_type": "stream",
     "text": [
      "tf.Tensor(\n",
      "[[ True  True  True  True  True  True False  True  True  True]\n",
      " [ True False  True  True  True False  True  True  True  True]\n",
      " [ True  True  True False  True  True False  True False False]], shape=(3, 10), dtype=bool)\n"
     ]
    }
   ],
   "source": [
    "class CustomEmbedding(keras.layers.Layer):\n",
    "    def __init__(self, input_dim, output_dim, mask_zero=False, **kwargs):\n",
    "        super(CustomEmbedding, self).__init__(**kwargs)\n",
    "        self.input_dim = input_dim\n",
    "        self.output_dim = output_dim\n",
    "        self.mask_zero = mask_zero\n",
    "\n",
    "    def build(self, input_shape):\n",
    "        self.embeddings = self.add_weight(\n",
    "            shape=(self.input_dim, self.output_dim),\n",
    "            initializer=\"random_normal\",\n",
    "            dtype=\"float32\",\n",
    "        )\n",
    "\n",
    "    def call(self, inputs):\n",
    "        return tf.nn.embedding_lookup(self.embeddings, inputs)\n",
    "\n",
    "    def compute_mask(self, inputs, mask=None):\n",
    "        if not self.mask_zero:\n",
    "            return None\n",
    "        return tf.not_equal(inputs, 0)\n",
    "\n",
    "\n",
    "layer = CustomEmbedding(10, 32, mask_zero=True)\n",
    "x = np.random.random((3, 10)) * 9\n",
    "x = x.astype(\"int32\")\n",
    "\n",
    "y = layer(x)\n",
    "mask = layer.compute_mask(x)\n",
    "\n",
    "print(mask)"
   ]
  },
  {
   "cell_type": "markdown",
   "metadata": {
    "id": "bb34149eb837"
   },
   "source": [
    "## Opting-in to mask propagation on compatible layers\n",
    "\n",
    "Most layers don't modify the time dimension, so don't need to modify the current mask.\n",
    "However, they may still want to be able to **propagate** the current mask, unchanged,\n",
    "to the next layer. **This is an opt-in behavior.** By default, a custom layer will\n",
    "destroy the current mask (since the framework has no way to tell whether propagating\n",
    "the mask is safe to do).\n",
    "\n",
    "If you have a custom layer that does not modify the time dimension, and if you want it\n",
    "to be able to propagate the current input mask, you should set `self.supports_masking\n",
    "= True` in the layer constructor. In this case, the default behavior of\n",
    "`compute_mask()` is to just pass the current mask through.\n",
    "\n",
    "Here's an example of a layer that is whitelisted for mask propagation:"
   ]
  },
  {
   "cell_type": "code",
   "execution_count": 10,
   "metadata": {
    "execution": {
     "iopub.execute_input": "2021-07-27T22:10:27.831782Z",
     "iopub.status.busy": "2021-07-27T22:10:27.830767Z",
     "iopub.status.idle": "2021-07-27T22:10:27.833298Z",
     "shell.execute_reply": "2021-07-27T22:10:27.832825Z"
    },
    "id": "895c35534d06"
   },
   "outputs": [],
   "source": [
    "class MyActivation(keras.layers.Layer):\n",
    "    def __init__(self, **kwargs):\n",
    "        super(MyActivation, self).__init__(**kwargs)\n",
    "        # Signal that the layer is safe for mask propagation\n",
    "        self.supports_masking = True\n",
    "\n",
    "    def call(self, inputs):\n",
    "        return tf.nn.relu(inputs)\n"
   ]
  },
  {
   "cell_type": "markdown",
   "metadata": {
    "id": "a2e1e0a81995"
   },
   "source": [
    "You can now use this custom layer in-between a mask-generating layer (like `Embedding`)\n",
    "and a mask-consuming layer (like `LSTM`), and it will pass the mask along so that it\n",
    "reaches the mask-consuming layer."
   ]
  },
  {
   "cell_type": "code",
   "execution_count": 11,
   "metadata": {
    "execution": {
     "iopub.execute_input": "2021-07-27T22:10:27.843189Z",
     "iopub.status.busy": "2021-07-27T22:10:27.842168Z",
     "iopub.status.idle": "2021-07-27T22:10:28.545176Z",
     "shell.execute_reply": "2021-07-27T22:10:28.545574Z"
    },
    "id": "486e39e9a9a7"
   },
   "outputs": [
    {
     "name": "stdout",
     "output_type": "stream",
     "text": [
      "Mask found: KerasTensor(type_spec=TensorSpec(shape=(None, None), dtype=tf.bool, name=None), name='Placeholder_1:0')\n"
     ]
    }
   ],
   "source": [
    "inputs = keras.Input(shape=(None,), dtype=\"int32\")\n",
    "x = layers.Embedding(input_dim=5000, output_dim=16, mask_zero=True)(inputs)\n",
    "x = MyActivation()(x)  # Will pass the mask along\n",
    "print(\"Mask found:\", x._keras_mask)\n",
    "outputs = layers.LSTM(32)(x)  # Will receive the mask\n",
    "\n",
    "model = keras.Model(inputs, outputs)"
   ]
  },
  {
   "cell_type": "markdown",
   "metadata": {
    "id": "55ab9c02f4ba"
   },
   "source": [
    "## Writing layers that need mask information\n",
    "\n",
    "Some layers are mask *consumers*: they accept a `mask` argument in `call` and use it to\n",
    "determine whether to skip certain time steps.\n",
    "\n",
    "To write such a layer, you can simply add a `mask=None` argument in your `call`\n",
    "signature. The mask associated with the inputs will be passed to your layer whenever\n",
    "it is available.\n",
    "\n",
    "Here's a simple example below: a layer that computes a softmax over the time dimension\n",
    "(axis 1) of an input sequence, while discarding masked timesteps."
   ]
  },
  {
   "cell_type": "code",
   "execution_count": 12,
   "metadata": {
    "execution": {
     "iopub.execute_input": "2021-07-27T22:10:28.555626Z",
     "iopub.status.busy": "2021-07-27T22:10:28.554574Z",
     "iopub.status.idle": "2021-07-27T22:10:28.623181Z",
     "shell.execute_reply": "2021-07-27T22:10:28.623536Z"
    },
    "id": "9774bcd59908"
   },
   "outputs": [],
   "source": [
    "class TemporalSoftmax(keras.layers.Layer):\n",
    "    def call(self, inputs, mask=None):\n",
    "        broadcast_float_mask = tf.expand_dims(tf.cast(mask, \"float32\"), -1)\n",
    "        inputs_exp = tf.exp(inputs) * broadcast_float_mask\n",
    "        inputs_sum = tf.reduce_sum(\n",
    "            inputs_exp * broadcast_float_mask, axis=-1, keepdims=True\n",
    "        )\n",
    "        return inputs_exp / inputs_sum\n",
    "\n",
    "\n",
    "inputs = keras.Input(shape=(None,), dtype=\"int32\")\n",
    "x = layers.Embedding(input_dim=10, output_dim=32, mask_zero=True)(inputs)\n",
    "x = layers.Dense(1)(x)\n",
    "outputs = TemporalSoftmax()(x)\n",
    "\n",
    "model = keras.Model(inputs, outputs)\n",
    "y = model(np.random.randint(0, 10, size=(32, 100)), np.random.random((32, 100, 1)))"
   ]
  },
  {
   "cell_type": "markdown",
   "metadata": {
    "id": "6373f43bbe18"
   },
   "source": [
    "## Summary\n",
    "\n",
    "That is all you need to know about padding & masking in Keras. To recap:\n",
    "\n",
    "- \"Masking\" is how layers are able to know when to skip / ignore certain timesteps in\n",
    "sequence inputs.\n",
    "- Some layers are mask-generators: `Embedding` can generate a mask from input values\n",
    "(if `mask_zero=True`), and so can the `Masking` layer.\n",
    "- Some layers are mask-consumers: they expose a `mask` argument in their `__call__`\n",
    "method. This is the case for RNN layers.\n",
    "- In the Functional API and Sequential API, mask information is propagated\n",
    "automatically.\n",
    "- When using layers in a standalone way, you can pass the `mask` arguments to layers\n",
    "manually.\n",
    "- You can easily write layers that modify the current mask, that generate a new mask,\n",
    "or that consume the mask associated with the inputs."
   ]
  }
 ],
 "metadata": {
  "colab": {
   "collapsed_sections": [],
   "name": "masking_and_padding.ipynb",
   "toc_visible": true
  },
  "kernelspec": {
   "display_name": "Python 3 (ipykernel)",
   "language": "python",
   "name": "python3"
  },
  "language_info": {
   "codemirror_mode": {
    "name": "ipython",
    "version": 3
   },
   "file_extension": ".py",
   "mimetype": "text/x-python",
   "name": "python",
   "nbconvert_exporter": "python",
   "pygments_lexer": "ipython3",
   "version": "3.9.5"
  }
 },
 "nbformat": 4,
 "nbformat_minor": 1
}
