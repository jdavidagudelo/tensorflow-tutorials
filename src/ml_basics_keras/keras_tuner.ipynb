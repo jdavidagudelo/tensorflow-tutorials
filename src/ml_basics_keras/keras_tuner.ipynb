{
 "cells": [
  {
   "cell_type": "markdown",
   "metadata": {
    "id": "Tce3stUlHN0L"
   },
   "source": [
    "##### Copyright 2020 The TensorFlow Authors."
   ]
  },
  {
   "cell_type": "code",
   "execution_count": 1,
   "metadata": {
    "cellView": "form",
    "execution": {
     "iopub.execute_input": "2021-06-26T01:24:54.353915Z",
     "iopub.status.busy": "2021-06-26T01:24:54.353313Z",
     "iopub.status.idle": "2021-06-26T01:24:54.354994Z",
     "shell.execute_reply": "2021-06-26T01:24:54.355360Z"
    },
    "id": "tuOe1ymfHZPu"
   },
   "outputs": [],
   "source": [
    "#@title Licensed under the Apache License, Version 2.0 (the \"License\");\n",
    "# you may not use this file except in compliance with the License.\n",
    "# You may obtain a copy of the License at\n",
    "#\n",
    "# https://www.apache.org/licenses/LICENSE-2.0\n",
    "#\n",
    "# Unless required by applicable law or agreed to in writing, software\n",
    "# distributed under the License is distributed on an \"AS IS\" BASIS,\n",
    "# WITHOUT WARRANTIES OR CONDITIONS OF ANY KIND, either express or implied.\n",
    "# See the License for the specific language governing permissions and\n",
    "# limitations under the License."
   ]
  },
  {
   "cell_type": "markdown",
   "metadata": {
    "id": "qFdPvlXBOdUN"
   },
   "source": [
    "# Introduction to the Keras Tuner"
   ]
  },
  {
   "cell_type": "markdown",
   "metadata": {
    "id": "MfBg1C5NB3X0"
   },
   "source": [
    "<table class=\"tfo-notebook-buttons\" align=\"left\">\n",
    "  <td>\n",
    "    <a target=\"_blank\" href=\"https://www.tensorflow.org/tutorials/keras/keras_tuner\"><img src=\"https://www.tensorflow.org/images/tf_logo_32px.png\" />View on TensorFlow.org</a>\n",
    "  </td>\n",
    "  <td>\n",
    "    <a target=\"_blank\" href=\"https://colab.research.google.com/github/tensorflow/docs/blob/master/site/en/tutorials/keras/keras_tuner.ipynb\"><img src=\"https://www.tensorflow.org/images/colab_logo_32px.png\" />Run in Google Colab</a>\n",
    "  </td>\n",
    "  <td>\n",
    "    <a target=\"_blank\" href=\"https://github.com/tensorflow/docs/blob/master/site/en/tutorials/keras/keras_tuner.ipynb\"><img src=\"https://www.tensorflow.org/images/GitHub-Mark-32px.png\" />View source on GitHub</a>\n",
    "  </td>\n",
    "  <td>\n",
    "    <a href=\"https://storage.googleapis.com/tensorflow_docs/docs/site/en/tutorials/keras/keras_tuner.ipynb\"><img src=\"https://www.tensorflow.org/images/download_logo_32px.png\" />Download notebook</a>\n",
    "  </td>\n",
    "</table>"
   ]
  },
  {
   "cell_type": "markdown",
   "metadata": {
    "id": "xHxb-dlhMIzW"
   },
   "source": [
    "## Overview\n",
    "\n",
    "The Keras Tuner is a library that helps you pick the optimal set of hyperparameters for your TensorFlow program. The process of selecting the right set of hyperparameters for your machine learning (ML) application is called *hyperparameter tuning* or *hypertuning*.\n",
    "\n",
    "Hyperparameters are the variables that govern the training process and the topology of an ML model. These variables remain constant over the training process and directly impact the performance of your ML program. Hyperparameters are of two types:\n",
    "1. **Model hyperparameters** which influence model selection such as the number and width of hidden layers\n",
    "2. **Algorithm hyperparameters** which influence the speed and quality of the learning algorithm such as the learning rate for Stochastic Gradient Descent (SGD) and the number of nearest neighbors for a k Nearest Neighbors (KNN) classifier\n",
    "\n",
    "In this tutorial, you will use the Keras Tuner to perform hypertuning for an image classification application."
   ]
  },
  {
   "cell_type": "markdown",
   "metadata": {
    "id": "MUXex9ctTuDB"
   },
   "source": [
    "## Setup"
   ]
  },
  {
   "cell_type": "code",
   "execution_count": 2,
   "metadata": {
    "execution": {
     "iopub.execute_input": "2021-06-26T01:24:54.362297Z",
     "iopub.status.busy": "2021-06-26T01:24:54.361736Z",
     "iopub.status.idle": "2021-06-26T01:24:55.793426Z",
     "shell.execute_reply": "2021-06-26T01:24:55.792729Z"
    },
    "id": "IqR2PQG4ZaZ0"
   },
   "outputs": [
    {
     "name": "stderr",
     "output_type": "stream",
     "text": [
      "2021-07-29 09:19:14.993290: W tensorflow/stream_executor/platform/default/dso_loader.cc:64] Could not load dynamic library 'libcudart.so.11.0'; dlerror: libcudart.so.11.0: cannot open shared object file: No such file or directory\n",
      "2021-07-29 09:19:14.993310: I tensorflow/stream_executor/cuda/cudart_stub.cc:29] Ignore above cudart dlerror if you do not have a GPU set up on your machine.\n"
     ]
    }
   ],
   "source": [
    "import tensorflow as tf\n",
    "from tensorflow import keras"
   ]
  },
  {
   "cell_type": "markdown",
   "metadata": {
    "id": "g83Lwsy-Aq2_"
   },
   "source": [
    "Install and import the Keras Tuner."
   ]
  },
  {
   "cell_type": "code",
   "execution_count": 3,
   "metadata": {
    "execution": {
     "iopub.execute_input": "2021-06-26T01:24:55.797991Z",
     "iopub.status.busy": "2021-06-26T01:24:55.797199Z",
     "iopub.status.idle": "2021-06-26T01:24:58.293222Z",
     "shell.execute_reply": "2021-06-26T01:24:58.293664Z"
    },
    "id": "hpMLpbt9jcO6"
   },
   "outputs": [],
   "source": [
    "# !pip install -q -U keras-tuner"
   ]
  },
  {
   "cell_type": "code",
   "execution_count": 4,
   "metadata": {
    "execution": {
     "iopub.execute_input": "2021-06-26T01:24:58.298340Z",
     "iopub.status.busy": "2021-06-26T01:24:58.297689Z",
     "iopub.status.idle": "2021-06-26T01:24:58.853454Z",
     "shell.execute_reply": "2021-06-26T01:24:58.853894Z"
    },
    "id": "_leAIdFKAxAD"
   },
   "outputs": [],
   "source": [
    "import keras_tuner as kt"
   ]
  },
  {
   "cell_type": "markdown",
   "metadata": {
    "id": "ReV_UXOgCZvx"
   },
   "source": [
    "## Download and prepare the dataset\n",
    "\n",
    "In this tutorial, you will use the Keras Tuner to find the best hyperparameters for a machine learning model that classifies images of clothing from the [Fashion MNIST dataset](https://github.com/zalandoresearch/fashion-mnist)."
   ]
  },
  {
   "cell_type": "markdown",
   "metadata": {
    "id": "HljH_ENLEdHa"
   },
   "source": [
    "Load the data."
   ]
  },
  {
   "cell_type": "code",
   "execution_count": 5,
   "metadata": {
    "execution": {
     "iopub.execute_input": "2021-06-26T01:24:58.858244Z",
     "iopub.status.busy": "2021-06-26T01:24:58.857600Z",
     "iopub.status.idle": "2021-06-26T01:24:59.759290Z",
     "shell.execute_reply": "2021-06-26T01:24:59.759790Z"
    },
    "id": "OHlHs9Wj_PUM"
   },
   "outputs": [],
   "source": [
    "(img_train, label_train), (img_test, label_test) = keras.datasets.fashion_mnist.load_data()"
   ]
  },
  {
   "cell_type": "code",
   "execution_count": 6,
   "metadata": {
    "execution": {
     "iopub.execute_input": "2021-06-26T01:24:59.764044Z",
     "iopub.status.busy": "2021-06-26T01:24:59.763406Z",
     "iopub.status.idle": "2021-06-26T01:24:59.843746Z",
     "shell.execute_reply": "2021-06-26T01:24:59.843180Z"
    },
    "id": "bLVhXs3xrUD0"
   },
   "outputs": [],
   "source": [
    "# Normalize pixel values between 0 and 1\n",
    "img_train = img_train.astype('float32') / 255.0\n",
    "img_test = img_test.astype('float32') / 255.0"
   ]
  },
  {
   "cell_type": "markdown",
   "metadata": {
    "id": "K5YEL2H2Ax3e"
   },
   "source": [
    "## Define the model\n",
    "\n",
    "When you build a model for hypertuning, you also define the hyperparameter search space in addition to the model architecture. The model you set up for hypertuning is called a *hypermodel*.\n",
    "\n",
    "You can define a hypermodel through two approaches:\n",
    "\n",
    "* By using a model builder function\n",
    "* By subclassing the `HyperModel` class of the Keras Tuner API\n",
    "\n",
    "You can also use two pre-defined `HyperModel` classes - [HyperXception](https://keras-team.github.io/keras-tuner/documentation/hypermodels/#hyperxception-class) and [HyperResNet](https://keras-team.github.io/keras-tuner/documentation/hypermodels/#hyperresnet-class) for computer vision applications.\n",
    "\n",
    "In this tutorial, you use a model builder function to define the image classification model. The model builder function returns a compiled model and uses hyperparameters you define inline to hypertune the model."
   ]
  },
  {
   "cell_type": "code",
   "execution_count": 7,
   "metadata": {
    "execution": {
     "iopub.execute_input": "2021-06-26T01:24:59.850266Z",
     "iopub.status.busy": "2021-06-26T01:24:59.849584Z",
     "iopub.status.idle": "2021-06-26T01:24:59.851797Z",
     "shell.execute_reply": "2021-06-26T01:24:59.851340Z"
    },
    "id": "ZQKodC-jtsva"
   },
   "outputs": [],
   "source": [
    "def model_builder(hp):\n",
    "  model = keras.Sequential()\n",
    "  model.add(keras.layers.Flatten(input_shape=(28, 28)))\n",
    "\n",
    "  # Tune the number of units in the first Dense layer\n",
    "  # Choose an optimal value between 32-512\n",
    "  hp_units = hp.Int('units', min_value=32, max_value=512, step=32)\n",
    "  model.add(keras.layers.Dense(units=hp_units, activation='relu'))\n",
    "  model.add(keras.layers.Dense(10))\n",
    "\n",
    "  # Tune the learning rate for the optimizer\n",
    "  # Choose an optimal value from 0.01, 0.001, or 0.0001\n",
    "  hp_learning_rate = hp.Choice('learning_rate', values=[1e-2, 1e-3, 1e-4])\n",
    "\n",
    "  model.compile(optimizer=keras.optimizers.Adam(learning_rate=hp_learning_rate),\n",
    "                loss=keras.losses.SparseCategoricalCrossentropy(from_logits=True),\n",
    "                metrics=['accuracy'])\n",
    "\n",
    "  return model"
   ]
  },
  {
   "cell_type": "markdown",
   "metadata": {
    "id": "0J1VYw4q3x0b"
   },
   "source": [
    "## Instantiate the tuner and perform hypertuning\n",
    "\n",
    "Instantiate the tuner to perform the hypertuning. The Keras Tuner has four tuners available - `RandomSearch`, `Hyperband`, `BayesianOptimization`, and `Sklearn`. In this tutorial, you use the [Hyperband](https://arxiv.org/pdf/1603.06560.pdf) tuner.\n",
    "\n",
    "To instantiate the Hyperband tuner, you must specify the hypermodel, the `objective` to optimize and the maximum number of epochs to train (`max_epochs`)."
   ]
  },
  {
   "cell_type": "code",
   "execution_count": 8,
   "metadata": {
    "execution": {
     "iopub.execute_input": "2021-06-26T01:24:59.856125Z",
     "iopub.status.busy": "2021-06-26T01:24:59.855483Z",
     "iopub.status.idle": "2021-06-26T01:25:01.549456Z",
     "shell.execute_reply": "2021-06-26T01:25:01.549889Z"
    },
    "id": "oichQFly6Y46"
   },
   "outputs": [
    {
     "name": "stderr",
     "output_type": "stream",
     "text": [
      "2021-07-29 09:29:06.052322: W tensorflow/stream_executor/platform/default/dso_loader.cc:64] Could not load dynamic library 'libcuda.so.1'; dlerror: libcuda.so.1: cannot open shared object file: No such file or directory\n",
      "2021-07-29 09:29:06.052366: W tensorflow/stream_executor/cuda/cuda_driver.cc:326] failed call to cuInit: UNKNOWN ERROR (303)\n",
      "2021-07-29 09:29:06.052404: I tensorflow/stream_executor/cuda/cuda_diagnostics.cc:156] kernel driver does not appear to be running on this host (masternode): /proc/driver/nvidia/version does not exist\n",
      "2021-07-29 09:29:06.052883: I tensorflow/core/platform/cpu_feature_guard.cc:142] This TensorFlow binary is optimized with oneAPI Deep Neural Network Library (oneDNN) to use the following CPU instructions in performance-critical operations:  AVX2 FMA\n",
      "To enable them in other operations, rebuild TensorFlow with the appropriate compiler flags.\n"
     ]
    }
   ],
   "source": [
    "tuner = kt.Hyperband(model_builder,\n",
    "                     objective='val_accuracy',\n",
    "                     max_epochs=10,\n",
    "                     factor=3,\n",
    "                     directory='my_dir',\n",
    "                     project_name='intro_to_kt')"
   ]
  },
  {
   "cell_type": "markdown",
   "metadata": {
    "id": "VaIhhdKf9VtI"
   },
   "source": [
    "The Hyperband tuning algorithm uses adaptive resource allocation and early-stopping to quickly converge on a high-performing model. This is done using a sports championship style bracket. The algorithm trains a large number of models for a few epochs and carries forward only the top-performing half of models to the next round. Hyperband determines the number of models to train in a bracket by computing 1 + log<sub>`factor`</sub>(`max_epochs`) and rounding it up to the nearest integer."
   ]
  },
  {
   "cell_type": "markdown",
   "metadata": {
    "id": "cwhBdXx0Ekj8"
   },
   "source": [
    "Create a callback to stop training early after reaching a certain value for the validation loss."
   ]
  },
  {
   "cell_type": "code",
   "execution_count": 9,
   "metadata": {
    "execution": {
     "iopub.execute_input": "2021-06-26T01:25:01.554385Z",
     "iopub.status.busy": "2021-06-26T01:25:01.553764Z",
     "iopub.status.idle": "2021-06-26T01:25:01.555354Z",
     "shell.execute_reply": "2021-06-26T01:25:01.555733Z"
    },
    "id": "WT9IkS9NEjLc"
   },
   "outputs": [],
   "source": [
    "stop_early = tf.keras.callbacks.EarlyStopping(monitor='val_loss', patience=5)"
   ]
  },
  {
   "cell_type": "markdown",
   "metadata": {
    "id": "UKghEo15Tduy"
   },
   "source": [
    "Run the hyperparameter search. The arguments for the search method are the same as those used for `tf.keras.model.fit` in addition to the callback above."
   ]
  },
  {
   "cell_type": "code",
   "execution_count": 10,
   "metadata": {
    "execution": {
     "iopub.execute_input": "2021-06-26T01:25:01.560706Z",
     "iopub.status.busy": "2021-06-26T01:25:01.560104Z",
     "iopub.status.idle": "2021-06-26T01:30:37.256655Z",
     "shell.execute_reply": "2021-06-26T01:30:37.257079Z"
    },
    "id": "dSBQcTHF9cKt"
   },
   "outputs": [
    {
     "name": "stdout",
     "output_type": "stream",
     "text": [
      "Trial 30 Complete [00h 01m 05s]\n",
      "val_accuracy: 0.8799166679382324\n",
      "\n",
      "Best val_accuracy So Far: 0.8897500038146973\n",
      "Total elapsed time: 00h 09m 46s\n",
      "INFO:tensorflow:Oracle triggered exit\n",
      "\n",
      "The hyperparameter search is complete. The optimal number of units in the first densely-connected\n",
      "layer is 416 and the optimal learning rate for the optimizer\n",
      "is 0.001.\n",
      "\n"
     ]
    }
   ],
   "source": [
    "tuner.search(img_train, label_train, epochs=50, validation_split=0.2, callbacks=[stop_early])\n",
    "\n",
    "# Get the optimal hyperparameters\n",
    "best_hps=tuner.get_best_hyperparameters(num_trials=1)[0]\n",
    "\n",
    "print(f\"\"\"\n",
    "The hyperparameter search is complete. The optimal number of units in the first densely-connected\n",
    "layer is {best_hps.get('units')} and the optimal learning rate for the optimizer\n",
    "is {best_hps.get('learning_rate')}.\n",
    "\"\"\")"
   ]
  },
  {
   "cell_type": "markdown",
   "metadata": {
    "id": "Lak_ylf88xBv"
   },
   "source": [
    "## Train the model\n",
    "\n",
    "Find the optimal number of epochs to train the model with the hyperparameters obtained from the search."
   ]
  },
  {
   "cell_type": "code",
   "execution_count": 11,
   "metadata": {
    "execution": {
     "iopub.execute_input": "2021-06-26T01:30:37.349333Z",
     "iopub.status.busy": "2021-06-26T01:30:37.261935Z",
     "iopub.status.idle": "2021-06-26T01:32:41.599453Z",
     "shell.execute_reply": "2021-06-26T01:32:41.599038Z"
    },
    "id": "McO82AXOuxXh"
   },
   "outputs": [
    {
     "name": "stdout",
     "output_type": "stream",
     "text": [
      "Epoch 1/50\n",
      "1500/1500 [==============================] - 6s 4ms/step - loss: 0.4969 - accuracy: 0.8242 - val_loss: 0.4146 - val_accuracy: 0.8508\n",
      "Epoch 2/50\n",
      "1500/1500 [==============================] - 5s 3ms/step - loss: 0.3705 - accuracy: 0.8659 - val_loss: 0.4115 - val_accuracy: 0.8482\n",
      "Epoch 3/50\n",
      "1500/1500 [==============================] - 4s 3ms/step - loss: 0.3316 - accuracy: 0.8774 - val_loss: 0.3441 - val_accuracy: 0.8747\n",
      "Epoch 4/50\n",
      "1500/1500 [==============================] - 6s 4ms/step - loss: 0.3064 - accuracy: 0.8855 - val_loss: 0.3445 - val_accuracy: 0.8745\n",
      "Epoch 5/50\n",
      "1500/1500 [==============================] - 5s 4ms/step - loss: 0.2841 - accuracy: 0.8939 - val_loss: 0.3235 - val_accuracy: 0.8878\n",
      "Epoch 6/50\n",
      "1500/1500 [==============================] - 5s 3ms/step - loss: 0.2718 - accuracy: 0.8975 - val_loss: 0.3356 - val_accuracy: 0.8791\n",
      "Epoch 7/50\n",
      "1500/1500 [==============================] - 5s 3ms/step - loss: 0.2553 - accuracy: 0.9045 - val_loss: 0.3543 - val_accuracy: 0.8697\n",
      "Epoch 8/50\n",
      "1500/1500 [==============================] - 4s 3ms/step - loss: 0.2456 - accuracy: 0.9086 - val_loss: 0.3534 - val_accuracy: 0.8767\n",
      "Epoch 9/50\n",
      "1500/1500 [==============================] - 4s 3ms/step - loss: 0.2333 - accuracy: 0.9119 - val_loss: 0.3129 - val_accuracy: 0.8902\n",
      "Epoch 10/50\n",
      "1500/1500 [==============================] - 5s 3ms/step - loss: 0.2240 - accuracy: 0.9157 - val_loss: 0.3257 - val_accuracy: 0.8877\n",
      "Epoch 11/50\n",
      "1500/1500 [==============================] - 6s 4ms/step - loss: 0.2138 - accuracy: 0.9197 - val_loss: 0.3536 - val_accuracy: 0.8827\n",
      "Epoch 12/50\n",
      "1500/1500 [==============================] - 5s 3ms/step - loss: 0.2067 - accuracy: 0.9219 - val_loss: 0.3167 - val_accuracy: 0.8914\n",
      "Epoch 13/50\n",
      "1500/1500 [==============================] - 6s 4ms/step - loss: 0.2017 - accuracy: 0.9250 - val_loss: 0.3216 - val_accuracy: 0.8932\n",
      "Epoch 14/50\n",
      "1500/1500 [==============================] - 5s 4ms/step - loss: 0.1937 - accuracy: 0.9281 - val_loss: 0.3289 - val_accuracy: 0.8849\n",
      "Epoch 15/50\n",
      "1500/1500 [==============================] - 4s 3ms/step - loss: 0.1848 - accuracy: 0.9310 - val_loss: 0.3351 - val_accuracy: 0.8907\n",
      "Epoch 16/50\n",
      "1500/1500 [==============================] - 5s 3ms/step - loss: 0.1796 - accuracy: 0.9329 - val_loss: 0.3408 - val_accuracy: 0.8872\n",
      "Epoch 17/50\n",
      "1500/1500 [==============================] - 5s 3ms/step - loss: 0.1724 - accuracy: 0.9344 - val_loss: 0.3469 - val_accuracy: 0.8923\n",
      "Epoch 18/50\n",
      "1500/1500 [==============================] - 5s 3ms/step - loss: 0.1687 - accuracy: 0.9373 - val_loss: 0.3339 - val_accuracy: 0.8949\n",
      "Epoch 19/50\n",
      "1500/1500 [==============================] - 5s 3ms/step - loss: 0.1610 - accuracy: 0.9398 - val_loss: 0.3446 - val_accuracy: 0.8890\n",
      "Epoch 20/50\n",
      "1500/1500 [==============================] - 6s 4ms/step - loss: 0.1590 - accuracy: 0.9395 - val_loss: 0.3508 - val_accuracy: 0.8903\n",
      "Epoch 21/50\n",
      "1500/1500 [==============================] - 5s 3ms/step - loss: 0.1517 - accuracy: 0.9429 - val_loss: 0.3612 - val_accuracy: 0.8914\n",
      "Epoch 22/50\n",
      "1500/1500 [==============================] - 5s 3ms/step - loss: 0.1461 - accuracy: 0.9449 - val_loss: 0.3938 - val_accuracy: 0.8855\n",
      "Epoch 23/50\n",
      "1500/1500 [==============================] - 5s 4ms/step - loss: 0.1443 - accuracy: 0.9465 - val_loss: 0.3728 - val_accuracy: 0.8942\n",
      "Epoch 24/50\n",
      "1500/1500 [==============================] - 5s 3ms/step - loss: 0.1378 - accuracy: 0.9489 - val_loss: 0.3831 - val_accuracy: 0.8930\n",
      "Epoch 25/50\n",
      "1500/1500 [==============================] - 5s 4ms/step - loss: 0.1344 - accuracy: 0.9493 - val_loss: 0.3791 - val_accuracy: 0.8942\n",
      "Epoch 26/50\n",
      "1500/1500 [==============================] - 6s 4ms/step - loss: 0.1317 - accuracy: 0.9506 - val_loss: 0.4314 - val_accuracy: 0.8890\n",
      "Epoch 27/50\n",
      "1500/1500 [==============================] - 6s 4ms/step - loss: 0.1270 - accuracy: 0.9526 - val_loss: 0.3859 - val_accuracy: 0.8977\n",
      "Epoch 28/50\n",
      "1500/1500 [==============================] - 8s 5ms/step - loss: 0.1222 - accuracy: 0.9531 - val_loss: 0.3924 - val_accuracy: 0.8926\n",
      "Epoch 29/50\n",
      "1500/1500 [==============================] - 7s 5ms/step - loss: 0.1238 - accuracy: 0.9536 - val_loss: 0.4034 - val_accuracy: 0.8916\n",
      "Epoch 30/50\n",
      "1500/1500 [==============================] - 6s 4ms/step - loss: 0.1176 - accuracy: 0.9556 - val_loss: 0.4003 - val_accuracy: 0.8916\n",
      "Epoch 31/50\n",
      "1500/1500 [==============================] - 5s 3ms/step - loss: 0.1144 - accuracy: 0.9569 - val_loss: 0.4153 - val_accuracy: 0.8903\n",
      "Epoch 32/50\n",
      "1500/1500 [==============================] - 4s 3ms/step - loss: 0.1101 - accuracy: 0.9593 - val_loss: 0.4374 - val_accuracy: 0.8918\n",
      "Epoch 33/50\n",
      "1500/1500 [==============================] - 4s 3ms/step - loss: 0.1079 - accuracy: 0.9592 - val_loss: 0.4384 - val_accuracy: 0.8905\n",
      "Epoch 34/50\n",
      "1500/1500 [==============================] - 4s 3ms/step - loss: 0.1053 - accuracy: 0.9607 - val_loss: 0.4408 - val_accuracy: 0.8916\n",
      "Epoch 35/50\n",
      "1500/1500 [==============================] - 5s 3ms/step - loss: 0.1044 - accuracy: 0.9607 - val_loss: 0.4469 - val_accuracy: 0.8938\n",
      "Epoch 36/50\n",
      "1500/1500 [==============================] - 4s 3ms/step - loss: 0.0984 - accuracy: 0.9624 - val_loss: 0.4717 - val_accuracy: 0.8852\n",
      "Epoch 37/50\n",
      "1500/1500 [==============================] - 5s 3ms/step - loss: 0.0995 - accuracy: 0.9629 - val_loss: 0.4433 - val_accuracy: 0.8943\n",
      "Epoch 38/50\n",
      "1500/1500 [==============================] - 5s 4ms/step - loss: 0.0946 - accuracy: 0.9644 - val_loss: 0.4497 - val_accuracy: 0.8919\n",
      "Epoch 39/50\n",
      "1500/1500 [==============================] - 6s 4ms/step - loss: 0.0949 - accuracy: 0.9635 - val_loss: 0.5222 - val_accuracy: 0.8866\n",
      "Epoch 40/50\n",
      "1500/1500 [==============================] - 6s 4ms/step - loss: 0.0918 - accuracy: 0.9653 - val_loss: 0.4982 - val_accuracy: 0.8842\n",
      "Epoch 41/50\n",
      "1500/1500 [==============================] - 6s 4ms/step - loss: 0.0885 - accuracy: 0.9661 - val_loss: 0.4681 - val_accuracy: 0.8907\n",
      "Epoch 42/50\n",
      "1500/1500 [==============================] - 6s 4ms/step - loss: 0.0872 - accuracy: 0.9674 - val_loss: 0.4810 - val_accuracy: 0.8942\n",
      "Epoch 43/50\n",
      "1500/1500 [==============================] - 7s 5ms/step - loss: 0.0846 - accuracy: 0.9684 - val_loss: 0.5017 - val_accuracy: 0.8865\n",
      "Epoch 44/50\n",
      "1500/1500 [==============================] - 6s 4ms/step - loss: 0.0846 - accuracy: 0.9688 - val_loss: 0.5231 - val_accuracy: 0.8902\n",
      "Epoch 45/50\n",
      "1500/1500 [==============================] - 6s 4ms/step - loss: 0.0795 - accuracy: 0.9713 - val_loss: 0.4886 - val_accuracy: 0.8974\n",
      "Epoch 46/50\n",
      "1500/1500 [==============================] - 6s 4ms/step - loss: 0.0820 - accuracy: 0.9690 - val_loss: 0.5334 - val_accuracy: 0.8927\n",
      "Epoch 47/50\n",
      "1500/1500 [==============================] - 6s 4ms/step - loss: 0.0767 - accuracy: 0.9708 - val_loss: 0.5231 - val_accuracy: 0.8888\n",
      "Epoch 48/50\n",
      "1500/1500 [==============================] - 6s 4ms/step - loss: 0.0772 - accuracy: 0.9708 - val_loss: 0.5577 - val_accuracy: 0.8866\n",
      "Epoch 49/50\n",
      "1500/1500 [==============================] - 7s 5ms/step - loss: 0.0752 - accuracy: 0.9715 - val_loss: 0.5425 - val_accuracy: 0.8893\n",
      "Epoch 50/50\n",
      "1500/1500 [==============================] - 8s 6ms/step - loss: 0.0722 - accuracy: 0.9732 - val_loss: 0.5873 - val_accuracy: 0.8863\n",
      "Best epoch: 27\n"
     ]
    }
   ],
   "source": [
    "# Build the model with the optimal hyperparameters and train it on the data for 50 epochs\n",
    "model = tuner.hypermodel.build(best_hps)\n",
    "history = model.fit(img_train, label_train, epochs=50, validation_split=0.2)\n",
    "\n",
    "val_acc_per_epoch = history.history['val_accuracy']\n",
    "best_epoch = val_acc_per_epoch.index(max(val_acc_per_epoch)) + 1\n",
    "print('Best epoch: %d' % (best_epoch,))"
   ]
  },
  {
   "cell_type": "markdown",
   "metadata": {
    "id": "uOTSirSTI3Gp"
   },
   "source": [
    "Re-instantiate the hypermodel and train it with the optimal number of epochs from above."
   ]
  },
  {
   "cell_type": "code",
   "execution_count": 12,
   "metadata": {
    "execution": {
     "iopub.execute_input": "2021-06-26T01:32:41.604263Z",
     "iopub.status.busy": "2021-06-26T01:32:41.603065Z",
     "iopub.status.idle": "2021-06-26T01:34:35.585859Z",
     "shell.execute_reply": "2021-06-26T01:34:35.585450Z"
    },
    "id": "NoiPUEHmMhCe"
   },
   "outputs": [
    {
     "name": "stdout",
     "output_type": "stream",
     "text": [
      "Epoch 1/27\n",
      "1500/1500 [==============================] - 4s 3ms/step - loss: 0.4926 - accuracy: 0.8258 - val_loss: 0.4015 - val_accuracy: 0.8570\n",
      "Epoch 2/27\n",
      "1500/1500 [==============================] - 4s 3ms/step - loss: 0.3667 - accuracy: 0.8667 - val_loss: 0.4045 - val_accuracy: 0.8528\n",
      "Epoch 3/27\n",
      "1500/1500 [==============================] - 4s 3ms/step - loss: 0.3306 - accuracy: 0.8776 - val_loss: 0.3579 - val_accuracy: 0.8677\n",
      "Epoch 4/27\n",
      "1500/1500 [==============================] - 4s 3ms/step - loss: 0.3042 - accuracy: 0.8880 - val_loss: 0.3525 - val_accuracy: 0.8752\n",
      "Epoch 5/27\n",
      "1500/1500 [==============================] - 4s 3ms/step - loss: 0.2871 - accuracy: 0.8936 - val_loss: 0.3450 - val_accuracy: 0.8765\n",
      "Epoch 6/27\n",
      "1500/1500 [==============================] - 4s 3ms/step - loss: 0.2683 - accuracy: 0.9003 - val_loss: 0.3561 - val_accuracy: 0.8754\n",
      "Epoch 7/27\n",
      "1500/1500 [==============================] - 5s 3ms/step - loss: 0.2549 - accuracy: 0.9041 - val_loss: 0.3374 - val_accuracy: 0.8798\n",
      "Epoch 8/27\n",
      "1500/1500 [==============================] - 7s 4ms/step - loss: 0.2461 - accuracy: 0.9072 - val_loss: 0.3505 - val_accuracy: 0.8807\n",
      "Epoch 9/27\n",
      "1500/1500 [==============================] - 5s 3ms/step - loss: 0.2359 - accuracy: 0.9114 - val_loss: 0.3139 - val_accuracy: 0.8889\n",
      "Epoch 10/27\n",
      "1500/1500 [==============================] - 5s 3ms/step - loss: 0.2245 - accuracy: 0.9160 - val_loss: 0.3344 - val_accuracy: 0.8879\n",
      "Epoch 11/27\n",
      "1500/1500 [==============================] - 5s 3ms/step - loss: 0.2145 - accuracy: 0.9203 - val_loss: 0.3093 - val_accuracy: 0.8912\n",
      "Epoch 12/27\n",
      "1500/1500 [==============================] - 5s 3ms/step - loss: 0.2093 - accuracy: 0.9215 - val_loss: 0.3230 - val_accuracy: 0.8919\n",
      "Epoch 13/27\n",
      "1500/1500 [==============================] - 5s 3ms/step - loss: 0.2000 - accuracy: 0.9247 - val_loss: 0.3099 - val_accuracy: 0.8934\n",
      "Epoch 14/27\n",
      "1500/1500 [==============================] - 5s 3ms/step - loss: 0.1915 - accuracy: 0.9283 - val_loss: 0.3329 - val_accuracy: 0.8907\n",
      "Epoch 15/27\n",
      "1500/1500 [==============================] - 5s 3ms/step - loss: 0.1871 - accuracy: 0.9308 - val_loss: 0.3238 - val_accuracy: 0.8942\n",
      "Epoch 16/27\n",
      "1500/1500 [==============================] - 5s 3ms/step - loss: 0.1793 - accuracy: 0.9327 - val_loss: 0.3431 - val_accuracy: 0.8863\n",
      "Epoch 17/27\n",
      "1500/1500 [==============================] - 7s 5ms/step - loss: 0.1738 - accuracy: 0.9341 - val_loss: 0.3695 - val_accuracy: 0.8907\n",
      "Epoch 18/27\n",
      "1500/1500 [==============================] - 5s 3ms/step - loss: 0.1684 - accuracy: 0.9373 - val_loss: 0.3663 - val_accuracy: 0.8927\n",
      "Epoch 19/27\n",
      "1500/1500 [==============================] - 5s 3ms/step - loss: 0.1606 - accuracy: 0.9397 - val_loss: 0.3361 - val_accuracy: 0.8950\n",
      "Epoch 20/27\n",
      "1500/1500 [==============================] - 4s 3ms/step - loss: 0.1622 - accuracy: 0.9392 - val_loss: 0.3406 - val_accuracy: 0.8948\n",
      "Epoch 21/27\n",
      "1500/1500 [==============================] - 5s 3ms/step - loss: 0.1493 - accuracy: 0.9449 - val_loss: 0.3538 - val_accuracy: 0.8942\n",
      "Epoch 22/27\n",
      "1500/1500 [==============================] - 5s 3ms/step - loss: 0.1435 - accuracy: 0.9452 - val_loss: 0.3545 - val_accuracy: 0.8969\n",
      "Epoch 23/27\n",
      "1500/1500 [==============================] - 5s 4ms/step - loss: 0.1431 - accuracy: 0.9457 - val_loss: 0.3469 - val_accuracy: 0.8969\n",
      "Epoch 24/27\n",
      "1500/1500 [==============================] - 4s 3ms/step - loss: 0.1381 - accuracy: 0.9483 - val_loss: 0.3659 - val_accuracy: 0.8957\n",
      "Epoch 25/27\n",
      "1500/1500 [==============================] - 5s 3ms/step - loss: 0.1339 - accuracy: 0.9490 - val_loss: 0.4144 - val_accuracy: 0.8839\n",
      "Epoch 26/27\n",
      "1500/1500 [==============================] - 5s 3ms/step - loss: 0.1319 - accuracy: 0.9499 - val_loss: 0.3985 - val_accuracy: 0.8945\n",
      "Epoch 27/27\n",
      "1500/1500 [==============================] - 5s 3ms/step - loss: 0.1271 - accuracy: 0.9523 - val_loss: 0.3851 - val_accuracy: 0.8923\n"
     ]
    },
    {
     "data": {
      "text/plain": [
       "<tensorflow.python.keras.callbacks.History at 0x7fd5114b0640>"
      ]
     },
     "execution_count": 12,
     "metadata": {},
     "output_type": "execute_result"
    }
   ],
   "source": [
    "hypermodel = tuner.hypermodel.build(best_hps)\n",
    "\n",
    "# Retrain the model\n",
    "hypermodel.fit(img_train, label_train, epochs=best_epoch, validation_split=0.2)"
   ]
  },
  {
   "cell_type": "markdown",
   "metadata": {
    "id": "MqU5ZVAaag2v"
   },
   "source": [
    "To finish this tutorial, evaluate the hypermodel on the test data."
   ]
  },
  {
   "cell_type": "code",
   "execution_count": 13,
   "metadata": {
    "execution": {
     "iopub.execute_input": "2021-06-26T01:34:35.589791Z",
     "iopub.status.busy": "2021-06-26T01:34:35.589210Z",
     "iopub.status.idle": "2021-06-26T01:34:36.248936Z",
     "shell.execute_reply": "2021-06-26T01:34:36.249313Z"
    },
    "id": "9E0BTp9Ealjb"
   },
   "outputs": [
    {
     "name": "stdout",
     "output_type": "stream",
     "text": [
      "313/313 [==============================] - 1s 2ms/step - loss: 0.4127 - accuracy: 0.8897\n",
      "[test loss, test accuracy]: [0.41271263360977173, 0.8896999955177307]\n"
     ]
    }
   ],
   "source": [
    "eval_result = hypermodel.evaluate(img_test, label_test)\n",
    "print(\"[test loss, test accuracy]:\", eval_result)"
   ]
  },
  {
   "cell_type": "markdown",
   "metadata": {
    "id": "EQRpPHZsz-eC"
   },
   "source": [
    "The `my_dir/intro_to_kt` directory contains detailed logs and checkpoints for every trial (model configuration) run during the hyperparameter search. If you re-run the hyperparameter search, the Keras Tuner uses the existing state from these logs to resume the search. To disable this behavior, pass an additional `overwrite=True` argument while instantiating the tuner."
   ]
  },
  {
   "cell_type": "markdown",
   "metadata": {
    "id": "sKwLOzKpFGAj"
   },
   "source": [
    "## Summary\n",
    "\n",
    "In this tutorial, you learned how to use the Keras Tuner to tune hyperparameters for a model. To learn more about the Keras Tuner, check out these additional resources:\n",
    "\n",
    "* [Keras Tuner on the TensorFlow blog](https://blog.tensorflow.org/2020/01/hyperparameter-tuning-with-keras-tuner.html)\n",
    "* [Keras Tuner website](https://keras-team.github.io/keras-tuner/)\n",
    "\n",
    "Also check out the [HParams Dashboard](https://www.tensorflow.org/tensorboard/hyperparameter_tuning_with_hparams) in TensorBoard to interactively tune your model hyperparameters."
   ]
  },
  {
   "cell_type": "code",
   "execution_count": null,
   "metadata": {},
   "outputs": [],
   "source": []
  }
 ],
 "metadata": {
  "accelerator": "GPU",
  "colab": {
   "collapsed_sections": [
    "Tce3stUlHN0L"
   ],
   "name": "keras_tuner.ipynb",
   "toc_visible": true
  },
  "kernelspec": {
   "display_name": "Python 3 (ipykernel)",
   "language": "python",
   "name": "python3"
  },
  "language_info": {
   "codemirror_mode": {
    "name": "ipython",
    "version": 3
   },
   "file_extension": ".py",
   "mimetype": "text/x-python",
   "name": "python",
   "nbconvert_exporter": "python",
   "pygments_lexer": "ipython3",
   "version": "3.9.5"
  }
 },
 "nbformat": 4,
 "nbformat_minor": 1
}
