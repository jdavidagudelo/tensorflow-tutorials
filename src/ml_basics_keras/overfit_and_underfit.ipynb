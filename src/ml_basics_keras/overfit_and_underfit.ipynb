{
 "cells": [
  {
   "cell_type": "markdown",
   "metadata": {
    "id": "fTFj8ft5dlbS"
   },
   "source": [
    "##### Copyright 2018 The TensorFlow Authors."
   ]
  },
  {
   "cell_type": "code",
   "execution_count": 1,
   "metadata": {
    "cellView": "form",
    "execution": {
     "iopub.execute_input": "2021-06-16T14:34:37.594019Z",
     "iopub.status.busy": "2021-06-16T14:34:37.593431Z",
     "iopub.status.idle": "2021-06-16T14:34:37.595296Z",
     "shell.execute_reply": "2021-06-16T14:34:37.595794Z"
    },
    "id": "lzyBOpYMdp3F"
   },
   "outputs": [],
   "source": [
    "#@title Licensed under the Apache License, Version 2.0 (the \"License\");\n",
    "# you may not use this file except in compliance with the License.\n",
    "# You may obtain a copy of the License at\n",
    "#\n",
    "# https://www.apache.org/licenses/LICENSE-2.0\n",
    "#\n",
    "# Unless required by applicable law or agreed to in writing, software\n",
    "# distributed under the License is distributed on an \"AS IS\" BASIS,\n",
    "# WITHOUT WARRANTIES OR CONDITIONS OF ANY KIND, either express or implied.\n",
    "# See the License for the specific language governing permissions and\n",
    "# limitations under the License."
   ]
  },
  {
   "cell_type": "code",
   "execution_count": 2,
   "metadata": {
    "cellView": "form",
    "execution": {
     "iopub.execute_input": "2021-06-16T14:34:37.599307Z",
     "iopub.status.busy": "2021-06-16T14:34:37.598699Z",
     "iopub.status.idle": "2021-06-16T14:34:37.600627Z",
     "shell.execute_reply": "2021-06-16T14:34:37.600991Z"
    },
    "id": "m_x4KfSJ7Vt7"
   },
   "outputs": [],
   "source": [
    "#@title MIT License\n",
    "#\n",
    "# Copyright (c) 2017 François Chollet\n",
    "#\n",
    "# Permission is hereby granted, free of charge, to any person obtaining a\n",
    "# copy of this software and associated documentation files (the \"Software\"),\n",
    "# to deal in the Software without restriction, including without limitation\n",
    "# the rights to use, copy, modify, merge, publish, distribute, sublicense,\n",
    "# and/or sell copies of the Software, and to permit persons to whom the\n",
    "# Software is furnished to do so, subject to the following conditions:\n",
    "#\n",
    "# The above copyright notice and this permission notice shall be included in\n",
    "# all copies or substantial portions of the Software.\n",
    "#\n",
    "# THE SOFTWARE IS PROVIDED \"AS IS\", WITHOUT WARRANTY OF ANY KIND, EXPRESS OR\n",
    "# IMPLIED, INCLUDING BUT NOT LIMITED TO THE WARRANTIES OF MERCHANTABILITY,\n",
    "# FITNESS FOR A PARTICULAR PURPOSE AND NONINFRINGEMENT. IN NO EVENT SHALL\n",
    "# THE AUTHORS OR COPYRIGHT HOLDERS BE LIABLE FOR ANY CLAIM, DAMAGES OR OTHER\n",
    "# LIABILITY, WHETHER IN AN ACTION OF CONTRACT, TORT OR OTHERWISE, ARISING\n",
    "# FROM, OUT OF OR IN CONNECTION WITH THE SOFTWARE OR THE USE OR OTHER\n",
    "# DEALINGS IN THE SOFTWARE."
   ]
  },
  {
   "cell_type": "markdown",
   "metadata": {
    "id": "C9HmC2T4ld5B"
   },
   "source": [
    "# Overfit and underfit"
   ]
  },
  {
   "cell_type": "markdown",
   "metadata": {
    "id": "kRTxFhXAlnl1"
   },
   "source": [
    "<table class=\"tfo-notebook-buttons\" align=\"left\">\n",
    "  <td>\n",
    "    <a target=\"_blank\" href=\"https://www.tensorflow.org/tutorials/keras/overfit_and_underfit\"><img src=\"https://www.tensorflow.org/images/tf_logo_32px.png\" />View on TensorFlow.org</a>\n",
    "  </td>\n",
    "  <td>\n",
    "    <a target=\"_blank\" href=\"https://colab.research.google.com/github/tensorflow/docs/blob/master/site/en/tutorials/keras/overfit_and_underfit.ipynb\"><img src=\"https://www.tensorflow.org/images/colab_logo_32px.png\" />Run in Google Colab</a>\n",
    "  </td>\n",
    "  <td>\n",
    "    <a target=\"_blank\" href=\"https://github.com/tensorflow/docs/blob/master/site/en/tutorials/keras/overfit_and_underfit.ipynb\"><img src=\"https://www.tensorflow.org/images/GitHub-Mark-32px.png\" />View source on GitHub</a>\n",
    "  </td>\n",
    "  <td>\n",
    "    <a href=\"https://storage.googleapis.com/tensorflow_docs/docs/site/en/tutorials/keras/overfit_and_underfit.ipynb\"><img src=\"https://www.tensorflow.org/images/download_logo_32px.png\" />Download notebook</a>\n",
    "  </td>\n",
    "</table>"
   ]
  },
  {
   "cell_type": "markdown",
   "metadata": {
    "id": "19rPukKZsPG6"
   },
   "source": [
    "As always, the code in this example will use the `tf.keras` API, which you can learn more about in the TensorFlow [Keras guide](https://www.tensorflow.org/guide/keras).\n",
    "\n",
    "In both of the previous examples—[classifying text](https://www.tensorflow.org/tutorials/keras/text_classification_with_hub) and [predicting fuel efficiency](https://www.tensorflow.org/tutorials/keras/regression) — we saw that the accuracy of our model on the validation data would peak after training for a number of epochs, and would then stagnate or start decreasing.\n",
    "\n",
    "In other words, our model would *overfit* to the training data. Learning how to deal with overfitting is important. Although it's often possible to achieve high accuracy on the *training set*, what we really want is to develop models that generalize well to a *testing set* (or data they haven't seen before).\n",
    "\n",
    "The opposite of overfitting is *underfitting*. Underfitting occurs when there is still room for improvement on the train data. This can happen for a number of reasons: If the model is not powerful enough, is over-regularized, or has simply not been trained long enough. This means the network has not learned the relevant patterns in the training data.\n",
    "\n",
    "If you train for too long though, the model will start to overfit and learn patterns from the training data that don't generalize to the test data. We need to strike a balance. Understanding how to train for an appropriate number of epochs as we'll explore below is a useful skill.\n",
    "\n",
    "To prevent overfitting, the best solution is to use more complete training data. The dataset should cover the full range of inputs that the model is expected to handle. Additional data may only be useful if it covers new and interesting cases.\n",
    "\n",
    "A model trained on more complete data will naturally generalize better. When that is no longer possible, the next best solution is to use techniques like regularization. These place constraints on the quantity and type of information your model can store.  If a network can only afford to memorize a small number of patterns, the optimization process will force it to focus on the most prominent patterns, which have a better chance of generalizing well.\n",
    "\n",
    "In this notebook, we'll explore several common regularization techniques, and use them to improve on a classification model."
   ]
  },
  {
   "cell_type": "markdown",
   "metadata": {
    "id": "WL8UoOTmGGsL"
   },
   "source": [
    "## Setup"
   ]
  },
  {
   "cell_type": "markdown",
   "metadata": {
    "id": "9FklhSI0Gg9R"
   },
   "source": [
    "Before getting started, import the necessary packages:"
   ]
  },
  {
   "cell_type": "code",
   "execution_count": 3,
   "metadata": {
    "execution": {
     "iopub.execute_input": "2021-06-16T14:34:37.608097Z",
     "iopub.status.busy": "2021-06-16T14:34:37.607494Z",
     "iopub.status.idle": "2021-06-16T14:34:39.153703Z",
     "shell.execute_reply": "2021-06-16T14:34:39.154134Z"
    },
    "id": "5pZ8A2liqvgk"
   },
   "outputs": [
    {
     "name": "stderr",
     "output_type": "stream",
     "text": [
      "2021-07-29 07:46:01.091380: W tensorflow/stream_executor/platform/default/dso_loader.cc:64] Could not load dynamic library 'libcudart.so.11.0'; dlerror: libcudart.so.11.0: cannot open shared object file: No such file or directory\n",
      "2021-07-29 07:46:01.091399: I tensorflow/stream_executor/cuda/cudart_stub.cc:29] Ignore above cudart dlerror if you do not have a GPU set up on your machine.\n"
     ]
    },
    {
     "name": "stdout",
     "output_type": "stream",
     "text": [
      "2.5.0\n"
     ]
    }
   ],
   "source": [
    "import tensorflow as tf\n",
    "\n",
    "from tensorflow.keras import layers\n",
    "from tensorflow.keras import regularizers\n",
    "\n",
    "print(tf.__version__)"
   ]
  },
  {
   "cell_type": "code",
   "execution_count": 9,
   "metadata": {
    "execution": {
     "iopub.execute_input": "2021-06-16T14:34:39.158774Z",
     "iopub.status.busy": "2021-06-16T14:34:39.158024Z",
     "iopub.status.idle": "2021-06-16T14:34:49.608365Z",
     "shell.execute_reply": "2021-06-16T14:34:49.608824Z"
    },
    "id": "QnAtAjqRYVXe"
   },
   "outputs": [],
   "source": [
    "#!pip install git+https://github.com/tensorflow/docs\n",
    "\n",
    "import tensorflow_docs as tfdocs\n",
    "import tensorflow_docs.modeling\n",
    "import tensorflow_docs.plots"
   ]
  },
  {
   "cell_type": "code",
   "execution_count": 10,
   "metadata": {
    "execution": {
     "iopub.execute_input": "2021-06-16T14:34:49.613243Z",
     "iopub.status.busy": "2021-06-16T14:34:49.612591Z",
     "iopub.status.idle": "2021-06-16T14:34:49.614938Z",
     "shell.execute_reply": "2021-06-16T14:34:49.614481Z"
    },
    "id": "-pnOU-ctX27Q"
   },
   "outputs": [],
   "source": [
    "from  IPython import display\n",
    "from matplotlib import pyplot as plt\n",
    "\n",
    "import numpy as np\n",
    "\n",
    "import pathlib\n",
    "import shutil\n",
    "import tempfile\n"
   ]
  },
  {
   "cell_type": "code",
   "execution_count": 7,
   "metadata": {
    "execution": {
     "iopub.execute_input": "2021-06-16T14:34:49.618640Z",
     "iopub.status.busy": "2021-06-16T14:34:49.618021Z",
     "iopub.status.idle": "2021-06-16T14:34:49.620826Z",
     "shell.execute_reply": "2021-06-16T14:34:49.620403Z"
    },
    "id": "jj6I4dvTtbUe"
   },
   "outputs": [],
   "source": [
    "logdir = pathlib.Path(tempfile.mkdtemp())/\"tensorboard_logs\"\n",
    "shutil.rmtree(logdir, ignore_errors=True)"
   ]
  },
  {
   "cell_type": "markdown",
   "metadata": {
    "id": "1cweoTiruj8O"
   },
   "source": [
    "## The Higgs Dataset\n",
    "\n",
    "The goal of this tutorial is not to do particle physics, so don't dwell on the details of the dataset. It contains 11&#x202F;000&#x202F;000 examples, each with 28 features, and a binary class label."
   ]
  },
  {
   "cell_type": "code",
   "execution_count": 8,
   "metadata": {
    "execution": {
     "iopub.execute_input": "2021-06-16T14:34:49.625705Z",
     "iopub.status.busy": "2021-06-16T14:34:49.625137Z",
     "iopub.status.idle": "2021-06-16T14:37:18.024474Z",
     "shell.execute_reply": "2021-06-16T14:37:18.024897Z"
    },
    "id": "YPjAvwb-6dFd"
   },
   "outputs": [
    {
     "name": "stdout",
     "output_type": "stream",
     "text": [
      "Downloading data from http://mlphysics.ics.uci.edu/data/higgs/HIGGS.csv.gz\n",
      "2816409600/2816407858 [==============================] - 2573s 1us/step\n"
     ]
    }
   ],
   "source": [
    "gz = tf.keras.utils.get_file('HIGGS.csv.gz', 'http://mlphysics.ics.uci.edu/data/higgs/HIGGS.csv.gz')"
   ]
  },
  {
   "cell_type": "code",
   "execution_count": 11,
   "metadata": {
    "execution": {
     "iopub.execute_input": "2021-06-16T14:37:18.029269Z",
     "iopub.status.busy": "2021-06-16T14:37:18.028667Z",
     "iopub.status.idle": "2021-06-16T14:37:18.030552Z",
     "shell.execute_reply": "2021-06-16T14:37:18.030922Z"
    },
    "id": "AkiyUdaWIrww"
   },
   "outputs": [],
   "source": [
    "FEATURES = 28"
   ]
  },
  {
   "cell_type": "markdown",
   "metadata": {
    "id": "SFggl9gYKKRJ"
   },
   "source": [
    "The `tf.data.experimental.CsvDataset` class can be used to read csv records directly from a gzip file with no intermediate decompression step."
   ]
  },
  {
   "cell_type": "code",
   "execution_count": 12,
   "metadata": {
    "execution": {
     "iopub.execute_input": "2021-06-16T14:37:19.400375Z",
     "iopub.status.busy": "2021-06-16T14:37:19.399465Z",
     "iopub.status.idle": "2021-06-16T14:37:19.402494Z",
     "shell.execute_reply": "2021-06-16T14:37:19.402864Z"
    },
    "id": "QHz4sLVQEVIU"
   },
   "outputs": [
    {
     "name": "stderr",
     "output_type": "stream",
     "text": [
      "2021-07-29 08:32:17.531427: W tensorflow/stream_executor/platform/default/dso_loader.cc:64] Could not load dynamic library 'libcuda.so.1'; dlerror: libcuda.so.1: cannot open shared object file: No such file or directory\n",
      "2021-07-29 08:32:17.531466: W tensorflow/stream_executor/cuda/cuda_driver.cc:326] failed call to cuInit: UNKNOWN ERROR (303)\n",
      "2021-07-29 08:32:17.531495: I tensorflow/stream_executor/cuda/cuda_diagnostics.cc:156] kernel driver does not appear to be running on this host (masternode): /proc/driver/nvidia/version does not exist\n",
      "2021-07-29 08:32:17.531889: I tensorflow/core/platform/cpu_feature_guard.cc:142] This TensorFlow binary is optimized with oneAPI Deep Neural Network Library (oneDNN) to use the following CPU instructions in performance-critical operations:  AVX2 FMA\n",
      "To enable them in other operations, rebuild TensorFlow with the appropriate compiler flags.\n"
     ]
    }
   ],
   "source": [
    "ds = tf.data.experimental.CsvDataset(gz,[float(),]*(FEATURES+1), compression_type=\"GZIP\")"
   ]
  },
  {
   "cell_type": "markdown",
   "metadata": {
    "id": "HzahEELTKlSV"
   },
   "source": [
    "That csv reader class returns a list of scalars for each record. The following function repacks that list of scalars into a (feature_vector, label) pair."
   ]
  },
  {
   "cell_type": "code",
   "execution_count": 13,
   "metadata": {
    "execution": {
     "iopub.execute_input": "2021-06-16T14:37:19.407478Z",
     "iopub.status.busy": "2021-06-16T14:37:19.406792Z",
     "iopub.status.idle": "2021-06-16T14:37:19.409029Z",
     "shell.execute_reply": "2021-06-16T14:37:19.408596Z"
    },
    "id": "zPD6ICDlF6Wf"
   },
   "outputs": [],
   "source": [
    "def pack_row(*row):\n",
    "  label = row[0]\n",
    "  features = tf.stack(row[1:],1)\n",
    "  return features, label"
   ]
  },
  {
   "cell_type": "markdown",
   "metadata": {
    "id": "4oa8tLuwLsbO"
   },
   "source": [
    "TensorFlow is most efficient when operating on large batches of data.\n",
    "\n",
    "So instead of repacking each row individually make a new `Dataset` that takes batches of 10000-examples, applies the `pack_row` function to each batch, and then splits the batches back up into individual records:"
   ]
  },
  {
   "cell_type": "code",
   "execution_count": 14,
   "metadata": {
    "execution": {
     "iopub.execute_input": "2021-06-16T14:37:19.413440Z",
     "iopub.status.busy": "2021-06-16T14:37:19.412881Z",
     "iopub.status.idle": "2021-06-16T14:37:19.473663Z",
     "shell.execute_reply": "2021-06-16T14:37:19.474061Z"
    },
    "id": "-w-VHTwwGVoZ"
   },
   "outputs": [],
   "source": [
    "packed_ds = ds.batch(10000).map(pack_row).unbatch()"
   ]
  },
  {
   "cell_type": "markdown",
   "metadata": {
    "id": "lUbxc5bxNSXV"
   },
   "source": [
    "Have a look at some of the records from this new `packed_ds`.\n",
    "\n",
    "The features are not perfectly normalized, but this is sufficient for this tutorial."
   ]
  },
  {
   "cell_type": "code",
   "execution_count": 15,
   "metadata": {
    "execution": {
     "iopub.execute_input": "2021-06-16T14:37:19.478821Z",
     "iopub.status.busy": "2021-06-16T14:37:19.478161Z",
     "iopub.status.idle": "2021-06-16T14:37:22.174424Z",
     "shell.execute_reply": "2021-06-16T14:37:22.174848Z"
    },
    "id": "TfcXuv33Fvka"
   },
   "outputs": [
    {
     "name": "stderr",
     "output_type": "stream",
     "text": [
      "2021-07-29 08:32:20.824701: I tensorflow/compiler/mlir/mlir_graph_optimization_pass.cc:176] None of the MLIR Optimization Passes are enabled (registered 2)\n",
      "2021-07-29 08:32:20.842177: I tensorflow/core/platform/profile_utils/cpu_utils.cc:114] CPU Frequency: 1800000000 Hz\n"
     ]
    },
    {
     "name": "stdout",
     "output_type": "stream",
     "text": [
      "tf.Tensor(\n",
      "[ 0.8692932  -0.6350818   0.22569026  0.32747006 -0.6899932   0.75420225\n",
      " -0.24857314 -1.0920639   0.          1.3749921  -0.6536742   0.9303491\n",
      "  1.1074361   1.1389043  -1.5781983  -1.0469854   0.          0.65792954\n",
      " -0.01045457 -0.04576717  3.1019614   1.35376     0.9795631   0.97807616\n",
      "  0.92000484  0.72165745  0.98875093  0.87667835], shape=(28,), dtype=float32)\n"
     ]
    },
    {
     "data": {
      "image/png": "[encoded data removed]",
      "text/plain": [
       "<Figure size 432x288 with 1 Axes>"
      ]
     },
     "metadata": {
      "needs_background": "light"
     },
     "output_type": "display_data"
    }
   ],
   "source": [
    "for features,label in packed_ds.batch(1000).take(1):\n",
    "  print(features[0])\n",
    "  plt.hist(features.numpy().flatten(), bins = 101)"
   ]
  },
  {
   "cell_type": "markdown",
   "metadata": {
    "id": "ICKZRY7gN-QM"
   },
   "source": [
    "To keep this tutorial relatively short use just the first 1000 samples for validation, and the next 10 000 for training:"
   ]
  },
  {
   "cell_type": "code",
   "execution_count": 16,
   "metadata": {
    "execution": {
     "iopub.execute_input": "2021-06-16T14:37:22.179728Z",
     "iopub.status.busy": "2021-06-16T14:37:22.178945Z",
     "iopub.status.idle": "2021-06-16T14:37:22.181019Z",
     "shell.execute_reply": "2021-06-16T14:37:22.181393Z"
    },
    "id": "hmk49OqZIFZP"
   },
   "outputs": [],
   "source": [
    "N_VALIDATION = int(1e3)\n",
    "N_TRAIN = int(1e4)\n",
    "BUFFER_SIZE = int(1e4)\n",
    "BATCH_SIZE = 500\n",
    "STEPS_PER_EPOCH = N_TRAIN//BATCH_SIZE"
   ]
  },
  {
   "cell_type": "markdown",
   "metadata": {
    "id": "FP3M9DmvON32"
   },
   "source": [
    "The `Dataset.skip` and `Dataset.take` methods make this easy.\n",
    "\n",
    "At the same time, use the `Dataset.cache` method to ensure that the loader doesn't need to re-read the data from the file on each epoch:"
   ]
  },
  {
   "cell_type": "code",
   "execution_count": 17,
   "metadata": {
    "execution": {
     "iopub.execute_input": "2021-06-16T14:37:22.185100Z",
     "iopub.status.busy": "2021-06-16T14:37:22.184494Z",
     "iopub.status.idle": "2021-06-16T14:37:22.188335Z",
     "shell.execute_reply": "2021-06-16T14:37:22.187851Z"
    },
    "id": "H8H_ZzpBOOk-"
   },
   "outputs": [],
   "source": [
    "validate_ds = packed_ds.take(N_VALIDATION).cache()\n",
    "train_ds = packed_ds.skip(N_VALIDATION).take(N_TRAIN).cache()"
   ]
  },
  {
   "cell_type": "code",
   "execution_count": 18,
   "metadata": {
    "execution": {
     "iopub.execute_input": "2021-06-16T14:37:22.192929Z",
     "iopub.status.busy": "2021-06-16T14:37:22.192094Z",
     "iopub.status.idle": "2021-06-16T14:37:22.195450Z",
     "shell.execute_reply": "2021-06-16T14:37:22.194986Z"
    },
    "id": "9zAOqk2_Px7K"
   },
   "outputs": [
    {
     "data": {
      "text/plain": [
       "<CacheDataset shapes: ((28,), ()), types: (tf.float32, tf.float32)>"
      ]
     },
     "execution_count": 18,
     "metadata": {},
     "output_type": "execute_result"
    }
   ],
   "source": [
    "train_ds"
   ]
  },
  {
   "cell_type": "markdown",
   "metadata": {
    "id": "6PMliHoVO3OL"
   },
   "source": [
    "These datasets return individual examples. Use the `.batch` method to create batches of an appropriate size for training. Before batching also remember to `.shuffle` and `.repeat` the training set."
   ]
  },
  {
   "cell_type": "code",
   "execution_count": 19,
   "metadata": {
    "execution": {
     "iopub.execute_input": "2021-06-16T14:37:22.199603Z",
     "iopub.status.busy": "2021-06-16T14:37:22.198902Z",
     "iopub.status.idle": "2021-06-16T14:37:22.202436Z",
     "shell.execute_reply": "2021-06-16T14:37:22.201889Z"
    },
    "id": "Y7I4J355O223"
   },
   "outputs": [],
   "source": [
    "validate_ds = validate_ds.batch(BATCH_SIZE)\n",
    "train_ds = train_ds.shuffle(BUFFER_SIZE).repeat().batch(BATCH_SIZE)"
   ]
  },
  {
   "cell_type": "markdown",
   "metadata": {
    "id": "lglk41MwvU5o"
   },
   "source": [
    "## Demonstrate overfitting\n",
    "\n",
    "The simplest way to prevent overfitting is to start with a small model: A model with a small number of learnable parameters (which is determined by the number of layers and the number of units per layer). In deep learning, the number of learnable parameters in a model is often referred to as the model's \"capacity\".\n",
    "\n",
    "Intuitively, a model with more parameters will have more \"memorization capacity\" and therefore will be able to easily learn a perfect dictionary-like mapping between training samples and their targets, a mapping without any generalization power, but this would be useless when making predictions on previously unseen data.\n",
    "\n",
    "Always keep this in mind: deep learning models tend to be good at fitting to the training data, but the real challenge is generalization, not fitting.\n",
    "\n",
    "On the other hand, if the network has limited memorization resources, it will not be able to learn the mapping as easily. To minimize its loss, it will have to learn compressed representations that have more predictive power. At the same time, if you make your model too small, it will have difficulty fitting to the training data. There is a balance between \"too much capacity\" and \"not enough capacity\".\n",
    "\n",
    "Unfortunately, there is no magical formula to determine the right size or architecture of your model (in terms of the number of layers, or the right size for each layer). You will have to experiment using a series of different architectures.\n",
    "\n",
    "To find an appropriate model size, it's best to start with relatively few layers and parameters, then begin increasing the size of the layers or adding new layers until you see diminishing returns on the validation loss.\n",
    "\n",
    "Start with a simple model using only `layers.Dense` as a baseline, then create larger versions, and compare them."
   ]
  },
  {
   "cell_type": "markdown",
   "metadata": {
    "id": "_ReKHdC2EgVu"
   },
   "source": [
    "### Training procedure"
   ]
  },
  {
   "cell_type": "markdown",
   "metadata": {
    "id": "pNzkSkkXSP5l"
   },
   "source": [
    "Many models train better if you gradually reduce the learning rate during training. Use `optimizers.schedules` to reduce the learning rate over time:"
   ]
  },
  {
   "cell_type": "code",
   "execution_count": 20,
   "metadata": {
    "execution": {
     "iopub.execute_input": "2021-06-16T14:37:22.206775Z",
     "iopub.status.busy": "2021-06-16T14:37:22.206102Z",
     "iopub.status.idle": "2021-06-16T14:37:22.208329Z",
     "shell.execute_reply": "2021-06-16T14:37:22.207944Z"
    },
    "id": "LwQp-ERhAD6F"
   },
   "outputs": [],
   "source": [
    "lr_schedule = tf.keras.optimizers.schedules.InverseTimeDecay(\n",
    "  0.001,\n",
    "  decay_steps=STEPS_PER_EPOCH*1000,\n",
    "  decay_rate=1,\n",
    "  staircase=False)\n",
    "\n",
    "def get_optimizer():\n",
    "  return tf.keras.optimizers.Adam(lr_schedule)"
   ]
  },
  {
   "cell_type": "markdown",
   "metadata": {
    "id": "kANLx6OYTQ8B"
   },
   "source": [
    "The code above sets a `schedules.InverseTimeDecay` to hyperbolically decrease the learning rate to 1/2 of the base rate at 1000 epochs, 1/3 at 2000 epochs and so on."
   ]
  },
  {
   "cell_type": "code",
   "execution_count": 21,
   "metadata": {
    "execution": {
     "iopub.execute_input": "2021-06-16T14:37:22.212453Z",
     "iopub.status.busy": "2021-06-16T14:37:22.211873Z",
     "iopub.status.idle": "2021-06-16T14:37:22.327176Z",
     "shell.execute_reply": "2021-06-16T14:37:22.327643Z"
    },
    "id": "HIo_yPjEAFgn"
   },
   "outputs": [
    {
     "data": {
      "image/png": "[encoded data removed]",
      "text/plain": [
       "<Figure size 576x432 with 1 Axes>"
      ]
     },
     "metadata": {
      "needs_background": "light"
     },
     "output_type": "display_data"
    }
   ],
   "source": [
    "step = np.linspace(0,100000)\n",
    "lr = lr_schedule(step)\n",
    "plt.figure(figsize = (8,6))\n",
    "plt.plot(step/STEPS_PER_EPOCH, lr)\n",
    "plt.ylim([0,max(plt.ylim())])\n",
    "plt.xlabel('Epoch')\n",
    "_ = plt.ylabel('Learning Rate')\n"
   ]
  },
  {
   "cell_type": "markdown",
   "metadata": {
    "id": "ya7x7gr9UjU0"
   },
   "source": [
    "Each model in this tutorial will use the same training configuration. So set these up in a reusable way, starting with the list of callbacks.\n",
    "\n",
    "The training for this tutorial runs for many short epochs. To reduce the logging noise use the `tfdocs.EpochDots` which simply prints a `.` for each epoch, and a full set of metrics every 100 epochs.\n",
    "\n",
    "Next include `callbacks.EarlyStopping` to avoid long and unnecessary training times. Note that this callback is set to monitor the `val_binary_crossentropy`, not the `val_loss`. This difference will be important later.\n",
    "\n",
    "Use `callbacks.TensorBoard` to generate TensorBoard logs for the training.\n"
   ]
  },
  {
   "cell_type": "code",
   "execution_count": 22,
   "metadata": {
    "execution": {
     "iopub.execute_input": "2021-06-16T14:37:22.332132Z",
     "iopub.status.busy": "2021-06-16T14:37:22.331507Z",
     "iopub.status.idle": "2021-06-16T14:37:22.333383Z",
     "shell.execute_reply": "2021-06-16T14:37:22.333715Z"
    },
    "id": "vSv8rfw_T85n"
   },
   "outputs": [],
   "source": [
    "def get_callbacks(name):\n",
    "  return [\n",
    "    tfdocs.modeling.EpochDots(),\n",
    "    tf.keras.callbacks.EarlyStopping(monitor='val_binary_crossentropy', patience=200),\n",
    "    tf.keras.callbacks.TensorBoard(logdir/name),\n",
    "  ]"
   ]
  },
  {
   "cell_type": "markdown",
   "metadata": {
    "id": "VhctzKhBWVDD"
   },
   "source": [
    "Similarly each model will use the same `Model.compile` and `Model.fit` settings:"
   ]
  },
  {
   "cell_type": "code",
   "execution_count": 23,
   "metadata": {
    "execution": {
     "iopub.execute_input": "2021-06-16T14:37:22.339161Z",
     "iopub.status.busy": "2021-06-16T14:37:22.338443Z",
     "iopub.status.idle": "2021-06-16T14:37:22.341138Z",
     "shell.execute_reply": "2021-06-16T14:37:22.340614Z"
    },
    "id": "xRCGwU3YH5sT"
   },
   "outputs": [],
   "source": [
    "def compile_and_fit(model, name, optimizer=None, max_epochs=10000):\n",
    "  if optimizer is None:\n",
    "    optimizer = get_optimizer()\n",
    "  model.compile(optimizer=optimizer,\n",
    "                loss=tf.keras.losses.BinaryCrossentropy(from_logits=True),\n",
    "                metrics=[\n",
    "                  tf.keras.losses.BinaryCrossentropy(\n",
    "                      from_logits=True, name='binary_crossentropy'),\n",
    "                  'accuracy'])\n",
    "\n",
    "  model.summary()\n",
    "\n",
    "  history = model.fit(\n",
    "    train_ds,\n",
    "    steps_per_epoch = STEPS_PER_EPOCH,\n",
    "    epochs=max_epochs,\n",
    "    validation_data=validate_ds,\n",
    "    callbacks=get_callbacks(name),\n",
    "    verbose=0)\n",
    "  return history"
   ]
  },
  {
   "cell_type": "markdown",
   "metadata": {
    "id": "mxBeiLUiWHJV"
   },
   "source": [
    "### Tiny model"
   ]
  },
  {
   "cell_type": "markdown",
   "metadata": {
    "id": "a6JDv12scLTI"
   },
   "source": [
    "Start by training a model:"
   ]
  },
  {
   "cell_type": "code",
   "execution_count": 24,
   "metadata": {
    "execution": {
     "iopub.execute_input": "2021-06-16T14:37:22.344890Z",
     "iopub.status.busy": "2021-06-16T14:37:22.344314Z",
     "iopub.status.idle": "2021-06-16T14:37:22.368161Z",
     "shell.execute_reply": "2021-06-16T14:37:22.367700Z"
    },
    "id": "EZh-QFjKHb70"
   },
   "outputs": [],
   "source": [
    "tiny_model = tf.keras.Sequential([\n",
    "    layers.Dense(16, activation='elu', input_shape=(FEATURES,)),\n",
    "    layers.Dense(1)\n",
    "])"
   ]
  },
  {
   "cell_type": "code",
   "execution_count": 25,
   "metadata": {
    "execution": {
     "iopub.execute_input": "2021-06-16T14:37:22.371527Z",
     "iopub.status.busy": "2021-06-16T14:37:22.370943Z",
     "iopub.status.idle": "2021-06-16T14:37:22.372905Z",
     "shell.execute_reply": "2021-06-16T14:37:22.373235Z"
    },
    "id": "X72IUdWYipIS"
   },
   "outputs": [],
   "source": [
    "size_histories = {}"
   ]
  },
  {
   "cell_type": "code",
   "execution_count": 26,
   "metadata": {
    "execution": {
     "iopub.execute_input": "2021-06-16T14:37:22.379434Z",
     "iopub.status.busy": "2021-06-16T14:37:22.378829Z",
     "iopub.status.idle": "2021-06-16T14:38:40.687718Z",
     "shell.execute_reply": "2021-06-16T14:38:40.687086Z"
    },
    "id": "bdOcJtPGHhJ5"
   },
   "outputs": [
    {
     "name": "stdout",
     "output_type": "stream",
     "text": [
      "Model: \"sequential\"\n",
      "_________________________________________________________________\n",
      "Layer (type)                 Output Shape              Param #   \n",
      "=================================================================\n",
      "dense (Dense)                (None, 16)                464       \n",
      "_________________________________________________________________\n",
      "dense_1 (Dense)              (None, 1)                 17        \n",
      "=================================================================\n",
      "Total params: 481\n",
      "Trainable params: 481\n",
      "Non-trainable params: 0\n",
      "_________________________________________________________________\n"
     ]
    },
    {
     "name": "stderr",
     "output_type": "stream",
     "text": [
      "2021-07-29 08:32:39.738146: I tensorflow/core/profiler/lib/profiler_session.cc:126] Profiler session initializing.\n",
      "2021-07-29 08:32:39.738173: I tensorflow/core/profiler/lib/profiler_session.cc:141] Profiler session started.\n",
      "2021-07-29 08:32:39.738727: I tensorflow/core/profiler/lib/profiler_session.cc:159] Profiler session tear down.\n"
     ]
    },
    {
     "name": "stdout",
     "output_type": "stream",
     "text": [
      "WARNING:tensorflow:Callback method `on_train_batch_end` is slow compared to the batch time (batch time: 0.0018s vs `on_train_batch_end` time: 0.0077s). Check your callbacks.\n"
     ]
    },
    {
     "name": "stderr",
     "output_type": "stream",
     "text": [
      "2021-07-29 08:32:42.854461: I tensorflow/core/profiler/lib/profiler_session.cc:126] Profiler session initializing.\n",
      "2021-07-29 08:32:42.854486: I tensorflow/core/profiler/lib/profiler_session.cc:141] Profiler session started.\n",
      "2021-07-29 08:32:42.858099: I tensorflow/core/profiler/lib/profiler_session.cc:66] Profiler session collecting data.\n",
      "2021-07-29 08:32:42.866924: I tensorflow/core/profiler/lib/profiler_session.cc:159] Profiler session tear down.\n",
      "2021-07-29 08:32:42.879584: I tensorflow/core/profiler/rpc/client/save_profile.cc:137] Creating directory: /tmp/tmp10h0ewno/tensorboard_logs/sizes/Tiny/train/plugins/profile/2021_07_29_08_32_42\n",
      "2021-07-29 08:32:42.885252: I tensorflow/core/profiler/rpc/client/save_profile.cc:143] Dumped gzipped tool data for trace.json.gz to /tmp/tmp10h0ewno/tensorboard_logs/sizes/Tiny/train/plugins/profile/2021_07_29_08_32_42/masternode.trace.json.gz\n",
      "2021-07-29 08:32:42.892117: I tensorflow/core/profiler/rpc/client/save_profile.cc:137] Creating directory: /tmp/tmp10h0ewno/tensorboard_logs/sizes/Tiny/train/plugins/profile/2021_07_29_08_32_42\n",
      "2021-07-29 08:32:42.892203: I tensorflow/core/profiler/rpc/client/save_profile.cc:143] Dumped gzipped tool data for memory_profile.json.gz to /tmp/tmp10h0ewno/tensorboard_logs/sizes/Tiny/train/plugins/profile/2021_07_29_08_32_42/masternode.memory_profile.json.gz\n",
      "2021-07-29 08:32:42.892412: I tensorflow/core/profiler/rpc/client/capture_profile.cc:251] Creating directory: /tmp/tmp10h0ewno/tensorboard_logs/sizes/Tiny/train/plugins/profile/2021_07_29_08_32_42Dumped tool data for xplane.pb to /tmp/tmp10h0ewno/tensorboard_logs/sizes/Tiny/train/plugins/profile/2021_07_29_08_32_42/masternode.xplane.pb\n",
      "Dumped tool data for overview_page.pb to /tmp/tmp10h0ewno/tensorboard_logs/sizes/Tiny/train/plugins/profile/2021_07_29_08_32_42/masternode.overview_page.pb\n",
      "Dumped tool data for input_pipeline.pb to /tmp/tmp10h0ewno/tensorboard_logs/sizes/Tiny/train/plugins/profile/2021_07_29_08_32_42/masternode.input_pipeline.pb\n",
      "Dumped tool data for tensorflow_stats.pb to /tmp/tmp10h0ewno/tensorboard_logs/sizes/Tiny/train/plugins/profile/2021_07_29_08_32_42/masternode.tensorflow_stats.pb\n",
      "Dumped tool data for kernel_stats.pb to /tmp/tmp10h0ewno/tensorboard_logs/sizes/Tiny/train/plugins/profile/2021_07_29_08_32_42/masternode.kernel_stats.pb\n",
      "\n"
     ]
    },
    {
     "name": "stdout",
     "output_type": "stream",
     "text": [
      "\n",
      "Epoch: 0, accuracy:0.5042,  binary_crossentropy:0.7888,  loss:0.7888,  val_accuracy:0.5070,  val_binary_crossentropy:0.7527,  val_loss:0.7527,  \n",
      "....................................................................................................\n",
      "Epoch: 100, accuracy:0.5940,  binary_crossentropy:0.6281,  loss:0.6281,  val_accuracy:0.5710,  val_binary_crossentropy:0.6394,  val_loss:0.6394,  \n",
      "....................................................................................................\n",
      "Epoch: 200, accuracy:0.6076,  binary_crossentropy:0.6184,  loss:0.6184,  val_accuracy:0.6020,  val_binary_crossentropy:0.6310,  val_loss:0.6310,  \n",
      "....................................................................................................\n",
      "Epoch: 300, accuracy:0.6234,  binary_crossentropy:0.6120,  loss:0.6120,  val_accuracy:0.6030,  val_binary_crossentropy:0.6242,  val_loss:0.6242,  \n",
      "....................................................................................................\n",
      "Epoch: 400, accuracy:0.6343,  binary_crossentropy:0.6062,  loss:0.6062,  val_accuracy:0.6140,  val_binary_crossentropy:0.6186,  val_loss:0.6186,  \n",
      "....................................................................................................\n",
      "Epoch: 500, accuracy:0.6414,  binary_crossentropy:0.6011,  loss:0.6011,  val_accuracy:0.6260,  val_binary_crossentropy:0.6122,  val_loss:0.6122,  \n",
      "....................................................................................................\n",
      "Epoch: 600, accuracy:0.6500,  binary_crossentropy:0.5955,  loss:0.5955,  val_accuracy:0.6340,  val_binary_crossentropy:0.6070,  val_loss:0.6070,  \n",
      "....................................................................................................\n",
      "Epoch: 700, accuracy:0.6538,  binary_crossentropy:0.5909,  loss:0.5909,  val_accuracy:0.6440,  val_binary_crossentropy:0.6021,  val_loss:0.6021,  \n",
      "....................................................................................................\n",
      "Epoch: 800, accuracy:0.6587,  binary_crossentropy:0.5875,  loss:0.5875,  val_accuracy:0.6360,  val_binary_crossentropy:0.6011,  val_loss:0.6011,  \n",
      "....................................................................................................\n",
      "Epoch: 900, accuracy:0.6660,  binary_crossentropy:0.5845,  loss:0.5845,  val_accuracy:0.6390,  val_binary_crossentropy:0.6000,  val_loss:0.6000,  \n",
      "....................................................................................................\n",
      "Epoch: 1000, accuracy:0.6642,  binary_crossentropy:0.5828,  loss:0.5828,  val_accuracy:0.6410,  val_binary_crossentropy:0.5990,  val_loss:0.5990,  \n",
      "....................................................................................................\n",
      "Epoch: 1100, accuracy:0.6676,  binary_crossentropy:0.5807,  loss:0.5807,  val_accuracy:0.6360,  val_binary_crossentropy:0.5992,  val_loss:0.5992,  \n",
      "....................................................................................................\n",
      "Epoch: 1200, accuracy:0.6689,  binary_crossentropy:0.5793,  loss:0.5793,  val_accuracy:0.6320,  val_binary_crossentropy:0.5988,  val_loss:0.5988,  \n",
      "....................................................................................................\n",
      "Epoch: 1300, accuracy:0.6698,  binary_crossentropy:0.5780,  loss:0.5780,  val_accuracy:0.6370,  val_binary_crossentropy:0.5980,  val_loss:0.5980,  \n",
      "....................................................................................................\n",
      "Epoch: 1400, accuracy:0.6749,  binary_crossentropy:0.5794,  loss:0.5794,  val_accuracy:0.6360,  val_binary_crossentropy:0.5998,  val_loss:0.5998,  \n",
      "....................................................................................................\n",
      "Epoch: 1500, accuracy:0.6705,  binary_crossentropy:0.5758,  loss:0.5758,  val_accuracy:0.6360,  val_binary_crossentropy:0.5978,  val_loss:0.5978,  \n",
      "....................................................................................................\n",
      "Epoch: 1600, accuracy:0.6730,  binary_crossentropy:0.5751,  loss:0.5751,  val_accuracy:0.6420,  val_binary_crossentropy:0.5973,  val_loss:0.5973,  \n",
      "....................................................................................................\n",
      "Epoch: 1700, accuracy:0.6769,  binary_crossentropy:0.5744,  loss:0.5744,  val_accuracy:0.6490,  val_binary_crossentropy:0.5970,  val_loss:0.5970,  \n",
      "....................................................................................................\n",
      "Epoch: 1800, accuracy:0.6731,  binary_crossentropy:0.5737,  loss:0.5737,  val_accuracy:0.6440,  val_binary_crossentropy:0.5955,  val_loss:0.5955,  \n",
      "....................................................................................................\n",
      "Epoch: 1900, accuracy:0.6752,  binary_crossentropy:0.5736,  loss:0.5736,  val_accuracy:0.6490,  val_binary_crossentropy:0.5961,  val_loss:0.5961,  \n",
      "....................................................................................................\n",
      "Epoch: 2000, accuracy:0.6767,  binary_crossentropy:0.5727,  loss:0.5727,  val_accuracy:0.6480,  val_binary_crossentropy:0.5958,  val_loss:0.5958,  \n",
      "....................................................................................................\n",
      "Epoch: 2100, accuracy:0.6780,  binary_crossentropy:0.5718,  loss:0.5718,  val_accuracy:0.6530,  val_binary_crossentropy:0.5951,  val_loss:0.5951,  \n",
      "....................................................................................................\n",
      "Epoch: 2200, accuracy:0.6784,  binary_crossentropy:0.5714,  loss:0.5714,  val_accuracy:0.6490,  val_binary_crossentropy:0.5951,  val_loss:0.5951,  \n",
      "....................................................................................................\n",
      "Epoch: 2300, accuracy:0.6786,  binary_crossentropy:0.5708,  loss:0.5708,  val_accuracy:0.6500,  val_binary_crossentropy:0.5949,  val_loss:0.5949,  \n",
      "....................................................................................................\n",
      "Epoch: 2400, accuracy:0.6809,  binary_crossentropy:0.5701,  loss:0.5701,  val_accuracy:0.6520,  val_binary_crossentropy:0.5937,  val_loss:0.5937,  \n",
      "....................................................................................................\n",
      "Epoch: 2500, accuracy:0.6837,  binary_crossentropy:0.5700,  loss:0.5700,  val_accuracy:0.6520,  val_binary_crossentropy:0.5950,  val_loss:0.5950,  \n",
      "....................................................................................................\n",
      "Epoch: 2600, accuracy:0.6814,  binary_crossentropy:0.5694,  loss:0.5694,  val_accuracy:0.6560,  val_binary_crossentropy:0.5934,  val_loss:0.5934,  \n",
      "....................................................................................................\n",
      "Epoch: 2700, accuracy:0.6833,  binary_crossentropy:0.5690,  loss:0.5690,  val_accuracy:0.6570,  val_binary_crossentropy:0.5942,  val_loss:0.5942,  \n",
      "....................................................................................................\n",
      "Epoch: 2800, accuracy:0.6838,  binary_crossentropy:0.5685,  loss:0.5685,  val_accuracy:0.6580,  val_binary_crossentropy:0.5923,  val_loss:0.5923,  \n",
      "....................................................................................................\n",
      "Epoch: 2900, accuracy:0.6837,  binary_crossentropy:0.5680,  loss:0.5680,  val_accuracy:0.6560,  val_binary_crossentropy:0.5932,  val_loss:0.5932,  \n",
      "....................................................................................................\n",
      "Epoch: 3000, accuracy:0.6798,  binary_crossentropy:0.5678,  loss:0.5678,  val_accuracy:0.6610,  val_binary_crossentropy:0.5922,  val_loss:0.5922,  \n",
      "....................................................................................................\n",
      "Epoch: 3100, accuracy:0.6800,  binary_crossentropy:0.5674,  loss:0.5674,  val_accuracy:0.6630,  val_binary_crossentropy:0.5919,  val_loss:0.5919,  \n",
      "....................................................................................................\n",
      "Epoch: 3200, accuracy:0.6864,  binary_crossentropy:0.5671,  loss:0.5671,  val_accuracy:0.6610,  val_binary_crossentropy:0.5924,  val_loss:0.5924,  \n"
     ]
    },
    {
     "name": "stdout",
     "output_type": "stream",
     "text": [
      "....................................................................................................\n",
      "Epoch: 3300, accuracy:0.6872,  binary_crossentropy:0.5667,  loss:0.5667,  val_accuracy:0.6590,  val_binary_crossentropy:0.5923,  val_loss:0.5923,  \n",
      "......................................................"
     ]
    }
   ],
   "source": [
    "size_histories['Tiny'] = compile_and_fit(tiny_model, 'sizes/Tiny')"
   ]
  },
  {
   "cell_type": "markdown",
   "metadata": {
    "id": "rS_QGT6icwdI"
   },
   "source": [
    "Now check how the model did:"
   ]
  },
  {
   "cell_type": "code",
   "execution_count": 27,
   "metadata": {
    "execution": {
     "iopub.execute_input": "2021-06-16T14:38:40.692902Z",
     "iopub.status.busy": "2021-06-16T14:38:40.692256Z",
     "iopub.status.idle": "2021-06-16T14:38:40.839310Z",
     "shell.execute_reply": "2021-06-16T14:38:40.839768Z"
    },
    "id": "dkEvb2x5XsjE"
   },
   "outputs": [
    {
     "data": {
      "text/plain": [
       "(0.5, 0.7)"
      ]
     },
     "execution_count": 27,
     "metadata": {},
     "output_type": "execute_result"
    },
    {
     "data": {
      "image/png": "[encoded data removed]",
      "text/plain": [
       "<Figure size 432x288 with 1 Axes>"
      ]
     },
     "metadata": {
      "needs_background": "light"
     },
     "output_type": "display_data"
    }
   ],
   "source": [
    "plotter = tfdocs.plots.HistoryPlotter(metric = 'binary_crossentropy', smoothing_std=10)\n",
    "plotter.plot(size_histories)\n",
    "plt.ylim([0.5, 0.7])"
   ]
  },
  {
   "cell_type": "markdown",
   "metadata": {
    "id": "LGxGzh_FWOJ8"
   },
   "source": [
    "### Small model"
   ]
  },
  {
   "cell_type": "markdown",
   "metadata": {
    "id": "YjMb6E72f2pN"
   },
   "source": [
    "To see if you can beat the performance of the small model, progressively train some larger models.\n",
    "\n",
    "Try two hidden layers with 16 units each:"
   ]
  },
  {
   "cell_type": "code",
   "execution_count": 28,
   "metadata": {
    "execution": {
     "iopub.execute_input": "2021-06-16T14:38:40.847095Z",
     "iopub.status.busy": "2021-06-16T14:38:40.846422Z",
     "iopub.status.idle": "2021-06-16T14:38:40.867157Z",
     "shell.execute_reply": "2021-06-16T14:38:40.867564Z"
    },
    "id": "QKgdXPx9usBa"
   },
   "outputs": [],
   "source": [
    "small_model = tf.keras.Sequential([\n",
    "    # `input_shape` is only required here so that `.summary` works.\n",
    "    layers.Dense(16, activation='elu', input_shape=(FEATURES,)),\n",
    "    layers.Dense(16, activation='elu'),\n",
    "    layers.Dense(1)\n",
    "])"
   ]
  },
  {
   "cell_type": "code",
   "execution_count": 29,
   "metadata": {
    "execution": {
     "iopub.execute_input": "2021-06-16T14:38:40.875837Z",
     "iopub.status.busy": "2021-06-16T14:38:40.873555Z",
     "iopub.status.idle": "2021-06-16T14:39:30.489864Z",
     "shell.execute_reply": "2021-06-16T14:39:30.489173Z"
    },
    "id": "LqG3MXF5xSjR"
   },
   "outputs": [
    {
     "name": "stdout",
     "output_type": "stream",
     "text": [
      "Model: \"sequential_1\"\n",
      "_________________________________________________________________\n",
      "Layer (type)                 Output Shape              Param #   \n",
      "=================================================================\n",
      "dense_2 (Dense)              (None, 16)                464       \n",
      "_________________________________________________________________\n",
      "dense_3 (Dense)              (None, 16)                272       \n",
      "_________________________________________________________________\n",
      "dense_4 (Dense)              (None, 1)                 17        \n",
      "=================================================================\n",
      "Total params: 753\n",
      "Trainable params: 753\n",
      "Non-trainable params: 0\n",
      "_________________________________________________________________\n"
     ]
    },
    {
     "name": "stderr",
     "output_type": "stream",
     "text": [
      "2021-07-29 08:39:14.186635: I tensorflow/core/profiler/lib/profiler_session.cc:126] Profiler session initializing.\n",
      "2021-07-29 08:39:14.186666: I tensorflow/core/profiler/lib/profiler_session.cc:141] Profiler session started.\n",
      "2021-07-29 08:39:14.186710: I tensorflow/core/profiler/lib/profiler_session.cc:159] Profiler session tear down.\n"
     ]
    },
    {
     "name": "stdout",
     "output_type": "stream",
     "text": [
      "WARNING:tensorflow:Callback method `on_train_batch_end` is slow compared to the batch time (batch time: 0.0015s vs `on_train_batch_end` time: 0.0097s). Check your callbacks.\n",
      "\n",
      "Epoch: 0, accuracy:0.5044,  binary_crossentropy:0.7805,  loss:0.7805,  val_accuracy:0.4840,  val_binary_crossentropy:0.7321,  val_loss:0.7321,  \n",
      "."
     ]
    },
    {
     "name": "stderr",
     "output_type": "stream",
     "text": [
      "2021-07-29 08:39:14.577182: I tensorflow/core/profiler/lib/profiler_session.cc:126] Profiler session initializing.\n",
      "2021-07-29 08:39:14.577209: I tensorflow/core/profiler/lib/profiler_session.cc:141] Profiler session started.\n",
      "2021-07-29 08:39:14.601719: I tensorflow/core/profiler/lib/profiler_session.cc:66] Profiler session collecting data.\n",
      "2021-07-29 08:39:14.605906: I tensorflow/core/profiler/lib/profiler_session.cc:159] Profiler session tear down.\n",
      "2021-07-29 08:39:14.616022: I tensorflow/core/profiler/rpc/client/save_profile.cc:137] Creating directory: /tmp/tmp10h0ewno/tensorboard_logs/sizes/Small/train/plugins/profile/2021_07_29_08_39_14\n",
      "2021-07-29 08:39:14.622199: I tensorflow/core/profiler/rpc/client/save_profile.cc:143] Dumped gzipped tool data for trace.json.gz to /tmp/tmp10h0ewno/tensorboard_logs/sizes/Small/train/plugins/profile/2021_07_29_08_39_14/masternode.trace.json.gz\n",
      "2021-07-29 08:39:14.626120: I tensorflow/core/profiler/rpc/client/save_profile.cc:137] Creating directory: /tmp/tmp10h0ewno/tensorboard_logs/sizes/Small/train/plugins/profile/2021_07_29_08_39_14\n",
      "2021-07-29 08:39:14.626199: I tensorflow/core/profiler/rpc/client/save_profile.cc:143] Dumped gzipped tool data for memory_profile.json.gz to /tmp/tmp10h0ewno/tensorboard_logs/sizes/Small/train/plugins/profile/2021_07_29_08_39_14/masternode.memory_profile.json.gz\n",
      "2021-07-29 08:39:14.626439: I tensorflow/core/profiler/rpc/client/capture_profile.cc:251] Creating directory: /tmp/tmp10h0ewno/tensorboard_logs/sizes/Small/train/plugins/profile/2021_07_29_08_39_14Dumped tool data for xplane.pb to /tmp/tmp10h0ewno/tensorboard_logs/sizes/Small/train/plugins/profile/2021_07_29_08_39_14/masternode.xplane.pb\n",
      "Dumped tool data for overview_page.pb to /tmp/tmp10h0ewno/tensorboard_logs/sizes/Small/train/plugins/profile/2021_07_29_08_39_14/masternode.overview_page.pb\n",
      "Dumped tool data for input_pipeline.pb to /tmp/tmp10h0ewno/tensorboard_logs/sizes/Small/train/plugins/profile/2021_07_29_08_39_14/masternode.input_pipeline.pb\n",
      "Dumped tool data for tensorflow_stats.pb to /tmp/tmp10h0ewno/tensorboard_logs/sizes/Small/train/plugins/profile/2021_07_29_08_39_14/masternode.tensorflow_stats.pb\n",
      "Dumped tool data for kernel_stats.pb to /tmp/tmp10h0ewno/tensorboard_logs/sizes/Small/train/plugins/profile/2021_07_29_08_39_14/masternode.kernel_stats.pb\n",
      "\n"
     ]
    },
    {
     "name": "stdout",
     "output_type": "stream",
     "text": [
      "...................................................................................................\n",
      "Epoch: 100, accuracy:0.6157,  binary_crossentropy:0.6163,  loss:0.6163,  val_accuracy:0.5790,  val_binary_crossentropy:0.6324,  val_loss:0.6324,  \n",
      "....................................................................................................\n",
      "Epoch: 200, accuracy:0.6375,  binary_crossentropy:0.6002,  loss:0.6002,  val_accuracy:0.6250,  val_binary_crossentropy:0.6236,  val_loss:0.6236,  \n",
      "....................................................................................................\n",
      "Epoch: 300, accuracy:0.6522,  binary_crossentropy:0.5873,  loss:0.5873,  val_accuracy:0.6310,  val_binary_crossentropy:0.6203,  val_loss:0.6203,  \n",
      "....................................................................................................\n",
      "Epoch: 400, accuracy:0.6663,  binary_crossentropy:0.5770,  loss:0.5770,  val_accuracy:0.6340,  val_binary_crossentropy:0.6149,  val_loss:0.6149,  \n",
      "....................................................................................................\n",
      "Epoch: 500, accuracy:0.6803,  binary_crossentropy:0.5665,  loss:0.5665,  val_accuracy:0.6470,  val_binary_crossentropy:0.6083,  val_loss:0.6083,  \n",
      "....................................................................................................\n",
      "Epoch: 600, accuracy:0.6886,  binary_crossentropy:0.5606,  loss:0.5606,  val_accuracy:0.6640,  val_binary_crossentropy:0.6121,  val_loss:0.6121,  \n",
      "......................................................................................"
     ]
    }
   ],
   "source": [
    "size_histories['Small'] = compile_and_fit(small_model, 'sizes/Small')"
   ]
  },
  {
   "cell_type": "markdown",
   "metadata": {
    "id": "L-DGRBbGxI6G"
   },
   "source": [
    "### Medium model"
   ]
  },
  {
   "cell_type": "markdown",
   "metadata": {
    "id": "SrfoVQheYSO5"
   },
   "source": [
    "Now try 3 hidden layers with 64 units each:"
   ]
  },
  {
   "cell_type": "code",
   "execution_count": 30,
   "metadata": {
    "execution": {
     "iopub.execute_input": "2021-06-16T14:39:30.498340Z",
     "iopub.status.busy": "2021-06-16T14:39:30.497637Z",
     "iopub.status.idle": "2021-06-16T14:39:30.526123Z",
     "shell.execute_reply": "2021-06-16T14:39:30.525586Z"
    },
    "id": "jksi-XtaxDAh"
   },
   "outputs": [],
   "source": [
    "medium_model = tf.keras.Sequential([\n",
    "    layers.Dense(64, activation='elu', input_shape=(FEATURES,)),\n",
    "    layers.Dense(64, activation='elu'),\n",
    "    layers.Dense(64, activation='elu'),\n",
    "    layers.Dense(1)\n",
    "])"
   ]
  },
  {
   "cell_type": "markdown",
   "metadata": {
    "id": "jbngCZliYdma"
   },
   "source": [
    "And train the model using the same data:"
   ]
  },
  {
   "cell_type": "code",
   "execution_count": 31,
   "metadata": {
    "execution": {
     "iopub.execute_input": "2021-06-16T14:39:30.532620Z",
     "iopub.status.busy": "2021-06-16T14:39:30.531928Z",
     "iopub.status.idle": "2021-06-16T14:39:49.721112Z",
     "shell.execute_reply": "2021-06-16T14:39:49.720642Z"
    },
    "id": "Ofn1AwDhx-Fe"
   },
   "outputs": [
    {
     "name": "stdout",
     "output_type": "stream",
     "text": [
      "Model: \"sequential_2\"\n",
      "_________________________________________________________________\n",
      "Layer (type)                 Output Shape              Param #   \n",
      "=================================================================\n",
      "dense_5 (Dense)              (None, 64)                1856      \n",
      "_________________________________________________________________\n",
      "dense_6 (Dense)              (None, 64)                4160      \n",
      "_________________________________________________________________\n",
      "dense_7 (Dense)              (None, 64)                4160      \n",
      "_________________________________________________________________\n",
      "dense_8 (Dense)              (None, 1)                 65        \n",
      "=================================================================\n",
      "Total params: 10,241\n",
      "Trainable params: 10,241\n",
      "Non-trainable params: 0\n",
      "_________________________________________________________________\n"
     ]
    },
    {
     "name": "stderr",
     "output_type": "stream",
     "text": [
      "2021-07-29 08:40:24.706438: I tensorflow/core/profiler/lib/profiler_session.cc:126] Profiler session initializing.\n",
      "2021-07-29 08:40:24.706475: I tensorflow/core/profiler/lib/profiler_session.cc:141] Profiler session started.\n",
      "2021-07-29 08:40:24.708192: I tensorflow/core/profiler/lib/profiler_session.cc:159] Profiler session tear down.\n"
     ]
    },
    {
     "name": "stdout",
     "output_type": "stream",
     "text": [
      "WARNING:tensorflow:Callback method `on_train_batch_end` is slow compared to the batch time (batch time: 0.0026s vs `on_train_batch_end` time: 0.0098s). Check your callbacks.\n"
     ]
    },
    {
     "name": "stderr",
     "output_type": "stream",
     "text": [
      "2021-07-29 08:40:25.141047: I tensorflow/core/profiler/lib/profiler_session.cc:126] Profiler session initializing.\n",
      "2021-07-29 08:40:25.141073: I tensorflow/core/profiler/lib/profiler_session.cc:141] Profiler session started.\n",
      "2021-07-29 08:40:25.167738: I tensorflow/core/profiler/lib/profiler_session.cc:66] Profiler session collecting data.\n",
      "2021-07-29 08:40:25.171793: I tensorflow/core/profiler/lib/profiler_session.cc:159] Profiler session tear down.\n",
      "2021-07-29 08:40:25.181603: I tensorflow/core/profiler/rpc/client/save_profile.cc:137] Creating directory: /tmp/tmp10h0ewno/tensorboard_logs/sizes/Medium/train/plugins/profile/2021_07_29_08_40_25\n",
      "2021-07-29 08:40:25.187797: I tensorflow/core/profiler/rpc/client/save_profile.cc:143] Dumped gzipped tool data for trace.json.gz to /tmp/tmp10h0ewno/tensorboard_logs/sizes/Medium/train/plugins/profile/2021_07_29_08_40_25/masternode.trace.json.gz\n",
      "2021-07-29 08:40:25.192018: I tensorflow/core/profiler/rpc/client/save_profile.cc:137] Creating directory: /tmp/tmp10h0ewno/tensorboard_logs/sizes/Medium/train/plugins/profile/2021_07_29_08_40_25\n",
      "2021-07-29 08:40:25.192119: I tensorflow/core/profiler/rpc/client/save_profile.cc:143] Dumped gzipped tool data for memory_profile.json.gz to /tmp/tmp10h0ewno/tensorboard_logs/sizes/Medium/train/plugins/profile/2021_07_29_08_40_25/masternode.memory_profile.json.gz\n",
      "2021-07-29 08:40:25.192383: I tensorflow/core/profiler/rpc/client/capture_profile.cc:251] Creating directory: /tmp/tmp10h0ewno/tensorboard_logs/sizes/Medium/train/plugins/profile/2021_07_29_08_40_25Dumped tool data for xplane.pb to /tmp/tmp10h0ewno/tensorboard_logs/sizes/Medium/train/plugins/profile/2021_07_29_08_40_25/masternode.xplane.pb\n",
      "Dumped tool data for overview_page.pb to /tmp/tmp10h0ewno/tensorboard_logs/sizes/Medium/train/plugins/profile/2021_07_29_08_40_25/masternode.overview_page.pb\n",
      "Dumped tool data for input_pipeline.pb to /tmp/tmp10h0ewno/tensorboard_logs/sizes/Medium/train/plugins/profile/2021_07_29_08_40_25/masternode.input_pipeline.pb\n",
      "Dumped tool data for tensorflow_stats.pb to /tmp/tmp10h0ewno/tensorboard_logs/sizes/Medium/train/plugins/profile/2021_07_29_08_40_25/masternode.tensorflow_stats.pb\n",
      "Dumped tool data for kernel_stats.pb to /tmp/tmp10h0ewno/tensorboard_logs/sizes/Medium/train/plugins/profile/2021_07_29_08_40_25/masternode.kernel_stats.pb\n",
      "\n"
     ]
    },
    {
     "name": "stdout",
     "output_type": "stream",
     "text": [
      "\n",
      "Epoch: 0, accuracy:0.4810,  binary_crossentropy:0.7003,  loss:0.7003,  val_accuracy:0.4900,  val_binary_crossentropy:0.6730,  val_loss:0.6730,  \n",
      "....................................................................................................\n",
      "Epoch: 100, accuracy:0.7126,  binary_crossentropy:0.5254,  loss:0.5254,  val_accuracy:0.6490,  val_binary_crossentropy:0.6157,  val_loss:0.6157,  \n",
      "....................................................................................................\n",
      "Epoch: 200, accuracy:0.7887,  binary_crossentropy:0.4249,  loss:0.4249,  val_accuracy:0.6440,  val_binary_crossentropy:0.7065,  val_loss:0.7065,  \n",
      "........................................................"
     ]
    }
   ],
   "source": [
    "size_histories['Medium']  = compile_and_fit(medium_model, \"sizes/Medium\")"
   ]
  },
  {
   "cell_type": "markdown",
   "metadata": {
    "id": "vIPuf23FFaVn"
   },
   "source": [
    "### Large model\n",
    "\n",
    "As an exercise, you can create an even larger model, and see how quickly it begins overfitting.  Next, let's add to this benchmark a network that has much more capacity, far more than the problem would warrant:"
   ]
  },
  {
   "cell_type": "code",
   "execution_count": 32,
   "metadata": {
    "execution": {
     "iopub.execute_input": "2021-06-16T14:39:49.728682Z",
     "iopub.status.busy": "2021-06-16T14:39:49.728127Z",
     "iopub.status.idle": "2021-06-16T14:39:49.758010Z",
     "shell.execute_reply": "2021-06-16T14:39:49.758346Z"
    },
    "id": "ghQwwqwqvQM9"
   },
   "outputs": [],
   "source": [
    "large_model = tf.keras.Sequential([\n",
    "    layers.Dense(512, activation='elu', input_shape=(FEATURES,)),\n",
    "    layers.Dense(512, activation='elu'),\n",
    "    layers.Dense(512, activation='elu'),\n",
    "    layers.Dense(512, activation='elu'),\n",
    "    layers.Dense(1)\n",
    "])"
   ]
  },
  {
   "cell_type": "markdown",
   "metadata": {
    "id": "D-d-i5DaYmr7"
   },
   "source": [
    "And, again, train the model using the same data:"
   ]
  },
  {
   "cell_type": "code",
   "execution_count": 33,
   "metadata": {
    "execution": {
     "iopub.execute_input": "2021-06-16T14:39:49.763697Z",
     "iopub.status.busy": "2021-06-16T14:39:49.763071Z",
     "iopub.status.idle": "2021-06-16T14:40:09.416072Z",
     "shell.execute_reply": "2021-06-16T14:40:09.415544Z"
    },
    "id": "U1A99dhqvepf"
   },
   "outputs": [
    {
     "name": "stdout",
     "output_type": "stream",
     "text": [
      "Model: \"sequential_3\"\n",
      "_________________________________________________________________\n",
      "Layer (type)                 Output Shape              Param #   \n",
      "=================================================================\n",
      "dense_9 (Dense)              (None, 512)               14848     \n",
      "_________________________________________________________________\n",
      "dense_10 (Dense)             (None, 512)               262656    \n",
      "_________________________________________________________________\n",
      "dense_11 (Dense)             (None, 512)               262656    \n",
      "_________________________________________________________________\n",
      "dense_12 (Dense)             (None, 512)               262656    \n",
      "_________________________________________________________________\n",
      "dense_13 (Dense)             (None, 1)                 513       \n",
      "=================================================================\n",
      "Total params: 803,329\n",
      "Trainable params: 803,329\n",
      "Non-trainable params: 0\n",
      "_________________________________________________________________\n"
     ]
    },
    {
     "name": "stderr",
     "output_type": "stream",
     "text": [
      "2021-07-29 08:41:33.414602: I tensorflow/core/profiler/lib/profiler_session.cc:126] Profiler session initializing.\n",
      "2021-07-29 08:41:33.414640: I tensorflow/core/profiler/lib/profiler_session.cc:141] Profiler session started.\n",
      "2021-07-29 08:41:33.417168: I tensorflow/core/profiler/lib/profiler_session.cc:159] Profiler session tear down.\n",
      "2021-07-29 08:41:33.876356: I tensorflow/core/profiler/lib/profiler_session.cc:126] Profiler session initializing.\n",
      "2021-07-29 08:41:33.876382: I tensorflow/core/profiler/lib/profiler_session.cc:141] Profiler session started.\n",
      "2021-07-29 08:41:33.920492: I tensorflow/core/profiler/lib/profiler_session.cc:66] Profiler session collecting data.\n",
      "2021-07-29 08:41:33.924960: I tensorflow/core/profiler/lib/profiler_session.cc:159] Profiler session tear down.\n",
      "2021-07-29 08:41:33.935782: I tensorflow/core/profiler/rpc/client/save_profile.cc:137] Creating directory: /tmp/tmp10h0ewno/tensorboard_logs/sizes/large/train/plugins/profile/2021_07_29_08_41_33\n",
      "2021-07-29 08:41:33.943014: I tensorflow/core/profiler/rpc/client/save_profile.cc:143] Dumped gzipped tool data for trace.json.gz to /tmp/tmp10h0ewno/tensorboard_logs/sizes/large/train/plugins/profile/2021_07_29_08_41_33/masternode.trace.json.gz\n",
      "2021-07-29 08:41:33.947595: I tensorflow/core/profiler/rpc/client/save_profile.cc:137] Creating directory: /tmp/tmp10h0ewno/tensorboard_logs/sizes/large/train/plugins/profile/2021_07_29_08_41_33\n",
      "2021-07-29 08:41:33.947686: I tensorflow/core/profiler/rpc/client/save_profile.cc:143] Dumped gzipped tool data for memory_profile.json.gz to /tmp/tmp10h0ewno/tensorboard_logs/sizes/large/train/plugins/profile/2021_07_29_08_41_33/masternode.memory_profile.json.gz\n",
      "2021-07-29 08:41:33.947944: I tensorflow/core/profiler/rpc/client/capture_profile.cc:251] Creating directory: /tmp/tmp10h0ewno/tensorboard_logs/sizes/large/train/plugins/profile/2021_07_29_08_41_33Dumped tool data for xplane.pb to /tmp/tmp10h0ewno/tensorboard_logs/sizes/large/train/plugins/profile/2021_07_29_08_41_33/masternode.xplane.pb\n",
      "Dumped tool data for overview_page.pb to /tmp/tmp10h0ewno/tensorboard_logs/sizes/large/train/plugins/profile/2021_07_29_08_41_33/masternode.overview_page.pb\n",
      "Dumped tool data for input_pipeline.pb to /tmp/tmp10h0ewno/tensorboard_logs/sizes/large/train/plugins/profile/2021_07_29_08_41_33/masternode.input_pipeline.pb\n",
      "Dumped tool data for tensorflow_stats.pb to /tmp/tmp10h0ewno/tensorboard_logs/sizes/large/train/plugins/profile/2021_07_29_08_41_33/masternode.tensorflow_stats.pb\n",
      "Dumped tool data for kernel_stats.pb to /tmp/tmp10h0ewno/tensorboard_logs/sizes/large/train/plugins/profile/2021_07_29_08_41_33/masternode.kernel_stats.pb\n",
      "\n"
     ]
    },
    {
     "name": "stdout",
     "output_type": "stream",
     "text": [
      "\n",
      "Epoch: 0, accuracy:0.5119,  binary_crossentropy:0.8233,  loss:0.8233,  val_accuracy:0.4820,  val_binary_crossentropy:0.6806,  val_loss:0.6806,  \n",
      "....................................................................................................\n",
      "Epoch: 100, accuracy:1.0000,  binary_crossentropy:0.0023,  loss:0.0023,  val_accuracy:0.6640,  val_binary_crossentropy:1.7090,  val_loss:1.7090,  \n",
      "....................................................................................................\n",
      "Epoch: 200, accuracy:1.0000,  binary_crossentropy:0.0001,  loss:0.0001,  val_accuracy:0.6650,  val_binary_crossentropy:2.3441,  val_loss:2.3441,  \n",
      "........................"
     ]
    }
   ],
   "source": [
    "size_histories['large'] = compile_and_fit(large_model, \"sizes/large\")"
   ]
  },
  {
   "cell_type": "markdown",
   "metadata": {
    "id": "Fy3CMUZpzH3d"
   },
   "source": [
    "### Plot the training and validation losses"
   ]
  },
  {
   "cell_type": "markdown",
   "metadata": {
    "id": "HSlo1F4xHuuM"
   },
   "source": [
    "The solid lines show the training loss, and the dashed lines show the validation loss (remember: a lower validation loss indicates a better model)."
   ]
  },
  {
   "cell_type": "markdown",
   "metadata": {
    "id": "OLhL1AszdLfM"
   },
   "source": [
    "While building a larger model gives it more power, if this power is not constrained somehow it can easily overfit to the training set.\n",
    "\n",
    "In this example, typically, only the `\"Tiny\"` model manages to avoid overfitting altogether, and each of the larger models overfit the data more quickly. This becomes so severe for the `\"large\"` model that you need to switch the plot to a log-scale to really see what's happening.\n",
    "\n",
    "This is apparent if you plot and compare the validation metrics to the training metrics.\n",
    "\n",
    "* It's normal for there to be a small difference.\n",
    "* If both metrics are moving in the same direction, everything is fine.\n",
    "* If the validation metric begins to stagnate while the training metric continues to improve, you are probably close to overfitting.\n",
    "* If the validation metric is going in the wrong direction, the model is clearly overfitting."
   ]
  },
  {
   "cell_type": "code",
   "execution_count": 34,
   "metadata": {
    "execution": {
     "iopub.execute_input": "2021-06-16T14:40:09.420765Z",
     "iopub.status.busy": "2021-06-16T14:40:09.420179Z",
     "iopub.status.idle": "2021-06-16T14:40:09.853287Z",
     "shell.execute_reply": "2021-06-16T14:40:09.853691Z"
    },
    "id": "0XmKDtOWzOpk"
   },
   "outputs": [
    {
     "data": {
      "text/plain": [
       "Text(0.5, 0, 'Epochs [Log Scale]')"
      ]
     },
     "execution_count": 34,
     "metadata": {},
     "output_type": "execute_result"
    },
    {
     "data": {
      "image/png": "[encoded data removed]",
      "text/plain": [
       "<Figure size 432x288 with 1 Axes>"
      ]
     },
     "metadata": {
      "needs_background": "light"
     },
     "output_type": "display_data"
    }
   ],
   "source": [
    "plotter.plot(size_histories)\n",
    "a = plt.xscale('log')\n",
    "plt.xlim([5, max(plt.xlim())])\n",
    "plt.ylim([0.5, 0.7])\n",
    "plt.xlabel(\"Epochs [Log Scale]\")"
   ]
  },
  {
   "cell_type": "markdown",
   "metadata": {
    "id": "UekcaQdmZxnW"
   },
   "source": [
    "Note: All the above training runs used the `callbacks.EarlyStopping` to end the training once it was clear the model was not making progress."
   ]
  },
  {
   "cell_type": "markdown",
   "metadata": {
    "id": "DEQNKadHA0M3"
   },
   "source": [
    "### View in TensorBoard\n",
    "\n",
    "These models all wrote TensorBoard logs during training.\n",
    "\n",
    "Open an embedded  TensorBoard viewer inside a notebook:"
   ]
  },
  {
   "cell_type": "code",
   "execution_count": 35,
   "metadata": {
    "id": "6oa1lkJddZ-m"
   },
   "outputs": [
    {
     "data": {
      "text/html": [
       "\n",
       "      <iframe id=\"tensorboard-frame-32f17ebaa83dc5ae\" width=\"100%\" height=\"800\" frameborder=\"0\">\n",
       "      </iframe>\n",
       "      <script>\n",
       "        (function() {\n",
       "          const frame = document.getElementById(\"tensorboard-frame-32f17ebaa83dc5ae\");\n",
       "          const url = new URL(\"/\", window.location);\n",
       "          const port = 6006;\n",
       "          if (port) {\n",
       "            url.port = port;\n",
       "          }\n",
       "          frame.src = url;\n",
       "        })();\n",
       "      </script>\n",
       "    "
      ],
      "text/plain": [
       "<IPython.core.display.HTML object>"
      ]
     },
     "metadata": {},
     "output_type": "display_data"
    }
   ],
   "source": [
    "#docs_infra: no_execute\n",
    "\n",
    "# Load the TensorBoard notebook extension\n",
    "%load_ext tensorboard\n",
    "\n",
    "# Open an embedded TensorBoard viewer\n",
    "%tensorboard --logdir {logdir}/sizes"
   ]
  },
  {
   "cell_type": "markdown",
   "metadata": {
    "id": "fjqx3bywDPjf"
   },
   "source": [
    "You can view the [results of a previous run](https://tensorboard.dev/experiment/vW7jmmF9TmKmy3rbheMQpw/#scalars&_smoothingWeight=0.97) of this notebook on [TensorBoard.dev](https://tensorboard.dev/).\n",
    "\n",
    "TensorBoard.dev is a managed experience for hosting, tracking, and sharing ML experiments with everyone.\n",
    "\n",
    "It's also included in an `<iframe>` for convenience:"
   ]
  },
  {
   "cell_type": "code",
   "execution_count": 36,
   "metadata": {
    "execution": {
     "iopub.execute_input": "2021-06-16T14:40:09.858794Z",
     "iopub.status.busy": "2021-06-16T14:40:09.857897Z",
     "iopub.status.idle": "2021-06-16T14:40:09.861105Z",
     "shell.execute_reply": "2021-06-16T14:40:09.860595Z"
    },
    "id": "dX5fcgrADwym"
   },
   "outputs": [
    {
     "data": {
      "text/html": [
       "\n",
       "        <iframe\n",
       "            width=\"100%\"\n",
       "            height=\"800px\"\n",
       "            src=\"https://tensorboard.dev/experiment/vW7jmmF9TmKmy3rbheMQpw/#scalars&_smoothingWeight=0.97\"\n",
       "            frameborder=\"0\"\n",
       "            allowfullscreen\n",
       "        ></iframe>\n",
       "        "
      ],
      "text/plain": [
       "<IPython.lib.display.IFrame at 0x7f76287cd3d0>"
      ]
     },
     "execution_count": 36,
     "metadata": {},
     "output_type": "execute_result"
    }
   ],
   "source": [
    "display.IFrame(\n",
    "    src=\"https://tensorboard.dev/experiment/vW7jmmF9TmKmy3rbheMQpw/#scalars&_smoothingWeight=0.97\",\n",
    "    width=\"100%\", height=\"800px\")"
   ]
  },
  {
   "cell_type": "markdown",
   "metadata": {
    "id": "RDQDBKYZBXF_"
   },
   "source": [
    "If you want to share TensorBoard results you can upload the logs to [TensorBoard.dev](https://tensorboard.dev/) by copying the following into a code-cell.\n",
    "\n",
    "Note: This step requires a Google account.\n",
    "\n",
    "```\n",
    "!tensorboard dev upload --logdir  {logdir}/sizes\n",
    "```\n",
    "\n",
    "Caution: This command does not terminate. It's designed to continuously upload the results of long-running experiments. Once your data is uploaded you need to stop it using the \"interrupt execution\" option in your notebook tool."
   ]
  },
  {
   "cell_type": "markdown",
   "metadata": {
    "id": "ASdv7nsgEFhx"
   },
   "source": [
    "## Strategies to prevent overfitting"
   ]
  },
  {
   "cell_type": "markdown",
   "metadata": {
    "id": "YN512ksslaxJ"
   },
   "source": [
    "Before getting into the content of this section copy the training logs from the `\"Tiny\"` model above, to use as a baseline for comparison."
   ]
  },
  {
   "cell_type": "code",
   "execution_count": 37,
   "metadata": {
    "execution": {
     "iopub.execute_input": "2021-06-16T14:40:09.865322Z",
     "iopub.status.busy": "2021-06-16T14:40:09.864699Z",
     "iopub.status.idle": "2021-06-16T14:40:09.870673Z",
     "shell.execute_reply": "2021-06-16T14:40:09.870253Z"
    },
    "id": "40k1eBtnQzNo"
   },
   "outputs": [
    {
     "data": {
      "text/plain": [
       "PosixPath('/tmp/tmp10h0ewno/tensorboard_logs/regularizers/Tiny')"
      ]
     },
     "execution_count": 37,
     "metadata": {},
     "output_type": "execute_result"
    }
   ],
   "source": [
    "shutil.rmtree(logdir/'regularizers/Tiny', ignore_errors=True)\n",
    "shutil.copytree(logdir/'sizes/Tiny', logdir/'regularizers/Tiny')"
   ]
  },
  {
   "cell_type": "code",
   "execution_count": 38,
   "metadata": {
    "execution": {
     "iopub.execute_input": "2021-06-16T14:40:09.874085Z",
     "iopub.status.busy": "2021-06-16T14:40:09.873462Z",
     "iopub.status.idle": "2021-06-16T14:40:09.875894Z",
     "shell.execute_reply": "2021-06-16T14:40:09.875373Z"
    },
    "id": "vFWMeFo7jLpN"
   },
   "outputs": [],
   "source": [
    "regularizer_histories = {}\n",
    "regularizer_histories['Tiny'] = size_histories['Tiny']"
   ]
  },
  {
   "cell_type": "markdown",
   "metadata": {
    "id": "4rHoVWcswFLa"
   },
   "source": [
    "### Add weight regularization\n"
   ]
  },
  {
   "cell_type": "markdown",
   "metadata": {
    "id": "kRxWepNawbBK"
   },
   "source": [
    "You may be familiar with Occam's Razor principle: given two explanations for something, the explanation most likely to be correct is the \"simplest\" one, the one that makes the least amount of assumptions. This also applies to the models learned by neural networks: given some training data and a network architecture, there are multiple sets of weights values (multiple models) that could explain the data, and simpler models are less likely to overfit than complex ones.\n",
    "\n",
    "A \"simple model\" in this context is a model where the distribution of parameter values has less entropy (or a model with fewer parameters altogether, as we saw in the section above). Thus a common way to mitigate overfitting is to put constraints on the complexity of a network by forcing its weights only to take small values, which makes the distribution of weight values more \"regular\". This is called \"weight regularization\", and it is done by adding to the loss function of the network a cost associated with having large weights. This cost comes in two flavors:\n",
    "\n",
    "* [L1 regularization](https://developers.google.com/machine-learning/glossary/#L1_regularization), where the cost added is proportional to the absolute value of the weights coefficients (i.e. to what is called the \"L1 norm\" of the weights).\n",
    "\n",
    "* [L2 regularization](https://developers.google.com/machine-learning/glossary/#L2_regularization), where the cost added is proportional to the square of the value of the weights coefficients (i.e. to what is called the squared \"L2 norm\" of the weights). L2 regularization is also called weight decay in the context of neural networks. Don't let the different name confuse you: weight decay is mathematically the exact same as L2 regularization.\n",
    "\n",
    "L1 regularization pushes weights towards exactly zero encouraging a sparse model. L2 regularization will penalize the weights parameters without making them sparse since the penalty goes to zero for small weights-one reason why L2 is more common.\n",
    "\n",
    "In `tf.keras`, weight regularization is added by passing weight regularizer instances to layers as keyword arguments. Let's add L2 weight regularization now."
   ]
  },
  {
   "cell_type": "code",
   "execution_count": 39,
   "metadata": {
    "execution": {
     "iopub.execute_input": "2021-06-16T14:40:09.884990Z",
     "iopub.status.busy": "2021-06-16T14:40:09.884235Z",
     "iopub.status.idle": "2021-06-16T14:40:51.394937Z",
     "shell.execute_reply": "2021-06-16T14:40:51.394384Z"
    },
    "id": "HFGmcwduwVyQ"
   },
   "outputs": [
    {
     "name": "stdout",
     "output_type": "stream",
     "text": [
      "Model: \"sequential_4\"\n",
      "_________________________________________________________________\n",
      "Layer (type)                 Output Shape              Param #   \n",
      "=================================================================\n",
      "dense_14 (Dense)             (None, 512)               14848     \n",
      "_________________________________________________________________\n",
      "dense_15 (Dense)             (None, 512)               262656    \n",
      "_________________________________________________________________\n",
      "dense_16 (Dense)             (None, 512)               262656    \n",
      "_________________________________________________________________\n",
      "dense_17 (Dense)             (None, 512)               262656    \n",
      "_________________________________________________________________\n",
      "dense_18 (Dense)             (None, 1)                 513       \n",
      "=================================================================\n",
      "Total params: 803,329\n",
      "Trainable params: 803,329\n",
      "Non-trainable params: 0\n",
      "_________________________________________________________________\n"
     ]
    },
    {
     "name": "stderr",
     "output_type": "stream",
     "text": [
      "2021-07-29 08:45:02.987750: I tensorflow/core/profiler/lib/profiler_session.cc:126] Profiler session initializing.\n",
      "2021-07-29 08:45:02.987778: I tensorflow/core/profiler/lib/profiler_session.cc:141] Profiler session started.\n",
      "2021-07-29 08:45:02.989353: I tensorflow/core/profiler/lib/profiler_session.cc:159] Profiler session tear down.\n",
      "2021-07-29 08:45:03.560545: I tensorflow/core/profiler/lib/profiler_session.cc:126] Profiler session initializing.\n",
      "2021-07-29 08:45:03.560573: I tensorflow/core/profiler/lib/profiler_session.cc:141] Profiler session started.\n",
      "2021-07-29 08:45:03.614548: I tensorflow/core/profiler/lib/profiler_session.cc:66] Profiler session collecting data.\n",
      "2021-07-29 08:45:03.619573: I tensorflow/core/profiler/lib/profiler_session.cc:159] Profiler session tear down.\n",
      "2021-07-29 08:45:03.632481: I tensorflow/core/profiler/rpc/client/save_profile.cc:137] Creating directory: /tmp/tmp10h0ewno/tensorboard_logs/regularizers/l2/train/plugins/profile/2021_07_29_08_45_03\n",
      "2021-07-29 08:45:03.640093: I tensorflow/core/profiler/rpc/client/save_profile.cc:143] Dumped gzipped tool data for trace.json.gz to /tmp/tmp10h0ewno/tensorboard_logs/regularizers/l2/train/plugins/profile/2021_07_29_08_45_03/masternode.trace.json.gz\n",
      "2021-07-29 08:45:03.645366: I tensorflow/core/profiler/rpc/client/save_profile.cc:137] Creating directory: /tmp/tmp10h0ewno/tensorboard_logs/regularizers/l2/train/plugins/profile/2021_07_29_08_45_03\n",
      "2021-07-29 08:45:03.645481: I tensorflow/core/profiler/rpc/client/save_profile.cc:143] Dumped gzipped tool data for memory_profile.json.gz to /tmp/tmp10h0ewno/tensorboard_logs/regularizers/l2/train/plugins/profile/2021_07_29_08_45_03/masternode.memory_profile.json.gz\n",
      "2021-07-29 08:45:03.645783: I tensorflow/core/profiler/rpc/client/capture_profile.cc:251] Creating directory: /tmp/tmp10h0ewno/tensorboard_logs/regularizers/l2/train/plugins/profile/2021_07_29_08_45_03Dumped tool data for xplane.pb to /tmp/tmp10h0ewno/tensorboard_logs/regularizers/l2/train/plugins/profile/2021_07_29_08_45_03/masternode.xplane.pb\n",
      "Dumped tool data for overview_page.pb to /tmp/tmp10h0ewno/tensorboard_logs/regularizers/l2/train/plugins/profile/2021_07_29_08_45_03/masternode.overview_page.pb\n",
      "Dumped tool data for input_pipeline.pb to /tmp/tmp10h0ewno/tensorboard_logs/regularizers/l2/train/plugins/profile/2021_07_29_08_45_03/masternode.input_pipeline.pb\n",
      "Dumped tool data for tensorflow_stats.pb to /tmp/tmp10h0ewno/tensorboard_logs/regularizers/l2/train/plugins/profile/2021_07_29_08_45_03/masternode.tensorflow_stats.pb\n",
      "Dumped tool data for kernel_stats.pb to /tmp/tmp10h0ewno/tensorboard_logs/regularizers/l2/train/plugins/profile/2021_07_29_08_45_03/masternode.kernel_stats.pb\n",
      "\n"
     ]
    },
    {
     "name": "stdout",
     "output_type": "stream",
     "text": [
      "\n",
      "Epoch: 0, accuracy:0.5135,  binary_crossentropy:0.8137,  loss:2.3409,  val_accuracy:0.5520,  val_binary_crossentropy:0.6988,  val_loss:2.1527,  \n",
      "....................................................................................................\n",
      "Epoch: 100, accuracy:0.6535,  binary_crossentropy:0.5968,  loss:0.6185,  val_accuracy:0.6360,  val_binary_crossentropy:0.5940,  val_loss:0.6155,  \n",
      "....................................................................................................\n",
      "Epoch: 200, accuracy:0.6683,  binary_crossentropy:0.5852,  loss:0.6059,  val_accuracy:0.6480,  val_binary_crossentropy:0.5829,  val_loss:0.6035,  \n",
      "....................................................................................................\n",
      "Epoch: 300, accuracy:0.6806,  binary_crossentropy:0.5808,  loss:0.6033,  val_accuracy:0.6790,  val_binary_crossentropy:0.5822,  val_loss:0.6053,  \n",
      "....................................................................................................\n",
      "Epoch: 400, accuracy:0.6781,  binary_crossentropy:0.5763,  loss:0.5973,  val_accuracy:0.6450,  val_binary_crossentropy:0.5886,  val_loss:0.6095,  \n",
      "......................................................................................"
     ]
    }
   ],
   "source": [
    "l2_model = tf.keras.Sequential([\n",
    "    layers.Dense(512, activation='elu',\n",
    "                 kernel_regularizer=regularizers.l2(0.001),\n",
    "                 input_shape=(FEATURES,)),\n",
    "    layers.Dense(512, activation='elu',\n",
    "                 kernel_regularizer=regularizers.l2(0.001)),\n",
    "    layers.Dense(512, activation='elu',\n",
    "                 kernel_regularizer=regularizers.l2(0.001)),\n",
    "    layers.Dense(512, activation='elu',\n",
    "                 kernel_regularizer=regularizers.l2(0.001)),\n",
    "    layers.Dense(1)\n",
    "])\n",
    "\n",
    "regularizer_histories['l2'] = compile_and_fit(l2_model, \"regularizers/l2\")"
   ]
  },
  {
   "cell_type": "markdown",
   "metadata": {
    "id": "bUUHoXb7w-_C"
   },
   "source": [
    "`l2(0.001)` means that every coefficient in the weight matrix of the layer will add `0.001 * weight_coefficient_value**2` to the total **loss** of the network.\n",
    "\n",
    "That is why we're monitoring the `binary_crossentropy` directly. Because it doesn't have this regularization component mixed in.\n",
    "\n",
    "So, that same `\"Large\"` model with an `L2` regularization penalty performs much better:\n"
   ]
  },
  {
   "cell_type": "code",
   "execution_count": 40,
   "metadata": {
    "execution": {
     "iopub.execute_input": "2021-06-16T14:40:51.399779Z",
     "iopub.status.busy": "2021-06-16T14:40:51.398803Z",
     "iopub.status.idle": "2021-06-16T14:40:51.551720Z",
     "shell.execute_reply": "2021-06-16T14:40:51.552095Z"
    },
    "id": "7wkfLyxBZdh_"
   },
   "outputs": [
    {
     "data": {
      "text/plain": [
       "(0.5, 0.7)"
      ]
     },
     "execution_count": 40,
     "metadata": {},
     "output_type": "execute_result"
    },
    {
     "data": {
      "image/png": "[encoded data removed]",
      "text/plain": [
       "<Figure size 432x288 with 1 Axes>"
      ]
     },
     "metadata": {
      "needs_background": "light"
     },
     "output_type": "display_data"
    }
   ],
   "source": [
    "plotter.plot(regularizer_histories)\n",
    "plt.ylim([0.5, 0.7])"
   ]
  },
  {
   "cell_type": "markdown",
   "metadata": {
    "id": "Kx1YHMsVxWjP"
   },
   "source": [
    "As you can see, the `\"L2\"` regularized model is now much more competitive with the the `\"Tiny\"` model. This `\"L2\"` model is also much more resistant to overfitting than the `\"Large\"` model it was based on despite having the same number of parameters."
   ]
  },
  {
   "cell_type": "markdown",
   "metadata": {
    "id": "JheBk6f8jMQ7"
   },
   "source": [
    "#### More info\n",
    "\n",
    "There are two important things to note about this sort of regularization.\n",
    "\n",
    "**First:** if you are writing your own training loop, then you need to be sure to ask the model for its regularization losses."
   ]
  },
  {
   "cell_type": "code",
   "execution_count": 41,
   "metadata": {
    "execution": {
     "iopub.execute_input": "2021-06-16T14:40:51.557455Z",
     "iopub.status.busy": "2021-06-16T14:40:51.556222Z",
     "iopub.status.idle": "2021-06-16T14:40:51.562834Z",
     "shell.execute_reply": "2021-06-16T14:40:51.563195Z"
    },
    "id": "apDHQNybjaML"
   },
   "outputs": [],
   "source": [
    "result = l2_model(features)\n",
    "regularization_loss=tf.add_n(l2_model.losses)"
   ]
  },
  {
   "cell_type": "markdown",
   "metadata": {
    "id": "MLhG6fMSjE-J"
   },
   "source": [
    "**Second:** This implementation works by adding the weight penalties to the model's loss, and then applying a standard optimization procedure after that.\n",
    "\n",
    "There is a second approach that instead only runs the optimizer on the raw loss, and then while applying the calculated step the optimizer also applies some weight decay. This \"Decoupled Weight Decay\" is seen in optimizers like `optimizers.FTRL` and `optimizers.AdamW`."
   ]
  },
  {
   "cell_type": "markdown",
   "metadata": {
    "id": "HmnBNOOVxiG8"
   },
   "source": [
    "### Add dropout\n",
    "\n",
    "Dropout is one of the most effective and most commonly used regularization techniques for neural networks, developed by Hinton and his students at the University of Toronto.\n",
    "\n",
    "The intuitive explanation for dropout is that because individual nodes in the network cannot rely on the output of the others, each node must output features that are useful on their own.\n",
    "\n",
    "Dropout, applied to a layer, consists of randomly \"dropping out\" (i.e. set to zero) a number of output features of the layer during training. Let's say a given layer would normally have returned a vector [0.2, 0.5, 1.3, 0.8, 1.1] for a given input sample during training; after applying dropout, this vector will have a few zero entries distributed at random, e.g. [0, 0.5,\n",
    "1.3, 0, 1.1].\n",
    "\n",
    "The \"dropout rate\" is the fraction of the features that are being zeroed-out; it is usually set between 0.2 and 0.5. At test time, no units are dropped out, and instead the layer's output values are scaled down by a factor equal to the dropout rate, so as to balance for the fact that more units are active than at training time.\n",
    "\n",
    "In `tf.keras` you can introduce dropout in a network via the Dropout layer, which gets applied to the output of layer right before.\n",
    "\n",
    "Let's add two Dropout layers in our network to see how well they do at reducing overfitting:"
   ]
  },
  {
   "cell_type": "code",
   "execution_count": 42,
   "metadata": {
    "execution": {
     "iopub.execute_input": "2021-06-16T14:40:51.574234Z",
     "iopub.status.busy": "2021-06-16T14:40:51.573295Z",
     "iopub.status.idle": "2021-06-16T14:41:22.772523Z",
     "shell.execute_reply": "2021-06-16T14:41:22.771961Z"
    },
    "id": "OFEYvtrHxSWS"
   },
   "outputs": [
    {
     "name": "stdout",
     "output_type": "stream",
     "text": [
      "Model: \"sequential_5\"\n",
      "_________________________________________________________________\n",
      "Layer (type)                 Output Shape              Param #   \n",
      "=================================================================\n",
      "dense_19 (Dense)             (None, 512)               14848     \n",
      "_________________________________________________________________\n",
      "dropout (Dropout)            (None, 512)               0         \n",
      "_________________________________________________________________\n",
      "dense_20 (Dense)             (None, 512)               262656    \n",
      "_________________________________________________________________\n",
      "dropout_1 (Dropout)          (None, 512)               0         \n",
      "_________________________________________________________________\n",
      "dense_21 (Dense)             (None, 512)               262656    \n",
      "_________________________________________________________________\n",
      "dropout_2 (Dropout)          (None, 512)               0         \n",
      "_________________________________________________________________\n",
      "dense_22 (Dense)             (None, 512)               262656    \n",
      "_________________________________________________________________\n",
      "dropout_3 (Dropout)          (None, 512)               0         \n",
      "_________________________________________________________________\n",
      "dense_23 (Dense)             (None, 1)                 513       \n",
      "=================================================================\n",
      "Total params: 803,329\n",
      "Trainable params: 803,329\n",
      "Non-trainable params: 0\n",
      "_________________________________________________________________\n"
     ]
    },
    {
     "name": "stderr",
     "output_type": "stream",
     "text": [
      "2021-07-29 08:50:30.762056: I tensorflow/core/profiler/lib/profiler_session.cc:126] Profiler session initializing.\n",
      "2021-07-29 08:50:30.762099: I tensorflow/core/profiler/lib/profiler_session.cc:141] Profiler session started.\n",
      "2021-07-29 08:50:30.764606: I tensorflow/core/profiler/lib/profiler_session.cc:159] Profiler session tear down.\n",
      "2021-07-29 08:50:31.435400: I tensorflow/core/profiler/lib/profiler_session.cc:126] Profiler session initializing.\n",
      "2021-07-29 08:50:31.435431: I tensorflow/core/profiler/lib/profiler_session.cc:141] Profiler session started.\n",
      "2021-07-29 08:50:31.502626: I tensorflow/core/profiler/lib/profiler_session.cc:66] Profiler session collecting data.\n",
      "2021-07-29 08:50:31.508219: I tensorflow/core/profiler/lib/profiler_session.cc:159] Profiler session tear down.\n",
      "2021-07-29 08:50:31.522214: I tensorflow/core/profiler/rpc/client/save_profile.cc:137] Creating directory: /tmp/tmp10h0ewno/tensorboard_logs/regularizers/dropout/train/plugins/profile/2021_07_29_08_50_31\n",
      "2021-07-29 08:50:31.531084: I tensorflow/core/profiler/rpc/client/save_profile.cc:143] Dumped gzipped tool data for trace.json.gz to /tmp/tmp10h0ewno/tensorboard_logs/regularizers/dropout/train/plugins/profile/2021_07_29_08_50_31/masternode.trace.json.gz\n",
      "2021-07-29 08:50:31.537915: I tensorflow/core/profiler/rpc/client/save_profile.cc:137] Creating directory: /tmp/tmp10h0ewno/tensorboard_logs/regularizers/dropout/train/plugins/profile/2021_07_29_08_50_31\n",
      "2021-07-29 08:50:31.538068: I tensorflow/core/profiler/rpc/client/save_profile.cc:143] Dumped gzipped tool data for memory_profile.json.gz to /tmp/tmp10h0ewno/tensorboard_logs/regularizers/dropout/train/plugins/profile/2021_07_29_08_50_31/masternode.memory_profile.json.gz\n",
      "2021-07-29 08:50:31.538469: I tensorflow/core/profiler/rpc/client/capture_profile.cc:251] Creating directory: /tmp/tmp10h0ewno/tensorboard_logs/regularizers/dropout/train/plugins/profile/2021_07_29_08_50_31Dumped tool data for xplane.pb to /tmp/tmp10h0ewno/tensorboard_logs/regularizers/dropout/train/plugins/profile/2021_07_29_08_50_31/masternode.xplane.pb\n",
      "Dumped tool data for overview_page.pb to /tmp/tmp10h0ewno/tensorboard_logs/regularizers/dropout/train/plugins/profile/2021_07_29_08_50_31/masternode.overview_page.pb\n",
      "Dumped tool data for input_pipeline.pb to /tmp/tmp10h0ewno/tensorboard_logs/regularizers/dropout/train/plugins/profile/2021_07_29_08_50_31/masternode.input_pipeline.pb\n",
      "Dumped tool data for tensorflow_stats.pb to /tmp/tmp10h0ewno/tensorboard_logs/regularizers/dropout/train/plugins/profile/2021_07_29_08_50_31/masternode.tensorflow_stats.pb\n",
      "Dumped tool data for kernel_stats.pb to /tmp/tmp10h0ewno/tensorboard_logs/regularizers/dropout/train/plugins/profile/2021_07_29_08_50_31/masternode.kernel_stats.pb\n",
      "\n"
     ]
    },
    {
     "name": "stdout",
     "output_type": "stream",
     "text": [
      "\n",
      "Epoch: 0, accuracy:0.5038,  binary_crossentropy:0.8064,  loss:0.8064,  val_accuracy:0.5030,  val_binary_crossentropy:0.6735,  val_loss:0.6735,  \n",
      "....................................................................................................\n",
      "Epoch: 100, accuracy:0.6512,  binary_crossentropy:0.5969,  loss:0.5969,  val_accuracy:0.6940,  val_binary_crossentropy:0.5767,  val_loss:0.5767,  \n",
      "....................................................................................................\n",
      "Epoch: 200, accuracy:0.6929,  binary_crossentropy:0.5557,  loss:0.5557,  val_accuracy:0.6910,  val_binary_crossentropy:0.5861,  val_loss:0.5861,  \n",
      "....................................................................................................\n",
      "Epoch: 300, accuracy:0.7215,  binary_crossentropy:0.5114,  loss:0.5114,  val_accuracy:0.6960,  val_binary_crossentropy:0.5970,  val_loss:0.5970,  \n",
      ".........................."
     ]
    }
   ],
   "source": [
    "dropout_model = tf.keras.Sequential([\n",
    "    layers.Dense(512, activation='elu', input_shape=(FEATURES,)),\n",
    "    layers.Dropout(0.5),\n",
    "    layers.Dense(512, activation='elu'),\n",
    "    layers.Dropout(0.5),\n",
    "    layers.Dense(512, activation='elu'),\n",
    "    layers.Dropout(0.5),\n",
    "    layers.Dense(512, activation='elu'),\n",
    "    layers.Dropout(0.5),\n",
    "    layers.Dense(1)\n",
    "])\n",
    "\n",
    "regularizer_histories['dropout'] = compile_and_fit(dropout_model, \"regularizers/dropout\")"
   ]
  },
  {
   "cell_type": "code",
   "execution_count": 43,
   "metadata": {
    "execution": {
     "iopub.execute_input": "2021-06-16T14:41:22.776586Z",
     "iopub.status.busy": "2021-06-16T14:41:22.775946Z",
     "iopub.status.idle": "2021-06-16T14:41:22.939452Z",
     "shell.execute_reply": "2021-06-16T14:41:22.939918Z"
    },
    "id": "SPZqwVchx5xp"
   },
   "outputs": [
    {
     "data": {
      "text/plain": [
       "(0.5, 0.7)"
      ]
     },
     "execution_count": 43,
     "metadata": {},
     "output_type": "execute_result"
    },
    {
     "data": {
      "image/png": "[encoded data removed]",
      "text/plain": [
       "<Figure size 432x288 with 1 Axes>"
      ]
     },
     "metadata": {
      "needs_background": "light"
     },
     "output_type": "display_data"
    }
   ],
   "source": [
    "plotter.plot(regularizer_histories)\n",
    "plt.ylim([0.5, 0.7])"
   ]
  },
  {
   "cell_type": "markdown",
   "metadata": {
    "id": "4zlHr4iaI1U6"
   },
   "source": [
    "It's clear from this plot that both of these regularization approaches improve the behavior of the `\"Large\"` model. But this still doesn't beat even the `\"Tiny\"` baseline.\n",
    "\n",
    "Next try them both, together, and see if that does better."
   ]
  },
  {
   "cell_type": "markdown",
   "metadata": {
    "id": "u7qMg_7Nwy5t"
   },
   "source": [
    "### Combined L2 + dropout"
   ]
  },
  {
   "cell_type": "code",
   "execution_count": 44,
   "metadata": {
    "execution": {
     "iopub.execute_input": "2021-06-16T14:41:22.951111Z",
     "iopub.status.busy": "2021-06-16T14:41:22.950439Z",
     "iopub.status.idle": "2021-06-16T14:42:46.108412Z",
     "shell.execute_reply": "2021-06-16T14:42:46.108817Z"
    },
    "id": "7zfs_qQIw1cz"
   },
   "outputs": [
    {
     "name": "stdout",
     "output_type": "stream",
     "text": [
      "Model: \"sequential_6\"\n",
      "_________________________________________________________________\n",
      "Layer (type)                 Output Shape              Param #   \n",
      "=================================================================\n",
      "dense_24 (Dense)             (None, 512)               14848     \n",
      "_________________________________________________________________\n",
      "dropout_4 (Dropout)          (None, 512)               0         \n",
      "_________________________________________________________________\n",
      "dense_25 (Dense)             (None, 512)               262656    \n",
      "_________________________________________________________________\n",
      "dropout_5 (Dropout)          (None, 512)               0         \n",
      "_________________________________________________________________\n",
      "dense_26 (Dense)             (None, 512)               262656    \n",
      "_________________________________________________________________\n",
      "dropout_6 (Dropout)          (None, 512)               0         \n",
      "_________________________________________________________________\n",
      "dense_27 (Dense)             (None, 512)               262656    \n",
      "_________________________________________________________________\n",
      "dropout_7 (Dropout)          (None, 512)               0         \n",
      "_________________________________________________________________\n",
      "dense_28 (Dense)             (None, 1)                 513       \n",
      "=================================================================\n",
      "Total params: 803,329\n",
      "Trainable params: 803,329\n",
      "Non-trainable params: 0\n",
      "_________________________________________________________________\n"
     ]
    },
    {
     "name": "stderr",
     "output_type": "stream",
     "text": [
      "2021-07-29 08:55:06.065687: I tensorflow/core/profiler/lib/profiler_session.cc:126] Profiler session initializing.\n",
      "2021-07-29 08:55:06.065715: I tensorflow/core/profiler/lib/profiler_session.cc:141] Profiler session started.\n",
      "2021-07-29 08:55:06.066282: I tensorflow/core/profiler/lib/profiler_session.cc:159] Profiler session tear down.\n",
      "2021-07-29 08:55:06.781035: I tensorflow/core/profiler/lib/profiler_session.cc:126] Profiler session initializing.\n",
      "2021-07-29 08:55:06.781066: I tensorflow/core/profiler/lib/profiler_session.cc:141] Profiler session started.\n",
      "2021-07-29 08:55:06.852353: I tensorflow/core/profiler/lib/profiler_session.cc:66] Profiler session collecting data.\n",
      "2021-07-29 08:55:06.858369: I tensorflow/core/profiler/lib/profiler_session.cc:159] Profiler session tear down.\n",
      "2021-07-29 08:55:06.873154: I tensorflow/core/profiler/rpc/client/save_profile.cc:137] Creating directory: /tmp/tmp10h0ewno/tensorboard_logs/regularizers/combined/train/plugins/profile/2021_07_29_08_55_06\n",
      "2021-07-29 08:55:06.882385: I tensorflow/core/profiler/rpc/client/save_profile.cc:143] Dumped gzipped tool data for trace.json.gz to /tmp/tmp10h0ewno/tensorboard_logs/regularizers/combined/train/plugins/profile/2021_07_29_08_55_06/masternode.trace.json.gz\n",
      "2021-07-29 08:55:06.888666: I tensorflow/core/profiler/rpc/client/save_profile.cc:137] Creating directory: /tmp/tmp10h0ewno/tensorboard_logs/regularizers/combined/train/plugins/profile/2021_07_29_08_55_06\n",
      "2021-07-29 08:55:06.888792: I tensorflow/core/profiler/rpc/client/save_profile.cc:143] Dumped gzipped tool data for memory_profile.json.gz to /tmp/tmp10h0ewno/tensorboard_logs/regularizers/combined/train/plugins/profile/2021_07_29_08_55_06/masternode.memory_profile.json.gz\n",
      "2021-07-29 08:55:06.889153: I tensorflow/core/profiler/rpc/client/capture_profile.cc:251] Creating directory: /tmp/tmp10h0ewno/tensorboard_logs/regularizers/combined/train/plugins/profile/2021_07_29_08_55_06Dumped tool data for xplane.pb to /tmp/tmp10h0ewno/tensorboard_logs/regularizers/combined/train/plugins/profile/2021_07_29_08_55_06/masternode.xplane.pb\n",
      "Dumped tool data for overview_page.pb to /tmp/tmp10h0ewno/tensorboard_logs/regularizers/combined/train/plugins/profile/2021_07_29_08_55_06/masternode.overview_page.pb\n",
      "Dumped tool data for input_pipeline.pb to /tmp/tmp10h0ewno/tensorboard_logs/regularizers/combined/train/plugins/profile/2021_07_29_08_55_06/masternode.input_pipeline.pb\n",
      "Dumped tool data for tensorflow_stats.pb to /tmp/tmp10h0ewno/tensorboard_logs/regularizers/combined/train/plugins/profile/2021_07_29_08_55_06/masternode.tensorflow_stats.pb\n",
      "Dumped tool data for kernel_stats.pb to /tmp/tmp10h0ewno/tensorboard_logs/regularizers/combined/train/plugins/profile/2021_07_29_08_55_06/masternode.kernel_stats.pb\n",
      "\n"
     ]
    },
    {
     "name": "stdout",
     "output_type": "stream",
     "text": [
      "\n",
      "Epoch: 0, accuracy:0.5035,  binary_crossentropy:0.8087,  loss:0.9671,  val_accuracy:0.4790,  val_binary_crossentropy:0.6815,  val_loss:0.8392,  \n",
      "....................................................................................................\n",
      "Epoch: 100, accuracy:0.6461,  binary_crossentropy:0.6000,  loss:0.6308,  val_accuracy:0.6600,  val_binary_crossentropy:0.5816,  val_loss:0.6122,  \n",
      "....................................................................................................\n",
      "Epoch: 200, accuracy:0.6609,  binary_crossentropy:0.5946,  loss:0.6197,  val_accuracy:0.6480,  val_binary_crossentropy:0.5817,  val_loss:0.6069,  \n",
      "....................................................................................................\n",
      "Epoch: 300, accuracy:0.6737,  binary_crossentropy:0.5833,  loss:0.6121,  val_accuracy:0.6700,  val_binary_crossentropy:0.5667,  val_loss:0.5954,  \n",
      "....................................................................................................\n",
      "Epoch: 400, accuracy:0.6762,  binary_crossentropy:0.5760,  loss:0.6067,  val_accuracy:0.6650,  val_binary_crossentropy:0.5656,  val_loss:0.5962,  \n",
      "....................................................................................................\n",
      "Epoch: 500, accuracy:0.6821,  binary_crossentropy:0.5708,  loss:0.6037,  val_accuracy:0.6910,  val_binary_crossentropy:0.5511,  val_loss:0.5840,  \n",
      "....................................................................................................\n",
      "Epoch: 600, accuracy:0.6882,  binary_crossentropy:0.5662,  loss:0.6014,  val_accuracy:0.6870,  val_binary_crossentropy:0.5506,  val_loss:0.5857,  \n",
      "....................................................................................................\n",
      "Epoch: 700, accuracy:0.6959,  binary_crossentropy:0.5583,  loss:0.5952,  val_accuracy:0.6860,  val_binary_crossentropy:0.5448,  val_loss:0.5817,  \n",
      "....................................................................................................\n",
      "Epoch: 800, accuracy:0.6993,  binary_crossentropy:0.5548,  loss:0.5935,  val_accuracy:0.6810,  val_binary_crossentropy:0.5453,  val_loss:0.5840,  \n",
      "....................................................................................................\n",
      "Epoch: 900, accuracy:0.6966,  binary_crossentropy:0.5537,  loss:0.5936,  val_accuracy:0.7000,  val_binary_crossentropy:0.5351,  val_loss:0.5750,  \n",
      "....................................................................................................\n",
      "Epoch: 1000, accuracy:0.6967,  binary_crossentropy:0.5510,  loss:0.5921,  val_accuracy:0.6720,  val_binary_crossentropy:0.5552,  val_loss:0.5964,  \n",
      "....................................................................................................\n",
      "Epoch: 1100, accuracy:0.7025,  binary_crossentropy:0.5451,  loss:0.5873,  val_accuracy:0.6910,  val_binary_crossentropy:0.5450,  val_loss:0.5873,  \n",
      "."
     ]
    }
   ],
   "source": [
    "combined_model = tf.keras.Sequential([\n",
    "    layers.Dense(512, kernel_regularizer=regularizers.l2(0.0001),\n",
    "                 activation='elu', input_shape=(FEATURES,)),\n",
    "    layers.Dropout(0.5),\n",
    "    layers.Dense(512, kernel_regularizer=regularizers.l2(0.0001),\n",
    "                 activation='elu'),\n",
    "    layers.Dropout(0.5),\n",
    "    layers.Dense(512, kernel_regularizer=regularizers.l2(0.0001),\n",
    "                 activation='elu'),\n",
    "    layers.Dropout(0.5),\n",
    "    layers.Dense(512, kernel_regularizer=regularizers.l2(0.0001),\n",
    "                 activation='elu'),\n",
    "    layers.Dropout(0.5),\n",
    "    layers.Dense(1)\n",
    "])\n",
    "\n",
    "regularizer_histories['combined'] = compile_and_fit(combined_model, \"regularizers/combined\")"
   ]
  },
  {
   "cell_type": "code",
   "execution_count": 45,
   "metadata": {
    "execution": {
     "iopub.execute_input": "2021-06-16T14:42:46.112788Z",
     "iopub.status.busy": "2021-06-16T14:42:46.112236Z",
     "iopub.status.idle": "2021-06-16T14:42:46.317102Z",
     "shell.execute_reply": "2021-06-16T14:42:46.317498Z"
    },
    "id": "qDqBBxfI0Yd8"
   },
   "outputs": [
    {
     "data": {
      "text/plain": [
       "(0.5, 0.7)"
      ]
     },
     "execution_count": 45,
     "metadata": {},
     "output_type": "execute_result"
    },
    {
     "data": {
      "image/png": "[encoded data removed]",
      "text/plain": [
       "<Figure size 432x288 with 1 Axes>"
      ]
     },
     "metadata": {
      "needs_background": "light"
     },
     "output_type": "display_data"
    }
   ],
   "source": [
    "plotter.plot(regularizer_histories)\n",
    "plt.ylim([0.5, 0.7])"
   ]
  },
  {
   "cell_type": "markdown",
   "metadata": {
    "id": "tE0OoNCQNTJv"
   },
   "source": [
    "This model with the `\"Combined\"` regularization is obviously the best one so far."
   ]
  },
  {
   "cell_type": "markdown",
   "metadata": {
    "id": "-dw23T03FEO1"
   },
   "source": [
    "### View in TensorBoard\n",
    "\n",
    "These models also recorded TensorBoard logs.\n",
    "\n",
    "To open an embedded  tensorboard viewer inside a notebook, copy the following into a code-cell:\n",
    "\n",
    "```\n",
    "%tensorboard --logdir {logdir}/regularizers\n",
    "```"
   ]
  },
  {
   "cell_type": "markdown",
   "metadata": {
    "id": "KX3Voac-FEO4"
   },
   "source": [
    "You can view the [results of a previous run](https://tensorboard.dev/experiment/fGInKDo8TXes1z7HQku9mw/#scalars&_smoothingWeight=0.97) of this notebook on [TensorDoard.dev](https://tensorboard.dev/).\n",
    "\n",
    "It's also included in an `<iframe>` for convenience:"
   ]
  },
  {
   "cell_type": "code",
   "execution_count": 46,
   "metadata": {
    "execution": {
     "iopub.execute_input": "2021-06-16T14:42:46.322157Z",
     "iopub.status.busy": "2021-06-16T14:42:46.321577Z",
     "iopub.status.idle": "2021-06-16T14:42:46.323809Z",
     "shell.execute_reply": "2021-06-16T14:42:46.324174Z"
    },
    "id": "doMtyYoqFEO5"
   },
   "outputs": [
    {
     "data": {
      "text/html": [
       "\n",
       "        <iframe\n",
       "            width=\"100%\"\n",
       "            height=\"800px\"\n",
       "            src=\"https://tensorboard.dev/experiment/fGInKDo8TXes1z7HQku9mw/#scalars&_smoothingWeight=0.97\"\n",
       "            frameborder=\"0\"\n",
       "            allowfullscreen\n",
       "        ></iframe>\n",
       "        "
      ],
      "text/plain": [
       "<IPython.lib.display.IFrame at 0x7f76283b8730>"
      ]
     },
     "execution_count": 46,
     "metadata": {},
     "output_type": "execute_result"
    }
   ],
   "source": [
    "display.IFrame(\n",
    "    src=\"https://tensorboard.dev/experiment/fGInKDo8TXes1z7HQku9mw/#scalars&_smoothingWeight=0.97\",\n",
    "    width = \"100%\",\n",
    "    height=\"800px\")\n"
   ]
  },
  {
   "cell_type": "markdown",
   "metadata": {
    "id": "mds5RXGjIcSu"
   },
   "source": [
    "This was uploaded with:\n",
    "\n",
    "```\n",
    "!tensorboard dev upload --logdir  {logdir}/regularizers\n",
    "```"
   ]
  },
  {
   "cell_type": "markdown",
   "metadata": {
    "id": "uXJxtwBWIhjG"
   },
   "source": [
    "## Conclusions"
   ]
  },
  {
   "cell_type": "markdown",
   "metadata": {
    "id": "gjfnkEeQyAFG"
   },
   "source": [
    "To recap: here are the most common ways to prevent overfitting in neural networks:\n",
    "\n",
    "* Get more training data.\n",
    "* Reduce the capacity of the network.\n",
    "* Add weight regularization.\n",
    "* Add dropout.\n",
    "\n",
    "Two important approaches not covered in this guide are:\n",
    "\n",
    "* data-augmentation\n",
    "* batch normalization\n",
    "\n",
    "Remember that each method can help on its own, but often combining them can be even more effective."
   ]
  },
  {
   "cell_type": "code",
   "execution_count": null,
   "metadata": {},
   "outputs": [],
   "source": []
  }
 ],
 "metadata": {
  "accelerator": "GPU",
  "colab": {
   "collapsed_sections": [],
   "name": "overfit_and_underfit.ipynb",
   "toc_visible": true
  },
  "kernelspec": {
   "display_name": "Python 3 (ipykernel)",
   "language": "python",
   "name": "python3"
  },
  "language_info": {
   "codemirror_mode": {
    "name": "ipython",
    "version": 3
   },
   "file_extension": ".py",
   "mimetype": "text/x-python",
   "name": "python",
   "nbconvert_exporter": "python",
   "pygments_lexer": "ipython3",
   "version": "3.9.5"
  }
 },
 "nbformat": 4,
 "nbformat_minor": 1
}
