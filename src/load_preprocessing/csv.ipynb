{
 "cells": [
  {
   "cell_type": "markdown",
   "metadata": {
    "id": "DweYe9FcbMK_"
   },
   "source": [
    "##### Copyright 2019 The TensorFlow Authors.\n"
   ]
  },
  {
   "cell_type": "code",
   "execution_count": 1,
   "metadata": {
    "cellView": "form",
    "execution": {
     "iopub.execute_input": "2021-06-16T15:05:59.646441Z",
     "iopub.status.busy": "2021-06-16T15:05:59.645864Z",
     "iopub.status.idle": "2021-06-16T15:05:59.648347Z",
     "shell.execute_reply": "2021-06-16T15:05:59.647840Z"
    },
    "id": "AVV2e0XKbJeX"
   },
   "outputs": [],
   "source": [
    "#@title Licensed under the Apache License, Version 2.0 (the \"License\");\n",
    "# you may not use this file except in compliance with the License.\n",
    "# You may obtain a copy of the License at\n",
    "#\n",
    "# https://www.apache.org/licenses/LICENSE-2.0\n",
    "#\n",
    "# Unless required by applicable law or agreed to in writing, software\n",
    "# distributed under the License is distributed on an \"AS IS\" BASIS,\n",
    "# WITHOUT WARRANTIES OR CONDITIONS OF ANY KIND, either express or implied.\n",
    "# See the License for the specific language governing permissions and\n",
    "# limitations under the License."
   ]
  },
  {
   "cell_type": "markdown",
   "metadata": {
    "id": "sUtoed20cRJJ"
   },
   "source": [
    "# Load CSV data"
   ]
  },
  {
   "cell_type": "markdown",
   "metadata": {
    "id": "1ap_W4aQcgNT"
   },
   "source": [
    "<table class=\"tfo-notebook-buttons\" align=\"left\">\n",
    "  <td>\n",
    "    <a target=\"_blank\" href=\"https://www.tensorflow.org/tutorials/load_data/csv\"><img src=\"https://www.tensorflow.org/images/tf_logo_32px.png\" />View on TensorFlow.org</a>\n",
    "  </td>\n",
    "  <td>\n",
    "    <a target=\"_blank\" href=\"https://colab.research.google.com/github/tensorflow/docs/blob/master/site/en/tutorials/load_data/csv.ipynb\"><img src=\"https://www.tensorflow.org/images/colab_logo_32px.png\" />Run in Google Colab</a>\n",
    "  </td>\n",
    "  <td>\n",
    "    <a target=\"_blank\" href=\"https://github.com/tensorflow/docs/blob/master/site/en/tutorials/load_data/csv.ipynb\"><img src=\"https://www.tensorflow.org/images/GitHub-Mark-32px.png\" />View source on GitHub</a>\n",
    "  </td>\n",
    "  <td>\n",
    "    <a href=\"https://storage.googleapis.com/tensorflow_docs/docs/site/en/tutorials/load_data/csv.ipynb\"><img src=\"https://www.tensorflow.org/images/download_logo_32px.png\" />Download notebook</a>\n",
    "  </td>\n",
    "</table>"
   ]
  },
  {
   "cell_type": "markdown",
   "metadata": {
    "id": "C-3Xbt0FfGfs"
   },
   "source": [
    "This tutorial provides examples of how to use CSV data with TensorFlow.\n",
    "\n",
    "There are two main parts to this:\n",
    "\n",
    "1. **Loading the data off disk**\n",
    "2. **Pre-processing it into a form suitable for training.**\n",
    "\n",
    "This tutorial focuses on the loading, and gives some quick examples of preprocessing. For a tutorial that focuses on the preprocessing aspect see the [preprocessing layers guide](https://www.tensorflow.org/guide/keras/preprocessing_layers#quick_recipes) and [tutorial](https://www.tensorflow.org/tutorials/structured_data/preprocessing_layers). \n"
   ]
  },
  {
   "cell_type": "markdown",
   "metadata": {
    "id": "fgZ9gjmPfSnK"
   },
   "source": [
    "## Setup"
   ]
  },
  {
   "cell_type": "code",
   "execution_count": 2,
   "metadata": {
    "execution": {
     "iopub.execute_input": "2021-06-16T15:05:59.655386Z",
     "iopub.status.busy": "2021-06-16T15:05:59.654802Z",
     "iopub.status.idle": "2021-06-16T15:06:01.305280Z",
     "shell.execute_reply": "2021-06-16T15:06:01.304759Z"
    },
    "id": "baYFZMW_bJHh"
   },
   "outputs": [
    {
     "name": "stderr",
     "output_type": "stream",
     "text": [
      "2021-07-29 10:06:02.138838: W tensorflow/stream_executor/platform/default/dso_loader.cc:64] Could not load dynamic library 'libcudart.so.11.0'; dlerror: libcudart.so.11.0: cannot open shared object file: No such file or directory\n",
      "2021-07-29 10:06:02.138863: I tensorflow/stream_executor/cuda/cudart_stub.cc:29] Ignore above cudart dlerror if you do not have a GPU set up on your machine.\n"
     ]
    }
   ],
   "source": [
    "import pandas as pd\n",
    "import numpy as np\n",
    "\n",
    "# Make numpy values easier to read.\n",
    "np.set_printoptions(precision=3, suppress=True)\n",
    "\n",
    "import tensorflow as tf\n",
    "from tensorflow.keras import layers\n",
    "from tensorflow.keras.layers.experimental import preprocessing"
   ]
  },
  {
   "cell_type": "markdown",
   "metadata": {
    "id": "1ZhJYbJxHNGJ"
   },
   "source": [
    "## In memory data"
   ]
  },
  {
   "cell_type": "markdown",
   "metadata": {
    "id": "ny5TEgcmHjVx"
   },
   "source": [
    "For any small CSV dataset the simplest way to train a TensorFlow model on it is to load it into memory as a pandas Dataframe or a NumPy array. \n"
   ]
  },
  {
   "cell_type": "markdown",
   "metadata": {
    "id": "LgpBOuU8PGFf"
   },
   "source": [
    "A relatively simple example is the [abalone dataset](https://archive.ics.uci.edu/ml/datasets/abalone). \n",
    "\n",
    "* The dataset is small. \n",
    "* All the input features are all limited-range floating point values. \n",
    "\n",
    "Here is how to download the data into a [Pandas `DataFrame`](https://pandas.pydata.org/pandas-docs/stable/reference/api/pandas.DataFrame.html):"
   ]
  },
  {
   "cell_type": "code",
   "execution_count": 3,
   "metadata": {
    "execution": {
     "iopub.execute_input": "2021-06-16T15:06:01.311917Z",
     "iopub.status.busy": "2021-06-16T15:06:01.311290Z",
     "iopub.status.idle": "2021-06-16T15:06:01.536335Z",
     "shell.execute_reply": "2021-06-16T15:06:01.536703Z"
    },
    "id": "IZVExo9DKoNz"
   },
   "outputs": [
    {
     "data": {
      "text/html": [
       "<div>\n",
       "<style scoped>\n",
       "    .dataframe tbody tr th:only-of-type {\n",
       "        vertical-align: middle;\n",
       "    }\n",
       "\n",
       "    .dataframe tbody tr th {\n",
       "        vertical-align: top;\n",
       "    }\n",
       "\n",
       "    .dataframe thead th {\n",
       "        text-align: right;\n",
       "    }\n",
       "</style>\n",
       "<table border=\"1\" class=\"dataframe\">\n",
       "  <thead>\n",
       "    <tr style=\"text-align: right;\">\n",
       "      <th></th>\n",
       "      <th>Length</th>\n",
       "      <th>Diameter</th>\n",
       "      <th>Height</th>\n",
       "      <th>Whole weight</th>\n",
       "      <th>Shucked weight</th>\n",
       "      <th>Viscera weight</th>\n",
       "      <th>Shell weight</th>\n",
       "      <th>Age</th>\n",
       "    </tr>\n",
       "  </thead>\n",
       "  <tbody>\n",
       "    <tr>\n",
       "      <th>0</th>\n",
       "      <td>0.435</td>\n",
       "      <td>0.335</td>\n",
       "      <td>0.110</td>\n",
       "      <td>0.334</td>\n",
       "      <td>0.1355</td>\n",
       "      <td>0.0775</td>\n",
       "      <td>0.0965</td>\n",
       "      <td>7</td>\n",
       "    </tr>\n",
       "    <tr>\n",
       "      <th>1</th>\n",
       "      <td>0.585</td>\n",
       "      <td>0.450</td>\n",
       "      <td>0.125</td>\n",
       "      <td>0.874</td>\n",
       "      <td>0.3545</td>\n",
       "      <td>0.2075</td>\n",
       "      <td>0.2250</td>\n",
       "      <td>6</td>\n",
       "    </tr>\n",
       "    <tr>\n",
       "      <th>2</th>\n",
       "      <td>0.655</td>\n",
       "      <td>0.510</td>\n",
       "      <td>0.160</td>\n",
       "      <td>1.092</td>\n",
       "      <td>0.3960</td>\n",
       "      <td>0.2825</td>\n",
       "      <td>0.3700</td>\n",
       "      <td>14</td>\n",
       "    </tr>\n",
       "    <tr>\n",
       "      <th>3</th>\n",
       "      <td>0.545</td>\n",
       "      <td>0.425</td>\n",
       "      <td>0.125</td>\n",
       "      <td>0.768</td>\n",
       "      <td>0.2940</td>\n",
       "      <td>0.1495</td>\n",
       "      <td>0.2600</td>\n",
       "      <td>16</td>\n",
       "    </tr>\n",
       "    <tr>\n",
       "      <th>4</th>\n",
       "      <td>0.545</td>\n",
       "      <td>0.420</td>\n",
       "      <td>0.130</td>\n",
       "      <td>0.879</td>\n",
       "      <td>0.3740</td>\n",
       "      <td>0.1695</td>\n",
       "      <td>0.2300</td>\n",
       "      <td>13</td>\n",
       "    </tr>\n",
       "  </tbody>\n",
       "</table>\n",
       "</div>"
      ],
      "text/plain": [
       "   Length  Diameter  Height  Whole weight  Shucked weight  Viscera weight  \\\n",
       "0   0.435     0.335   0.110         0.334          0.1355          0.0775   \n",
       "1   0.585     0.450   0.125         0.874          0.3545          0.2075   \n",
       "2   0.655     0.510   0.160         1.092          0.3960          0.2825   \n",
       "3   0.545     0.425   0.125         0.768          0.2940          0.1495   \n",
       "4   0.545     0.420   0.130         0.879          0.3740          0.1695   \n",
       "\n",
       "   Shell weight  Age  \n",
       "0        0.0965    7  \n",
       "1        0.2250    6  \n",
       "2        0.3700   14  \n",
       "3        0.2600   16  \n",
       "4        0.2300   13  "
      ]
     },
     "execution_count": 3,
     "metadata": {},
     "output_type": "execute_result"
    }
   ],
   "source": [
    "abalone_train = pd.read_csv(\n",
    "    \"https://storage.googleapis.com/download.tensorflow.org/data/abalone_train.csv\",\n",
    "    names=[\"Length\", \"Diameter\", \"Height\", \"Whole weight\", \"Shucked weight\",\n",
    "           \"Viscera weight\", \"Shell weight\", \"Age\"])\n",
    "\n",
    "abalone_train.head()"
   ]
  },
  {
   "cell_type": "markdown",
   "metadata": {
    "id": "hP22mdyPQ1_t"
   },
   "source": [
    "The dataset contains a set of measurements of [abalone](https://en.wikipedia.org/wiki/Abalone), a type of sea snail. \n",
    "\n",
    "![an abalone shell](https://tensorflow.org/images/abalone_shell.jpg)\n",
    "\n",
    " [“Abalone shell”](https://www.flickr.com/photos/thenickster/16641048623/) (by [Nicki Dugan Pogue](https://www.flickr.com/photos/thenickster/), CC BY-SA 2.0)\n"
   ]
  },
  {
   "cell_type": "markdown",
   "metadata": {
    "id": "vlfGrk_9N-wf"
   },
   "source": [
    "The nominal task for this dataset is to predict the age from the other measurements, so separate the features and labels for training:\n"
   ]
  },
  {
   "cell_type": "code",
   "execution_count": 4,
   "metadata": {
    "execution": {
     "iopub.execute_input": "2021-06-16T15:06:01.541359Z",
     "iopub.status.busy": "2021-06-16T15:06:01.540764Z",
     "iopub.status.idle": "2021-06-16T15:06:01.542616Z",
     "shell.execute_reply": "2021-06-16T15:06:01.542947Z"
    },
    "id": "udOnDJOxNi7p"
   },
   "outputs": [],
   "source": [
    "abalone_features = abalone_train.copy()\n",
    "abalone_labels = abalone_features.pop('Age')"
   ]
  },
  {
   "cell_type": "markdown",
   "metadata": {
    "id": "seK9n71-UBfT"
   },
   "source": [
    "For this dataset you will treat all features identically. Pack the features into a single NumPy array.:"
   ]
  },
  {
   "cell_type": "code",
   "execution_count": 5,
   "metadata": {
    "execution": {
     "iopub.execute_input": "2021-06-16T15:06:01.546707Z",
     "iopub.status.busy": "2021-06-16T15:06:01.545558Z",
     "iopub.status.idle": "2021-06-16T15:06:01.549328Z",
     "shell.execute_reply": "2021-06-16T15:06:01.549702Z"
    },
    "id": "Dp3N5McbUMwb"
   },
   "outputs": [
    {
     "data": {
      "text/plain": [
       "array([[0.435, 0.335, 0.11 , ..., 0.136, 0.077, 0.097],\n",
       "       [0.585, 0.45 , 0.125, ..., 0.354, 0.207, 0.225],\n",
       "       [0.655, 0.51 , 0.16 , ..., 0.396, 0.282, 0.37 ],\n",
       "       ...,\n",
       "       [0.53 , 0.42 , 0.13 , ..., 0.374, 0.167, 0.249],\n",
       "       [0.395, 0.315, 0.105, ..., 0.118, 0.091, 0.119],\n",
       "       [0.45 , 0.355, 0.12 , ..., 0.115, 0.067, 0.16 ]])"
      ]
     },
     "execution_count": 5,
     "metadata": {},
     "output_type": "execute_result"
    }
   ],
   "source": [
    "abalone_features = np.array(abalone_features)\n",
    "abalone_features"
   ]
  },
  {
   "cell_type": "markdown",
   "metadata": {
    "id": "1C1yFOxLOdxh"
   },
   "source": [
    "Next make a regression model predict the age. Since there is only a single input tensor, a `keras.Sequential` model is sufficient here."
   ]
  },
  {
   "cell_type": "code",
   "execution_count": 6,
   "metadata": {
    "execution": {
     "iopub.execute_input": "2021-06-16T15:06:01.553697Z",
     "iopub.status.busy": "2021-06-16T15:06:01.553111Z",
     "iopub.status.idle": "2021-06-16T15:06:03.124002Z",
     "shell.execute_reply": "2021-06-16T15:06:03.124378Z"
    },
    "id": "d8zzNrZqOmfB"
   },
   "outputs": [
    {
     "name": "stderr",
     "output_type": "stream",
     "text": [
      "2021-07-29 10:06:08.112170: W tensorflow/stream_executor/platform/default/dso_loader.cc:64] Could not load dynamic library 'libcuda.so.1'; dlerror: libcuda.so.1: cannot open shared object file: No such file or directory\n",
      "2021-07-29 10:06:08.112198: W tensorflow/stream_executor/cuda/cuda_driver.cc:326] failed call to cuInit: UNKNOWN ERROR (303)\n",
      "2021-07-29 10:06:08.112265: I tensorflow/stream_executor/cuda/cuda_diagnostics.cc:156] kernel driver does not appear to be running on this host (masternode): /proc/driver/nvidia/version does not exist\n",
      "2021-07-29 10:06:08.112517: I tensorflow/core/platform/cpu_feature_guard.cc:142] This TensorFlow binary is optimized with oneAPI Deep Neural Network Library (oneDNN) to use the following CPU instructions in performance-critical operations:  AVX2 FMA\n",
      "To enable them in other operations, rebuild TensorFlow with the appropriate compiler flags.\n"
     ]
    }
   ],
   "source": [
    "abalone_model = tf.keras.Sequential([\n",
    "  layers.Dense(64),\n",
    "  layers.Dense(1)\n",
    "])\n",
    "\n",
    "abalone_model.compile(loss = tf.losses.MeanSquaredError(),\n",
    "                      optimizer = tf.optimizers.Adam())"
   ]
  },
  {
   "cell_type": "markdown",
   "metadata": {
    "id": "j6IWeP78O2wE"
   },
   "source": [
    "To train that model, pass the features and labels to `Model.fit`:"
   ]
  },
  {
   "cell_type": "code",
   "execution_count": 7,
   "metadata": {
    "execution": {
     "iopub.execute_input": "2021-06-16T15:06:03.128813Z",
     "iopub.status.busy": "2021-06-16T15:06:03.128266Z",
     "iopub.status.idle": "2021-06-16T15:06:05.328650Z",
     "shell.execute_reply": "2021-06-16T15:06:05.328996Z"
    },
    "id": "uZdpCD92SN3Z"
   },
   "outputs": [
    {
     "name": "stderr",
     "output_type": "stream",
     "text": [
      "2021-07-29 10:06:09.499325: I tensorflow/compiler/mlir/mlir_graph_optimization_pass.cc:176] None of the MLIR Optimization Passes are enabled (registered 2)\n",
      "2021-07-29 10:06:09.522400: I tensorflow/core/platform/profile_utils/cpu_utils.cc:114] CPU Frequency: 1800000000 Hz\n"
     ]
    },
    {
     "name": "stdout",
     "output_type": "stream",
     "text": [
      "Epoch 1/10\n",
      "104/104 [==============================] - 0s 733us/step - loss: 58.2826\n",
      "Epoch 2/10\n",
      "104/104 [==============================] - 0s 782us/step - loss: 11.9604\n",
      "Epoch 3/10\n",
      "104/104 [==============================] - 0s 890us/step - loss: 9.1589\n",
      "Epoch 4/10\n",
      "104/104 [==============================] - 0s 852us/step - loss: 8.5241\n",
      "Epoch 5/10\n",
      "104/104 [==============================] - 0s 886us/step - loss: 7.9618\n",
      "Epoch 6/10\n",
      "104/104 [==============================] - 0s 788us/step - loss: 7.5138\n",
      "Epoch 7/10\n",
      "104/104 [==============================] - 0s 869us/step - loss: 7.1536\n",
      "Epoch 8/10\n",
      "104/104 [==============================] - 0s 820us/step - loss: 6.8985\n",
      "Epoch 9/10\n",
      "104/104 [==============================] - 0s 765us/step - loss: 6.7200\n",
      "Epoch 10/10\n",
      "104/104 [==============================] - 0s 829us/step - loss: 6.5939\n"
     ]
    },
    {
     "data": {
      "text/plain": [
       "<tensorflow.python.keras.callbacks.History at 0x7fe604548940>"
      ]
     },
     "execution_count": 7,
     "metadata": {},
     "output_type": "execute_result"
    }
   ],
   "source": [
    "abalone_model.fit(abalone_features, abalone_labels, epochs=10)"
   ]
  },
  {
   "cell_type": "markdown",
   "metadata": {
    "id": "GapLOj1OOTQH"
   },
   "source": [
    "You have just seen the most basic way to train a model using CSV data. Next, you will learn how to apply preprocessing to normalize numeric columns."
   ]
  },
  {
   "cell_type": "markdown",
   "metadata": {
    "id": "B87Rd1SOUv02"
   },
   "source": [
    "## Basic preprocessing"
   ]
  },
  {
   "cell_type": "markdown",
   "metadata": {
    "id": "yCrB2Jd-U0Vt"
   },
   "source": [
    "It's good practice to normalize the inputs to your model. The `experimental.preprocessing` layers provide a convenient way to build this normalization into your model. \n",
    "\n",
    "The layer will precompute the mean and variance of each column, and use these to normalize the data.\n",
    "\n",
    "First you create the layer:"
   ]
  },
  {
   "cell_type": "code",
   "execution_count": 8,
   "metadata": {
    "execution": {
     "iopub.execute_input": "2021-06-16T15:06:05.334664Z",
     "iopub.status.busy": "2021-06-16T15:06:05.333879Z",
     "iopub.status.idle": "2021-06-16T15:06:05.336321Z",
     "shell.execute_reply": "2021-06-16T15:06:05.335913Z"
    },
    "id": "H2WQpDU5VRk7"
   },
   "outputs": [],
   "source": [
    "normalize = preprocessing.Normalization()"
   ]
  },
  {
   "cell_type": "markdown",
   "metadata": {
    "id": "hGgEZE-7Vpt6"
   },
   "source": [
    "Then you use the `Normalization.adapt()` method to adapt the normalization layer to your data.\n",
    "\n",
    "Note: Only use your training data to `.adapt()` preprocessing layers. Do not use your validation or test data."
   ]
  },
  {
   "cell_type": "code",
   "execution_count": 9,
   "metadata": {
    "execution": {
     "iopub.execute_input": "2021-06-16T15:06:05.340550Z",
     "iopub.status.busy": "2021-06-16T15:06:05.339687Z",
     "iopub.status.idle": "2021-06-16T15:06:05.565468Z",
     "shell.execute_reply": "2021-06-16T15:06:05.565895Z"
    },
    "id": "2WgOPIiOVpLg"
   },
   "outputs": [],
   "source": [
    "normalize.adapt(abalone_features)"
   ]
  },
  {
   "cell_type": "markdown",
   "metadata": {
    "id": "rE6vh0byV7cE"
   },
   "source": [
    "Then use the normalization layer in your model:"
   ]
  },
  {
   "cell_type": "code",
   "execution_count": 10,
   "metadata": {
    "execution": {
     "iopub.execute_input": "2021-06-16T15:06:05.572519Z",
     "iopub.status.busy": "2021-06-16T15:06:05.571951Z",
     "iopub.status.idle": "2021-06-16T15:06:07.440968Z",
     "shell.execute_reply": "2021-06-16T15:06:07.441352Z"
    },
    "id": "quPcZ9dTWA9A"
   },
   "outputs": [
    {
     "name": "stdout",
     "output_type": "stream",
     "text": [
      "Epoch 1/10\n",
      "104/104 [==============================] - 0s 759us/step - loss: 93.7873\n",
      "Epoch 2/10\n",
      "104/104 [==============================] - 0s 917us/step - loss: 56.7858\n",
      "Epoch 3/10\n",
      "104/104 [==============================] - 0s 939us/step - loss: 18.3300\n",
      "Epoch 4/10\n",
      "104/104 [==============================] - 0s 894us/step - loss: 5.9589\n",
      "Epoch 5/10\n",
      "104/104 [==============================] - 0s 917us/step - loss: 4.9801\n",
      "Epoch 6/10\n",
      "104/104 [==============================] - 0s 1ms/step - loss: 4.8962\n",
      "Epoch 7/10\n",
      "104/104 [==============================] - 0s 934us/step - loss: 4.9262\n",
      "Epoch 8/10\n",
      "104/104 [==============================] - 0s 868us/step - loss: 4.8947\n",
      "Epoch 9/10\n",
      "104/104 [==============================] - 0s 935us/step - loss: 4.8906\n",
      "Epoch 10/10\n",
      "104/104 [==============================] - 0s 969us/step - loss: 4.8700\n"
     ]
    },
    {
     "data": {
      "text/plain": [
       "<tensorflow.python.keras.callbacks.History at 0x7fe604548910>"
      ]
     },
     "execution_count": 10,
     "metadata": {},
     "output_type": "execute_result"
    }
   ],
   "source": [
    "norm_abalone_model = tf.keras.Sequential([\n",
    "  normalize,\n",
    "  layers.Dense(64),\n",
    "  layers.Dense(1)\n",
    "])\n",
    "\n",
    "norm_abalone_model.compile(loss = tf.losses.MeanSquaredError(),\n",
    "                           optimizer = tf.optimizers.Adam())\n",
    "\n",
    "norm_abalone_model.fit(abalone_features, abalone_labels, epochs=10)"
   ]
  },
  {
   "cell_type": "markdown",
   "metadata": {
    "id": "Wuqj601Qw0Ml"
   },
   "source": [
    "## Mixed data types\n",
    "\n",
    "The \"Titanic\" dataset contains information about the passengers on the Titanic. The nominal task on this dataset is to predict who survived. \n",
    "\n",
    "![The Titanic](images/csv/Titanic.jpg)\n",
    "\n",
    "Image [from Wikimedia](https://commons.wikimedia.org/wiki/File:RMS_Titanic_3.jpg)\n",
    "\n",
    "The raw data can easily be loaded as a Pandas `DataFrame`, but is not immediately usable as input to a TensorFlow model. \n"
   ]
  },
  {
   "cell_type": "code",
   "execution_count": 11,
   "metadata": {
    "execution": {
     "iopub.execute_input": "2021-06-16T15:06:07.445405Z",
     "iopub.status.busy": "2021-06-16T15:06:07.444810Z",
     "iopub.status.idle": "2021-06-16T15:06:07.643981Z",
     "shell.execute_reply": "2021-06-16T15:06:07.643505Z"
    },
    "id": "GS-dBMpuYMnz"
   },
   "outputs": [
    {
     "data": {
      "text/html": [
       "<div>\n",
       "<style scoped>\n",
       "    .dataframe tbody tr th:only-of-type {\n",
       "        vertical-align: middle;\n",
       "    }\n",
       "\n",
       "    .dataframe tbody tr th {\n",
       "        vertical-align: top;\n",
       "    }\n",
       "\n",
       "    .dataframe thead th {\n",
       "        text-align: right;\n",
       "    }\n",
       "</style>\n",
       "<table border=\"1\" class=\"dataframe\">\n",
       "  <thead>\n",
       "    <tr style=\"text-align: right;\">\n",
       "      <th></th>\n",
       "      <th>survived</th>\n",
       "      <th>sex</th>\n",
       "      <th>age</th>\n",
       "      <th>n_siblings_spouses</th>\n",
       "      <th>parch</th>\n",
       "      <th>fare</th>\n",
       "      <th>class</th>\n",
       "      <th>deck</th>\n",
       "      <th>embark_town</th>\n",
       "      <th>alone</th>\n",
       "    </tr>\n",
       "  </thead>\n",
       "  <tbody>\n",
       "    <tr>\n",
       "      <th>0</th>\n",
       "      <td>0</td>\n",
       "      <td>male</td>\n",
       "      <td>22.0</td>\n",
       "      <td>1</td>\n",
       "      <td>0</td>\n",
       "      <td>7.2500</td>\n",
       "      <td>Third</td>\n",
       "      <td>unknown</td>\n",
       "      <td>Southampton</td>\n",
       "      <td>n</td>\n",
       "    </tr>\n",
       "    <tr>\n",
       "      <th>1</th>\n",
       "      <td>1</td>\n",
       "      <td>female</td>\n",
       "      <td>38.0</td>\n",
       "      <td>1</td>\n",
       "      <td>0</td>\n",
       "      <td>71.2833</td>\n",
       "      <td>First</td>\n",
       "      <td>C</td>\n",
       "      <td>Cherbourg</td>\n",
       "      <td>n</td>\n",
       "    </tr>\n",
       "    <tr>\n",
       "      <th>2</th>\n",
       "      <td>1</td>\n",
       "      <td>female</td>\n",
       "      <td>26.0</td>\n",
       "      <td>0</td>\n",
       "      <td>0</td>\n",
       "      <td>7.9250</td>\n",
       "      <td>Third</td>\n",
       "      <td>unknown</td>\n",
       "      <td>Southampton</td>\n",
       "      <td>y</td>\n",
       "    </tr>\n",
       "    <tr>\n",
       "      <th>3</th>\n",
       "      <td>1</td>\n",
       "      <td>female</td>\n",
       "      <td>35.0</td>\n",
       "      <td>1</td>\n",
       "      <td>0</td>\n",
       "      <td>53.1000</td>\n",
       "      <td>First</td>\n",
       "      <td>C</td>\n",
       "      <td>Southampton</td>\n",
       "      <td>n</td>\n",
       "    </tr>\n",
       "    <tr>\n",
       "      <th>4</th>\n",
       "      <td>0</td>\n",
       "      <td>male</td>\n",
       "      <td>28.0</td>\n",
       "      <td>0</td>\n",
       "      <td>0</td>\n",
       "      <td>8.4583</td>\n",
       "      <td>Third</td>\n",
       "      <td>unknown</td>\n",
       "      <td>Queenstown</td>\n",
       "      <td>y</td>\n",
       "    </tr>\n",
       "  </tbody>\n",
       "</table>\n",
       "</div>"
      ],
      "text/plain": [
       "   survived     sex   age  n_siblings_spouses  parch     fare  class     deck  \\\n",
       "0         0    male  22.0                   1      0   7.2500  Third  unknown   \n",
       "1         1  female  38.0                   1      0  71.2833  First        C   \n",
       "2         1  female  26.0                   0      0   7.9250  Third  unknown   \n",
       "3         1  female  35.0                   1      0  53.1000  First        C   \n",
       "4         0    male  28.0                   0      0   8.4583  Third  unknown   \n",
       "\n",
       "   embark_town alone  \n",
       "0  Southampton     n  \n",
       "1    Cherbourg     n  \n",
       "2  Southampton     y  \n",
       "3  Southampton     n  \n",
       "4   Queenstown     y  "
      ]
     },
     "execution_count": 11,
     "metadata": {},
     "output_type": "execute_result"
    }
   ],
   "source": [
    "titanic = pd.read_csv(\"https://storage.googleapis.com/tf-datasets/titanic/train.csv\")\n",
    "titanic.head()"
   ]
  },
  {
   "cell_type": "code",
   "execution_count": 12,
   "metadata": {
    "execution": {
     "iopub.execute_input": "2021-06-16T15:06:07.648418Z",
     "iopub.status.busy": "2021-06-16T15:06:07.647871Z",
     "iopub.status.idle": "2021-06-16T15:06:07.649895Z",
     "shell.execute_reply": "2021-06-16T15:06:07.649474Z"
    },
    "id": "D8rCGIK1ZzKx"
   },
   "outputs": [],
   "source": [
    "titanic_features = titanic.copy()\n",
    "titanic_labels = titanic_features.pop('survived')"
   ]
  },
  {
   "cell_type": "markdown",
   "metadata": {
    "id": "urHOwpCDYtcI"
   },
   "source": [
    "Because of the different data types and ranges you can't simply stack the features into  NumPy array and pass it to a `keras.Sequential` model. Each column needs to be handled individually. \n",
    "\n",
    "As one option, you could preprocess your data offline (using any tool you like) to convert categorical columns to numeric columns, then pass the processed output to your TensorFlow model. The disadvantage to that approach is that if you save and export your model the preprocessing is not saved with it. The `experimental.preprocessing` layers avoid this problem because they're part of the model.\n"
   ]
  },
  {
   "cell_type": "markdown",
   "metadata": {
    "id": "Bta4Sx0Zau5v"
   },
   "source": [
    "In this example, you'll build a model that implements the preprocessing logic using [Keras functional API](https://www.tensorflow.org/guide/keras/functional). You could also do it by [subclassing](https://www.tensorflow.org/guide/keras/custom_layers_and_models).\n",
    "\n",
    "The functional API operates on \"symbolic\" tensors. Normal \"eager\" tensors have a value. In contrast these \"symbolic\" tensors do not. Instead they keep track of which operations are run on them, and build representation of the calculation, that you can run later. Here's a quick example:"
   ]
  },
  {
   "cell_type": "code",
   "execution_count": 13,
   "metadata": {
    "execution": {
     "iopub.execute_input": "2021-06-16T15:06:07.656233Z",
     "iopub.status.busy": "2021-06-16T15:06:07.655659Z",
     "iopub.status.idle": "2021-06-16T15:06:07.662460Z",
     "shell.execute_reply": "2021-06-16T15:06:07.662792Z"
    },
    "id": "730F16_97D-3"
   },
   "outputs": [
    {
     "data": {
      "text/plain": [
       "<KerasTensor: shape=(None,) dtype=float32 (created by layer 'tf.__operators__.add')>"
      ]
     },
     "execution_count": 13,
     "metadata": {},
     "output_type": "execute_result"
    }
   ],
   "source": [
    "# Create a symbolic input\n",
    "input = tf.keras.Input(shape=(), dtype=tf.float32)\n",
    "\n",
    "# Do a calculation using is\n",
    "result = 2*input + 1\n",
    "\n",
    "# the result doesn't have a value\n",
    "result"
   ]
  },
  {
   "cell_type": "code",
   "execution_count": 14,
   "metadata": {
    "execution": {
     "iopub.execute_input": "2021-06-16T15:06:07.666950Z",
     "iopub.status.busy": "2021-06-16T15:06:07.666418Z",
     "iopub.status.idle": "2021-06-16T15:06:07.669882Z",
     "shell.execute_reply": "2021-06-16T15:06:07.669444Z"
    },
    "id": "RtcNXWB18kMJ"
   },
   "outputs": [],
   "source": [
    "calc = tf.keras.Model(inputs=input, outputs=result)"
   ]
  },
  {
   "cell_type": "code",
   "execution_count": 15,
   "metadata": {
    "execution": {
     "iopub.execute_input": "2021-06-16T15:06:07.673050Z",
     "iopub.status.busy": "2021-06-16T15:06:07.672115Z",
     "iopub.status.idle": "2021-06-16T15:06:07.678085Z",
     "shell.execute_reply": "2021-06-16T15:06:07.677647Z"
    },
    "id": "fUGQOUqZ8sa-"
   },
   "outputs": [
    {
     "name": "stdout",
     "output_type": "stream",
     "text": [
      "3.0\n",
      "5.0\n"
     ]
    }
   ],
   "source": [
    "print(calc(1).numpy())\n",
    "print(calc(2).numpy())"
   ]
  },
  {
   "cell_type": "markdown",
   "metadata": {
    "id": "rNS9lT7f6_U2"
   },
   "source": [
    "To build the preprocessing model, start by building a set of symbolic `keras.Input` objects, matching the names and data-types of the CSV columns."
   ]
  },
  {
   "cell_type": "code",
   "execution_count": 16,
   "metadata": {
    "execution": {
     "iopub.execute_input": "2021-06-16T15:06:07.689311Z",
     "iopub.status.busy": "2021-06-16T15:06:07.688668Z",
     "iopub.status.idle": "2021-06-16T15:06:07.691430Z",
     "shell.execute_reply": "2021-06-16T15:06:07.690962Z"
    },
    "id": "5WODe_1da3yw"
   },
   "outputs": [
    {
     "data": {
      "text/plain": [
       "{'sex': <KerasTensor: shape=(None, 1) dtype=string (created by layer 'sex')>,\n",
       " 'age': <KerasTensor: shape=(None, 1) dtype=float32 (created by layer 'age')>,\n",
       " 'n_siblings_spouses': <KerasTensor: shape=(None, 1) dtype=float32 (created by layer 'n_siblings_spouses')>,\n",
       " 'parch': <KerasTensor: shape=(None, 1) dtype=float32 (created by layer 'parch')>,\n",
       " 'fare': <KerasTensor: shape=(None, 1) dtype=float32 (created by layer 'fare')>,\n",
       " 'class': <KerasTensor: shape=(None, 1) dtype=string (created by layer 'class')>,\n",
       " 'deck': <KerasTensor: shape=(None, 1) dtype=string (created by layer 'deck')>,\n",
       " 'embark_town': <KerasTensor: shape=(None, 1) dtype=string (created by layer 'embark_town')>,\n",
       " 'alone': <KerasTensor: shape=(None, 1) dtype=string (created by layer 'alone')>}"
      ]
     },
     "execution_count": 16,
     "metadata": {},
     "output_type": "execute_result"
    }
   ],
   "source": [
    "inputs = {}\n",
    "\n",
    "for name, column in titanic_features.items():\n",
    "  dtype = column.dtype\n",
    "  if dtype == object:\n",
    "    dtype = tf.string\n",
    "  else:\n",
    "    dtype = tf.float32\n",
    "\n",
    "  inputs[name] = tf.keras.Input(shape=(1,), name=name, dtype=dtype)\n",
    "\n",
    "inputs"
   ]
  },
  {
   "cell_type": "markdown",
   "metadata": {
    "id": "aaheJFmymq8l"
   },
   "source": [
    "The first step in your preprocessing logic is to concatenate the numeric inputs together, and run them through a normalization layer:"
   ]
  },
  {
   "cell_type": "code",
   "execution_count": 17,
   "metadata": {
    "execution": {
     "iopub.execute_input": "2021-06-16T15:06:07.696861Z",
     "iopub.status.busy": "2021-06-16T15:06:07.696254Z",
     "iopub.status.idle": "2021-06-16T15:06:07.844565Z",
     "shell.execute_reply": "2021-06-16T15:06:07.844044Z"
    },
    "id": "wPRC_E6rkp8D"
   },
   "outputs": [
    {
     "data": {
      "text/plain": [
       "<KerasTensor: shape=(None, 4) dtype=float32 (created by layer 'normalization_1')>"
      ]
     },
     "execution_count": 17,
     "metadata": {},
     "output_type": "execute_result"
    }
   ],
   "source": [
    "numeric_inputs = {name:input for name,input in inputs.items()\n",
    "                  if input.dtype==tf.float32}\n",
    "\n",
    "x = layers.Concatenate()(list(numeric_inputs.values()))\n",
    "norm = preprocessing.Normalization()\n",
    "norm.adapt(np.array(titanic[numeric_inputs.keys()]))\n",
    "all_numeric_inputs = norm(x)\n",
    "\n",
    "all_numeric_inputs"
   ]
  },
  {
   "cell_type": "markdown",
   "metadata": {
    "id": "-JoR45Uj712l"
   },
   "source": [
    "Collect all the symbolic preprocessing results, to concatenate them later."
   ]
  },
  {
   "cell_type": "code",
   "execution_count": 18,
   "metadata": {
    "execution": {
     "iopub.execute_input": "2021-06-16T15:06:07.848480Z",
     "iopub.status.busy": "2021-06-16T15:06:07.847860Z",
     "iopub.status.idle": "2021-06-16T15:06:07.849825Z",
     "shell.execute_reply": "2021-06-16T15:06:07.850196Z"
    },
    "id": "M7jIJw5XntdN"
   },
   "outputs": [],
   "source": [
    "preprocessed_inputs = [all_numeric_inputs]"
   ]
  },
  {
   "cell_type": "markdown",
   "metadata": {
    "id": "r0Hryylyosfm"
   },
   "source": [
    "For the string inputs use the `preprocessing.StringLookup` function to map from strings to integer indices in a vocabulary. Next, use `preprocessing.CategoryEncoding` to convert the indexes into `float32` data appropriate for the model. \n",
    "\n",
    "The default settings for the `preprocessing.CategoryEncoding` layer create a one-hot vector for each input. A `layers.Embedding` would also work. See the [preprocessing layers guide](https://www.tensorflow.org/guide/keras/preprocessing_layers#quick_recipes) and [tutorial](../structured_data/preprocessing_layers.ipynb) for more on this topic."
   ]
  },
  {
   "cell_type": "code",
   "execution_count": 19,
   "metadata": {
    "execution": {
     "iopub.execute_input": "2021-06-16T15:06:07.856094Z",
     "iopub.status.busy": "2021-06-16T15:06:07.855479Z",
     "iopub.status.idle": "2021-06-16T15:06:07.948237Z",
     "shell.execute_reply": "2021-06-16T15:06:07.948594Z"
    },
    "id": "79fi1Cgan2YV"
   },
   "outputs": [
    {
     "name": "stdout",
     "output_type": "stream",
     "text": [
      "WARNING:tensorflow:vocab_size is deprecated, please use vocabulary_size.\n",
      "WARNING:tensorflow:max_tokens is deprecated, please use num_tokens instead.\n",
      "WARNING:tensorflow:vocab_size is deprecated, please use vocabulary_size.\n",
      "WARNING:tensorflow:max_tokens is deprecated, please use num_tokens instead.\n",
      "WARNING:tensorflow:vocab_size is deprecated, please use vocabulary_size.\n",
      "WARNING:tensorflow:max_tokens is deprecated, please use num_tokens instead.\n",
      "WARNING:tensorflow:vocab_size is deprecated, please use vocabulary_size.\n",
      "WARNING:tensorflow:max_tokens is deprecated, please use num_tokens instead.\n",
      "WARNING:tensorflow:vocab_size is deprecated, please use vocabulary_size.\n",
      "WARNING:tensorflow:max_tokens is deprecated, please use num_tokens instead.\n"
     ]
    }
   ],
   "source": [
    "for name, input in inputs.items():\n",
    "  if input.dtype == tf.float32:\n",
    "    continue\n",
    "  \n",
    "  lookup = preprocessing.StringLookup(vocabulary=np.unique(titanic_features[name]))\n",
    "  one_hot = preprocessing.CategoryEncoding(max_tokens=lookup.vocab_size())\n",
    "\n",
    "  x = lookup(input)\n",
    "  x = one_hot(x)\n",
    "  preprocessed_inputs.append(x)"
   ]
  },
  {
   "cell_type": "markdown",
   "metadata": {
    "id": "Wnhv0T7itnc7"
   },
   "source": [
    "With the collection of `inputs` and `processed_inputs`, you can concatenate all the preprocessed inputs together, and build a model that handles the preprocessing:"
   ]
  },
  {
   "cell_type": "code",
   "execution_count": 20,
   "metadata": {
    "execution": {
     "iopub.execute_input": "2021-06-16T15:06:07.953618Z",
     "iopub.status.busy": "2021-06-16T15:06:07.952938Z",
     "iopub.status.idle": "2021-06-16T15:06:08.174393Z",
     "shell.execute_reply": "2021-06-16T15:06:08.174786Z"
    },
    "id": "XJRzUTe8ukXc"
   },
   "outputs": [
    {
     "name": "stdout",
     "output_type": "stream",
     "text": [
      "('You must install pydot (`pip install pydot`) and install graphviz (see instructions at https://graphviz.gitlab.io/download/) ', 'for plot_model/model_to_dot to work.')\n"
     ]
    }
   ],
   "source": [
    "preprocessed_inputs_cat = layers.Concatenate()(preprocessed_inputs)\n",
    "\n",
    "titanic_preprocessing = tf.keras.Model(inputs, preprocessed_inputs_cat)\n",
    "\n",
    "tf.keras.utils.plot_model(model = titanic_preprocessing , rankdir=\"LR\", dpi=72, show_shapes=True)"
   ]
  },
  {
   "cell_type": "markdown",
   "metadata": {
    "id": "PNHxrNW8vdda"
   },
   "source": [
    "This `model` just contains the input preprocessing. You can run it to see what it does to your data. Keras models don't automatically convert Pandas `DataFrames` because it's not clear if it should be converted to one tensor or to a dictionary of tensors. So convert it to a dictionary of tensors:"
   ]
  },
  {
   "cell_type": "code",
   "execution_count": 21,
   "metadata": {
    "execution": {
     "iopub.execute_input": "2021-06-16T15:06:08.179391Z",
     "iopub.status.busy": "2021-06-16T15:06:08.178853Z",
     "iopub.status.idle": "2021-06-16T15:06:08.180640Z",
     "shell.execute_reply": "2021-06-16T15:06:08.180981Z"
    },
    "id": "5YjdYyMEacwQ"
   },
   "outputs": [],
   "source": [
    "titanic_features_dict = {name: np.array(value) \n",
    "                         for name, value in titanic_features.items()}"
   ]
  },
  {
   "cell_type": "markdown",
   "metadata": {
    "id": "0nKJYoPByada"
   },
   "source": [
    "Slice out the first training example and pass it to this preprocessing model, you see the numeric features and string one-hots all concatenated together:"
   ]
  },
  {
   "cell_type": "code",
   "execution_count": 22,
   "metadata": {
    "execution": {
     "iopub.execute_input": "2021-06-16T15:06:08.186232Z",
     "iopub.status.busy": "2021-06-16T15:06:08.185678Z",
     "iopub.status.idle": "2021-06-16T15:06:08.206257Z",
     "shell.execute_reply": "2021-06-16T15:06:08.206610Z"
    },
    "id": "SjnmU8PSv8T3"
   },
   "outputs": [
    {
     "data": {
      "text/plain": [
       "<tf.Tensor: shape=(1, 33), dtype=float32, numpy=\n",
       "array([[-0.61 ,  0.395, -0.479, -0.497,  0.   ,  0.   ,  0.   ,  1.   ,\n",
       "         0.   ,  0.   ,  0.   ,  0.   ,  1.   ,  0.   ,  0.   ,  0.   ,\n",
       "         0.   ,  0.   ,  0.   ,  0.   ,  0.   ,  0.   ,  1.   ,  0.   ,\n",
       "         0.   ,  0.   ,  0.   ,  1.   ,  0.   ,  0.   ,  0.   ,  1.   ,\n",
       "         0.   ]], dtype=float32)>"
      ]
     },
     "execution_count": 22,
     "metadata": {},
     "output_type": "execute_result"
    }
   ],
   "source": [
    "features_dict = {name:values[:1] for name, values in titanic_features_dict.items()}\n",
    "titanic_preprocessing(features_dict)"
   ]
  },
  {
   "cell_type": "markdown",
   "metadata": {
    "id": "qkBf4LvmzMDp"
   },
   "source": [
    "Now build the model on top of this:"
   ]
  },
  {
   "cell_type": "code",
   "execution_count": 23,
   "metadata": {
    "execution": {
     "iopub.execute_input": "2021-06-16T15:06:08.213579Z",
     "iopub.status.busy": "2021-06-16T15:06:08.213010Z",
     "iopub.status.idle": "2021-06-16T15:06:08.312816Z",
     "shell.execute_reply": "2021-06-16T15:06:08.312307Z"
    },
    "id": "coIPtGaCzUV7"
   },
   "outputs": [],
   "source": [
    "def titanic_model(preprocessing_head, inputs):\n",
    "  body = tf.keras.Sequential([\n",
    "    layers.Dense(64),\n",
    "    layers.Dense(1)\n",
    "  ])\n",
    "\n",
    "  preprocessed_inputs = preprocessing_head(inputs)\n",
    "  result = body(preprocessed_inputs)\n",
    "  model = tf.keras.Model(inputs, result)\n",
    "\n",
    "  model.compile(loss=tf.losses.BinaryCrossentropy(from_logits=True),\n",
    "                optimizer=tf.optimizers.Adam())\n",
    "  return model\n",
    "\n",
    "titanic_model = titanic_model(titanic_preprocessing, inputs)"
   ]
  },
  {
   "cell_type": "markdown",
   "metadata": {
    "id": "LK5uBQQF2KbZ"
   },
   "source": [
    "When you train the model, pass the dictionary of features as `x`, and the label as `y`."
   ]
  },
  {
   "cell_type": "code",
   "execution_count": 24,
   "metadata": {
    "execution": {
     "iopub.execute_input": "2021-06-16T15:06:08.317499Z",
     "iopub.status.busy": "2021-06-16T15:06:08.316594Z",
     "iopub.status.idle": "2021-06-16T15:06:09.585636Z",
     "shell.execute_reply": "2021-06-16T15:06:09.586008Z"
    },
    "id": "D1gVfwJ61ejz"
   },
   "outputs": [
    {
     "name": "stdout",
     "output_type": "stream",
     "text": [
      "Epoch 1/10\n",
      "20/20 [==============================] - 1s 2ms/step - loss: 0.6027\n",
      "Epoch 2/10\n",
      "20/20 [==============================] - 0s 1ms/step - loss: 0.5231\n",
      "Epoch 3/10\n",
      "20/20 [==============================] - 0s 1ms/step - loss: 0.4861\n",
      "Epoch 4/10\n",
      "20/20 [==============================] - 0s 2ms/step - loss: 0.4611\n",
      "Epoch 5/10\n",
      "20/20 [==============================] - 0s 2ms/step - loss: 0.4464\n",
      "Epoch 6/10\n",
      "20/20 [==============================] - 0s 2ms/step - loss: 0.4374\n",
      "Epoch 7/10\n",
      "20/20 [==============================] - 0s 2ms/step - loss: 0.4305\n",
      "Epoch 8/10\n",
      "20/20 [==============================] - 0s 2ms/step - loss: 0.4273\n",
      "Epoch 9/10\n",
      "20/20 [==============================] - 0s 2ms/step - loss: 0.4237\n",
      "Epoch 10/10\n",
      "20/20 [==============================] - 0s 2ms/step - loss: 0.4218\n"
     ]
    },
    {
     "data": {
      "text/plain": [
       "<tensorflow.python.keras.callbacks.History at 0x7fe60455af70>"
      ]
     },
     "execution_count": 24,
     "metadata": {},
     "output_type": "execute_result"
    }
   ],
   "source": [
    "titanic_model.fit(x=titanic_features_dict, y=titanic_labels, epochs=10)"
   ]
  },
  {
   "cell_type": "markdown",
   "metadata": {
    "id": "LxgJarZk3bfH"
   },
   "source": [
    "Since the preprocessing is part of the model, you can save the model and reload it somewhere else and get identical results:"
   ]
  },
  {
   "cell_type": "code",
   "execution_count": 25,
   "metadata": {
    "execution": {
     "iopub.execute_input": "2021-06-16T15:06:09.592631Z",
     "iopub.status.busy": "2021-06-16T15:06:09.592037Z",
     "iopub.status.idle": "2021-06-16T15:06:13.189243Z",
     "shell.execute_reply": "2021-06-16T15:06:13.189671Z"
    },
    "id": "Ay-8ymNA2ZCh"
   },
   "outputs": [
    {
     "name": "stderr",
     "output_type": "stream",
     "text": [
      "2021-07-29 10:06:31.827643: W tensorflow/python/util/util.cc:348] Sets are not currently considered sequences, but this may change in the future, so consider avoiding using them.\n"
     ]
    },
    {
     "name": "stdout",
     "output_type": "stream",
     "text": [
      "INFO:tensorflow:Assets written to: test/assets\n"
     ]
    }
   ],
   "source": [
    "titanic_model.save('test')\n",
    "reloaded = tf.keras.models.load_model('test')"
   ]
  },
  {
   "cell_type": "code",
   "execution_count": 26,
   "metadata": {
    "execution": {
     "iopub.execute_input": "2021-06-16T15:06:13.196042Z",
     "iopub.status.busy": "2021-06-16T15:06:13.195325Z",
     "iopub.status.idle": "2021-06-16T15:06:13.226812Z",
     "shell.execute_reply": "2021-06-16T15:06:13.226324Z"
    },
    "id": "Qm6jMTpD20lK"
   },
   "outputs": [
    {
     "name": "stdout",
     "output_type": "stream",
     "text": [
      "tf.Tensor([[-1.901]], shape=(1, 1), dtype=float32)\n",
      "tf.Tensor([[-1.901]], shape=(1, 1), dtype=float32)\n"
     ]
    }
   ],
   "source": [
    "features_dict = {name:values[:1] for name, values in titanic_features_dict.items()}\n",
    "\n",
    "before = titanic_model(features_dict)\n",
    "after = reloaded(features_dict)\n",
    "assert (before-after)<1e-3\n",
    "print(before)\n",
    "print(after)"
   ]
  },
  {
   "cell_type": "markdown",
   "metadata": {
    "id": "7VsPlxIRZpXf"
   },
   "source": [
    "## Using tf.data\n"
   ]
  },
  {
   "cell_type": "markdown",
   "metadata": {
    "id": "NyVDCwGzR5HW"
   },
   "source": [
    "In the previous section you relied on the model's built-in data shuffling and batching while training the model. \n",
    "\n",
    "If you need more control over the input data pipeline or need to use data that doesn't easily fit into memory: use `tf.data`. \n",
    "\n",
    "For more examples see the [tf.data guide](../../guide/data.ipynb)."
   ]
  },
  {
   "cell_type": "markdown",
   "metadata": {
    "id": "gP5Y1jM2Sor0"
   },
   "source": [
    "### On in memory data\n",
    "\n",
    "As a first example of applying `tf.data` to CSV data consider the following code to manually slice up the dictionary of features from the previous section. For each index, it takes that index for each feature:\n"
   ]
  },
  {
   "cell_type": "code",
   "execution_count": 27,
   "metadata": {
    "execution": {
     "iopub.execute_input": "2021-06-16T15:06:13.231602Z",
     "iopub.status.busy": "2021-06-16T15:06:13.230941Z",
     "iopub.status.idle": "2021-06-16T15:06:13.232995Z",
     "shell.execute_reply": "2021-06-16T15:06:13.233331Z"
    },
    "id": "i8wE-MVuVu7_"
   },
   "outputs": [],
   "source": [
    "import itertools\n",
    "\n",
    "def slices(features):\n",
    "  for i in itertools.count():\n",
    "    # For each feature take index `i`\n",
    "    example = {name:values[i] for name, values in features.items()}\n",
    "    yield example"
   ]
  },
  {
   "cell_type": "markdown",
   "metadata": {
    "id": "cQ3RTbS9YEal"
   },
   "source": [
    "Run this and print the first example:"
   ]
  },
  {
   "cell_type": "code",
   "execution_count": 28,
   "metadata": {
    "execution": {
     "iopub.execute_input": "2021-06-16T15:06:13.237508Z",
     "iopub.status.busy": "2021-06-16T15:06:13.236917Z",
     "iopub.status.idle": "2021-06-16T15:06:13.239422Z",
     "shell.execute_reply": "2021-06-16T15:06:13.238976Z"
    },
    "id": "Wwq8XK88WwFk"
   },
   "outputs": [
    {
     "name": "stdout",
     "output_type": "stream",
     "text": [
      "sex                : male\n",
      "age                : 22.0\n",
      "n_siblings_spouses : 1\n",
      "parch              : 0\n",
      "fare               : 7.25\n",
      "class              : Third\n",
      "deck               : unknown\n",
      "embark_town        : Southampton\n",
      "alone              : n\n"
     ]
    }
   ],
   "source": [
    "for example in slices(titanic_features_dict):\n",
    "  for name, value in example.items():\n",
    "    print(f\"{name:19s}: {value}\")\n",
    "  break"
   ]
  },
  {
   "cell_type": "markdown",
   "metadata": {
    "id": "vvp8Dct6YOIE"
   },
   "source": [
    "The most basic `tf.data.Dataset` in memory data loader is the `Dataset.from_tensor_slices` constructor. This returns a `tf.data.Dataset` that implements a generalized version of the above `slices` function, in TensorFlow. "
   ]
  },
  {
   "cell_type": "code",
   "execution_count": 29,
   "metadata": {
    "execution": {
     "iopub.execute_input": "2021-06-16T15:06:13.243801Z",
     "iopub.status.busy": "2021-06-16T15:06:13.243075Z",
     "iopub.status.idle": "2021-06-16T15:06:13.245721Z",
     "shell.execute_reply": "2021-06-16T15:06:13.245225Z"
    },
    "id": "2gEJthslYxeV"
   },
   "outputs": [],
   "source": [
    "features_ds = tf.data.Dataset.from_tensor_slices(titanic_features_dict)"
   ]
  },
  {
   "cell_type": "markdown",
   "metadata": {
    "id": "-ZC0rTpMZMZK"
   },
   "source": [
    "You can iterate over a `tf.data.Dataset` like any other python iterable:"
   ]
  },
  {
   "cell_type": "code",
   "execution_count": 30,
   "metadata": {
    "execution": {
     "iopub.execute_input": "2021-06-16T15:06:13.250067Z",
     "iopub.status.busy": "2021-06-16T15:06:13.249264Z",
     "iopub.status.idle": "2021-06-16T15:06:13.258251Z",
     "shell.execute_reply": "2021-06-16T15:06:13.258680Z"
    },
    "id": "gOHbiefaY4ag"
   },
   "outputs": [
    {
     "name": "stdout",
     "output_type": "stream",
     "text": [
      "sex                : b'male'\n",
      "age                : 22.0\n",
      "n_siblings_spouses : 1\n",
      "parch              : 0\n",
      "fare               : 7.25\n",
      "class              : b'Third'\n",
      "deck               : b'unknown'\n",
      "embark_town        : b'Southampton'\n",
      "alone              : b'n'\n"
     ]
    }
   ],
   "source": [
    "for example in features_ds:\n",
    "  for name, value in example.items():\n",
    "    print(f\"{name:19s}: {value}\")\n",
    "  break"
   ]
  },
  {
   "cell_type": "markdown",
   "metadata": {
    "id": "uwcFoVJWZY5F"
   },
   "source": [
    "The `from_tensor_slices` function can handle any structure of nested dictionaries or tuples. The following code makes a dataset of `(features_dict, labels)` pairs:"
   ]
  },
  {
   "cell_type": "code",
   "execution_count": 31,
   "metadata": {
    "execution": {
     "iopub.execute_input": "2021-06-16T15:06:13.264485Z",
     "iopub.status.busy": "2021-06-16T15:06:13.263871Z",
     "iopub.status.idle": "2021-06-16T15:06:13.266174Z",
     "shell.execute_reply": "2021-06-16T15:06:13.266560Z"
    },
    "id": "xIHGBy76Zcrx"
   },
   "outputs": [],
   "source": [
    "titanic_ds = tf.data.Dataset.from_tensor_slices((titanic_features_dict, titanic_labels))"
   ]
  },
  {
   "cell_type": "markdown",
   "metadata": {
    "id": "gQwxitt8c2GK"
   },
   "source": [
    "To train a model using this `Dataset`, you'll need to at least `shuffle` and `batch` the data."
   ]
  },
  {
   "cell_type": "code",
   "execution_count": 32,
   "metadata": {
    "execution": {
     "iopub.execute_input": "2021-06-16T15:06:13.270299Z",
     "iopub.status.busy": "2021-06-16T15:06:13.269727Z",
     "iopub.status.idle": "2021-06-16T15:06:13.275863Z",
     "shell.execute_reply": "2021-06-16T15:06:13.275353Z"
    },
    "id": "SbJcbldhddeC"
   },
   "outputs": [],
   "source": [
    "titanic_batches = titanic_ds.shuffle(len(titanic_labels)).batch(32)"
   ]
  },
  {
   "cell_type": "markdown",
   "metadata": {
    "id": "-4FRqhRFuoJx"
   },
   "source": [
    "Instead of passing `features` and `labels` to `Model.fit`, you pass the dataset:"
   ]
  },
  {
   "cell_type": "code",
   "execution_count": 33,
   "metadata": {
    "execution": {
     "iopub.execute_input": "2021-06-16T15:06:13.280218Z",
     "iopub.status.busy": "2021-06-16T15:06:13.279646Z",
     "iopub.status.idle": "2021-06-16T15:06:14.070534Z",
     "shell.execute_reply": "2021-06-16T15:06:14.070921Z"
    },
    "id": "8yXkNPumdBtB"
   },
   "outputs": [
    {
     "name": "stdout",
     "output_type": "stream",
     "text": [
      "Epoch 1/5\n",
      "20/20 [==============================] - 1s 3ms/step - loss: 0.4210\n",
      "Epoch 2/5\n",
      "20/20 [==============================] - 0s 3ms/step - loss: 0.4202\n",
      "Epoch 3/5\n",
      "20/20 [==============================] - 0s 3ms/step - loss: 0.4199\n",
      "Epoch 4/5\n",
      "20/20 [==============================] - 0s 3ms/step - loss: 0.4198\n",
      "Epoch 5/5\n",
      "20/20 [==============================] - 0s 3ms/step - loss: 0.4189\n"
     ]
    },
    {
     "data": {
      "text/plain": [
       "<tensorflow.python.keras.callbacks.History at 0x7fe5f03fd070>"
      ]
     },
     "execution_count": 33,
     "metadata": {},
     "output_type": "execute_result"
    }
   ],
   "source": [
    "titanic_model.fit(titanic_batches, epochs=5)"
   ]
  },
  {
   "cell_type": "markdown",
   "metadata": {
    "id": "qXuibiv9exT7"
   },
   "source": [
    "### From a single file\n",
    "\n",
    "So far this tutorial has worked with in-memory data. `tf.data` is a highly scalable toolkit for building data pipelines, and provides a few functions for dealing loading CSV files. "
   ]
  },
  {
   "cell_type": "code",
   "execution_count": 34,
   "metadata": {
    "execution": {
     "iopub.execute_input": "2021-06-16T15:06:14.075139Z",
     "iopub.status.busy": "2021-06-16T15:06:14.074463Z",
     "iopub.status.idle": "2021-06-16T15:06:14.085468Z",
     "shell.execute_reply": "2021-06-16T15:06:14.084933Z"
    },
    "id": "Ncf5t6tgL5ZI"
   },
   "outputs": [
    {
     "name": "stdout",
     "output_type": "stream",
     "text": [
      "Downloading data from https://storage.googleapis.com/tf-datasets/titanic/train.csv\n",
      "32768/30874 [===============================] - 0s 2us/step\n"
     ]
    }
   ],
   "source": [
    "titanic_file_path = tf.keras.utils.get_file(\"train.csv\", \"https://storage.googleapis.com/tf-datasets/titanic/train.csv\")"
   ]
  },
  {
   "cell_type": "markdown",
   "metadata": {
    "id": "t4N-plO4tDXd"
   },
   "source": [
    "Now read the CSV data from the file and create a `tf.data.Dataset`. \n",
    "\n",
    "(For the full documentation, see `tf.data.experimental.make_csv_dataset`)\n"
   ]
  },
  {
   "cell_type": "code",
   "execution_count": 35,
   "metadata": {
    "execution": {
     "iopub.execute_input": "2021-06-16T15:06:14.089603Z",
     "iopub.status.busy": "2021-06-16T15:06:14.088960Z",
     "iopub.status.idle": "2021-06-16T15:06:14.129882Z",
     "shell.execute_reply": "2021-06-16T15:06:14.129370Z"
    },
    "id": "yIbUscB9sqha"
   },
   "outputs": [],
   "source": [
    "titanic_csv_ds = tf.data.experimental.make_csv_dataset(\n",
    "    titanic_file_path,\n",
    "    batch_size=5, # Artificially small to make examples easier to show.\n",
    "    label_name='survived',\n",
    "    num_epochs=1,\n",
    "    ignore_errors=True,)"
   ]
  },
  {
   "cell_type": "markdown",
   "metadata": {
    "id": "Sf3v3BKgy4AG"
   },
   "source": [
    "This function includes many convenient features so the data is easy to work with. This includes:\n",
    "\n",
    "* Using the column headers as dictionary keys.\n",
    "* Automatically determining the type of each column."
   ]
  },
  {
   "cell_type": "code",
   "execution_count": 36,
   "metadata": {
    "execution": {
     "iopub.execute_input": "2021-06-16T15:06:14.134391Z",
     "iopub.status.busy": "2021-06-16T15:06:14.133755Z",
     "iopub.status.idle": "2021-06-16T15:06:14.168343Z",
     "shell.execute_reply": "2021-06-16T15:06:14.167782Z"
    },
    "id": "v4oMO9MIxgTG"
   },
   "outputs": [
    {
     "name": "stdout",
     "output_type": "stream",
     "text": [
      "sex                 : [b'male' b'female' b'male' b'male' b'male']\n",
      "age                 : [22. 17. 28. 29. 28.]\n",
      "n_siblings_spouses  : [0 1 0 1 0]\n",
      "parch               : [0 0 0 0 0]\n",
      "fare                : [ 7.25  57.     7.229  7.046  8.05 ]\n",
      "class               : [b'Third' b'First' b'Third' b'Third' b'Third']\n",
      "deck                : [b'unknown' b'B' b'unknown' b'unknown' b'unknown']\n",
      "embark_town         : [b'Southampton' b'Southampton' b'Cherbourg' b'Southampton' b'Southampton']\n",
      "alone               : [b'y' b'n' b'y' b'n' b'y']\n",
      "\n",
      "label               : [0 1 0 0 0]\n"
     ]
    }
   ],
   "source": [
    "for batch, label in titanic_csv_ds.take(1):\n",
    "  for key, value in batch.items():\n",
    "    print(f\"{key:20s}: {value}\")\n",
    "  print()\n",
    "  print(f\"{'label':20s}: {label}\")"
   ]
  },
  {
   "cell_type": "markdown",
   "metadata": {
    "id": "k-TgA6o2Ja6U"
   },
   "source": [
    "Note: if you run the above cell twice it will produce different results. The default settings for `make_csv_dataset` include `shuffle_buffer_size=1000`, which is more than sufficient for this small dataset, but may not be for a real-world dataset."
   ]
  },
  {
   "cell_type": "markdown",
   "metadata": {
    "id": "d6uviU_KCCWD"
   },
   "source": [
    "It can also decompress the data on the fly. Here's a gzipped CSV file containing the [metro interstate traffic dataset](https://archive.ics.uci.edu/ml/datasets/Metro+Interstate+Traffic+Volume)\n",
    "\n",
    "![A traffic jam.](images/csv/traffic.jpg)\n",
    "\n",
    "Image [from Wikimedia](https://commons.wikimedia.org/wiki/File:Trafficjam.jpg)\n"
   ]
  },
  {
   "cell_type": "code",
   "execution_count": 37,
   "metadata": {
    "execution": {
     "iopub.execute_input": "2021-06-16T15:06:14.172575Z",
     "iopub.status.busy": "2021-06-16T15:06:14.171932Z",
     "iopub.status.idle": "2021-06-16T15:06:15.491200Z",
     "shell.execute_reply": "2021-06-16T15:06:15.490749Z"
    },
    "id": "kT7oZI2E46Q8"
   },
   "outputs": [
    {
     "name": "stdout",
     "output_type": "stream",
     "text": [
      "Downloading data from https://archive.ics.uci.edu/ml/machine-learning-databases/00492/Metro_Interstate_Traffic_Volume.csv.gz\n",
      "409600/405373 [==============================] - 1s 2us/step\n"
     ]
    }
   ],
   "source": [
    "traffic_volume_csv_gz = tf.keras.utils.get_file(\n",
    "    'Metro_Interstate_Traffic_Volume.csv.gz', \n",
    "    \"https://archive.ics.uci.edu/ml/machine-learning-databases/00492/Metro_Interstate_Traffic_Volume.csv.gz\",\n",
    "    cache_dir='.', cache_subdir='traffic')"
   ]
  },
  {
   "cell_type": "markdown",
   "metadata": {
    "id": "F-IOsFHbCw0i"
   },
   "source": [
    "Set the `compression_type` argument to read directly from the compressed file: "
   ]
  },
  {
   "cell_type": "code",
   "execution_count": 38,
   "metadata": {
    "execution": {
     "iopub.execute_input": "2021-06-16T15:06:15.496340Z",
     "iopub.status.busy": "2021-06-16T15:06:15.495702Z",
     "iopub.status.idle": "2021-06-16T15:06:15.687688Z",
     "shell.execute_reply": "2021-06-16T15:06:15.687138Z"
    },
    "id": "ar0MPEVJ5NeA"
   },
   "outputs": [
    {
     "name": "stdout",
     "output_type": "stream",
     "text": [
      "holiday             : [b'None' b'None' b'None' b'None' b'None']\n",
      "temp                : [277.93 288.81 270.03 300.79 266.9 ]\n",
      "rain_1h             : [0. 0. 0. 0. 0.]\n",
      "snow_1h             : [0. 0. 0. 0. 0.]\n",
      "clouds_all          : [90  1 90  1 90]\n",
      "weather_main        : [b'Drizzle' b'Clear' b'Haze' b'Clear' b'Clouds']\n",
      "weather_description : [b'light intensity drizzle' b'sky is clear' b'haze' b'sky is clear'\n",
      " b'overcast clouds']\n",
      "date_time           : [b'2013-04-09 03:00:00' b'2013-07-02 02:00:00' b'2013-02-24 11:00:00'\n",
      " b'2013-07-03 15:00:00' b'2012-12-18 05:00:00']\n",
      "\n",
      "label               : [ 305  333 3488 6214 2528]\n"
     ]
    }
   ],
   "source": [
    "traffic_volume_csv_gz_ds = tf.data.experimental.make_csv_dataset(\n",
    "    traffic_volume_csv_gz,\n",
    "    batch_size=256,\n",
    "    label_name='traffic_volume',\n",
    "    num_epochs=1,\n",
    "    compression_type=\"GZIP\")\n",
    "\n",
    "for batch, label in traffic_volume_csv_gz_ds.take(1):\n",
    "  for key, value in batch.items():\n",
    "    print(f\"{key:20s}: {value[:5]}\")\n",
    "  print()\n",
    "  print(f\"{'label':20s}: {label[:5]}\")"
   ]
  },
  {
   "cell_type": "markdown",
   "metadata": {
    "id": "p12Y6tGq8D6M"
   },
   "source": [
    "Note: If you need to parse those date-time strings in the `tf.data` pipeline you can use `tfa.text.parse_time`."
   ]
  },
  {
   "cell_type": "markdown",
   "metadata": {
    "id": "EtrAXzYGP3l0"
   },
   "source": [
    "### Caching"
   ]
  },
  {
   "cell_type": "markdown",
   "metadata": {
    "id": "fN2dL_LRP83r"
   },
   "source": [
    "There is some overhead to parsing the csv data. For small models this can be the bottleneck in training.\n",
    "\n",
    "Depending on your use case it may be a good idea to use `Dataset.cache` or `data.experimental.snapshot` so that the csv data is only parsed on the first epoch. \n",
    "\n",
    "The main difference between the `cache` and `snapshot` methods is that `cache` files can only be used by the TensorFlow process that created them, but `snapshot` files can be read by other processes.\n",
    "\n",
    "For example, iterating over the `traffic_volume_csv_gz_ds` 20 times, takes ~15 seconds without caching, or ~2s with caching."
   ]
  },
  {
   "cell_type": "code",
   "execution_count": 39,
   "metadata": {
    "execution": {
     "iopub.execute_input": "2021-06-16T15:06:15.692368Z",
     "iopub.status.busy": "2021-06-16T15:06:15.691810Z",
     "iopub.status.idle": "2021-06-16T15:06:26.678566Z",
     "shell.execute_reply": "2021-06-16T15:06:26.678119Z"
    },
    "id": "Qk38Sw4MO4eh"
   },
   "outputs": [
    {
     "name": "stdout",
     "output_type": "stream",
     "text": [
      "...............................................................................................\n",
      "CPU times: user 24 s, sys: 3.58 s, total: 27.6 s\n",
      "Wall time: 18.1 s\n"
     ]
    }
   ],
   "source": [
    "%%time\n",
    "for i, (batch, label) in enumerate(traffic_volume_csv_gz_ds.repeat(20)):\n",
    "  if i % 40 == 0:\n",
    "    print('.', end='')\n",
    "print()"
   ]
  },
  {
   "cell_type": "markdown",
   "metadata": {
    "id": "pN3HtDONh5TX"
   },
   "source": [
    "Note: `Dataset.cache`  stores the data form the first epoch and replays it in order. So using `.cache` disables any shuffles earlier in the pipeline. Below the `.shuffle` is added back in after `.cache`."
   ]
  },
  {
   "cell_type": "code",
   "execution_count": 40,
   "metadata": {
    "execution": {
     "iopub.execute_input": "2021-06-16T15:06:26.683257Z",
     "iopub.status.busy": "2021-06-16T15:06:26.682703Z",
     "iopub.status.idle": "2021-06-16T15:06:27.908914Z",
     "shell.execute_reply": "2021-06-16T15:06:27.909258Z"
    },
    "id": "r5Jj72MrPbnh"
   },
   "outputs": [
    {
     "name": "stdout",
     "output_type": "stream",
     "text": [
      "...............................................................................................\n",
      "CPU times: user 2.02 s, sys: 134 ms, total: 2.15 s\n",
      "Wall time: 1.83 s\n"
     ]
    }
   ],
   "source": [
    "%%time\n",
    "caching = traffic_volume_csv_gz_ds.cache().shuffle(1000)\n",
    "\n",
    "for i, (batch, label) in enumerate(caching.shuffle(1000).repeat(20)):\n",
    "  if i % 40 == 0:\n",
    "    print('.', end='')\n",
    "print()"
   ]
  },
  {
   "cell_type": "markdown",
   "metadata": {
    "id": "wN7uUBjmgNZ9"
   },
   "source": [
    "Note: `snapshot` files are meant for *temporary* storage of a dataset while in use. This is *not* a format for long term storage. The file format is considered an internal detail, and not guaranteed between TensorFlow versions. "
   ]
  },
  {
   "cell_type": "code",
   "execution_count": 41,
   "metadata": {
    "execution": {
     "iopub.execute_input": "2021-06-16T15:06:27.914745Z",
     "iopub.status.busy": "2021-06-16T15:06:27.914101Z",
     "iopub.status.idle": "2021-06-16T15:06:29.535076Z",
     "shell.execute_reply": "2021-06-16T15:06:29.534477Z"
    },
    "id": "PHGD1E8ktUvW"
   },
   "outputs": [
    {
     "name": "stdout",
     "output_type": "stream",
     "text": [
      "...............................................................................................\n",
      "CPU times: user 2.78 s, sys: 297 ms, total: 3.08 s\n",
      "Wall time: 2.12 s\n"
     ]
    }
   ],
   "source": [
    "%%time\n",
    "snapshot = tf.data.experimental.snapshot('titanic.tfsnap')\n",
    "snapshotting = traffic_volume_csv_gz_ds.apply(snapshot).shuffle(1000)\n",
    "\n",
    "for i, (batch, label) in enumerate(snapshotting.shuffle(1000).repeat(20)):\n",
    "  if i % 40 == 0:\n",
    "    print('.', end='')\n",
    "print()"
   ]
  },
  {
   "cell_type": "markdown",
   "metadata": {
    "id": "fUSSegnMCGRz"
   },
   "source": [
    "If your data loading is slowed by loading csv files, and `cache` and `snapshot` are insufficient for your use case, consider re-encoding your data into a more streamlined format."
   ]
  },
  {
   "cell_type": "markdown",
   "metadata": {
    "id": "M0iGXv9pC5kr"
   },
   "source": [
    "### Multiple files"
   ]
  },
  {
   "cell_type": "markdown",
   "metadata": {
    "id": "9FFzHQrCDH4w"
   },
   "source": [
    "All the examples so far in this section could easily be done without `tf.data`. One place where `tf.data` can really simplify things is when dealing with collections of files.\n",
    "\n",
    "For example, the [character font images](https://archive.ics.uci.edu/ml/datasets/Character+Font+Images) dataset is distributed as a collection of csv files, one per font.\n",
    "\n",
    "![Fonts](images/csv/fonts.jpg)\n",
    "\n",
    "Image by <a href=\"https://pixabay.com/users/wilhei-883152/?utm_source=link-attribution&amp;utm_medium=referral&amp;utm_campaign=image&amp;utm_content=705667\">Willi Heidelbach</a> from <a href=\"https://pixabay.com/?utm_source=link-attribution&amp;utm_medium=referral&amp;utm_campaign=image&amp;utm_content=705667\">Pixabay</a>\n",
    "\n",
    "Download the dataset, and have a look at the files inside:"
   ]
  },
  {
   "cell_type": "code",
   "execution_count": 42,
   "metadata": {
    "execution": {
     "iopub.execute_input": "2021-06-16T15:06:29.539188Z",
     "iopub.status.busy": "2021-06-16T15:06:29.538598Z",
     "iopub.status.idle": "2021-06-16T15:06:43.268560Z",
     "shell.execute_reply": "2021-06-16T15:06:43.267974Z"
    },
    "id": "RmVknMdJh5ks"
   },
   "outputs": [
    {
     "name": "stdout",
     "output_type": "stream",
     "text": [
      "Downloading data from https://archive.ics.uci.edu/ml/machine-learning-databases/00417/fonts.zip\n",
      "160317440/160313983 [==============================] - 191s 1us/step\n"
     ]
    }
   ],
   "source": [
    "fonts_zip = tf.keras.utils.get_file(\n",
    "    'fonts.zip',  \"https://archive.ics.uci.edu/ml/machine-learning-databases/00417/fonts.zip\",\n",
    "    cache_dir='.', cache_subdir='fonts',\n",
    "    extract=True)"
   ]
  },
  {
   "cell_type": "code",
   "execution_count": 43,
   "metadata": {
    "execution": {
     "iopub.execute_input": "2021-06-16T15:06:43.274225Z",
     "iopub.status.busy": "2021-06-16T15:06:43.272843Z",
     "iopub.status.idle": "2021-06-16T15:06:43.276901Z",
     "shell.execute_reply": "2021-06-16T15:06:43.277287Z"
    },
    "id": "xsDlMCnyi55e"
   },
   "outputs": [
    {
     "data": {
      "text/plain": [
       "['fonts/AGENCY.csv',\n",
       " 'fonts/ARIAL.csv',\n",
       " 'fonts/BAITI.csv',\n",
       " 'fonts/BANKGOTHIC.csv',\n",
       " 'fonts/BASKERVILLE.csv',\n",
       " 'fonts/BAUHAUS.csv',\n",
       " 'fonts/BELL.csv',\n",
       " 'fonts/BERLIN.csv',\n",
       " 'fonts/BERNARD.csv',\n",
       " 'fonts/BITSTREAMVERA.csv']"
      ]
     },
     "execution_count": 43,
     "metadata": {},
     "output_type": "execute_result"
    }
   ],
   "source": [
    "import pathlib\n",
    "font_csvs =  sorted(str(p) for p in pathlib.Path('fonts').glob(\"*.csv\"))\n",
    "\n",
    "font_csvs[:10]"
   ]
  },
  {
   "cell_type": "code",
   "execution_count": 44,
   "metadata": {
    "execution": {
     "iopub.execute_input": "2021-06-16T15:06:43.281018Z",
     "iopub.status.busy": "2021-06-16T15:06:43.280361Z",
     "iopub.status.idle": "2021-06-16T15:06:43.283438Z",
     "shell.execute_reply": "2021-06-16T15:06:43.282972Z"
    },
    "id": "lRAEJx9ROAGl"
   },
   "outputs": [
    {
     "data": {
      "text/plain": [
       "153"
      ]
     },
     "execution_count": 44,
     "metadata": {},
     "output_type": "execute_result"
    }
   ],
   "source": [
    "len(font_csvs)"
   ]
  },
  {
   "cell_type": "markdown",
   "metadata": {
    "id": "19Udrw9iG-FS"
   },
   "source": [
    "When dealing with a bunch of files you can pass a glob-style `file_pattern` to the `experimental.make_csv_dataset` function. The order of the files is shuffled each iteration.\n",
    "\n",
    "Use the `num_parallel_reads` argument to set how many files are read in parallel and interleaved together."
   ]
  },
  {
   "cell_type": "code",
   "execution_count": 45,
   "metadata": {
    "execution": {
     "iopub.execute_input": "2021-06-16T15:06:43.287541Z",
     "iopub.status.busy": "2021-06-16T15:06:43.286765Z",
     "iopub.status.idle": "2021-06-16T15:06:44.099899Z",
     "shell.execute_reply": "2021-06-16T15:06:44.100394Z"
    },
    "id": "6TSUNdT6iG58"
   },
   "outputs": [],
   "source": [
    "fonts_ds = tf.data.experimental.make_csv_dataset(\n",
    "    file_pattern = \"fonts/*.csv\",\n",
    "    batch_size=10, num_epochs=1,\n",
    "    num_parallel_reads=20,\n",
    "    shuffle_buffer_size=10000)"
   ]
  },
  {
   "cell_type": "markdown",
   "metadata": {
    "id": "XMoexinLHYFa"
   },
   "source": [
    "These csv files have the images flattened out into a single row. The column names are formatted `r{row}c{column}`. Here's the first batch:"
   ]
  },
  {
   "cell_type": "code",
   "execution_count": 46,
   "metadata": {
    "execution": {
     "iopub.execute_input": "2021-06-16T15:06:44.107542Z",
     "iopub.status.busy": "2021-06-16T15:06:44.106917Z",
     "iopub.status.idle": "2021-06-16T15:06:45.396587Z",
     "shell.execute_reply": "2021-06-16T15:06:45.396964Z"
    },
    "id": "RmFvBWxxi3pq"
   },
   "outputs": [
    {
     "name": "stdout",
     "output_type": "stream",
     "text": [
      "font                : [b'GLOUCESTER' b'CAARD' b'HIGH TOWER' b'PALATINO' b'PALATINO' b'PALATINO'\n",
      " b'MONEY' b'NUMERICS' b'SITKA' b'MINGLIU']\n",
      "fontVariant         : [b'GLOUCESTER MT EXTRA CONDENSED' b'CAARD-LN' b'HIGH TOWER TEXT'\n",
      " b'PALATINO LINOTYPE' b'PALATINO LINOTYPE' b'PALATINO LINOTYPE' b'scanned'\n",
      " b'scanned' b'SITKA TEXT' b'MINGLIU_HKSCS-EXTB']\n",
      "m_label             : [ 233   51  352 7842 7864 8353   49   54  329   50]\n",
      "strength            : [0.4 0.4 0.4 0.4 0.4 0.4 0.4 0.4 0.4 0.4]\n",
      "italic              : [0 1 1 0 0 0 0 0 0 1]\n",
      "orientation         : [0. 0. 0. 0. 0. 0. 0. 0. 0. 0.]\n",
      "m_top               : [37 34 20 27 44 39  0  0 51 29]\n",
      "m_left              : [22 22 22 21 22 22  0  0 23 22]\n",
      "originalH           : [46 47 61 63 57 57 28 23 46 49]\n",
      "originalW           : [17 42 32 50 36 42 15 16 46 38]\n",
      "h                   : [20 20 20 20 20 20 20 20 20 20]\n",
      "w                   : [20 20 20 20 20 20 20 20 20 20]\n",
      "r0c0                : [  1   1   1   1 179   1  73   1  34   1]\n",
      "r0c1                : [  1   1   1   1 179   1 195   1 222   1]\n",
      "r0c2                : [  1   1   1   1 196   1 255   1 255   1]\n",
      "r0c3                : [  1   1   1   1 255   1 255   1 137   1]\n",
      "...\n",
      "[total: 412 features]\n"
     ]
    }
   ],
   "source": [
    "for features in fonts_ds.take(1):\n",
    "  for i, (name, value) in enumerate(features.items()):\n",
    "    if i>15:\n",
    "      break\n",
    "    print(f\"{name:20s}: {value}\")\n",
    "print('...')\n",
    "print(f\"[total: {len(features)} features]\")"
   ]
  },
  {
   "cell_type": "markdown",
   "metadata": {
    "id": "xrC3sKdeOhb5"
   },
   "source": [
    "#### Optional: Packing fields\n",
    "\n",
    "You probably don't want to work with each pixel in separate columns like this. Before trying to use this dataset be sure to pack the pixels into an image-tensor. \n",
    "\n",
    "Here is code that parses the column names to build images for each example:"
   ]
  },
  {
   "cell_type": "code",
   "execution_count": 47,
   "metadata": {
    "execution": {
     "iopub.execute_input": "2021-06-16T15:06:45.402839Z",
     "iopub.status.busy": "2021-06-16T15:06:45.402203Z",
     "iopub.status.idle": "2021-06-16T15:06:45.404275Z",
     "shell.execute_reply": "2021-06-16T15:06:45.403845Z"
    },
    "id": "hct5EMEWNyfH"
   },
   "outputs": [],
   "source": [
    "import re\n",
    "\n",
    "def make_images(features):\n",
    "  image = [None]*400\n",
    "  new_feats = {}\n",
    "\n",
    "  for name, value in features.items():\n",
    "    match = re.match('r(\\d+)c(\\d+)', name)\n",
    "    if match:\n",
    "      image[int(match.group(1))*20+int(match.group(2))] = value\n",
    "    else:\n",
    "      new_feats[name] = value\n",
    "\n",
    "  image = tf.stack(image, axis=0)\n",
    "  image = tf.reshape(image, [20, 20, -1])\n",
    "  new_feats['image'] = image\n",
    "\n",
    "  return new_feats"
   ]
  },
  {
   "cell_type": "markdown",
   "metadata": {
    "id": "61qy8utAwARP"
   },
   "source": [
    "Apply that function to each batch in the dataset:"
   ]
  },
  {
   "cell_type": "code",
   "execution_count": 48,
   "metadata": {
    "execution": {
     "iopub.execute_input": "2021-06-16T15:06:45.411040Z",
     "iopub.status.busy": "2021-06-16T15:06:45.410427Z",
     "iopub.status.idle": "2021-06-16T15:06:47.191955Z",
     "shell.execute_reply": "2021-06-16T15:06:47.191213Z"
    },
    "id": "DJnnfIW9baE4"
   },
   "outputs": [],
   "source": [
    "fonts_image_ds = fonts_ds.map(make_images)\n",
    "\n",
    "for features in fonts_image_ds.take(1):\n",
    "  break"
   ]
  },
  {
   "cell_type": "markdown",
   "metadata": {
    "id": "_ThqrthGwHSm"
   },
   "source": [
    "Plot the resulting images:"
   ]
  },
  {
   "cell_type": "code",
   "execution_count": 49,
   "metadata": {
    "execution": {
     "iopub.execute_input": "2021-06-16T15:06:47.211039Z",
     "iopub.status.busy": "2021-06-16T15:06:47.210411Z",
     "iopub.status.idle": "2021-06-16T15:06:47.673763Z",
     "shell.execute_reply": "2021-06-16T15:06:47.674155Z"
    },
    "id": "I5dcey31T_tk"
   },
   "outputs": [
    {
     "name": "stderr",
     "output_type": "stream",
     "text": [
      "/home/jdavidagudelo/.cache/pypoetry/virtualenvs/tensorflow-tutorial-9JwDsy9j-py3.9/lib/python3.9/site-packages/matplotlib/backends/backend_agg.py:240: RuntimeWarning: Glyph 3482 missing from current font.\n",
      "  font.set_text(s, 0.0, flags=flags)\n",
      "/home/jdavidagudelo/.cache/pypoetry/virtualenvs/tensorflow-tutorial-9JwDsy9j-py3.9/lib/python3.9/site-packages/matplotlib/backends/backend_agg.py:240: RuntimeWarning: Glyph 61540 missing from current font.\n",
      "  font.set_text(s, 0.0, flags=flags)\n",
      "/home/jdavidagudelo/.cache/pypoetry/virtualenvs/tensorflow-tutorial-9JwDsy9j-py3.9/lib/python3.9/site-packages/matplotlib/backends/backend_agg.py:203: RuntimeWarning: Glyph 3482 missing from current font.\n",
      "  font.set_text(s, 0, flags=flags)\n",
      "/home/jdavidagudelo/.cache/pypoetry/virtualenvs/tensorflow-tutorial-9JwDsy9j-py3.9/lib/python3.9/site-packages/matplotlib/backends/backend_agg.py:203: RuntimeWarning: Glyph 61540 missing from current font.\n",
      "  font.set_text(s, 0, flags=flags)\n"
     ]
    },
    {
     "data": {
      "image/png": "[encoded data removed]",
      "text/plain": [
       "<Figure size 720x720 with 9 Axes>"
      ]
     },
     "metadata": {
      "needs_background": "light"
     },
     "output_type": "display_data"
    }
   ],
   "source": [
    "from matplotlib import pyplot as plt\n",
    "\n",
    "plt.figure(figsize=(6,6), dpi=120)\n",
    "\n",
    "for n in range(9):\n",
    "  plt.subplot(3,3,n+1)\n",
    "  plt.imshow(features['image'][..., n])\n",
    "  plt.title(chr(features['m_label'][n]))\n",
    "  plt.axis('off')"
   ]
  },
  {
   "cell_type": "markdown",
   "metadata": {
    "id": "7-nNR0Nncdd1"
   },
   "source": [
    "## Lower level functions"
   ]
  },
  {
   "cell_type": "markdown",
   "metadata": {
    "id": "3jiGZeUijJNd"
   },
   "source": [
    "So far this tutorial has focused on the highest level utilities for reading csv data. There are other two APIs that may be helpful for advanced users if your use-case doesn't fit the basic patterns.\n",
    "\n",
    "* `tf.io.decode_csv` - a function for parsing lines of text into a list of CSV column tensors.\n",
    "* `tf.data.experimental.CsvDataset` - a lower level csv dataset constructor.\n",
    "\n",
    "This section recreates functionality provided by `make_csv_dataset`, to demonstrate how this lower level functionality can be used.\n"
   ]
  },
  {
   "cell_type": "markdown",
   "metadata": {
    "id": "LL_ixywomOHW"
   },
   "source": [
    "### `tf.io.decode_csv`\n",
    "\n",
    "This function decodes a string, or list of strings into a list of columns.\n",
    "\n",
    "Unlike `make_csv_dataset` this function does not try to guess column data-types. You specify the column types by providing a list of `record_defaults` containing a value of the correct type, for each column.\n",
    "\n",
    "To read the Titanic data **as strings** using `decode_csv` you would say: "
   ]
  },
  {
   "cell_type": "code",
   "execution_count": 50,
   "metadata": {
    "execution": {
     "iopub.execute_input": "2021-06-16T15:06:47.678958Z",
     "iopub.status.busy": "2021-06-16T15:06:47.678155Z",
     "iopub.status.idle": "2021-06-16T15:06:47.681654Z",
     "shell.execute_reply": "2021-06-16T15:06:47.681246Z"
    },
    "id": "m1D2C-qdlqeW"
   },
   "outputs": [
    {
     "data": {
      "text/plain": [
       "['', '', '', '', '', '', '', '', '', '']"
      ]
     },
     "execution_count": 50,
     "metadata": {},
     "output_type": "execute_result"
    }
   ],
   "source": [
    "text = pathlib.Path(titanic_file_path).read_text()\n",
    "lines = text.split('\\n')[1:-1]\n",
    "\n",
    "all_strings = [str()]*10\n",
    "all_strings"
   ]
  },
  {
   "cell_type": "code",
   "execution_count": 51,
   "metadata": {
    "execution": {
     "iopub.execute_input": "2021-06-16T15:06:47.685798Z",
     "iopub.status.busy": "2021-06-16T15:06:47.685251Z",
     "iopub.status.idle": "2021-06-16T15:06:47.690028Z",
     "shell.execute_reply": "2021-06-16T15:06:47.689601Z"
    },
    "id": "9W4UeJYyHPx5"
   },
   "outputs": [
    {
     "name": "stdout",
     "output_type": "stream",
     "text": [
      "type: string, shape: (627,)\n",
      "type: string, shape: (627,)\n",
      "type: string, shape: (627,)\n",
      "type: string, shape: (627,)\n",
      "type: string, shape: (627,)\n",
      "type: string, shape: (627,)\n",
      "type: string, shape: (627,)\n",
      "type: string, shape: (627,)\n",
      "type: string, shape: (627,)\n",
      "type: string, shape: (627,)\n"
     ]
    }
   ],
   "source": [
    "features = tf.io.decode_csv(lines, record_defaults=all_strings) \n",
    "\n",
    "for f in features:\n",
    "  print(f\"type: {f.dtype.name}, shape: {f.shape}\")"
   ]
  },
  {
   "cell_type": "markdown",
   "metadata": {
    "id": "j8TaHSQFoQL4"
   },
   "source": [
    "To parse them with their actual types, create a list of `record_defaults` of the corresponding types: "
   ]
  },
  {
   "cell_type": "code",
   "execution_count": 52,
   "metadata": {
    "execution": {
     "iopub.execute_input": "2021-06-16T15:06:47.693916Z",
     "iopub.status.busy": "2021-06-16T15:06:47.693302Z",
     "iopub.status.idle": "2021-06-16T15:06:47.696018Z",
     "shell.execute_reply": "2021-06-16T15:06:47.695452Z"
    },
    "id": "rzUjR59yoUe1"
   },
   "outputs": [
    {
     "name": "stdout",
     "output_type": "stream",
     "text": [
      "0,male,22.0,1,0,7.25,Third,unknown,Southampton,n\n"
     ]
    }
   ],
   "source": [
    "print(lines[0])"
   ]
  },
  {
   "cell_type": "code",
   "execution_count": 53,
   "metadata": {
    "execution": {
     "iopub.execute_input": "2021-06-16T15:06:47.700218Z",
     "iopub.status.busy": "2021-06-16T15:06:47.699590Z",
     "iopub.status.idle": "2021-06-16T15:06:47.702290Z",
     "shell.execute_reply": "2021-06-16T15:06:47.702721Z"
    },
    "id": "7sPTunxwoeWU"
   },
   "outputs": [
    {
     "data": {
      "text/plain": [
       "[0, '', 0.0, 0, 0, 0.0, '', '', '', '']"
      ]
     },
     "execution_count": 53,
     "metadata": {},
     "output_type": "execute_result"
    }
   ],
   "source": [
    "titanic_types = [int(), str(), float(), int(), int(), float(), str(), str(), str(), str()]\n",
    "titanic_types"
   ]
  },
  {
   "cell_type": "code",
   "execution_count": 54,
   "metadata": {
    "execution": {
     "iopub.execute_input": "2021-06-16T15:06:47.707017Z",
     "iopub.status.busy": "2021-06-16T15:06:47.706380Z",
     "iopub.status.idle": "2021-06-16T15:06:47.711080Z",
     "shell.execute_reply": "2021-06-16T15:06:47.711455Z"
    },
    "id": "n3NlViCzoB7F"
   },
   "outputs": [
    {
     "name": "stdout",
     "output_type": "stream",
     "text": [
      "type: int32, shape: (627,)\n",
      "type: string, shape: (627,)\n",
      "type: float32, shape: (627,)\n",
      "type: int32, shape: (627,)\n",
      "type: int32, shape: (627,)\n",
      "type: float32, shape: (627,)\n",
      "type: string, shape: (627,)\n",
      "type: string, shape: (627,)\n",
      "type: string, shape: (627,)\n",
      "type: string, shape: (627,)\n"
     ]
    }
   ],
   "source": [
    "features = tf.io.decode_csv(lines, record_defaults=titanic_types) \n",
    "\n",
    "for f in features:\n",
    "  print(f\"type: {f.dtype.name}, shape: {f.shape}\")"
   ]
  },
  {
   "cell_type": "markdown",
   "metadata": {
    "id": "m-LkTUTnpn2P"
   },
   "source": [
    "Note: it is more efficient to call `decode_csv` on large batches of lines than on individual lines of csv text."
   ]
  },
  {
   "cell_type": "markdown",
   "metadata": {
    "id": "Yp1UItJmqGqw"
   },
   "source": [
    "### `tf.data.experimental.CsvDataset`\n",
    "\n",
    "The `tf.data.experimental.CsvDataset` class provides a minimal CSV `Dataset` interface without the convenience features of the `make_csv_dataset` function: column header parsing, column type-inference, automatic shuffling, file interleaving.\n",
    "\n",
    "This constructor follows uses `record_defaults` the same way as `io.parse_csv`:\n"
   ]
  },
  {
   "cell_type": "code",
   "execution_count": 55,
   "metadata": {
    "execution": {
     "iopub.execute_input": "2021-06-16T15:06:47.716494Z",
     "iopub.status.busy": "2021-06-16T15:06:47.715927Z",
     "iopub.status.idle": "2021-06-16T15:06:47.738145Z",
     "shell.execute_reply": "2021-06-16T15:06:47.737611Z"
    },
    "id": "9OzZLp3krP-t"
   },
   "outputs": [
    {
     "name": "stdout",
     "output_type": "stream",
     "text": [
      "[0, b'male', 22.0, 1, 0, 7.25, b'Third', b'unknown', b'Southampton', b'n']\n"
     ]
    }
   ],
   "source": [
    "simple_titanic = tf.data.experimental.CsvDataset(titanic_file_path, record_defaults=titanic_types, header=True)\n",
    "\n",
    "for example in simple_titanic.take(1):\n",
    "  print([e.numpy() for e in example])"
   ]
  },
  {
   "cell_type": "markdown",
   "metadata": {
    "id": "_HBmfI-Ks7dw"
   },
   "source": [
    "The above code is basically equivalent to:"
   ]
  },
  {
   "cell_type": "code",
   "execution_count": 56,
   "metadata": {
    "execution": {
     "iopub.execute_input": "2021-06-16T15:06:47.743238Z",
     "iopub.status.busy": "2021-06-16T15:06:47.742599Z",
     "iopub.status.idle": "2021-06-16T15:06:47.796841Z",
     "shell.execute_reply": "2021-06-16T15:06:47.796381Z"
    },
    "id": "E5O5d69Yq7gG"
   },
   "outputs": [
    {
     "name": "stdout",
     "output_type": "stream",
     "text": [
      "[0, b'male', 22.0, 1, 0, 7.25, b'Third', b'unknown', b'Southampton', b'n']\n"
     ]
    }
   ],
   "source": [
    "def decode_titanic_line(line):\n",
    "  return tf.io.decode_csv(line, titanic_types)\n",
    "\n",
    "manual_titanic = (\n",
    "    # Load the lines of text\n",
    "    tf.data.TextLineDataset(titanic_file_path)\n",
    "    # Skip the header row.\n",
    "    .skip(1)\n",
    "    # Decode the line.\n",
    "    .map(decode_titanic_line)\n",
    ")\n",
    "\n",
    "for example in manual_titanic.take(1):\n",
    "  print([e.numpy() for e in example])"
   ]
  },
  {
   "cell_type": "markdown",
   "metadata": {
    "id": "5R3ralsnt2AC"
   },
   "source": [
    "#### Multiple files\n",
    "\n",
    "To parse the fonts dataset using `experimental.CsvDataset`, you first need to determine the column types for the `record_defaults`. Start by inspecting the first row of one file: "
   ]
  },
  {
   "cell_type": "code",
   "execution_count": 57,
   "metadata": {
    "execution": {
     "iopub.execute_input": "2021-06-16T15:06:47.800830Z",
     "iopub.status.busy": "2021-06-16T15:06:47.800277Z",
     "iopub.status.idle": "2021-06-16T15:06:47.807055Z",
     "shell.execute_reply": "2021-06-16T15:06:47.806622Z"
    },
    "id": "3tlFOTjCvAI5"
   },
   "outputs": [
    {
     "name": "stdout",
     "output_type": "stream",
     "text": [
      "AGENCY,AGENCY FB,64258,0.400000,0,0.000000,35,21,51,22,20,20,1,1,1,21,101,210,255,255,255,255,255,255,255,255,255,255,255,255,255,255,1,1,1,93,255,255,255,176,146,146,146,146,146,146,146,146,216,255,255,255,1,1,1,93,255,255,255,70,1,1,1,1,1,1,1,1,163,255,255,255,1,1,1,93,255,255,255,70,1,1,1,1,1,1,1,1,163,255,255,255,1,1,1,93,255,255,255,70,1,1,1,1,1,1,1,1,163,255,255,255,1,1,1,93,255,255,255,70,1,1,1,1,1,1,1,1,163,255,255,255,1,1,1,93,255,255,255,70,1,1,1,1,1,1,1,1,163,255,255,255,141,141,141,182,255,255,255,172,141,141,141,115,1,1,1,1,163,255,255,255,255,255,255,255,255,255,255,255,255,255,255,209,1,1,1,1,163,255,255,255,6,6,6,96,255,255,255,74,6,6,6,5,1,1,1,1,163,255,255,255,1,1,1,93,255,255,255,70,1,1,1,1,1,1,1,1,163,255,255,255,1,1,1,93,255,255,255,70,1,1,1,1,1,1,1,1,163,255,255,255,1,1,1,93,255,255,255,70,1,1,1,1,1,1,1,1,163,255,255,255,1,1,1,93,255,255,255,70,1,1,1,1,1,1,1,1,163,255,255,255,1,1,1,93,255,255,255,70,1,1,1,1,1,1,1,1,163,255,255,255,1,1,1,93,255,255,255,70,1,1,1,1,1,1,1,1,163,255,255,255,1,1,1,93,255,255,255,70,1,1,1,1,1,1,1,1,163,255,255,255,1,1,1,93,255,255,255,70,1,1,1,1,1,1,1,1,163,255,255,255,1,1,1,93,255,255,255,70,1,1,1,1,1,1,1,1,163,255,255,255,1,1,1,93,255,255,255,70,1,1,1,1,1,1,1,1,163,255,255,255\n"
     ]
    }
   ],
   "source": [
    "font_line = pathlib.Path(font_csvs[0]).read_text().splitlines()[1]\n",
    "print(font_line)"
   ]
  },
  {
   "cell_type": "markdown",
   "metadata": {
    "id": "etyGu8K_ySRz"
   },
   "source": [
    "Only the first two fields are strings, the rest are ints or floats, and you can get the total number of features by counting the commas:"
   ]
  },
  {
   "cell_type": "code",
   "execution_count": 58,
   "metadata": {
    "execution": {
     "iopub.execute_input": "2021-06-16T15:06:47.811190Z",
     "iopub.status.busy": "2021-06-16T15:06:47.810598Z",
     "iopub.status.idle": "2021-06-16T15:06:47.813066Z",
     "shell.execute_reply": "2021-06-16T15:06:47.812626Z"
    },
    "id": "crgZZn0BzkSB"
   },
   "outputs": [],
   "source": [
    "num_font_features = font_line.count(',')+1\n",
    "font_column_types = [str(), str()] + [float()]*(num_font_features-2)"
   ]
  },
  {
   "cell_type": "markdown",
   "metadata": {
    "id": "YeK2Pw540RNj"
   },
   "source": [
    "The `CsvDatasaet` constructor can take a list of input files, but reads them sequentially. The first file in the list of CSVs is `AGENCY.csv`:"
   ]
  },
  {
   "cell_type": "code",
   "execution_count": 59,
   "metadata": {
    "execution": {
     "iopub.execute_input": "2021-06-16T15:06:47.817270Z",
     "iopub.status.busy": "2021-06-16T15:06:47.816712Z",
     "iopub.status.idle": "2021-06-16T15:06:47.819828Z",
     "shell.execute_reply": "2021-06-16T15:06:47.819316Z"
    },
    "id": "_SvL5Uvl0r0N"
   },
   "outputs": [
    {
     "data": {
      "text/plain": [
       "'fonts/AGENCY.csv'"
      ]
     },
     "execution_count": 59,
     "metadata": {},
     "output_type": "execute_result"
    }
   ],
   "source": [
    "font_csvs[0]"
   ]
  },
  {
   "cell_type": "markdown",
   "metadata": {
    "id": "EfAX3G8Xywy6"
   },
   "source": [
    "So when you pass pass the list of files to `CsvDataaset` the records from `AGENCY.csv` are read first:"
   ]
  },
  {
   "cell_type": "code",
   "execution_count": 60,
   "metadata": {
    "execution": {
     "iopub.execute_input": "2021-06-16T15:06:47.831679Z",
     "iopub.status.busy": "2021-06-16T15:06:47.831076Z",
     "iopub.status.idle": "2021-06-16T15:06:47.834099Z",
     "shell.execute_reply": "2021-06-16T15:06:47.833641Z"
    },
    "id": "Gtr1E66VmBqj"
   },
   "outputs": [],
   "source": [
    "simple_font_ds = tf.data.experimental.CsvDataset(\n",
    "    font_csvs, \n",
    "    record_defaults=font_column_types, \n",
    "    header=True)"
   ]
  },
  {
   "cell_type": "code",
   "execution_count": 61,
   "metadata": {
    "execution": {
     "iopub.execute_input": "2021-06-16T15:06:47.839627Z",
     "iopub.status.busy": "2021-06-16T15:06:47.839018Z",
     "iopub.status.idle": "2021-06-16T15:06:47.914461Z",
     "shell.execute_reply": "2021-06-16T15:06:47.914949Z"
    },
    "id": "k750Mgq4yt_o"
   },
   "outputs": [
    {
     "name": "stdout",
     "output_type": "stream",
     "text": [
      "b'AGENCY'\n",
      "b'AGENCY'\n",
      "b'AGENCY'\n",
      "b'AGENCY'\n",
      "b'AGENCY'\n",
      "b'AGENCY'\n",
      "b'AGENCY'\n",
      "b'AGENCY'\n",
      "b'AGENCY'\n",
      "b'AGENCY'\n"
     ]
    }
   ],
   "source": [
    "for row in simple_font_ds.take(10):\n",
    "  print(row[0].numpy())"
   ]
  },
  {
   "cell_type": "markdown",
   "metadata": {
    "id": "NiqWKQV21FrE"
   },
   "source": [
    "To interleave multiple files, use `Dataset.interleave`.\n",
    "\n",
    "Here's an initial dataset that contains the csv file names: "
   ]
  },
  {
   "cell_type": "code",
   "execution_count": 62,
   "metadata": {
    "execution": {
     "iopub.execute_input": "2021-06-16T15:06:47.919500Z",
     "iopub.status.busy": "2021-06-16T15:06:47.918846Z",
     "iopub.status.idle": "2021-06-16T15:06:47.938626Z",
     "shell.execute_reply": "2021-06-16T15:06:47.938992Z"
    },
    "id": "t9dS3SNb23W8"
   },
   "outputs": [],
   "source": [
    "font_files = tf.data.Dataset.list_files(\"fonts/*.csv\")"
   ]
  },
  {
   "cell_type": "markdown",
   "metadata": {
    "id": "TNiLHMXpzHy5"
   },
   "source": [
    "This shuffles the file names each epoch:"
   ]
  },
  {
   "cell_type": "code",
   "execution_count": 63,
   "metadata": {
    "execution": {
     "iopub.execute_input": "2021-06-16T15:06:47.944230Z",
     "iopub.status.busy": "2021-06-16T15:06:47.943644Z",
     "iopub.status.idle": "2021-06-16T15:06:47.967356Z",
     "shell.execute_reply": "2021-06-16T15:06:47.966923Z"
    },
    "id": "zNd-TYyNzIgg"
   },
   "outputs": [
    {
     "name": "stdout",
     "output_type": "stream",
     "text": [
      "Epoch 1:\n",
      "     b'fonts/SHOWCARD.csv'\n",
      "     b'fonts/RAGE.csv'\n",
      "     b'fonts/REFERENCE.csv'\n",
      "     b'fonts/GLOUCESTER.csv'\n",
      "     b'fonts/BROADWAY.csv'\n",
      "    ...\n",
      "\n",
      "Epoch 2:\n",
      "     b'fonts/PALATINO.csv'\n",
      "     b'fonts/CORBEL.csv'\n",
      "     b'fonts/TECHNIC.csv'\n",
      "     b'fonts/ITALIC.csv'\n",
      "     b'fonts/HANDPRINT.csv'\n",
      "    ...\n"
     ]
    }
   ],
   "source": [
    "print('Epoch 1:')\n",
    "for f in list(font_files)[:5]:\n",
    "  print(\"    \", f.numpy())\n",
    "print('    ...')\n",
    "print()\n",
    "\n",
    "print('Epoch 2:')\n",
    "for f in list(font_files)[:5]:\n",
    "  print(\"    \", f.numpy())\n",
    "print('    ...')"
   ]
  },
  {
   "cell_type": "markdown",
   "metadata": {
    "id": "B0QB1PtU3WAN"
   },
   "source": [
    "The `interleave` method takes a `map_func` that creates a child-`Dataset` for each element of the parent-`Dataset`. \n",
    "\n",
    "Here, you want to create a `CsvDataset` from each element of the dataset of files:"
   ]
  },
  {
   "cell_type": "code",
   "execution_count": 64,
   "metadata": {
    "execution": {
     "iopub.execute_input": "2021-06-16T15:06:47.971061Z",
     "iopub.status.busy": "2021-06-16T15:06:47.970501Z",
     "iopub.status.idle": "2021-06-16T15:06:47.972740Z",
     "shell.execute_reply": "2021-06-16T15:06:47.972230Z"
    },
    "id": "QWp4rH0Q4uPh"
   },
   "outputs": [],
   "source": [
    "def make_font_csv_ds(path):\n",
    "  return tf.data.experimental.CsvDataset(\n",
    "    path, \n",
    "    record_defaults=font_column_types, \n",
    "    header=True)"
   ]
  },
  {
   "cell_type": "markdown",
   "metadata": {
    "id": "VxRGdLMB5nRF"
   },
   "source": [
    "The `Dataset` returned by interleave returns elements by cycling over a number of the child-`Dataset`s. Note, below, how the dataset cycles over `cycle_length)=3` three font files:"
   ]
  },
  {
   "cell_type": "code",
   "execution_count": 65,
   "metadata": {
    "execution": {
     "iopub.execute_input": "2021-06-16T15:06:47.994918Z",
     "iopub.status.busy": "2021-06-16T15:06:47.986554Z",
     "iopub.status.idle": "2021-06-16T15:06:48.152788Z",
     "shell.execute_reply": "2021-06-16T15:06:48.152253Z"
    },
    "id": "OePMNF_x1_Cc"
   },
   "outputs": [],
   "source": [
    "font_rows = font_files.interleave(make_font_csv_ds,\n",
    "                                  cycle_length=3)"
   ]
  },
  {
   "cell_type": "code",
   "execution_count": 66,
   "metadata": {
    "execution": {
     "iopub.execute_input": "2021-06-16T15:06:48.159465Z",
     "iopub.status.busy": "2021-06-16T15:06:48.158830Z",
     "iopub.status.idle": "2021-06-16T15:06:48.270435Z",
     "shell.execute_reply": "2021-06-16T15:06:48.269962Z"
    },
    "id": "UORIGWLy54-E"
   },
   "outputs": [
    {
     "name": "stderr",
     "output_type": "stream",
     "text": [
      "/tmp/ipykernel_36664/998453860.py:5: DeprecationWarning: an integer is required (got type numpy.float32).  Implicit conversion to integers using __int__ is deprecated, and may be removed in a future version of Python.\n",
      "  fonts_dict['character'].append(chr(row[2].numpy()))\n"
     ]
    },
    {
     "data": {
      "text/html": [
       "<div>\n",
       "<style scoped>\n",
       "    .dataframe tbody tr th:only-of-type {\n",
       "        vertical-align: middle;\n",
       "    }\n",
       "\n",
       "    .dataframe tbody tr th {\n",
       "        vertical-align: top;\n",
       "    }\n",
       "\n",
       "    .dataframe thead th {\n",
       "        text-align: right;\n",
       "    }\n",
       "</style>\n",
       "<table border=\"1\" class=\"dataframe\">\n",
       "  <thead>\n",
       "    <tr style=\"text-align: right;\">\n",
       "      <th></th>\n",
       "      <th>font_name</th>\n",
       "      <th>character</th>\n",
       "    </tr>\n",
       "  </thead>\n",
       "  <tbody>\n",
       "    <tr>\n",
       "      <th>0</th>\n",
       "      <td>LEELAWADEE</td>\n",
       "      <td>ﬂ</td>\n",
       "    </tr>\n",
       "    <tr>\n",
       "      <th>1</th>\n",
       "      <td>CENTURY</td>\n",
       "      <td>ﬂ</td>\n",
       "    </tr>\n",
       "    <tr>\n",
       "      <th>2</th>\n",
       "      <td>MAIANDRA</td>\n",
       "      <td></td>\n",
       "    </tr>\n",
       "    <tr>\n",
       "      <th>3</th>\n",
       "      <td>LEELAWADEE</td>\n",
       "      <td>ﬁ</td>\n",
       "    </tr>\n",
       "    <tr>\n",
       "      <th>4</th>\n",
       "      <td>CENTURY</td>\n",
       "      <td>ﬁ</td>\n",
       "    </tr>\n",
       "    <tr>\n",
       "      <th>5</th>\n",
       "      <td>MAIANDRA</td>\n",
       "      <td></td>\n",
       "    </tr>\n",
       "    <tr>\n",
       "      <th>6</th>\n",
       "      <td>LEELAWADEE</td>\n",
       "      <td>ꧏ</td>\n",
       "    </tr>\n",
       "    <tr>\n",
       "      <th>7</th>\n",
       "      <td>CENTURY</td>\n",
       "      <td></td>\n",
       "    </tr>\n",
       "    <tr>\n",
       "      <th>8</th>\n",
       "      <td>MAIANDRA</td>\n",
       "      <td>◊</td>\n",
       "    </tr>\n",
       "    <tr>\n",
       "      <th>9</th>\n",
       "      <td>LEELAWADEE</td>\n",
       "      <td>◾</td>\n",
       "    </tr>\n",
       "  </tbody>\n",
       "</table>\n",
       "</div>"
      ],
      "text/plain": [
       "    font_name character\n",
       "0  LEELAWADEE         ﬂ\n",
       "1     CENTURY         ﬂ\n",
       "2    MAIANDRA         \n",
       "3  LEELAWADEE         ﬁ\n",
       "4     CENTURY         ﬁ\n",
       "5    MAIANDRA         \n",
       "6  LEELAWADEE         ꧏ\n",
       "7     CENTURY         \n",
       "8    MAIANDRA         ◊\n",
       "9  LEELAWADEE         ◾"
      ]
     },
     "execution_count": 66,
     "metadata": {},
     "output_type": "execute_result"
    }
   ],
   "source": [
    "fonts_dict = {'font_name':[], 'character':[]}\n",
    "\n",
    "for row in font_rows.take(10):\n",
    "  fonts_dict['font_name'].append(row[0].numpy().decode())\n",
    "  fonts_dict['character'].append(chr(row[2].numpy()))\n",
    "\n",
    "pd.DataFrame(fonts_dict)"
   ]
  },
  {
   "cell_type": "markdown",
   "metadata": {
    "id": "mkKZa_HX8zAm"
   },
   "source": [
    "#### Performance\n"
   ]
  },
  {
   "cell_type": "markdown",
   "metadata": {
    "id": "8BtGHraUApdJ"
   },
   "source": [
    "Earlier, it was noted that `io.decode_csv` is more efficient when run on a batch of strings.\n",
    "\n",
    "It is possible to take advantage of this fact, when using large batch sizes, to improve CSV loading performance (but try [caching](#caching) first)."
   ]
  },
  {
   "cell_type": "markdown",
   "metadata": {
    "id": "d35zWMH7MDL1"
   },
   "source": [
    "With the built-in loader 20, 2048-example batches take about 17s. "
   ]
  },
  {
   "cell_type": "code",
   "execution_count": 67,
   "metadata": {
    "execution": {
     "iopub.execute_input": "2021-06-16T15:06:48.275269Z",
     "iopub.status.busy": "2021-06-16T15:06:48.274582Z",
     "iopub.status.idle": "2021-06-16T15:06:49.248764Z",
     "shell.execute_reply": "2021-06-16T15:06:49.248226Z"
    },
    "id": "ieUVAPryjpJS"
   },
   "outputs": [],
   "source": [
    "BATCH_SIZE=2048\n",
    "fonts_ds = tf.data.experimental.make_csv_dataset(\n",
    "    file_pattern = \"fonts/*.csv\",\n",
    "    batch_size=BATCH_SIZE, num_epochs=1,\n",
    "    num_parallel_reads=100)"
   ]
  },
  {
   "cell_type": "code",
   "execution_count": 68,
   "metadata": {
    "execution": {
     "iopub.execute_input": "2021-06-16T15:06:49.255795Z",
     "iopub.status.busy": "2021-06-16T15:06:49.255095Z",
     "iopub.status.idle": "2021-06-16T15:07:00.376777Z",
     "shell.execute_reply": "2021-06-16T15:07:00.376159Z"
    },
    "id": "MUC2KW4LkQIz"
   },
   "outputs": [
    {
     "name": "stdout",
     "output_type": "stream",
     "text": [
      "....................\n",
      "CPU times: user 32.7 s, sys: 2.16 s, total: 34.8 s\n",
      "Wall time: 11.3 s\n"
     ]
    }
   ],
   "source": [
    "%%time\n",
    "for i,batch in enumerate(fonts_ds.take(20)):\n",
    "  print('.',end='')\n",
    "\n",
    "print()"
   ]
  },
  {
   "cell_type": "markdown",
   "metadata": {
    "id": "5lhnh6rZEDS2"
   },
   "source": [
    "Passing **batches of text lines** to`decode_csv` runs faster, in about 5s:"
   ]
  },
  {
   "cell_type": "code",
   "execution_count": 69,
   "metadata": {
    "execution": {
     "iopub.execute_input": "2021-06-16T15:07:00.381587Z",
     "iopub.status.busy": "2021-06-16T15:07:00.380972Z",
     "iopub.status.idle": "2021-06-16T15:07:00.740642Z",
     "shell.execute_reply": "2021-06-16T15:07:00.741109Z"
    },
    "id": "4XbPZV1okVF9"
   },
   "outputs": [],
   "source": [
    "fonts_files = tf.data.Dataset.list_files(\"fonts/*.csv\")\n",
    "fonts_lines = fonts_files.interleave(\n",
    "    lambda fname:tf.data.TextLineDataset(fname).skip(1), \n",
    "    cycle_length=100).batch(BATCH_SIZE)\n",
    "\n",
    "fonts_fast = fonts_lines.map(lambda x: tf.io.decode_csv(x, record_defaults=font_column_types))"
   ]
  },
  {
   "cell_type": "code",
   "execution_count": 70,
   "metadata": {
    "execution": {
     "iopub.execute_input": "2021-06-16T15:07:00.748491Z",
     "iopub.status.busy": "2021-06-16T15:07:00.747767Z",
     "iopub.status.idle": "2021-06-16T15:07:02.228168Z",
     "shell.execute_reply": "2021-06-16T15:07:02.227626Z"
    },
    "id": "te9C2km-qO8W"
   },
   "outputs": [
    {
     "name": "stdout",
     "output_type": "stream",
     "text": [
      "....................\n",
      "CPU times: user 15.3 s, sys: 83.2 ms, total: 15.4 s\n",
      "Wall time: 2.72 s\n"
     ]
    }
   ],
   "source": [
    "%%time\n",
    "for i,batch in enumerate(fonts_fast.take(20)):\n",
    "  print('.',end='')\n",
    "\n",
    "print()"
   ]
  },
  {
   "cell_type": "markdown",
   "metadata": {
    "id": "aebC1plsMeOi"
   },
   "source": [
    "For another example of increasing csv performance by using large batches see the [overfit and underfit tutorial](../keras/overfit_and_underfit.ipynb).\n",
    "\n",
    "This sort of approach may work, but consider other options like `cache` and `snapshot`, or re-enncoding your data into a more streamlined format."
   ]
  },
  {
   "cell_type": "code",
   "execution_count": null,
   "metadata": {},
   "outputs": [],
   "source": []
  }
 ],
 "metadata": {
  "colab": {
   "collapsed_sections": [],
   "name": "csv.ipynb",
   "toc_visible": true
  },
  "kernelspec": {
   "display_name": "Python 3 (ipykernel)",
   "language": "python",
   "name": "python3"
  },
  "language_info": {
   "codemirror_mode": {
    "name": "ipython",
    "version": 3
   },
   "file_extension": ".py",
   "mimetype": "text/x-python",
   "name": "python",
   "nbconvert_exporter": "python",
   "pygments_lexer": "ipython3",
   "version": "3.9.5"
  }
 },
 "nbformat": 4,
 "nbformat_minor": 1
}
